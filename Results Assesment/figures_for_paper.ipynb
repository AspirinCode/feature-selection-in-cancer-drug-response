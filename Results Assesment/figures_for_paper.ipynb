{
 "cells": [
  {
   "cell_type": "markdown",
   "metadata": {},
   "source": [
    "# Generate publicaction quality figures of the results"
   ]
  },
  {
   "cell_type": "markdown",
   "metadata": {},
   "source": [
    "## Setup"
   ]
  },
  {
   "cell_type": "code",
   "execution_count": 1,
   "metadata": {},
   "outputs": [],
   "source": [
    "# General imports\n",
    "import multiprocessing\n",
    "import numpy as np\n",
    "import pandas as pd\n",
    "import time\n",
    "import sys\n",
    "import dill\n",
    "import warnings\n",
    "import matplotlib.pyplot as plt\n",
    "import seaborn as sns\n",
    "from scipy.stats import pearsonr\n",
    "import collections\n",
    "import os"
   ]
  },
  {
   "cell_type": "code",
   "execution_count": 2,
   "metadata": {},
   "outputs": [
    {
     "name": "stderr",
     "output_type": "stream",
     "text": [
      "/home/krzysztof/anaconda3/envs/modeling_drug_efficacy/lib/python3.6/site-packages/sklearn/ensemble/weight_boosting.py:29: DeprecationWarning: numpy.core.umath_tests is an internal NumPy module and should not be imported. It will be removed in a future NumPy release.\n",
      "  from numpy.core.umath_tests import inner1d\n"
     ]
    }
   ],
   "source": [
    "# Add directory to sys.path in order to import custom modules from there.\n",
    "sys.path.insert(0, \"/media/krzysztof/Nowy/Doktorat - Modelling drug efficacy in cancer/Projects/Created Modules/\")\n",
    "from gdsc_projects_module import DrugWithDrugBank, DrugGenomeWide, DrugWithGenesInSamePathways, Experiment, Modeling, ModelingResults"
   ]
  },
  {
   "cell_type": "markdown",
   "metadata": {},
   "source": [
    "#### Load general data"
   ]
  },
  {
   "cell_type": "code",
   "execution_count": 3,
   "metadata": {},
   "outputs": [
    {
     "name": "stdout",
     "output_type": "stream",
     "text": [
      "Loading summary:\n",
      "Drug annotations: (267, 5)\n",
      "Cell line list (1065, 6)\n",
      "Gene expression (17737, 1019)\n",
      "CNV binary: (419050, 9)\n",
      "Coding variants: (295740, 9)\n",
      "Drug response: (224202, 13)\n",
      "DrugBank mapping (number of matched drugs): 88\n",
      "Target gene mapping (number of target genes with match): 200\n",
      "Gene expression signatures: (128, 1018)\n",
      "Number of entries in mapping from cell line and cnv genetic feature to mutation status: 419050\n"
     ]
    }
   ],
   "source": [
    "# Initialize proper file pathways\n",
    "drug_annotations = \"/media/krzysztof/Nowy/Doktorat - Modelling drug efficacy in cancer/Data/Original Data/Genomics of Drug Sensitivity in Cancer/Original GDSC Data/Drug annotations/Screened_Compounds-March_27th_2018.xlsx\"\n",
    "cell_line_list = \"/media/krzysztof/Nowy/Doktorat - Modelling drug efficacy in cancer/Data/Original Data/Genomics of Drug Sensitivity in Cancer/Original GDSC Data/Cell line list (directly from website)/Cell_listThu Aug 16 22_06_49 2018.csv\"\n",
    "gene_expr = \"/media/krzysztof/Nowy/Doktorat - Modelling drug efficacy in cancer/Data/Original Data/Genomics of Drug Sensitivity in Cancer/Original GDSC Data/Gene expression/sanger1018_brainarray_ensemblgene_rma-March_2nd_2017.txt\"\n",
    "cnv1 = \"/media/krzysztof/Nowy/Doktorat - Modelling drug efficacy in cancer/Data/Original Data/Genomics of Drug Sensitivity in Cancer/Original GDSC Data/Copy number variations/cnv_binary_1.csv\"\n",
    "cnv2 = \"/media/krzysztof/Nowy/Doktorat - Modelling drug efficacy in cancer/Data/Original Data/Genomics of Drug Sensitivity in Cancer/Original GDSC Data/Copy number variations/PANCANCER_Genetic_feature_cna_Mon Aug  6 16_18_51 2018 (kopia).csv\"\n",
    "coding_variants = \"/media/krzysztof/Nowy/Doktorat - Modelling drug efficacy in cancer/Data/Original Data/Genomics of Drug Sensitivity in Cancer/Original GDSC Data/Mutation calls/PANCANCER_Genetic_feature_variant_Mon Aug  6 15_45_44 2018.csv\"\n",
    "drug_response = \"/media/krzysztof/Nowy/Doktorat - Modelling drug efficacy in cancer/Data/Original Data/Genomics of Drug Sensitivity in Cancer/Original GDSC Data/Sensitivity profiles/v17.3_fitted_dose_response-March_27th_2018.xlsx\"\n",
    "\n",
    "# Load dictionary with targets derived from DrugBank\n",
    "drugbank_targets = \"/media/krzysztof/Nowy/Doktorat - Modelling drug efficacy in cancer/Data/Original Data/DrugBank/Created data/drugbank_map_drug_to_targets.p\"\n",
    "\n",
    "# Load dictionary mapping from target genes to genes that occur in same pathways\n",
    "reactome_pathway_related_genes = \"/media/krzysztof/Nowy/Doktorat - Modelling drug efficacy in cancer/Data/Original Data/Reactome/Created Reactome Data/map_target_genes_to_genes_involved_in_same_pathways.pkl\"\n",
    "\n",
    "# Filepath to gene expression signatures provided by Merck\n",
    "signatures = \"/media/krzysztof/Nowy/Doktorat - Modelling drug efficacy in cancer/Data/Created data/Merck Gene Expression Signatures/Data/SignatureScores_GDSC-cellLines_2018-09-27.tsv\"\n",
    "\n",
    "# Call loading function from DrugWithGenesInSamePathways class\n",
    "(drug_annotations_df, cell_lines_list_df, gene_expression_df, cnv_binary_df, \n",
    " coding_variants_df, drug_response_df, map_drugs_to_drugbank_targets, \n",
    " map_target_genes_to_same_pathways_genes) = DrugWithGenesInSamePathways.load_data(\n",
    "    drug_annotations, cell_line_list, gene_expr, \n",
    "    cnv1, cnv2, coding_variants, drug_response, drugbank_targets, reactome_pathway_related_genes)\n",
    "\n",
    "# Load gene expression signatures\n",
    "signatures_df = pd.read_table(signatures)\n",
    "\n",
    "# Load helper dict for extraction of CNV data\n",
    "filepath = \"/media/krzysztof/Nowy/Doktorat - Modelling drug efficacy in cancer/Data/Original Data/Genomics of Drug Sensitivity in Cancer/Original GDSC Data/Copy number variations/Created data/\"\n",
    "with open(filepath + \"map_cl_id_and_genetic_feature_to_mutation_status.pkl\", \"rb\") as f:\n",
    "    map_from_cl_id_and_genetic_feature_to_mutation_status = dill.load(f)\n",
    "\n",
    "\n",
    "# Load gene mappings\n",
    "filepath1 = \"/media/krzysztof/Nowy/Doktorat - Modelling drug efficacy in cancer/Projects/GDSC - Prediction only with data related to nominal drug targets (minimal approach)/Created data/mapping_from_ensembl_id_to_hgnc_symbol.p\"\n",
    "filepath2 = \"/media/krzysztof/Nowy/Doktorat - Modelling drug efficacy in cancer/Projects/GDSC - Prediction only with data related to nominal drug targets (minimal approach)/Created data/mapping_from_hgnc_symbol_to_ensembl_id.p\"\n",
    "with open(\"../Results Assesment/Results and other files/mapper_from_ensembl_to_hgnc.pkl\", \"rb\") as f:\n",
    "    map_ensembl_to_hgnc = dill.load(f)\n",
    "# Initialize class variables\n",
    "DrugWithDrugBank.load_mappings(filepath2, filepath1)\n",
    "DrugGenomeWide.load_mappings(filepath2, filepath1)\n",
    "DrugWithGenesInSamePathways.load_mappings(filepath2, filepath1) \n",
    "\n",
    "# Print shapes of created DataFrames\n",
    "print(\"Loading summary:\")\n",
    "print(\"Drug annotations:\", drug_annotations_df.shape)\n",
    "print(\"Cell line list\", cell_lines_list_df.shape)\n",
    "print(\"Gene expression\", gene_expression_df.shape)\n",
    "print(\"CNV binary:\", cnv_binary_df.shape)\n",
    "print(\"Coding variants:\", coding_variants_df.shape)\n",
    "print(\"Drug response:\", drug_response_df.shape)\n",
    "print(\"DrugBank mapping (number of matched drugs):\", len(map_drugs_to_drugbank_targets))\n",
    "print(\"Target gene mapping (number of target genes with match):\", len(map_target_genes_to_same_pathways_genes))\n",
    "print(\"Gene expression signatures:\", signatures_df.shape)\n",
    "print(\"Number of entries in mapping from cell line and cnv genetic feature to mutation status:\",\n",
    "     len(map_from_cl_id_and_genetic_feature_to_mutation_status))"
   ]
  },
  {
   "cell_type": "markdown",
   "metadata": {},
   "source": [
    "#### Create dictionary with Drug objects"
   ]
  },
  {
   "cell_type": "code",
   "execution_count": 4,
   "metadata": {},
   "outputs": [
    {
     "name": "stdout",
     "output_type": "stream",
     "text": [
      "267\n"
     ]
    }
   ],
   "source": [
    "drugs = DrugGenomeWide.create_drugs(drug_annotations_df)\n",
    "print(len(drugs))"
   ]
  },
  {
   "cell_type": "markdown",
   "metadata": {},
   "source": [
    "## Load ModelingResults objects (raw results)"
   ]
  },
  {
   "cell_type": "code",
   "execution_count": 5,
   "metadata": {},
   "outputs": [],
   "source": [
    "# # Set directory with results\n",
    "# filepath = \"Final experimental raw results/\"\n",
    "\n",
    "# # Load only targets ENet\n",
    "# with open(filepath + \"only_targets-enet_over_few_data_splits.pkl\", \"rb\") as f:\n",
    "#     only_targets_enet = dill.load(f)\n",
    "# print(type(only_targets_enet), len(only_targets_enet.performance_dict))\n",
    "\n",
    "# # Load only targets RForest\n",
    "# with open(filepath + \"only_targets-rforest_over_few_data_splits.pkl\", \"rb\") as f:\n",
    "#     only_targets_rforest = dill.load(f)\n",
    "# print(type(only_targets_rforest), len(only_targets_rforest.performance_dict))\n",
    "\n",
    "# # Load only targets with signatures ENet\n",
    "# with open(filepath + \"only_targets_with_signatures-enet_over_few_data_splits.pkl\", \"rb\") as f:\n",
    "#     only_targets_with_signatures_enet = dill.load(f)\n",
    "# print(type(only_targets_with_signatures_enet), len(only_targets_with_signatures_enet.performance_dict))\n",
    "\n",
    "# # Load only targets with signatures RForest\n",
    "# with open(filepath + \"only_targets_with_signatures-rforest_over_few_data_splits.pkl\", \"rb\") as f:\n",
    "#     only_targets_with_signatures_rforest = dill.load(f)\n",
    "# print(type(only_targets_with_signatures_rforest), len(only_targets_with_signatures_rforest.performance_dict))\n",
    "\n",
    "# # Load pathway genes ENet\n",
    "# with open(filepath + \"pathway_genes-enet_over_few_data_splits.pkl\", \"rb\") as f:\n",
    "#     pathway_genes_enet = dill.load(f)\n",
    "# print(type(pathway_genes_enet), len(pathway_genes_enet.performance_dict))\n",
    "\n",
    "# # Load pathway genes RForest\n",
    "# with open(filepath + \"pathway_genes-rforest_over_few_data_splits.pkl\", \"rb\") as f:\n",
    "#     pathway_genes_rforest = dill.load(f)\n",
    "# print(type(pathway_genes_rforest), len(pathway_genes_rforest.performance_dict))\n",
    "\n",
    "# # Load pathway genes with signatures ENet\n",
    "# with open(filepath + \"pathway_genes_with_signatures-enet_over_few_data_splits_limited.pkl\", \"rb\") as f:\n",
    "#     pathway_genes_with_signatures_enet = dill.load(f)\n",
    "# print(type(pathway_genes_with_signatures_enet), len(pathway_genes_with_signatures_enet.performance_dict))\n",
    "\n",
    "# # Load pathway genes with signatures RForest\n",
    "# with open(filepath + \"pathway_genes_with_signatures-rforest_over_few_data_splits_limited.pkl\", \"rb\") as f:\n",
    "#     pathway_genes_with_signatures_rforest = dill.load(f)\n",
    "# print(type(pathway_genes_with_signatures_rforest), len(pathway_genes_with_signatures_rforest.performance_dict))\n",
    "\n",
    "# # Load genome-wide with feature selection ENet\n",
    "# with open(filepath + \"enet_with_standardscaler_and_feature_selection.pkl\", \"rb\") as f:\n",
    "#     genome_wide_with_selection_enet = dill.load(f)\n",
    "# print(type(genome_wide_with_selection_enet), len(genome_wide_with_selection_enet.performance_dict))\n",
    "\n",
    "# # Load genome-wide with feature selection RForest\n",
    "# with open(filepath + \"randomforest_with_standardscaler_and_feature_selection_without_importances.pkl\", \"rb\") as f:\n",
    "#     genome_wide_with_selection_rforest = dill.load(f)\n",
    "# print(type(genome_wide_with_selection_rforest), len(genome_wide_with_selection_rforest.performance_dict))\n",
    "\n",
    "# # Load genome-wide without feature selection ENet\n",
    "# with open(filepath + \"genome_wide-enet_over_few_data_splits_without_feature_selection.pkl\", \"rb\") as f:\n",
    "#     genome_wide_without_selection_enet = dill.load(f)\n",
    "# print(type(genome_wide_without_selection_enet), len(genome_wide_without_selection_enet.performance_dict))\n",
    "\n",
    "# # Load genome-wide without feature selection RForest\n",
    "# with open(filepath + \"genome_wide-rforest_over_few_data_splits_without_feature_selection.pkl\", \"rb\") as f:\n",
    "#     genome_wide_without_selection_rforest = dill.load(f)\n",
    "# print(type(genome_wide_without_selection_rforest), len(genome_wide_without_selection_rforest.performance_dict))"
   ]
  },
  {
   "cell_type": "markdown",
   "metadata": {},
   "source": [
    "## Load DataFrames with results"
   ]
  },
  {
   "cell_type": "code",
   "execution_count": 6,
   "metadata": {},
   "outputs": [
    {
     "name": "stdout",
     "output_type": "stream",
     "text": [
      "aggregated_performance_all_models.csv\r\n",
      "bad_drugs.pkl\r\n",
      "best_results_from_two_groups.csv\r\n",
      "best_results_per_drug_across_all_settings.csv\r\n",
      "data_shapes_per_drug_in_models.csv\r\n",
      "df_agg_all_drugs_restricted_vs_genome_wide.csv\r\n",
      "df_best_results_per_drug_from_restricted_models.csv\r\n",
      "drug_ids_to_keep_in_results.pkl\r\n",
      "drug_response_df_with_pathways.csv\r\n",
      "drugs_of_interest.csv\r\n",
      "feature_importances_all_restricted_modelings.pkl\r\n",
      "feature_importances_from_best_restricted_model_per_drug.pkl\r\n",
      "gw_all_data_feat_list.pkl\r\n",
      "gw_expression_feat_list.pkl\r\n",
      "hue_order_all_models.pkl\r\n",
      "intersection_of_drugs_between_models.pkl\r\n",
      "mapper_from_ensembl_to_hgnc.pkl\r\n",
      "modeling_gw_exps_alone_vs_gw_all_features.pkl\r\n",
      "Notes.txt\r\n",
      "palette_all_models.pkl\r\n",
      "raw_performance_all_models.csv\r\n",
      "set_of_all_analyzed_cell_lines.pkl\r\n",
      "tp_names_abbrevations.pkl\r\n"
     ]
    }
   ],
   "source": [
    "! ls 'Results and other files'"
   ]
  },
  {
   "cell_type": "code",
   "execution_count": 7,
   "metadata": {},
   "outputs": [
    {
     "name": "stdout",
     "output_type": "stream",
     "text": [
      "<class 'list'> 19\n"
     ]
    }
   ],
   "source": [
    "# Load list containing IDs of bad drugs\n",
    "with open(\"./Results and other files/bad_drugs.pkl\", \"rb\") as f:\n",
    "    bad_drugs = dill.load(f)\n",
    "print(type(bad_drugs), len(bad_drugs))"
   ]
  },
  {
   "cell_type": "code",
   "execution_count": 8,
   "metadata": {},
   "outputs": [
    {
     "name": "stdout",
     "output_type": "stream",
     "text": [
      "(12115, 11) (11215, 11)\n"
     ]
    },
    {
     "data": {
      "text/html": [
       "<div>\n",
       "<style scoped>\n",
       "    .dataframe tbody tr th:only-of-type {\n",
       "        vertical-align: middle;\n",
       "    }\n",
       "\n",
       "    .dataframe tbody tr th {\n",
       "        vertical-align: top;\n",
       "    }\n",
       "\n",
       "    .dataframe thead th {\n",
       "        text-align: right;\n",
       "    }\n",
       "</style>\n",
       "<table border=\"1\" class=\"dataframe\">\n",
       "  <thead>\n",
       "    <tr style=\"text-align: right;\">\n",
       "      <th></th>\n",
       "      <th>Drug ID</th>\n",
       "      <th>Drug Name</th>\n",
       "      <th>Split seed</th>\n",
       "      <th>Model test RMSE</th>\n",
       "      <th>Model test correlation</th>\n",
       "      <th>Correlation pval</th>\n",
       "      <th>Dummy test RMSE</th>\n",
       "      <th>Relative test RMSE</th>\n",
       "      <th>Target Pathway</th>\n",
       "      <th>Model</th>\n",
       "      <th>Best k</th>\n",
       "    </tr>\n",
       "  </thead>\n",
       "  <tbody>\n",
       "    <tr>\n",
       "      <th>0</th>\n",
       "      <td>1</td>\n",
       "      <td>Erlotinib</td>\n",
       "      <td>11</td>\n",
       "      <td>0.088977</td>\n",
       "      <td>0.386896</td>\n",
       "      <td>4.561981e-05</td>\n",
       "      <td>0.096257</td>\n",
       "      <td>1.081822</td>\n",
       "      <td>EGFR signaling</td>\n",
       "      <td>OT EN</td>\n",
       "      <td>NaN</td>\n",
       "    </tr>\n",
       "    <tr>\n",
       "      <th>1</th>\n",
       "      <td>1</td>\n",
       "      <td>Erlotinib</td>\n",
       "      <td>37</td>\n",
       "      <td>0.061968</td>\n",
       "      <td>0.543188</td>\n",
       "      <td>2.138906e-09</td>\n",
       "      <td>0.070966</td>\n",
       "      <td>1.145203</td>\n",
       "      <td>EGFR signaling</td>\n",
       "      <td>OT EN</td>\n",
       "      <td>NaN</td>\n",
       "    </tr>\n",
       "    <tr>\n",
       "      <th>2</th>\n",
       "      <td>1</td>\n",
       "      <td>Erlotinib</td>\n",
       "      <td>52</td>\n",
       "      <td>0.096144</td>\n",
       "      <td>0.422583</td>\n",
       "      <td>7.103247e-06</td>\n",
       "      <td>0.103601</td>\n",
       "      <td>1.077567</td>\n",
       "      <td>EGFR signaling</td>\n",
       "      <td>OT EN</td>\n",
       "      <td>NaN</td>\n",
       "    </tr>\n",
       "  </tbody>\n",
       "</table>\n",
       "</div>"
      ],
      "text/plain": [
       "   Drug ID  Drug Name  Split seed  Model test RMSE  Model test correlation  \\\n",
       "0        1  Erlotinib          11         0.088977                0.386896   \n",
       "1        1  Erlotinib          37         0.061968                0.543188   \n",
       "2        1  Erlotinib          52         0.096144                0.422583   \n",
       "\n",
       "   Correlation pval  Dummy test RMSE  Relative test RMSE  Target Pathway  \\\n",
       "0      4.561981e-05         0.096257            1.081822  EGFR signaling   \n",
       "1      2.138906e-09         0.070966            1.145203  EGFR signaling   \n",
       "2      7.103247e-06         0.103601            1.077567  EGFR signaling   \n",
       "\n",
       "   Model  Best k  \n",
       "0  OT EN     NaN  \n",
       "1  OT EN     NaN  \n",
       "2  OT EN     NaN  "
      ]
     },
     "execution_count": 8,
     "metadata": {},
     "output_type": "execute_result"
    }
   ],
   "source": [
    "# Load results for all settings, not aggregated over data splits\n",
    "df_raw_all_models = pd.read_csv('./Results and other files/raw_performance_all_models.csv')\n",
    "df_raw_all_models_filtered = df_raw_all_models[~df_raw_all_models[\"Drug ID\"].isin(bad_drugs)]\n",
    "print(df_raw_all_models.shape, df_raw_all_models_filtered.shape)\n",
    "df_raw_all_models_filtered.head(3)"
   ]
  },
  {
   "cell_type": "code",
   "execution_count": 9,
   "metadata": {},
   "outputs": [
    {
     "name": "stdout",
     "output_type": "stream",
     "text": [
      "(2423, 9) (2243, 9)\n"
     ]
    },
    {
     "data": {
      "text/html": [
       "<div>\n",
       "<style scoped>\n",
       "    .dataframe tbody tr th:only-of-type {\n",
       "        vertical-align: middle;\n",
       "    }\n",
       "\n",
       "    .dataframe tbody tr th {\n",
       "        vertical-align: top;\n",
       "    }\n",
       "\n",
       "    .dataframe thead th {\n",
       "        text-align: right;\n",
       "    }\n",
       "</style>\n",
       "<table border=\"1\" class=\"dataframe\">\n",
       "  <thead>\n",
       "    <tr style=\"text-align: right;\">\n",
       "      <th></th>\n",
       "      <th>Drug ID</th>\n",
       "      <th>Drug Name</th>\n",
       "      <th>Model test RMSE</th>\n",
       "      <th>Model test correlation</th>\n",
       "      <th>Correlation pval</th>\n",
       "      <th>Dummy test RMSE</th>\n",
       "      <th>Relative test RMSE</th>\n",
       "      <th>Target Pathway</th>\n",
       "      <th>Model</th>\n",
       "    </tr>\n",
       "  </thead>\n",
       "  <tbody>\n",
       "    <tr>\n",
       "      <th>0</th>\n",
       "      <td>1</td>\n",
       "      <td>Erlotinib</td>\n",
       "      <td>0.086347</td>\n",
       "      <td>0.388664</td>\n",
       "      <td>0.001450</td>\n",
       "      <td>0.0924</td>\n",
       "      <td>1.075011</td>\n",
       "      <td>EGFR signaling</td>\n",
       "      <td>OT EN</td>\n",
       "    </tr>\n",
       "    <tr>\n",
       "      <th>1</th>\n",
       "      <td>1</td>\n",
       "      <td>Erlotinib</td>\n",
       "      <td>0.086797</td>\n",
       "      <td>0.356010</td>\n",
       "      <td>0.000767</td>\n",
       "      <td>0.0924</td>\n",
       "      <td>1.062901</td>\n",
       "      <td>EGFR signaling</td>\n",
       "      <td>PG EN</td>\n",
       "    </tr>\n",
       "    <tr>\n",
       "      <th>2</th>\n",
       "      <td>1</td>\n",
       "      <td>Erlotinib</td>\n",
       "      <td>0.086307</td>\n",
       "      <td>0.375711</td>\n",
       "      <td>0.000364</td>\n",
       "      <td>0.0924</td>\n",
       "      <td>1.071611</td>\n",
       "      <td>EGFR signaling</td>\n",
       "      <td>PG + S EN</td>\n",
       "    </tr>\n",
       "  </tbody>\n",
       "</table>\n",
       "</div>"
      ],
      "text/plain": [
       "   Drug ID  Drug Name  Model test RMSE  Model test correlation  \\\n",
       "0        1  Erlotinib         0.086347                0.388664   \n",
       "1        1  Erlotinib         0.086797                0.356010   \n",
       "2        1  Erlotinib         0.086307                0.375711   \n",
       "\n",
       "   Correlation pval  Dummy test RMSE  Relative test RMSE  Target Pathway  \\\n",
       "0          0.001450           0.0924            1.075011  EGFR signaling   \n",
       "1          0.000767           0.0924            1.062901  EGFR signaling   \n",
       "2          0.000364           0.0924            1.071611  EGFR signaling   \n",
       "\n",
       "       Model  \n",
       "0      OT EN  \n",
       "1      PG EN  \n",
       "2  PG + S EN  "
      ]
     },
     "execution_count": 9,
     "metadata": {},
     "output_type": "execute_result"
    }
   ],
   "source": [
    "# Load results for all settings, aggregated over data splits\n",
    "df_agg_all_models = pd.read_csv('./Results and other files/aggregated_performance_all_models.csv')\n",
    "df_agg_all_models_filtered = df_agg_all_models[~df_agg_all_models[\"Drug ID\"].isin(bad_drugs)]\n",
    "print(df_agg_all_models.shape, df_agg_all_models_filtered.shape)\n",
    "df_agg_all_models_filtered.head(3)"
   ]
  },
  {
   "cell_type": "code",
   "execution_count": null,
   "metadata": {},
   "outputs": [],
   "source": []
  },
  {
   "cell_type": "code",
   "execution_count": 10,
   "metadata": {},
   "outputs": [
    {
     "name": "stdout",
     "output_type": "stream",
     "text": [
      "(251, 9) (232, 9)\n"
     ]
    },
    {
     "data": {
      "text/html": [
       "<div>\n",
       "<style scoped>\n",
       "    .dataframe tbody tr th:only-of-type {\n",
       "        vertical-align: middle;\n",
       "    }\n",
       "\n",
       "    .dataframe tbody tr th {\n",
       "        vertical-align: top;\n",
       "    }\n",
       "\n",
       "    .dataframe thead th {\n",
       "        text-align: right;\n",
       "    }\n",
       "</style>\n",
       "<table border=\"1\" class=\"dataframe\">\n",
       "  <thead>\n",
       "    <tr style=\"text-align: right;\">\n",
       "      <th></th>\n",
       "      <th>Drug ID</th>\n",
       "      <th>Drug Name</th>\n",
       "      <th>Model test correlation</th>\n",
       "      <th>Correlation pval</th>\n",
       "      <th>Relative test RMSE</th>\n",
       "      <th>Model test RMSE</th>\n",
       "      <th>Dummy test RMSE</th>\n",
       "      <th>Corresponding experiment</th>\n",
       "      <th>Target Pathway</th>\n",
       "    </tr>\n",
       "  </thead>\n",
       "  <tbody>\n",
       "    <tr>\n",
       "      <th>0</th>\n",
       "      <td>1373</td>\n",
       "      <td>Dabrafenib</td>\n",
       "      <td>0.752645</td>\n",
       "      <td>1.075014e-40</td>\n",
       "      <td>1.514006</td>\n",
       "      <td>0.127750</td>\n",
       "      <td>0.193280</td>\n",
       "      <td>OT + S RF</td>\n",
       "      <td>ERK MAPK signaling</td>\n",
       "    </tr>\n",
       "    <tr>\n",
       "      <th>1</th>\n",
       "      <td>277</td>\n",
       "      <td>Linifanib</td>\n",
       "      <td>0.749668</td>\n",
       "      <td>4.346970e-19</td>\n",
       "      <td>1.483354</td>\n",
       "      <td>0.055801</td>\n",
       "      <td>0.080856</td>\n",
       "      <td>OT RF</td>\n",
       "      <td>RTK signaling</td>\n",
       "    </tr>\n",
       "    <tr>\n",
       "      <th>2</th>\n",
       "      <td>1372</td>\n",
       "      <td>Trametinib</td>\n",
       "      <td>0.708743</td>\n",
       "      <td>3.211507e-40</td>\n",
       "      <td>1.404737</td>\n",
       "      <td>0.202283</td>\n",
       "      <td>0.284112</td>\n",
       "      <td>GW EN</td>\n",
       "      <td>ERK MAPK signaling</td>\n",
       "    </tr>\n",
       "  </tbody>\n",
       "</table>\n",
       "</div>"
      ],
      "text/plain": [
       "   Drug ID   Drug Name  Model test correlation  Correlation pval  \\\n",
       "0     1373  Dabrafenib                0.752645      1.075014e-40   \n",
       "1      277   Linifanib                0.749668      4.346970e-19   \n",
       "2     1372  Trametinib                0.708743      3.211507e-40   \n",
       "\n",
       "   Relative test RMSE  Model test RMSE  Dummy test RMSE  \\\n",
       "0            1.514006         0.127750         0.193280   \n",
       "1            1.483354         0.055801         0.080856   \n",
       "2            1.404737         0.202283         0.284112   \n",
       "\n",
       "  Corresponding experiment      Target Pathway  \n",
       "0                OT + S RF  ERK MAPK signaling  \n",
       "1                    OT RF       RTK signaling  \n",
       "2                    GW EN  ERK MAPK signaling  "
      ]
     },
     "execution_count": 10,
     "metadata": {},
     "output_type": "execute_result"
    }
   ],
   "source": [
    "# Load DataFrame with best results per drug across all settings\n",
    "df_best_results = pd.read_csv(\"./Results and other files/best_results_per_drug_across_all_settings.csv\")\n",
    "df_best_results_filtered = df_best_results[~df_best_results[\"Drug ID\"].isin(bad_drugs)]\n",
    "print(df_best_results.shape, df_best_results_filtered.shape)\n",
    "df_best_results_filtered.head(3)"
   ]
  },
  {
   "cell_type": "code",
   "execution_count": 11,
   "metadata": {},
   "outputs": [
    {
     "name": "stdout",
     "output_type": "stream",
     "text": [
      "<class 'list'> 175 175\n"
     ]
    }
   ],
   "source": [
    "# Load intersection of drugs between all tested models\n",
    "with open(\"./Results and other files/intersection_of_drugs_between_models.pkl\", \"rb\") as f:\n",
    "    drug_intersection = dill.load(f)\n",
    "df_agg_intersection = df_agg_all_models[df_agg_all_models[\"Drug ID\"].isin(drug_intersection)]\n",
    "print(type(drug_intersection), len(drug_intersection), df_agg_intersection[\"Drug ID\"].nunique())"
   ]
  },
  {
   "cell_type": "code",
   "execution_count": 12,
   "metadata": {},
   "outputs": [
    {
     "name": "stdout",
     "output_type": "stream",
     "text": [
      "(350, 9) (324, 9)\n"
     ]
    },
    {
     "data": {
      "text/html": [
       "<div>\n",
       "<style scoped>\n",
       "    .dataframe tbody tr th:only-of-type {\n",
       "        vertical-align: middle;\n",
       "    }\n",
       "\n",
       "    .dataframe tbody tr th {\n",
       "        vertical-align: top;\n",
       "    }\n",
       "\n",
       "    .dataframe thead th {\n",
       "        text-align: right;\n",
       "    }\n",
       "</style>\n",
       "<table border=\"1\" class=\"dataframe\">\n",
       "  <thead>\n",
       "    <tr style=\"text-align: right;\">\n",
       "      <th></th>\n",
       "      <th>Drug ID</th>\n",
       "      <th>Drug Name</th>\n",
       "      <th>Model test RMSE</th>\n",
       "      <th>Model test correlation</th>\n",
       "      <th>Correlation pval</th>\n",
       "      <th>Dummy test RMSE</th>\n",
       "      <th>Relative test RMSE</th>\n",
       "      <th>Target Pathway</th>\n",
       "      <th>Model</th>\n",
       "    </tr>\n",
       "  </thead>\n",
       "  <tbody>\n",
       "    <tr>\n",
       "      <th>0</th>\n",
       "      <td>1</td>\n",
       "      <td>Erlotinib</td>\n",
       "      <td>0.085320</td>\n",
       "      <td>0.410257</td>\n",
       "      <td>0.000308</td>\n",
       "      <td>0.092400</td>\n",
       "      <td>1.086402</td>\n",
       "      <td>EGFR signaling</td>\n",
       "      <td>Restricted</td>\n",
       "    </tr>\n",
       "    <tr>\n",
       "      <th>1</th>\n",
       "      <td>1</td>\n",
       "      <td>Erlotinib</td>\n",
       "      <td>0.071460</td>\n",
       "      <td>0.374202</td>\n",
       "      <td>0.004133</td>\n",
       "      <td>0.073378</td>\n",
       "      <td>1.017662</td>\n",
       "      <td>EGFR signaling</td>\n",
       "      <td>Genome-wide</td>\n",
       "    </tr>\n",
       "    <tr>\n",
       "      <th>2</th>\n",
       "      <td>3</td>\n",
       "      <td>Rapamycin</td>\n",
       "      <td>0.223836</td>\n",
       "      <td>0.253258</td>\n",
       "      <td>0.042695</td>\n",
       "      <td>0.229805</td>\n",
       "      <td>1.027091</td>\n",
       "      <td>PI3K/MTOR signaling</td>\n",
       "      <td>Restricted</td>\n",
       "    </tr>\n",
       "  </tbody>\n",
       "</table>\n",
       "</div>"
      ],
      "text/plain": [
       "   Drug ID  Drug Name  Model test RMSE  Model test correlation  \\\n",
       "0        1  Erlotinib         0.085320                0.410257   \n",
       "1        1  Erlotinib         0.071460                0.374202   \n",
       "2        3  Rapamycin         0.223836                0.253258   \n",
       "\n",
       "   Correlation pval  Dummy test RMSE  Relative test RMSE       Target Pathway  \\\n",
       "0          0.000308         0.092400            1.086402       EGFR signaling   \n",
       "1          0.004133         0.073378            1.017662       EGFR signaling   \n",
       "2          0.042695         0.229805            1.027091  PI3K/MTOR signaling   \n",
       "\n",
       "         Model  \n",
       "0   Restricted  \n",
       "1  Genome-wide  \n",
       "2   Restricted  "
      ]
     },
     "execution_count": 12,
     "metadata": {},
     "output_type": "execute_result"
    }
   ],
   "source": [
    "# Load DataFrame with best results coming from two groups of models, unfiltered, for every drug in itersection\n",
    "df_best_results_from_two_groups = pd.read_csv(\"./Results and other files/best_results_from_two_groups.csv\")\n",
    "df_best_results_from_two_groups_filtered = df_best_results_from_two_groups[\n",
    "    ~df_best_results_from_two_groups[\"Drug ID\"].isin(bad_drugs)]\n",
    "print(df_best_results_from_two_groups.shape, df_best_results_from_two_groups_filtered.shape)\n",
    "df_best_results_from_two_groups_filtered.head(3)"
   ]
  },
  {
   "cell_type": "markdown",
   "metadata": {},
   "source": [
    "# Figures"
   ]
  },
  {
   "cell_type": "code",
   "execution_count": 14,
   "metadata": {},
   "outputs": [],
   "source": [
    "# Setup some constants \n",
    "# Set the directory to save figures (panels) in\n",
    "fig_directory = \"./Figures for article working version/\"\n",
    "gimp_directory = \"/home/krzysztof/Dokumenty/Doktorat/Dokumenty/Moje artykuły/Modeling drug efficacy/Figures/Panels/\""
   ]
  },
  {
   "cell_type": "markdown",
   "metadata": {},
   "source": [
    "## Test stuff"
   ]
  },
  {
   "cell_type": "code",
   "execution_count": 15,
   "metadata": {},
   "outputs": [
    {
     "name": "stdout",
     "output_type": "stream",
     "text": [
      "[6.0, 4.0]\n"
     ]
    }
   ],
   "source": [
    "# Set up constants\n",
    "figure_width = 6.6929133858\n",
    "ratio = 1.6\n",
    "figure_height = figure_width / ratio\n",
    "\n",
    "# Update rcParams\n",
    "params = {\n",
    "        'figure.figsize'      : [figure_width, figure_height] ,\n",
    "        'font.size'           : 8      ,\n",
    "        #'font.sans-serif'     : 'Arial'    ,\n",
    "        'axes.titlesize'      : 9.       ,\n",
    "        'axes.labelsize'      : 9.       ,\n",
    "        'xtick.major.size'    : 2        ,\n",
    "        'xtick.major.width'   : 0.75     ,\n",
    "        'xtick.labelsize'     : 8.0      ,\n",
    "        'xtick.direction'     : 'out'      ,\n",
    "        'ytick.major.size'    : 2        ,\n",
    "        'ytick.major.width'   : 0.75     ,\n",
    "        'ytick.labelsize'     : 8.0      ,\n",
    "        'ytick.direction'     : 'out'      ,\n",
    "        'xtick.major.pad'     : 2        ,\n",
    "        'xtick.minor.pad'     : 2        ,\n",
    "        'ytick.major.pad'     : 2        ,\n",
    "        'ytick.minor.pad'     : 2        ,\n",
    "        'savefig.dpi'         : 300.      ,\n",
    "        'axes.linewidth'      : 0.75     ,\n",
    "        'text.usetex'         : False     ,\n",
    "        'text.latex.unicode'  : False     }\n",
    "\n",
    "print(plt.rcParams.get('figure.figsize'))"
   ]
  },
  {
   "cell_type": "code",
   "execution_count": 16,
   "metadata": {},
   "outputs": [
    {
     "name": "stdout",
     "output_type": "stream",
     "text": [
      "[6.6929133858, 4.183070866125]\n",
      "8.0\n"
     ]
    },
    {
     "name": "stderr",
     "output_type": "stream",
     "text": [
      "/home/krzysztof/.local/lib/python3.6/site-packages/matplotlib/__init__.py:846: MatplotlibDeprecationWarning: \n",
      "The text.latex.unicode rcparam was deprecated in Matplotlib 2.2 and will be removed in 3.1.\n",
      "  \"2.2\", name=key, obj_type=\"rcparam\", addendum=addendum)\n"
     ]
    }
   ],
   "source": [
    "# Updating the params\n",
    "plt.rcParams.update(params)\n",
    "print(plt.rcParams.get('figure.figsize'))\n",
    "print(plt.rcParams.get('font.size'))"
   ]
  },
  {
   "cell_type": "code",
   "execution_count": 17,
   "metadata": {},
   "outputs": [],
   "source": [
    "# If you want to go back do default settings\n",
    "# plt.style.use(\"default\")\n",
    "# print(plt.rcParams.get('figure.figsize'))"
   ]
  },
  {
   "cell_type": "code",
   "execution_count": 18,
   "metadata": {},
   "outputs": [
    {
     "data": {
      "image/png": "[encoded data removed]",
      "text/plain": [
       "<Figure size 481.68x212.4 with 1 Axes>"
      ]
     },
     "metadata": {},
     "output_type": "display_data"
    }
   ],
   "source": [
    "# Sample plot\n",
    "x = np.arange(0, 10, 1)\n",
    "y = x ** 2\n",
    "\n",
    "plt.figure(figsize=(6.69, 2.95))\n",
    "plt.title(\"Test\")\n",
    "plt.xlabel(\"test x\")\n",
    "sns.lineplot(x, y)\n",
    "\n",
    "plt.tight_layout()\n",
    "#plt.savefig(\"test_bigger.pdf\")\n",
    "plt.show()"
   ]
  },
  {
   "cell_type": "code",
   "execution_count": 19,
   "metadata": {},
   "outputs": [
    {
     "data": {
      "image/png": "[encoded data removed]",
      "text/plain": [
       "<Figure size 158.4x72 with 1 Axes>"
      ]
     },
     "metadata": {},
     "output_type": "display_data"
    }
   ],
   "source": [
    "# Sample plot\n",
    "x = np.arange(0, 10, 1)\n",
    "y = x ** 2\n",
    "\n",
    "plt.figure(figsize=(2.20, 1.))\n",
    "plt.title(\"Test\")\n",
    "plt.xlabel(\"test x\")\n",
    "sns.lineplot(x, y)\n",
    "\n",
    "plt.tight_layout()\n",
    "#plt.savefig(\"test_smaller.pdf\")\n",
    "plt.show()"
   ]
  },
  {
   "cell_type": "markdown",
   "metadata": {},
   "source": [
    "## Figure 1"
   ]
  },
  {
   "cell_type": "markdown",
   "metadata": {},
   "source": [
    "- Half page width: 85 mm\n",
    "- Full page width: 170 mm\n",
    "- 170 mm corresponds to 6.6929133858 inches\n",
    "- One inch: 25.4 mm\n",
    "\n",
    "Four panels"
   ]
  },
  {
   "cell_type": "code",
   "execution_count": 13,
   "metadata": {},
   "outputs": [],
   "source": [
    "# Set the directory to save figures (panels) in\n",
    "fig_directory = \"./Figures for article working version/\"\n",
    "gimp_directory = \"/home/krzysztof/Dokumenty/Doktorat/Dokumenty/Moje artykuły/Modeling drug efficacy/Figures/Panels/\""
   ]
  },
  {
   "cell_type": "code",
   "execution_count": 14,
   "metadata": {},
   "outputs": [],
   "source": [
    "# Constants for figure\n",
    "mm_per_inch = 25.4\n",
    "fig_width_in_mm = 170\n",
    "fig_height_in_mm = 150"
   ]
  },
  {
   "cell_type": "markdown",
   "metadata": {},
   "source": [
    "#### Panel 1\n",
    "Boxplots of numbers of features and samples in different models"
   ]
  },
  {
   "cell_type": "code",
   "execution_count": 15,
   "metadata": {},
   "outputs": [
    {
     "name": "stdout",
     "output_type": "stream",
     "text": [
      "(1206, 5)\n",
      "['Genome wide ENet' 'Genome wide RForest' 'Only targets'\n",
      " 'Only targets with signatures' 'Pathway genes'\n",
      " 'Pathway genes with signatures']\n"
     ]
    },
    {
     "data": {
      "text/html": [
       "<div>\n",
       "<style scoped>\n",
       "    .dataframe tbody tr th:only-of-type {\n",
       "        vertical-align: middle;\n",
       "    }\n",
       "\n",
       "    .dataframe tbody tr th {\n",
       "        vertical-align: top;\n",
       "    }\n",
       "\n",
       "    .dataframe thead th {\n",
       "        text-align: right;\n",
       "    }\n",
       "</style>\n",
       "<table border=\"1\" class=\"dataframe\">\n",
       "  <thead>\n",
       "    <tr style=\"text-align: right;\">\n",
       "      <th></th>\n",
       "      <th>Drug ID</th>\n",
       "      <th>Drug Name</th>\n",
       "      <th>Model</th>\n",
       "      <th>No. features</th>\n",
       "      <th>No. samples</th>\n",
       "    </tr>\n",
       "  </thead>\n",
       "  <tbody>\n",
       "    <tr>\n",
       "      <th>0</th>\n",
       "      <td>1</td>\n",
       "      <td>Erlotinib</td>\n",
       "      <td>Genome wide ENet</td>\n",
       "      <td>638</td>\n",
       "      <td>370</td>\n",
       "    </tr>\n",
       "    <tr>\n",
       "      <th>1</th>\n",
       "      <td>1</td>\n",
       "      <td>Erlotinib</td>\n",
       "      <td>Genome wide RForest</td>\n",
       "      <td>50</td>\n",
       "      <td>370</td>\n",
       "    </tr>\n",
       "    <tr>\n",
       "      <th>2</th>\n",
       "      <td>1</td>\n",
       "      <td>Erlotinib</td>\n",
       "      <td>Only targets</td>\n",
       "      <td>5</td>\n",
       "      <td>347</td>\n",
       "    </tr>\n",
       "    <tr>\n",
       "      <th>3</th>\n",
       "      <td>1</td>\n",
       "      <td>Erlotinib</td>\n",
       "      <td>Only targets with signatures</td>\n",
       "      <td>133</td>\n",
       "      <td>347</td>\n",
       "    </tr>\n",
       "    <tr>\n",
       "      <th>4</th>\n",
       "      <td>1</td>\n",
       "      <td>Erlotinib</td>\n",
       "      <td>Pathway genes</td>\n",
       "      <td>530</td>\n",
       "      <td>347</td>\n",
       "    </tr>\n",
       "    <tr>\n",
       "      <th>5</th>\n",
       "      <td>1</td>\n",
       "      <td>Erlotinib</td>\n",
       "      <td>Pathway genes with signatures</td>\n",
       "      <td>658</td>\n",
       "      <td>347</td>\n",
       "    </tr>\n",
       "  </tbody>\n",
       "</table>\n",
       "</div>"
      ],
      "text/plain": [
       "   Drug ID  Drug Name                          Model  No. features  \\\n",
       "0        1  Erlotinib               Genome wide ENet           638   \n",
       "1        1  Erlotinib            Genome wide RForest            50   \n",
       "2        1  Erlotinib                   Only targets             5   \n",
       "3        1  Erlotinib   Only targets with signatures           133   \n",
       "4        1  Erlotinib                  Pathway genes           530   \n",
       "5        1  Erlotinib  Pathway genes with signatures           658   \n",
       "\n",
       "   No. samples  \n",
       "0          370  \n",
       "1          370  \n",
       "2          347  \n",
       "3          347  \n",
       "4          347  \n",
       "5          347  "
      ]
     },
     "execution_count": 15,
     "metadata": {},
     "output_type": "execute_result"
    }
   ],
   "source": [
    "# Load DataFrame with data shapes\n",
    "data_shapes_df = pd.read_csv(\"./Results and other files/data_shapes_per_drug_in_models.csv\")\n",
    "print(data_shapes_df.shape)\n",
    "print(data_shapes_df.Model.unique())\n",
    "data_shapes_df.head(6)"
   ]
  },
  {
   "cell_type": "code",
   "execution_count": 16,
   "metadata": {},
   "outputs": [
    {
     "name": "stdout",
     "output_type": "stream",
     "text": [
      "Width: 50.8 2.0\n",
      "Height: 50.8 2.0\n"
     ]
    }
   ],
   "source": [
    "# Set up constants\n",
    "# Size in milimeters\n",
    "panel_width_mm = 50.8\n",
    "panel_height_mm = 50.8\n",
    "\n",
    "# Size in inches\n",
    "panel_width_inch = panel_width_mm / mm_per_inch\n",
    "panel_height_inch = panel_height_mm / mm_per_inch\n",
    "\n",
    "print(\"Width:\", panel_width_mm, panel_width_inch)\n",
    "print(\"Height:\", panel_height_mm, panel_height_inch)\n",
    "\n",
    "# Update rcParams\n",
    "params = {\n",
    "        'figure.figsize'      : [panel_width_inch, panel_height_inch] ,\n",
    "        'font.size'           : 8      ,\n",
    "        #'font.sans-serif'     : 'Arial'    ,\n",
    "        'axes.titlesize'      : 9.       ,\n",
    "        'axes.labelsize'      : 9.       ,\n",
    "        'xtick.major.size'    : 2        ,\n",
    "        'xtick.major.width'   : 0.75     ,\n",
    "        'xtick.labelsize'     : 8.0      ,\n",
    "        'xtick.direction'     : 'out'      ,\n",
    "        'ytick.major.size'    : 2        ,\n",
    "        'ytick.major.width'   : 0.75     ,\n",
    "        'ytick.labelsize'     : 8.0      ,\n",
    "        'ytick.direction'     : 'out'      ,\n",
    "        'xtick.major.pad'     : 2        ,\n",
    "        'xtick.minor.pad'     : 2        ,\n",
    "        'ytick.major.pad'     : 2        ,\n",
    "        'ytick.minor.pad'     : 2        ,\n",
    "        'savefig.dpi'         : 300.      ,\n",
    "        'axes.linewidth'      : 0.75     ,\n",
    "        'text.usetex'         : False     ,\n",
    "        'text.latex.unicode'  : False     }"
   ]
  },
  {
   "cell_type": "code",
   "execution_count": 17,
   "metadata": {},
   "outputs": [
    {
     "name": "stdout",
     "output_type": "stream",
     "text": [
      "[2.0, 2.0]\n",
      "8.0\n"
     ]
    },
    {
     "name": "stderr",
     "output_type": "stream",
     "text": [
      "/home/krzysztof/.local/lib/python3.6/site-packages/matplotlib/__init__.py:846: MatplotlibDeprecationWarning: \n",
      "The text.latex.unicode rcparam was deprecated in Matplotlib 2.2 and will be removed in 3.1.\n",
      "  \"2.2\", name=key, obj_type=\"rcparam\", addendum=addendum)\n"
     ]
    }
   ],
   "source": [
    "plt.rcParams.update(params)\n",
    "print(plt.rcParams.get('figure.figsize'))\n",
    "print(plt.rcParams.get('font.size'))"
   ]
  },
  {
   "cell_type": "code",
   "execution_count": 18,
   "metadata": {},
   "outputs": [],
   "source": [
    "# Create a column with abbreviate of model\n",
    "dic = {\"Only targets\": \"OT\",\n",
    "      \"Only targets with signatures\": \"OT + S\",\n",
    "      \"Pathway genes\": \"PG\",\n",
    "      \"Pathway genes with signatures\": \"PG + S\",\n",
    "      \"Genome wide ENet\": \"GW SS\",\n",
    "      \"Genome wide RForest\": \"GW RF\"}\n",
    "data_shapes_df[\"Model abbr\"] = data_shapes_df.Model.map(dic)"
   ]
  },
  {
   "cell_type": "code",
   "execution_count": 19,
   "metadata": {},
   "outputs": [
    {
     "name": "stdout",
     "output_type": "stream",
     "text": [
      "[11, 9, 7, 5, 1, 0]\n"
     ]
    }
   ],
   "source": [
    "# Establish order and color palette\n",
    "# Load hue order for all models and corresponding color palette\n",
    "with open(\"./Results and other files/hue_order_all_models.pkl\", \"rb\") as f:\n",
    "    hue_order_all_models = dill.load(f)\n",
    "with open(\"./Results and other files/palette_all_models.pkl\", \"rb\") as f:\n",
    "    palette_all_models = dill.load(f)\n",
    "\n",
    "color_indexes = []\n",
    "color_order = [\"OT RF\", \"OT + S RF\", \"PG RF\", \"PG + S RF\", \"GW RF\", \"GW EN\"]\n",
    "\n",
    "for mod in color_order:\n",
    "    color_indexes.append(hue_order_all_models.index(mod))\n",
    "print(color_indexes)\n",
    "colors = [palette_all_models[i] for i in color_indexes]\n",
    "order = [\"OT\", \"OT + S\", \"PG\", \"PG + S\", \"GW RF\", \"GW SS\"]"
   ]
  },
  {
   "cell_type": "code",
   "execution_count": 21,
   "metadata": {},
   "outputs": [
    {
     "data": {
      "image/png": "[encoded data removed]",
      "text/plain": [
       "<Figure size 144x144 with 1 Axes>"
      ]
     },
     "metadata": {},
     "output_type": "display_data"
    }
   ],
   "source": [
    "# Do the plotting\n",
    "from matplotlib.ticker import ScalarFormatter\n",
    "\n",
    "\n",
    "ax = sns.boxplot(\"Model abbr\", y=\"No. features\", data=data_shapes_df, \n",
    "                 linewidth=0.5,\n",
    "                fliersize=0.5,\n",
    "                width=0.5,\n",
    "                order=order,\n",
    "                palette=colors)\n",
    "\n",
    "ax.set_yscale('log')\n",
    "ax.yaxis.set_major_formatter(ScalarFormatter())\n",
    "ax.set_xlabel(\"Feature set\")\n",
    "\n",
    "plt.xticks(rotation=90)\n",
    "\n",
    "plt.tight_layout()\n",
    "plt.savefig(fig_directory + \"fig1_boxplots_no_features.pdf\")\n",
    "plt.savefig(gimp_directory + \"fig1_boxplots_no_features.pdf\")\n",
    "\n",
    "\n",
    "plt.show()"
   ]
  },
  {
   "cell_type": "markdown",
   "metadata": {},
   "source": [
    "#### Panel 2\n",
    "Boxplots of number of samples"
   ]
  },
  {
   "cell_type": "code",
   "execution_count": 22,
   "metadata": {},
   "outputs": [
    {
     "name": "stdout",
     "output_type": "stream",
     "text": [
      "(1206, 5)\n",
      "['Genome wide ENet' 'Genome wide RForest' 'Only targets'\n",
      " 'Only targets with signatures' 'Pathway genes'\n",
      " 'Pathway genes with signatures']\n"
     ]
    },
    {
     "data": {
      "text/html": [
       "<div>\n",
       "<style scoped>\n",
       "    .dataframe tbody tr th:only-of-type {\n",
       "        vertical-align: middle;\n",
       "    }\n",
       "\n",
       "    .dataframe tbody tr th {\n",
       "        vertical-align: top;\n",
       "    }\n",
       "\n",
       "    .dataframe thead th {\n",
       "        text-align: right;\n",
       "    }\n",
       "</style>\n",
       "<table border=\"1\" class=\"dataframe\">\n",
       "  <thead>\n",
       "    <tr style=\"text-align: right;\">\n",
       "      <th></th>\n",
       "      <th>Drug ID</th>\n",
       "      <th>Drug Name</th>\n",
       "      <th>Model</th>\n",
       "      <th>No. features</th>\n",
       "      <th>No. samples</th>\n",
       "    </tr>\n",
       "  </thead>\n",
       "  <tbody>\n",
       "    <tr>\n",
       "      <th>0</th>\n",
       "      <td>1</td>\n",
       "      <td>Erlotinib</td>\n",
       "      <td>Genome wide ENet</td>\n",
       "      <td>638</td>\n",
       "      <td>370</td>\n",
       "    </tr>\n",
       "    <tr>\n",
       "      <th>1</th>\n",
       "      <td>1</td>\n",
       "      <td>Erlotinib</td>\n",
       "      <td>Genome wide RForest</td>\n",
       "      <td>50</td>\n",
       "      <td>370</td>\n",
       "    </tr>\n",
       "    <tr>\n",
       "      <th>2</th>\n",
       "      <td>1</td>\n",
       "      <td>Erlotinib</td>\n",
       "      <td>Only targets</td>\n",
       "      <td>5</td>\n",
       "      <td>347</td>\n",
       "    </tr>\n",
       "  </tbody>\n",
       "</table>\n",
       "</div>"
      ],
      "text/plain": [
       "   Drug ID  Drug Name                Model  No. features  No. samples\n",
       "0        1  Erlotinib     Genome wide ENet           638          370\n",
       "1        1  Erlotinib  Genome wide RForest            50          370\n",
       "2        1  Erlotinib         Only targets             5          347"
      ]
     },
     "execution_count": 22,
     "metadata": {},
     "output_type": "execute_result"
    }
   ],
   "source": [
    "# Load DataFrame with data shapes\n",
    "data_shapes_df = pd.read_csv(\"./Results and other files/data_shapes_per_drug_in_models.csv\")\n",
    "print(data_shapes_df.shape)\n",
    "print(data_shapes_df.Model.unique())\n",
    "data_shapes_df.head(3)"
   ]
  },
  {
   "cell_type": "code",
   "execution_count": 23,
   "metadata": {},
   "outputs": [
    {
     "name": "stdout",
     "output_type": "stream",
     "text": [
      "Width: 50.8 2.0\n",
      "Height: 50.8 2.0\n"
     ]
    }
   ],
   "source": [
    "# Set up constants\n",
    "# Size in milimeters\n",
    "panel_width_mm = 50.8\n",
    "panel_height_mm = 50.8\n",
    "\n",
    "# Size in inches\n",
    "panel_width_inch = panel_width_mm / mm_per_inch\n",
    "panel_height_inch = panel_height_mm / mm_per_inch\n",
    "\n",
    "print(\"Width:\", panel_width_mm, panel_width_inch)\n",
    "print(\"Height:\", panel_height_mm, panel_height_inch)\n",
    "\n",
    "# Update rcParams\n",
    "params = {\n",
    "        'figure.figsize'      : [panel_width_inch, panel_height_inch] ,\n",
    "        'font.size'           : 8      ,\n",
    "        #'font.sans-serif'     : 'Arial'    ,\n",
    "        'axes.titlesize'      : 9.       ,\n",
    "        'axes.labelsize'      : 9.       ,\n",
    "        'xtick.major.size'    : 2        ,\n",
    "        'xtick.major.width'   : 0.75     ,\n",
    "        'xtick.labelsize'     : 8.0      ,\n",
    "        'xtick.direction'     : 'out'      ,\n",
    "        'ytick.major.size'    : 2        ,\n",
    "        'ytick.major.width'   : 0.75     ,\n",
    "        'ytick.labelsize'     : 8.0      ,\n",
    "        'ytick.direction'     : 'out'      ,\n",
    "        'xtick.major.pad'     : 2        ,\n",
    "        'xtick.minor.pad'     : 2        ,\n",
    "        'ytick.major.pad'     : 2        ,\n",
    "        'ytick.minor.pad'     : 2        ,\n",
    "        'savefig.dpi'         : 300.      ,\n",
    "        'axes.linewidth'      : 0.75     ,\n",
    "        'text.usetex'         : False     ,\n",
    "        'text.latex.unicode'  : False     }"
   ]
  },
  {
   "cell_type": "code",
   "execution_count": 24,
   "metadata": {},
   "outputs": [
    {
     "name": "stdout",
     "output_type": "stream",
     "text": [
      "[2.0, 2.0]\n",
      "8.0\n"
     ]
    },
    {
     "name": "stderr",
     "output_type": "stream",
     "text": [
      "/home/krzysztof/.local/lib/python3.6/site-packages/matplotlib/__init__.py:846: MatplotlibDeprecationWarning: \n",
      "The text.latex.unicode rcparam was deprecated in Matplotlib 2.2 and will be removed in 3.1.\n",
      "  \"2.2\", name=key, obj_type=\"rcparam\", addendum=addendum)\n"
     ]
    }
   ],
   "source": [
    "plt.rcParams.update(params)\n",
    "print(plt.rcParams.get('figure.figsize'))\n",
    "print(plt.rcParams.get('font.size'))"
   ]
  },
  {
   "cell_type": "code",
   "execution_count": 25,
   "metadata": {},
   "outputs": [
    {
     "data": {
      "text/plain": [
       "array(['Genome wide ENet', 'Genome wide RForest', 'Only targets',\n",
       "       'Only targets with signatures', 'Pathway genes',\n",
       "       'Pathway genes with signatures'], dtype=object)"
      ]
     },
     "execution_count": 25,
     "metadata": {},
     "output_type": "execute_result"
    }
   ],
   "source": [
    "data_shapes_df.Model.unique()"
   ]
  },
  {
   "cell_type": "code",
   "execution_count": 26,
   "metadata": {},
   "outputs": [],
   "source": [
    "# Create a column with abbreviate of model\n",
    "dic = {\"Only targets\": \"OT\",\n",
    "      \"Only targets with signatures\": \"OT + S\",\n",
    "      \"Pathway genes\": \"PG\",\n",
    "      \"Pathway genes with signatures\": \"PG + S\",\n",
    "      \"Genome wide ENet\": \"GW SS\",\n",
    "      \"Genome wide RForest\": \"GW RF\"}\n",
    "data_shapes_df[\"Model abbr\"] = data_shapes_df.Model.map(dic)"
   ]
  },
  {
   "cell_type": "code",
   "execution_count": 27,
   "metadata": {},
   "outputs": [
    {
     "name": "stdout",
     "output_type": "stream",
     "text": [
      "[11, 9, 7, 5, 1, 0]\n"
     ]
    }
   ],
   "source": [
    "# Establish order and color palette\n",
    "# Load hue order for all models and corresponding color palette\n",
    "with open(\"./Results and other files/hue_order_all_models.pkl\", \"rb\") as f:\n",
    "    hue_order_all_models = dill.load(f)\n",
    "with open(\"./Results and other files/palette_all_models.pkl\", \"rb\") as f:\n",
    "    palette_all_models = dill.load(f)\n",
    "\n",
    "color_indexes = []\n",
    "color_order = [\"OT RF\", \"OT + S RF\", \"PG RF\", \"PG + S RF\", \"GW RF\", \"GW EN\"]\n",
    "\n",
    "for mod in color_order:\n",
    "    color_indexes.append(hue_order_all_models.index(mod))\n",
    "print(color_indexes)\n",
    "colors = [palette_all_models[i] for i in color_indexes]\n",
    "order = [\"OT\", \"OT + S\", \"PG\", \"PG + S\", \"GW RF\", \"GW SS\"]"
   ]
  },
  {
   "cell_type": "code",
   "execution_count": 30,
   "metadata": {},
   "outputs": [
    {
     "data": {
      "image/png": "[encoded data removed]",
      "text/plain": [
       "<Figure size 144x144 with 1 Axes>"
      ]
     },
     "metadata": {},
     "output_type": "display_data"
    }
   ],
   "source": [
    "# Do the plotting\n",
    "from matplotlib.ticker import ScalarFormatter\n",
    "\n",
    "order = [\"OT\", \"OT + S\", \"PG\", \"PG + S\", \"GW RF\", \"GW SS\"]\n",
    "\n",
    "ax = sns.boxplot(\"Model abbr\", y=\"No. samples\", data=data_shapes_df, \n",
    "                 linewidth=0.5,\n",
    "                fliersize=0.5,\n",
    "                width=0.5,\n",
    "                order=order, palette=colors)\n",
    "\n",
    "ax.set_xlabel(\"Feature set\")\n",
    "\n",
    "plt.xticks(rotation=90)\n",
    "\n",
    "plt.tight_layout()\n",
    "\n",
    "plt.savefig(fig_directory + \"fig1_boxplots_no_samples.pdf\")\n",
    "plt.savefig(gimp_directory + \"fig1_boxplots_no_samples.pdf\")\n",
    "\n",
    "plt.show()"
   ]
  },
  {
   "cell_type": "markdown",
   "metadata": {},
   "source": [
    "#### Panel 3\n",
    "Boxplots of AUC distribution grouped by pathways"
   ]
  },
  {
   "cell_type": "code",
   "execution_count": 15,
   "metadata": {},
   "outputs": [],
   "source": [
    "# Load drug response df with target pathways\n",
    "response_df = pd.read_csv(\"./Results and other files/drug_response_df_with_pathways.csv\")"
   ]
  },
  {
   "cell_type": "code",
   "execution_count": 16,
   "metadata": {},
   "outputs": [
    {
     "name": "stdout",
     "output_type": "stream",
     "text": [
      "251\n",
      "<class 'list'> 983\n"
     ]
    }
   ],
   "source": [
    "# Load relevant drug IDs\n",
    "with open(\"./Results and other files/drug_ids_to_keep_in_results.pkl\", \"rb\") as f:\n",
    "    relevant_drug_ids = dill.load(f)\n",
    "print(len(relevant_drug_ids))\n",
    "\n",
    "# Load relevant cell line IDs\n",
    "with open(\"./Results and other files/set_of_all_analyzed_cell_lines.pkl\", \"rb\") as f:\n",
    "    relevant_cl_ids = dill.load(f)\n",
    "print(type(relevant_cl_ids), len(relevant_cl_ids))"
   ]
  },
  {
   "cell_type": "code",
   "execution_count": 17,
   "metadata": {},
   "outputs": [
    {
     "name": "stdout",
     "output_type": "stream",
     "text": [
      "(201166, 14)\n"
     ]
    }
   ],
   "source": [
    "response_df = response_df[\n",
    "    (response_df[\"DRUG_ID\"].isin(relevant_drug_ids)) & (response_df[\"COSMIC_ID\"].isin(relevant_cl_ids))\n",
    "]\n",
    "print(response_df.shape)"
   ]
  },
  {
   "cell_type": "code",
   "execution_count": 18,
   "metadata": {},
   "outputs": [
    {
     "data": {
      "text/html": [
       "<div>\n",
       "<style scoped>\n",
       "    .dataframe tbody tr th:only-of-type {\n",
       "        vertical-align: middle;\n",
       "    }\n",
       "\n",
       "    .dataframe tbody tr th {\n",
       "        vertical-align: top;\n",
       "    }\n",
       "\n",
       "    .dataframe thead th {\n",
       "        text-align: right;\n",
       "    }\n",
       "</style>\n",
       "<table border=\"1\" class=\"dataframe\">\n",
       "  <thead>\n",
       "    <tr style=\"text-align: right;\">\n",
       "      <th></th>\n",
       "      <th>DATASET_VERSION</th>\n",
       "      <th>IC50_RESULTS_ID</th>\n",
       "      <th>COSMIC_ID</th>\n",
       "      <th>CELL_LINE_NAME</th>\n",
       "      <th>DRUG_ID</th>\n",
       "      <th>DRUG_NAME</th>\n",
       "      <th>PUTATIVE_TARGET</th>\n",
       "      <th>MAX_CONC_MICROMOLAR</th>\n",
       "      <th>MIN_CONC_MICROMOLAR</th>\n",
       "      <th>LN_IC50</th>\n",
       "      <th>AUC</th>\n",
       "      <th>RMSE</th>\n",
       "      <th>Z_SCORE</th>\n",
       "      <th>TARGET_PATHWAY</th>\n",
       "    </tr>\n",
       "  </thead>\n",
       "  <tbody>\n",
       "    <tr>\n",
       "      <th>0</th>\n",
       "      <td>17.3</td>\n",
       "      <td>1</td>\n",
       "      <td>683665</td>\n",
       "      <td>MC-CAR</td>\n",
       "      <td>1</td>\n",
       "      <td>Erlotinib</td>\n",
       "      <td>EGFR</td>\n",
       "      <td>2.0</td>\n",
       "      <td>0.007812</td>\n",
       "      <td>2.453524</td>\n",
       "      <td>0.982610</td>\n",
       "      <td>0.021678</td>\n",
       "      <td>-0.015505</td>\n",
       "      <td>EGFR signaling</td>\n",
       "    </tr>\n",
       "    <tr>\n",
       "      <th>1</th>\n",
       "      <td>17.3</td>\n",
       "      <td>1482</td>\n",
       "      <td>684055</td>\n",
       "      <td>ES3</td>\n",
       "      <td>1</td>\n",
       "      <td>Erlotinib</td>\n",
       "      <td>EGFR</td>\n",
       "      <td>2.0</td>\n",
       "      <td>0.007812</td>\n",
       "      <td>3.376592</td>\n",
       "      <td>0.985169</td>\n",
       "      <td>0.029915</td>\n",
       "      <td>0.779999</td>\n",
       "      <td>EGFR signaling</td>\n",
       "    </tr>\n",
       "    <tr>\n",
       "      <th>2</th>\n",
       "      <td>17.3</td>\n",
       "      <td>1791</td>\n",
       "      <td>684057</td>\n",
       "      <td>ES5</td>\n",
       "      <td>1</td>\n",
       "      <td>Erlotinib</td>\n",
       "      <td>EGFR</td>\n",
       "      <td>2.0</td>\n",
       "      <td>0.007812</td>\n",
       "      <td>3.614664</td>\n",
       "      <td>0.983207</td>\n",
       "      <td>0.031201</td>\n",
       "      <td>0.985170</td>\n",
       "      <td>EGFR signaling</td>\n",
       "    </tr>\n",
       "    <tr>\n",
       "      <th>3</th>\n",
       "      <td>17.3</td>\n",
       "      <td>2177</td>\n",
       "      <td>684059</td>\n",
       "      <td>ES7</td>\n",
       "      <td>1</td>\n",
       "      <td>Erlotinib</td>\n",
       "      <td>EGFR</td>\n",
       "      <td>2.0</td>\n",
       "      <td>0.007812</td>\n",
       "      <td>3.223394</td>\n",
       "      <td>0.984574</td>\n",
       "      <td>0.093857</td>\n",
       "      <td>0.647971</td>\n",
       "      <td>EGFR signaling</td>\n",
       "    </tr>\n",
       "    <tr>\n",
       "      <th>4</th>\n",
       "      <td>17.3</td>\n",
       "      <td>2754</td>\n",
       "      <td>684062</td>\n",
       "      <td>EW-11</td>\n",
       "      <td>1</td>\n",
       "      <td>Erlotinib</td>\n",
       "      <td>EGFR</td>\n",
       "      <td>2.0</td>\n",
       "      <td>0.007812</td>\n",
       "      <td>2.486405</td>\n",
       "      <td>0.946034</td>\n",
       "      <td>0.087280</td>\n",
       "      <td>0.012832</td>\n",
       "      <td>EGFR signaling</td>\n",
       "    </tr>\n",
       "  </tbody>\n",
       "</table>\n",
       "</div>"
      ],
      "text/plain": [
       "   DATASET_VERSION  IC50_RESULTS_ID  COSMIC_ID CELL_LINE_NAME  DRUG_ID  \\\n",
       "0             17.3                1     683665         MC-CAR        1   \n",
       "1             17.3             1482     684055            ES3        1   \n",
       "2             17.3             1791     684057            ES5        1   \n",
       "3             17.3             2177     684059            ES7        1   \n",
       "4             17.3             2754     684062          EW-11        1   \n",
       "\n",
       "   DRUG_NAME PUTATIVE_TARGET  MAX_CONC_MICROMOLAR  MIN_CONC_MICROMOLAR  \\\n",
       "0  Erlotinib            EGFR                  2.0             0.007812   \n",
       "1  Erlotinib            EGFR                  2.0             0.007812   \n",
       "2  Erlotinib            EGFR                  2.0             0.007812   \n",
       "3  Erlotinib            EGFR                  2.0             0.007812   \n",
       "4  Erlotinib            EGFR                  2.0             0.007812   \n",
       "\n",
       "    LN_IC50       AUC      RMSE   Z_SCORE  TARGET_PATHWAY  \n",
       "0  2.453524  0.982610  0.021678 -0.015505  EGFR signaling  \n",
       "1  3.376592  0.985169  0.029915  0.779999  EGFR signaling  \n",
       "2  3.614664  0.983207  0.031201  0.985170  EGFR signaling  \n",
       "3  3.223394  0.984574  0.093857  0.647971  EGFR signaling  \n",
       "4  2.486405  0.946034  0.087280  0.012832  EGFR signaling  "
      ]
     },
     "execution_count": 18,
     "metadata": {},
     "output_type": "execute_result"
    }
   ],
   "source": [
    "response_df.head()"
   ]
  },
  {
   "cell_type": "code",
   "execution_count": 19,
   "metadata": {},
   "outputs": [
    {
     "name": "stdout",
     "output_type": "stream",
     "text": [
      "Width: 119.0 4.685039370078741\n",
      "Height: 60.0 2.362204724409449\n"
     ]
    }
   ],
   "source": [
    "# Set up constants\n",
    "\n",
    "# Size in milimeters\n",
    "panel_width_mm = 119.\n",
    "panel_height_mm = 60.\n",
    "\n",
    "# Size in inches\n",
    "panel_width_inch = panel_width_mm / mm_per_inch\n",
    "panel_height_inch = panel_height_mm / mm_per_inch\n",
    "\n",
    "print(\"Width:\", panel_width_mm, panel_width_inch)\n",
    "print(\"Height:\", panel_height_mm, panel_height_inch)\n",
    "\n",
    "# Update rcParams\n",
    "params = {\n",
    "        'figure.figsize'      : [panel_width_inch, panel_height_inch] ,\n",
    "        'font.size'           : 8      ,\n",
    "        #'font.sans-serif'     : 'Arial'    ,\n",
    "        'axes.titlesize'      : 9.       ,\n",
    "        'axes.labelsize'      : 9.       ,\n",
    "        'xtick.major.size'    : 2        ,\n",
    "        'xtick.major.width'   : 0.75     ,\n",
    "        'xtick.labelsize'     : 6.0      ,\n",
    "        'xtick.direction'     : 'out'      ,\n",
    "        'ytick.major.size'    : 2        ,\n",
    "        'ytick.major.width'   : 0.75     ,\n",
    "        'ytick.labelsize'     : 8.0      ,\n",
    "        'ytick.direction'     : 'out'      ,\n",
    "        'xtick.major.pad'     : 2        ,\n",
    "        'xtick.minor.pad'     : 2        ,\n",
    "        'ytick.major.pad'     : 2        ,\n",
    "        'ytick.minor.pad'     : 2        ,\n",
    "        'savefig.dpi'         : 300.      ,\n",
    "        'axes.linewidth'      : 0.75     ,\n",
    "        'text.usetex'         : False     ,\n",
    "        'text.latex.unicode'  : False     }"
   ]
  },
  {
   "cell_type": "code",
   "execution_count": 20,
   "metadata": {},
   "outputs": [
    {
     "name": "stdout",
     "output_type": "stream",
     "text": [
      "[4.685039370078741, 2.362204724409449]\n",
      "8.0\n"
     ]
    },
    {
     "name": "stderr",
     "output_type": "stream",
     "text": [
      "/home/krzysztof/.local/lib/python3.6/site-packages/matplotlib/__init__.py:846: MatplotlibDeprecationWarning: \n",
      "The text.latex.unicode rcparam was deprecated in Matplotlib 2.2 and will be removed in 3.1.\n",
      "  \"2.2\", name=key, obj_type=\"rcparam\", addendum=addendum)\n"
     ]
    }
   ],
   "source": [
    "plt.rcParams.update(params)\n",
    "print(plt.rcParams.get('figure.figsize'))\n",
    "print(plt.rcParams.get('font.size'))"
   ]
  },
  {
   "cell_type": "code",
   "execution_count": 21,
   "metadata": {},
   "outputs": [
    {
     "name": "stdout",
     "output_type": "stream",
     "text": [
      "24\n"
     ]
    }
   ],
   "source": [
    "# Load dictionary with target pathways names abbrevations\n",
    "with open(\"./Results and other files/tp_names_abbrevations.pkl\", \"rb\") as f:\n",
    "    tp_abbrevations = dill.load(f)\n",
    "print(len(tp_abbrevations))\n",
    "# Add column with TP abrrevations to response df\n",
    "response_df[\"TP abbr\"] = response_df[\"TARGET_PATHWAY\"].map(tp_abbrevations)"
   ]
  },
  {
   "cell_type": "code",
   "execution_count": 25,
   "metadata": {},
   "outputs": [
    {
     "name": "stdout",
     "output_type": "stream",
     "text": [
      "(24, 2)\n"
     ]
    },
    {
     "data": {
      "text/html": [
       "<div>\n",
       "<style scoped>\n",
       "    .dataframe tbody tr th:only-of-type {\n",
       "        vertical-align: middle;\n",
       "    }\n",
       "\n",
       "    .dataframe tbody tr th {\n",
       "        vertical-align: top;\n",
       "    }\n",
       "\n",
       "    .dataframe thead th {\n",
       "        text-align: right;\n",
       "    }\n",
       "</style>\n",
       "<table border=\"1\" class=\"dataframe\">\n",
       "  <thead>\n",
       "    <tr style=\"text-align: right;\">\n",
       "      <th></th>\n",
       "      <th>TP</th>\n",
       "      <th>IQR</th>\n",
       "    </tr>\n",
       "  </thead>\n",
       "  <tbody>\n",
       "    <tr>\n",
       "      <th>0</th>\n",
       "      <td>EGFR signaling</td>\n",
       "      <td>0.051154</td>\n",
       "    </tr>\n",
       "    <tr>\n",
       "      <th>1</th>\n",
       "      <td>PI3K/MTOR signaling</td>\n",
       "      <td>0.236091</td>\n",
       "    </tr>\n",
       "    <tr>\n",
       "      <th>2</th>\n",
       "      <td>RTK signaling</td>\n",
       "      <td>0.052838</td>\n",
       "    </tr>\n",
       "    <tr>\n",
       "      <th>3</th>\n",
       "      <td>Prot. stab. and degr.</td>\n",
       "      <td>0.358923</td>\n",
       "    </tr>\n",
       "    <tr>\n",
       "      <th>4</th>\n",
       "      <td>Mitosis</td>\n",
       "      <td>0.274268</td>\n",
       "    </tr>\n",
       "  </tbody>\n",
       "</table>\n",
       "</div>"
      ],
      "text/plain": [
       "                      TP       IQR\n",
       "0         EGFR signaling  0.051154\n",
       "1    PI3K/MTOR signaling  0.236091\n",
       "2          RTK signaling  0.052838\n",
       "3  Prot. stab. and degr.  0.358923\n",
       "4                Mitosis  0.274268"
      ]
     },
     "execution_count": 25,
     "metadata": {},
     "output_type": "execute_result"
    }
   ],
   "source": [
    "# Compute IQR for each pathway\n",
    "from scipy.stats import iqr\n",
    "\n",
    "tps = []\n",
    "auc_iqrs = []\n",
    "\n",
    "for tp in response_df[\"TP abbr\"].unique():\n",
    "    df = response_df[response_df[\"TP abbr\"] == tp]\n",
    "    iqrange = iqr(df[\"AUC\"].values)\n",
    "    tps.append(tp)\n",
    "    auc_iqrs.append(iqrange)\n",
    "iqr_df = pd.DataFrame()\n",
    "iqr_df[\"TP\"] = tps\n",
    "iqr_df[\"IQR\"] = auc_iqrs\n",
    "\n",
    "print(iqr_df.shape)\n",
    "iqr_df.head()"
   ]
  },
  {
   "cell_type": "code",
   "execution_count": 26,
   "metadata": {},
   "outputs": [
    {
     "data": {
      "text/html": [
       "<div>\n",
       "<style scoped>\n",
       "    .dataframe tbody tr th:only-of-type {\n",
       "        vertical-align: middle;\n",
       "    }\n",
       "\n",
       "    .dataframe tbody tr th {\n",
       "        vertical-align: top;\n",
       "    }\n",
       "\n",
       "    .dataframe thead th {\n",
       "        text-align: right;\n",
       "    }\n",
       "</style>\n",
       "<table border=\"1\" class=\"dataframe\">\n",
       "  <thead>\n",
       "    <tr style=\"text-align: right;\">\n",
       "      <th></th>\n",
       "      <th>TP</th>\n",
       "      <th>IQR</th>\n",
       "    </tr>\n",
       "  </thead>\n",
       "  <tbody>\n",
       "    <tr>\n",
       "      <th>12</th>\n",
       "      <td>Hormone-related</td>\n",
       "      <td>0.011740</td>\n",
       "    </tr>\n",
       "    <tr>\n",
       "      <th>7</th>\n",
       "      <td>ABL signaling</td>\n",
       "      <td>0.020254</td>\n",
       "    </tr>\n",
       "    <tr>\n",
       "      <th>0</th>\n",
       "      <td>EGFR signaling</td>\n",
       "      <td>0.051154</td>\n",
       "    </tr>\n",
       "    <tr>\n",
       "      <th>2</th>\n",
       "      <td>RTK signaling</td>\n",
       "      <td>0.052838</td>\n",
       "    </tr>\n",
       "    <tr>\n",
       "      <th>20</th>\n",
       "      <td>Unclassified</td>\n",
       "      <td>0.082118</td>\n",
       "    </tr>\n",
       "    <tr>\n",
       "      <th>13</th>\n",
       "      <td>Genome integrity</td>\n",
       "      <td>0.082942</td>\n",
       "    </tr>\n",
       "    <tr>\n",
       "      <th>15</th>\n",
       "      <td>Cytoskeleton</td>\n",
       "      <td>0.087031</td>\n",
       "    </tr>\n",
       "    <tr>\n",
       "      <th>23</th>\n",
       "      <td>Chromatin other</td>\n",
       "      <td>0.094166</td>\n",
       "    </tr>\n",
       "    <tr>\n",
       "      <th>22</th>\n",
       "      <td>p53 pathway</td>\n",
       "      <td>0.114958</td>\n",
       "    </tr>\n",
       "    <tr>\n",
       "      <th>19</th>\n",
       "      <td>IGFR signaling</td>\n",
       "      <td>0.123716</td>\n",
       "    </tr>\n",
       "    <tr>\n",
       "      <th>18</th>\n",
       "      <td>WNT signaling</td>\n",
       "      <td>0.130745</td>\n",
       "    </tr>\n",
       "    <tr>\n",
       "      <th>6</th>\n",
       "      <td>ERK MAPK signaling</td>\n",
       "      <td>0.148799</td>\n",
       "    </tr>\n",
       "    <tr>\n",
       "      <th>9</th>\n",
       "      <td>Other, kinases</td>\n",
       "      <td>0.162184</td>\n",
       "    </tr>\n",
       "    <tr>\n",
       "      <th>5</th>\n",
       "      <td>Other</td>\n",
       "      <td>0.167015</td>\n",
       "    </tr>\n",
       "    <tr>\n",
       "      <th>14</th>\n",
       "      <td>JNK and p38 signaling</td>\n",
       "      <td>0.167100</td>\n",
       "    </tr>\n",
       "    <tr>\n",
       "      <th>21</th>\n",
       "      <td>Chromat. hist. methyl.</td>\n",
       "      <td>0.190864</td>\n",
       "    </tr>\n",
       "    <tr>\n",
       "      <th>1</th>\n",
       "      <td>PI3K/MTOR signaling</td>\n",
       "      <td>0.236091</td>\n",
       "    </tr>\n",
       "    <tr>\n",
       "      <th>8</th>\n",
       "      <td>Cell cycle</td>\n",
       "      <td>0.269981</td>\n",
       "    </tr>\n",
       "    <tr>\n",
       "      <th>4</th>\n",
       "      <td>Mitosis</td>\n",
       "      <td>0.274268</td>\n",
       "    </tr>\n",
       "    <tr>\n",
       "      <th>3</th>\n",
       "      <td>Prot. stab. and degr.</td>\n",
       "      <td>0.358923</td>\n",
       "    </tr>\n",
       "    <tr>\n",
       "      <th>16</th>\n",
       "      <td>Metabolism</td>\n",
       "      <td>0.422827</td>\n",
       "    </tr>\n",
       "    <tr>\n",
       "      <th>10</th>\n",
       "      <td>Chrom. hist. acet.</td>\n",
       "      <td>0.425542</td>\n",
       "    </tr>\n",
       "    <tr>\n",
       "      <th>11</th>\n",
       "      <td>DNA replication</td>\n",
       "      <td>0.441621</td>\n",
       "    </tr>\n",
       "    <tr>\n",
       "      <th>17</th>\n",
       "      <td>Apoptosis regulation</td>\n",
       "      <td>0.448053</td>\n",
       "    </tr>\n",
       "  </tbody>\n",
       "</table>\n",
       "</div>"
      ],
      "text/plain": [
       "                        TP       IQR\n",
       "12         Hormone-related  0.011740\n",
       "7            ABL signaling  0.020254\n",
       "0           EGFR signaling  0.051154\n",
       "2            RTK signaling  0.052838\n",
       "20            Unclassified  0.082118\n",
       "13        Genome integrity  0.082942\n",
       "15            Cytoskeleton  0.087031\n",
       "23         Chromatin other  0.094166\n",
       "22             p53 pathway  0.114958\n",
       "19          IGFR signaling  0.123716\n",
       "18           WNT signaling  0.130745\n",
       "6       ERK MAPK signaling  0.148799\n",
       "9           Other, kinases  0.162184\n",
       "5                    Other  0.167015\n",
       "14   JNK and p38 signaling  0.167100\n",
       "21  Chromat. hist. methyl.  0.190864\n",
       "1      PI3K/MTOR signaling  0.236091\n",
       "8               Cell cycle  0.269981\n",
       "4                  Mitosis  0.274268\n",
       "3    Prot. stab. and degr.  0.358923\n",
       "16              Metabolism  0.422827\n",
       "10      Chrom. hist. acet.  0.425542\n",
       "11         DNA replication  0.441621\n",
       "17    Apoptosis regulation  0.448053"
      ]
     },
     "execution_count": 26,
     "metadata": {},
     "output_type": "execute_result"
    }
   ],
   "source": [
    "iqr_df = iqr_df.sort_values(\"IQR\")\n",
    "iqr_df"
   ]
  },
  {
   "cell_type": "code",
   "execution_count": 28,
   "metadata": {},
   "outputs": [
    {
     "data": {
      "image/png": "[encoded data removed]",
      "text/plain": [
       "<Figure size 337.323x170.079 with 1 Axes>"
      ]
     },
     "metadata": {},
     "output_type": "display_data"
    }
   ],
   "source": [
    "# Do the plotting \n",
    "# Establish order, i.e. sort by std in AUC\n",
    "# order = list(response_df.groupby(\"TP abbr\").agg({\"AUC\": np.std}).sort_values(\"AUC\").index)\n",
    "order = list(iqr_df[\"TP\"])\n",
    "\n",
    "ax = sns.boxplot(x=\"TP abbr\", y=\"AUC\", data=response_df,\n",
    "                 order=order,\n",
    "                linewidth=1.,\n",
    "                fliersize=0.3,\n",
    "                width=0.5)\n",
    "\n",
    "ax.set_xlabel(\"Target Pathway\")\n",
    "plt.xticks(rotation=90)\n",
    "plt.tight_layout()\n",
    "\n",
    "plt.savefig(fig_directory + \"fig1_boxplot_auc_wrt_pathways.pdf\")\n",
    "plt.savefig(gimp_directory + \"fig1_boxplot_auc_wrt_pathways.pdf\")\n",
    "\n",
    "plt.show()"
   ]
  },
  {
   "cell_type": "code",
   "execution_count": 18,
   "metadata": {},
   "outputs": [
    {
     "data": {
      "text/html": [
       "<div>\n",
       "<style scoped>\n",
       "    .dataframe tbody tr th:only-of-type {\n",
       "        vertical-align: middle;\n",
       "    }\n",
       "\n",
       "    .dataframe tbody tr th {\n",
       "        vertical-align: top;\n",
       "    }\n",
       "\n",
       "    .dataframe thead th {\n",
       "        text-align: right;\n",
       "    }\n",
       "</style>\n",
       "<table border=\"1\" class=\"dataframe\">\n",
       "  <thead>\n",
       "    <tr style=\"text-align: right;\">\n",
       "      <th></th>\n",
       "      <th>TP</th>\n",
       "      <th>STD</th>\n",
       "    </tr>\n",
       "  </thead>\n",
       "  <tbody>\n",
       "    <tr>\n",
       "      <th>0</th>\n",
       "      <td>EGFR signaling</td>\n",
       "      <td>0.117231</td>\n",
       "    </tr>\n",
       "    <tr>\n",
       "      <th>1</th>\n",
       "      <td>PI3K/MTOR signaling</td>\n",
       "      <td>0.198026</td>\n",
       "    </tr>\n",
       "    <tr>\n",
       "      <th>2</th>\n",
       "      <td>RTK signaling</td>\n",
       "      <td>0.111132</td>\n",
       "    </tr>\n",
       "    <tr>\n",
       "      <th>3</th>\n",
       "      <td>Protein stability and degradation</td>\n",
       "      <td>0.215327</td>\n",
       "    </tr>\n",
       "    <tr>\n",
       "      <th>4</th>\n",
       "      <td>Mitosis</td>\n",
       "      <td>0.189350</td>\n",
       "    </tr>\n",
       "  </tbody>\n",
       "</table>\n",
       "</div>"
      ],
      "text/plain": [
       "                                  TP       STD\n",
       "0                     EGFR signaling  0.117231\n",
       "1                PI3K/MTOR signaling  0.198026\n",
       "2                      RTK signaling  0.111132\n",
       "3  Protein stability and degradation  0.215327\n",
       "4                            Mitosis  0.189350"
      ]
     },
     "execution_count": 18,
     "metadata": {},
     "output_type": "execute_result"
    }
   ],
   "source": [
    "tps = []\n",
    "auc_stds = []\n",
    "\n",
    "for tp in response_df[\"TARGET_PATHWAY\"].unique():\n",
    "    df = response_df[response_df[\"TARGET_PATHWAY\"] == tp]\n",
    "    std = df[\"AUC\"].std()\n",
    "    tps.append(tp)\n",
    "    auc_stds.append(std)\n",
    "std_df = pd.DataFrame()\n",
    "std_df[\"TP\"] = tps\n",
    "std_df[\"STD\"] = auc_stds\n",
    "\n",
    "std_df.head()"
   ]
  },
  {
   "cell_type": "code",
   "execution_count": 20,
   "metadata": {},
   "outputs": [
    {
     "data": {
      "text/html": [
       "<div>\n",
       "<style scoped>\n",
       "    .dataframe tbody tr th:only-of-type {\n",
       "        vertical-align: middle;\n",
       "    }\n",
       "\n",
       "    .dataframe tbody tr th {\n",
       "        vertical-align: top;\n",
       "    }\n",
       "\n",
       "    .dataframe thead th {\n",
       "        text-align: right;\n",
       "    }\n",
       "</style>\n",
       "<table border=\"1\" class=\"dataframe\">\n",
       "  <thead>\n",
       "    <tr style=\"text-align: right;\">\n",
       "      <th></th>\n",
       "      <th>TP</th>\n",
       "      <th>STD</th>\n",
       "    </tr>\n",
       "  </thead>\n",
       "  <tbody>\n",
       "    <tr>\n",
       "      <th>12</th>\n",
       "      <td>Hormone-related</td>\n",
       "      <td>0.023231</td>\n",
       "    </tr>\n",
       "    <tr>\n",
       "      <th>22</th>\n",
       "      <td>p53 pathway</td>\n",
       "      <td>0.086734</td>\n",
       "    </tr>\n",
       "    <tr>\n",
       "      <th>20</th>\n",
       "      <td>Unclassified</td>\n",
       "      <td>0.089283</td>\n",
       "    </tr>\n",
       "    <tr>\n",
       "      <th>15</th>\n",
       "      <td>Cytoskeleton</td>\n",
       "      <td>0.094472</td>\n",
       "    </tr>\n",
       "    <tr>\n",
       "      <th>7</th>\n",
       "      <td>ABL signaling</td>\n",
       "      <td>0.096472</td>\n",
       "    </tr>\n",
       "    <tr>\n",
       "      <th>23</th>\n",
       "      <td>Chromatin other</td>\n",
       "      <td>0.103793</td>\n",
       "    </tr>\n",
       "    <tr>\n",
       "      <th>2</th>\n",
       "      <td>RTK signaling</td>\n",
       "      <td>0.111132</td>\n",
       "    </tr>\n",
       "    <tr>\n",
       "      <th>0</th>\n",
       "      <td>EGFR signaling</td>\n",
       "      <td>0.117231</td>\n",
       "    </tr>\n",
       "    <tr>\n",
       "      <th>13</th>\n",
       "      <td>Genome integrity</td>\n",
       "      <td>0.118541</td>\n",
       "    </tr>\n",
       "    <tr>\n",
       "      <th>21</th>\n",
       "      <td>Chromatin histone methylation</td>\n",
       "      <td>0.136121</td>\n",
       "    </tr>\n",
       "    <tr>\n",
       "      <th>19</th>\n",
       "      <td>IGFR signaling</td>\n",
       "      <td>0.142267</td>\n",
       "    </tr>\n",
       "    <tr>\n",
       "      <th>14</th>\n",
       "      <td>JNK and p38 signaling</td>\n",
       "      <td>0.147542</td>\n",
       "    </tr>\n",
       "    <tr>\n",
       "      <th>18</th>\n",
       "      <td>WNT signaling</td>\n",
       "      <td>0.148536</td>\n",
       "    </tr>\n",
       "    <tr>\n",
       "      <th>9</th>\n",
       "      <td>Other, kinases</td>\n",
       "      <td>0.152143</td>\n",
       "    </tr>\n",
       "    <tr>\n",
       "      <th>6</th>\n",
       "      <td>ERK MAPK signaling</td>\n",
       "      <td>0.174248</td>\n",
       "    </tr>\n",
       "    <tr>\n",
       "      <th>5</th>\n",
       "      <td>Other</td>\n",
       "      <td>0.183868</td>\n",
       "    </tr>\n",
       "    <tr>\n",
       "      <th>4</th>\n",
       "      <td>Mitosis</td>\n",
       "      <td>0.189350</td>\n",
       "    </tr>\n",
       "    <tr>\n",
       "      <th>1</th>\n",
       "      <td>PI3K/MTOR signaling</td>\n",
       "      <td>0.198026</td>\n",
       "    </tr>\n",
       "    <tr>\n",
       "      <th>8</th>\n",
       "      <td>Cell cycle</td>\n",
       "      <td>0.213795</td>\n",
       "    </tr>\n",
       "    <tr>\n",
       "      <th>3</th>\n",
       "      <td>Protein stability and degradation</td>\n",
       "      <td>0.215327</td>\n",
       "    </tr>\n",
       "    <tr>\n",
       "      <th>10</th>\n",
       "      <td>Chromatin histone acetylation</td>\n",
       "      <td>0.242866</td>\n",
       "    </tr>\n",
       "    <tr>\n",
       "      <th>11</th>\n",
       "      <td>DNA replication</td>\n",
       "      <td>0.268196</td>\n",
       "    </tr>\n",
       "    <tr>\n",
       "      <th>16</th>\n",
       "      <td>Metabolism</td>\n",
       "      <td>0.284527</td>\n",
       "    </tr>\n",
       "    <tr>\n",
       "      <th>17</th>\n",
       "      <td>Apoptosis regulation</td>\n",
       "      <td>0.306274</td>\n",
       "    </tr>\n",
       "  </tbody>\n",
       "</table>\n",
       "</div>"
      ],
      "text/plain": [
       "                                   TP       STD\n",
       "12                    Hormone-related  0.023231\n",
       "22                        p53 pathway  0.086734\n",
       "20                       Unclassified  0.089283\n",
       "15                       Cytoskeleton  0.094472\n",
       "7                       ABL signaling  0.096472\n",
       "23                    Chromatin other  0.103793\n",
       "2                       RTK signaling  0.111132\n",
       "0                      EGFR signaling  0.117231\n",
       "13                   Genome integrity  0.118541\n",
       "21      Chromatin histone methylation  0.136121\n",
       "19                     IGFR signaling  0.142267\n",
       "14              JNK and p38 signaling  0.147542\n",
       "18                      WNT signaling  0.148536\n",
       "9                      Other, kinases  0.152143\n",
       "6                  ERK MAPK signaling  0.174248\n",
       "5                               Other  0.183868\n",
       "4                             Mitosis  0.189350\n",
       "1                 PI3K/MTOR signaling  0.198026\n",
       "8                          Cell cycle  0.213795\n",
       "3   Protein stability and degradation  0.215327\n",
       "10      Chromatin histone acetylation  0.242866\n",
       "11                    DNA replication  0.268196\n",
       "16                         Metabolism  0.284527\n",
       "17               Apoptosis regulation  0.306274"
      ]
     },
     "execution_count": 20,
     "metadata": {},
     "output_type": "execute_result"
    }
   ],
   "source": [
    "std_df.sort_values(\"STD\")"
   ]
  },
  {
   "cell_type": "markdown",
   "metadata": {},
   "source": [
    "#### Panel 4\n",
    "Boxplots of obverall results across methods"
   ]
  },
  {
   "cell_type": "code",
   "execution_count": 31,
   "metadata": {},
   "outputs": [
    {
     "name": "stdout",
     "output_type": "stream",
     "text": [
      "Width: 119.0 4.685039370078741\n",
      "Height: 40.0 1.5748031496062993\n"
     ]
    }
   ],
   "source": [
    "# Set up constants\n",
    "\n",
    "# Size in milimeters\n",
    "panel_width_mm = 119.\n",
    "panel_height_mm = 40.\n",
    "\n",
    "# Size in inches\n",
    "panel_width_inch = panel_width_mm / mm_per_inch\n",
    "panel_height_inch = panel_height_mm / mm_per_inch\n",
    "\n",
    "print(\"Width:\", panel_width_mm, panel_width_inch)\n",
    "print(\"Height:\", panel_height_mm, panel_height_inch)\n",
    "\n",
    "# Update rcParams\n",
    "params = {\n",
    "        'figure.figsize'      : [panel_width_inch, panel_height_inch] ,\n",
    "        'font.size'           : 8      ,\n",
    "        #'font.sans-serif'     : 'Arial'    ,\n",
    "        'axes.titlesize'      : 9.       ,\n",
    "        'axes.labelsize'      : 9.       ,\n",
    "        'xtick.major.size'    : 2        ,\n",
    "        'xtick.major.width'   : 0.75     ,\n",
    "        'xtick.labelsize'     : 6.0      ,\n",
    "        'xtick.direction'     : 'out'      ,\n",
    "        'ytick.major.size'    : 2        ,\n",
    "        'ytick.major.width'   : 0.75     ,\n",
    "        'ytick.labelsize'     : 8.0      ,\n",
    "        'ytick.direction'     : 'out'      ,\n",
    "        'xtick.major.pad'     : 2        ,\n",
    "        'xtick.minor.pad'     : 2        ,\n",
    "        'ytick.major.pad'     : 2        ,\n",
    "        'ytick.minor.pad'     : 2        ,\n",
    "        'savefig.dpi'         : 300.      ,\n",
    "        'axes.linewidth'      : 0.75     ,\n",
    "        'text.usetex'         : False     ,\n",
    "        'text.latex.unicode'  : False     }"
   ]
  },
  {
   "cell_type": "code",
   "execution_count": 32,
   "metadata": {},
   "outputs": [
    {
     "name": "stdout",
     "output_type": "stream",
     "text": [
      "[4.685039370078741, 1.5748031496062993]\n",
      "8.0\n"
     ]
    },
    {
     "name": "stderr",
     "output_type": "stream",
     "text": [
      "/home/krzysztof/.local/lib/python3.6/site-packages/matplotlib/__init__.py:846: MatplotlibDeprecationWarning: \n",
      "The text.latex.unicode rcparam was deprecated in Matplotlib 2.2 and will be removed in 3.1.\n",
      "  \"2.2\", name=key, obj_type=\"rcparam\", addendum=addendum)\n"
     ]
    }
   ],
   "source": [
    "plt.rcParams.update(params)\n",
    "print(plt.rcParams.get('figure.figsize'))\n",
    "print(plt.rcParams.get('font.size'))"
   ]
  },
  {
   "cell_type": "code",
   "execution_count": 33,
   "metadata": {},
   "outputs": [],
   "source": [
    "# Load hue order for all models and corresponding color palette\n",
    "with open(\"./Results and other files/hue_order_all_models.pkl\", \"rb\") as f:\n",
    "    hue_order_all_models = dill.load(f)\n",
    "with open(\"./Results and other files/palette_all_models.pkl\", \"rb\") as f:\n",
    "    palette_all_models = dill.load(f)"
   ]
  },
  {
   "cell_type": "code",
   "execution_count": 35,
   "metadata": {},
   "outputs": [
    {
     "data": {
      "image/png": "[encoded data removed]",
      "text/plain": [
       "<Figure size 337.323x113.386 with 1 Axes>"
      ]
     },
     "metadata": {},
     "output_type": "display_data"
    }
   ],
   "source": [
    "ax = sns.boxplot(x=\"Model\", y=\"Model test correlation\", data=df_agg_intersection,\n",
    "                order=hue_order_all_models,\n",
    "                palette=palette_all_models)\n",
    "\n",
    "ax.set_xlabel(\"Feature set\")\n",
    "ax.set_ylabel(\"Correlation\")\n",
    "\n",
    "plt.xticks(rotation=90)\n",
    "\n",
    "plt.tight_layout()\n",
    "\n",
    "plt.savefig(fig_directory + \"fig1_boxplot_corr_across_models.pdf\")\n",
    "plt.savefig(gimp_directory + \"fig1_boxplot_corr_across_models.pdf\")\n",
    "\n",
    "plt.show()"
   ]
  },
  {
   "cell_type": "code",
   "execution_count": 36,
   "metadata": {},
   "outputs": [
    {
     "data": {
      "text/plain": [
       "175"
      ]
     },
     "execution_count": 36,
     "metadata": {},
     "output_type": "execute_result"
    }
   ],
   "source": [
    "df_agg_intersection[\"Drug ID\"].nunique()"
   ]
  },
  {
   "cell_type": "code",
   "execution_count": null,
   "metadata": {},
   "outputs": [],
   "source": []
  },
  {
   "cell_type": "markdown",
   "metadata": {},
   "source": [
    "## Figure 2\n",
    "\n",
    "- Half page width: 85 mm\n",
    "- Full page width: 170 mm\n",
    "- 170 mm corresponds to 6.6929133858 inches\n",
    "- One inch: 25.4 mm\n",
    "\n",
    "4 panels"
   ]
  },
  {
   "cell_type": "markdown",
   "metadata": {},
   "source": [
    "#### Panel 1\n",
    "RMSE vs. correlation genome wide elastic net"
   ]
  },
  {
   "cell_type": "code",
   "execution_count": 13,
   "metadata": {},
   "outputs": [],
   "source": [
    "# Set the directory to save figures (panels) in\n",
    "fig_directory = \"./Figures for article working version/\"\n",
    "gimp_directory = \"/home/krzysztof/Dokumenty/Doktorat/Dokumenty/Moje artykuły/Modeling drug efficacy/Figures/Panels/\""
   ]
  },
  {
   "cell_type": "code",
   "execution_count": 14,
   "metadata": {},
   "outputs": [],
   "source": [
    "# Constants for figure\n",
    "mm_per_inch = 25.4\n",
    "fig_width_in_mm = 170\n",
    "fig_height_in_mm = 150"
   ]
  },
  {
   "cell_type": "code",
   "execution_count": 15,
   "metadata": {},
   "outputs": [
    {
     "name": "stdout",
     "output_type": "stream",
     "text": [
      "(251, 9) 0.388596208358868\n"
     ]
    },
    {
     "data": {
      "text/html": [
       "<div>\n",
       "<style scoped>\n",
       "    .dataframe tbody tr th:only-of-type {\n",
       "        vertical-align: middle;\n",
       "    }\n",
       "\n",
       "    .dataframe tbody tr th {\n",
       "        vertical-align: top;\n",
       "    }\n",
       "\n",
       "    .dataframe thead th {\n",
       "        text-align: right;\n",
       "    }\n",
       "</style>\n",
       "<table border=\"1\" class=\"dataframe\">\n",
       "  <thead>\n",
       "    <tr style=\"text-align: right;\">\n",
       "      <th></th>\n",
       "      <th>Drug ID</th>\n",
       "      <th>Drug Name</th>\n",
       "      <th>Model test RMSE</th>\n",
       "      <th>Model test correlation</th>\n",
       "      <th>Correlation pval</th>\n",
       "      <th>Dummy test RMSE</th>\n",
       "      <th>Relative test RMSE</th>\n",
       "      <th>Target Pathway</th>\n",
       "      <th>Model</th>\n",
       "    </tr>\n",
       "  </thead>\n",
       "  <tbody>\n",
       "    <tr>\n",
       "      <th>10</th>\n",
       "      <td>1</td>\n",
       "      <td>Erlotinib</td>\n",
       "      <td>0.071460</td>\n",
       "      <td>0.374202</td>\n",
       "      <td>0.004133</td>\n",
       "      <td>0.073378</td>\n",
       "      <td>1.017662</td>\n",
       "      <td>EGFR signaling</td>\n",
       "      <td>GW EN</td>\n",
       "    </tr>\n",
       "    <tr>\n",
       "      <th>14</th>\n",
       "      <td>3</td>\n",
       "      <td>Rapamycin</td>\n",
       "      <td>0.222320</td>\n",
       "      <td>0.269558</td>\n",
       "      <td>0.025780</td>\n",
       "      <td>0.229805</td>\n",
       "      <td>1.034771</td>\n",
       "      <td>PI3K/MTOR signaling</td>\n",
       "      <td>GW EN</td>\n",
       "    </tr>\n",
       "    <tr>\n",
       "      <th>30</th>\n",
       "      <td>5</td>\n",
       "      <td>Sunitinib</td>\n",
       "      <td>0.134001</td>\n",
       "      <td>0.419301</td>\n",
       "      <td>0.002418</td>\n",
       "      <td>0.138563</td>\n",
       "      <td>1.040323</td>\n",
       "      <td>RTK signaling</td>\n",
       "      <td>GW EN</td>\n",
       "    </tr>\n",
       "  </tbody>\n",
       "</table>\n",
       "</div>"
      ],
      "text/plain": [
       "    Drug ID  Drug Name  Model test RMSE  Model test correlation  \\\n",
       "10        1  Erlotinib         0.071460                0.374202   \n",
       "14        3  Rapamycin         0.222320                0.269558   \n",
       "30        5  Sunitinib         0.134001                0.419301   \n",
       "\n",
       "    Correlation pval  Dummy test RMSE  Relative test RMSE  \\\n",
       "10          0.004133         0.073378            1.017662   \n",
       "14          0.025780         0.229805            1.034771   \n",
       "30          0.002418         0.138563            1.040323   \n",
       "\n",
       "         Target Pathway  Model  \n",
       "10       EGFR signaling  GW EN  \n",
       "14  PI3K/MTOR signaling  GW EN  \n",
       "30        RTK signaling  GW EN  "
      ]
     },
     "execution_count": 15,
     "metadata": {},
     "output_type": "execute_result"
    }
   ],
   "source": [
    "# Extract genome wide elastic net resuslts\n",
    "df_gw_en = df_agg_all_models[df_agg_all_models.Model == \"GW EN\"]\n",
    "print(df_gw_en.shape, df_gw_en[\"Model test correlation\"].median())\n",
    "df_gw_en.head(3)"
   ]
  },
  {
   "cell_type": "code",
   "execution_count": 76,
   "metadata": {},
   "outputs": [
    {
     "name": "stdout",
     "output_type": "stream",
     "text": [
      "Width: 50.0 1.968503937007874\n",
      "Height: 50 1.968503937007874\n"
     ]
    }
   ],
   "source": [
    "# Set up constants\n",
    "# width of the page: 6.69\n",
    "mm_per_inch = 25.4\n",
    "\n",
    "panel_width_mm = 50.\n",
    "panel_height_mm = 50\n",
    "\n",
    "panel_width_inch = panel_width_mm / mm_per_inch\n",
    "panel_height_inch = panel_height_mm / mm_per_inch\n",
    "\n",
    "print(\"Width:\", panel_width_mm, panel_width_inch)\n",
    "print(\"Height:\", panel_height_mm, panel_height_inch)\n",
    "\n",
    "# Update rcParams\n",
    "params = {\n",
    "        'figure.figsize'      : [panel_width_inch, panel_height_inch] ,\n",
    "        'font.size'           : 8      ,\n",
    "        #'font.sans-serif'     : 'Arial'    ,\n",
    "        'axes.titlesize'      : 10.       ,\n",
    "        'axes.labelsize'      : 9.       ,\n",
    "        'xtick.major.size'    : 2        ,\n",
    "        'xtick.major.width'   : 0.75     ,\n",
    "        'xtick.labelsize'     : 8.0      ,\n",
    "        'xtick.direction'     : 'out'      ,\n",
    "        'ytick.major.size'    : 2        ,\n",
    "        'ytick.major.width'   : 0.75     ,\n",
    "        'ytick.labelsize'     : 8.0      ,\n",
    "        'ytick.direction'     : 'out'      ,\n",
    "        'xtick.major.pad'     : 2        ,\n",
    "        'xtick.minor.pad'     : 2        ,\n",
    "        'ytick.major.pad'     : 2        ,\n",
    "        'ytick.minor.pad'     : 2        ,\n",
    "        'savefig.dpi'         : 300.      ,\n",
    "        'axes.linewidth'      : 0.75     ,\n",
    "        'text.usetex'         : False     ,\n",
    "        'text.latex.unicode'  : False     }"
   ]
  },
  {
   "cell_type": "code",
   "execution_count": 77,
   "metadata": {},
   "outputs": [
    {
     "name": "stdout",
     "output_type": "stream",
     "text": [
      "[1.968503937007874, 1.968503937007874]\n",
      "8.0\n"
     ]
    },
    {
     "name": "stderr",
     "output_type": "stream",
     "text": [
      "/home/krzysztof/.local/lib/python3.6/site-packages/matplotlib/__init__.py:846: MatplotlibDeprecationWarning: \n",
      "The text.latex.unicode rcparam was deprecated in Matplotlib 2.2 and will be removed in 3.1.\n",
      "  \"2.2\", name=key, obj_type=\"rcparam\", addendum=addendum)\n"
     ]
    }
   ],
   "source": [
    "plt.rcParams.update(params)\n",
    "print(plt.rcParams.get('figure.figsize'))\n",
    "print(plt.rcParams.get('font.size'))"
   ]
  },
  {
   "cell_type": "code",
   "execution_count": 79,
   "metadata": {},
   "outputs": [
    {
     "data": {
      "image/png": "[encoded data removed]",
      "text/plain": [
       "<Figure size 141.732x141.732 with 1 Axes>"
      ]
     },
     "metadata": {},
     "output_type": "display_data"
    }
   ],
   "source": [
    "# Do the plotting \n",
    "ax = sns.scatterplot(x=\"Model test correlation\", y=(1 - df_gw_en[\"Model test RMSE\"]), data=df_gw_en,\n",
    "                    s=20)\n",
    "ax.set_xlabel(\"Correlation\")\n",
    "ax.set_ylabel(\"1 - RMSE\")\n",
    "\n",
    "plt.tight_layout()\n",
    "\n",
    "plt.savefig(fig_directory + \"fig2_rmse_vs_corr.pdf\")\n",
    "plt.savefig(gimp_directory + \"fig2_rmse_vs_corr.pdf\")\n",
    "\n",
    "plt.show()"
   ]
  },
  {
   "cell_type": "markdown",
   "metadata": {},
   "source": [
    "#### Panel 2\n",
    "Relative test RMSE vs corr"
   ]
  },
  {
   "cell_type": "code",
   "execution_count": 25,
   "metadata": {},
   "outputs": [
    {
     "name": "stdout",
     "output_type": "stream",
     "text": [
      "Width: 56.0 2.204724409448819\n",
      "Height: 50 1.968503937007874\n"
     ]
    }
   ],
   "source": [
    "# Set up constants\n",
    "# width of the page: 6.69\n",
    "mm_per_inch = 25.4\n",
    "\n",
    "panel_width_mm = 56.\n",
    "panel_height_mm = 50\n",
    "\n",
    "panel_width_inch = panel_width_mm / mm_per_inch\n",
    "panel_height_inch = panel_height_mm / mm_per_inch\n",
    "\n",
    "print(\"Width:\", panel_width_mm, panel_width_inch)\n",
    "print(\"Height:\", panel_height_mm, panel_height_inch)\n",
    "\n",
    "# Update rcParams\n",
    "params = {\n",
    "        'figure.figsize'      : [panel_width_inch, panel_height_inch] ,\n",
    "        'font.size'           : 8      ,\n",
    "        #'font.sans-serif'     : 'Arial'    ,\n",
    "        'axes.titlesize'      : 10.       ,\n",
    "        'axes.labelsize'      : 9.       ,\n",
    "        'xtick.major.size'    : 2        ,\n",
    "        'xtick.major.width'   : 0.75     ,\n",
    "        'xtick.labelsize'     : 8.0      ,\n",
    "        'xtick.direction'     : 'out'      ,\n",
    "        'ytick.major.size'    : 2        ,\n",
    "        'ytick.major.width'   : 0.75     ,\n",
    "        'ytick.labelsize'     : 8.0      ,\n",
    "        'ytick.direction'     : 'out'      ,\n",
    "        'xtick.major.pad'     : 2        ,\n",
    "        'xtick.minor.pad'     : 2        ,\n",
    "        'ytick.major.pad'     : 2        ,\n",
    "        'ytick.minor.pad'     : 2        ,\n",
    "        'savefig.dpi'         : 300.      ,\n",
    "        'axes.linewidth'      : 0.75     ,\n",
    "        'text.usetex'         : False     ,\n",
    "        'text.latex.unicode'  : False     }"
   ]
  },
  {
   "cell_type": "code",
   "execution_count": 26,
   "metadata": {},
   "outputs": [
    {
     "name": "stdout",
     "output_type": "stream",
     "text": [
      "[2.204724409448819, 1.968503937007874]\n",
      "8.0\n"
     ]
    },
    {
     "name": "stderr",
     "output_type": "stream",
     "text": [
      "/home/krzysztof/.local/lib/python3.6/site-packages/matplotlib/__init__.py:846: MatplotlibDeprecationWarning: \n",
      "The text.latex.unicode rcparam was deprecated in Matplotlib 2.2 and will be removed in 3.1.\n",
      "  \"2.2\", name=key, obj_type=\"rcparam\", addendum=addendum)\n"
     ]
    }
   ],
   "source": [
    "plt.rcParams.update(params)\n",
    "print(plt.rcParams.get('figure.figsize'))\n",
    "print(plt.rcParams.get('font.size'))"
   ]
  },
  {
   "cell_type": "code",
   "execution_count": 28,
   "metadata": {},
   "outputs": [
    {
     "data": {
      "image/png": "[encoded data removed]",
      "text/plain": [
       "<Figure size 158.74x141.732 with 1 Axes>"
      ]
     },
     "metadata": {},
     "output_type": "display_data"
    }
   ],
   "source": [
    "# Do the plotting \n",
    "ax = sns.scatterplot(x=\"Model test correlation\", y=\"Relative test RMSE\", data=df_gw_en,\n",
    "                    s=20)\n",
    "ax.set_xlabel(\"Correlation\")\n",
    "ax.set_ylabel(\"RelRMSE\")\n",
    "\n",
    "# Add a horizontal line at one\n",
    "ax.axhline(y=1., color=\"black\", linewidth=1.)\n",
    "\n",
    "plt.tight_layout()\n",
    "\n",
    "plt.savefig(fig_directory + \"fig2_relrmse_vs_corr.pdf\")\n",
    "plt.savefig(gimp_directory + \"fig2_relrmse_vs_corr.pdf\")\n",
    "\n",
    "plt.show()"
   ]
  },
  {
   "cell_type": "markdown",
   "metadata": {},
   "source": [
    "#### Panel 3 \n",
    "Correlation vs. std in AUC"
   ]
  },
  {
   "cell_type": "code",
   "execution_count": 80,
   "metadata": {},
   "outputs": [
    {
     "name": "stdout",
     "output_type": "stream",
     "text": [
      "251\n",
      "<class 'list'> 983\n"
     ]
    }
   ],
   "source": [
    "# Load relevant drug IDs\n",
    "with open(\"./Results and other files/drug_ids_to_keep_in_results.pkl\", \"rb\") as f:\n",
    "    relevant_drug_ids = dill.load(f)\n",
    "print(len(relevant_drug_ids))\n",
    "\n",
    "# Load relevant cell line IDs\n",
    "with open(\"./Results and other files/set_of_all_analyzed_cell_lines.pkl\", \"rb\") as f:\n",
    "    relevant_cl_ids = dill.load(f)\n",
    "print(type(relevant_cl_ids), len(relevant_cl_ids))"
   ]
  },
  {
   "cell_type": "code",
   "execution_count": 81,
   "metadata": {},
   "outputs": [
    {
     "name": "stdout",
     "output_type": "stream",
     "text": [
      "(211457, 14)\n",
      "(201166, 14)\n"
     ]
    },
    {
     "data": {
      "text/html": [
       "<div>\n",
       "<style scoped>\n",
       "    .dataframe tbody tr th:only-of-type {\n",
       "        vertical-align: middle;\n",
       "    }\n",
       "\n",
       "    .dataframe tbody tr th {\n",
       "        vertical-align: top;\n",
       "    }\n",
       "\n",
       "    .dataframe thead th {\n",
       "        text-align: right;\n",
       "    }\n",
       "</style>\n",
       "<table border=\"1\" class=\"dataframe\">\n",
       "  <thead>\n",
       "    <tr style=\"text-align: right;\">\n",
       "      <th></th>\n",
       "      <th>DATASET_VERSION</th>\n",
       "      <th>IC50_RESULTS_ID</th>\n",
       "      <th>COSMIC_ID</th>\n",
       "      <th>CELL_LINE_NAME</th>\n",
       "      <th>DRUG_ID</th>\n",
       "      <th>DRUG_NAME</th>\n",
       "      <th>PUTATIVE_TARGET</th>\n",
       "      <th>MAX_CONC_MICROMOLAR</th>\n",
       "      <th>MIN_CONC_MICROMOLAR</th>\n",
       "      <th>LN_IC50</th>\n",
       "      <th>AUC</th>\n",
       "      <th>RMSE</th>\n",
       "      <th>Z_SCORE</th>\n",
       "      <th>TARGET_PATHWAY</th>\n",
       "    </tr>\n",
       "  </thead>\n",
       "  <tbody>\n",
       "    <tr>\n",
       "      <th>0</th>\n",
       "      <td>17.3</td>\n",
       "      <td>1</td>\n",
       "      <td>683665</td>\n",
       "      <td>MC-CAR</td>\n",
       "      <td>1</td>\n",
       "      <td>Erlotinib</td>\n",
       "      <td>EGFR</td>\n",
       "      <td>2.0</td>\n",
       "      <td>0.007812</td>\n",
       "      <td>2.453524</td>\n",
       "      <td>0.982610</td>\n",
       "      <td>0.021678</td>\n",
       "      <td>-0.015505</td>\n",
       "      <td>EGFR signaling</td>\n",
       "    </tr>\n",
       "    <tr>\n",
       "      <th>1</th>\n",
       "      <td>17.3</td>\n",
       "      <td>1482</td>\n",
       "      <td>684055</td>\n",
       "      <td>ES3</td>\n",
       "      <td>1</td>\n",
       "      <td>Erlotinib</td>\n",
       "      <td>EGFR</td>\n",
       "      <td>2.0</td>\n",
       "      <td>0.007812</td>\n",
       "      <td>3.376592</td>\n",
       "      <td>0.985169</td>\n",
       "      <td>0.029915</td>\n",
       "      <td>0.779999</td>\n",
       "      <td>EGFR signaling</td>\n",
       "    </tr>\n",
       "    <tr>\n",
       "      <th>2</th>\n",
       "      <td>17.3</td>\n",
       "      <td>1791</td>\n",
       "      <td>684057</td>\n",
       "      <td>ES5</td>\n",
       "      <td>1</td>\n",
       "      <td>Erlotinib</td>\n",
       "      <td>EGFR</td>\n",
       "      <td>2.0</td>\n",
       "      <td>0.007812</td>\n",
       "      <td>3.614664</td>\n",
       "      <td>0.983207</td>\n",
       "      <td>0.031201</td>\n",
       "      <td>0.985170</td>\n",
       "      <td>EGFR signaling</td>\n",
       "    </tr>\n",
       "  </tbody>\n",
       "</table>\n",
       "</div>"
      ],
      "text/plain": [
       "   DATASET_VERSION  IC50_RESULTS_ID  COSMIC_ID CELL_LINE_NAME  DRUG_ID  \\\n",
       "0             17.3                1     683665         MC-CAR        1   \n",
       "1             17.3             1482     684055            ES3        1   \n",
       "2             17.3             1791     684057            ES5        1   \n",
       "\n",
       "   DRUG_NAME PUTATIVE_TARGET  MAX_CONC_MICROMOLAR  MIN_CONC_MICROMOLAR  \\\n",
       "0  Erlotinib            EGFR                  2.0             0.007812   \n",
       "1  Erlotinib            EGFR                  2.0             0.007812   \n",
       "2  Erlotinib            EGFR                  2.0             0.007812   \n",
       "\n",
       "    LN_IC50       AUC      RMSE   Z_SCORE  TARGET_PATHWAY  \n",
       "0  2.453524  0.982610  0.021678 -0.015505  EGFR signaling  \n",
       "1  3.376592  0.985169  0.029915  0.779999  EGFR signaling  \n",
       "2  3.614664  0.983207  0.031201  0.985170  EGFR signaling  "
      ]
     },
     "execution_count": 81,
     "metadata": {},
     "output_type": "execute_result"
    }
   ],
   "source": [
    "# Load dataframe with auc values\n",
    "response_df = pd.read_csv(\"./Results and other files/drug_response_df_with_pathways.csv\")\n",
    "print(response_df.shape)\n",
    "response_df = response_df[\n",
    "    (response_df[\"DRUG_ID\"].isin(relevant_drug_ids)) & (response_df[\"COSMIC_ID\"].isin(relevant_cl_ids))\n",
    "]\n",
    "print(response_df.shape)\n",
    "response_df.head(3)"
   ]
  },
  {
   "cell_type": "code",
   "execution_count": 82,
   "metadata": {},
   "outputs": [
    {
     "data": {
      "text/plain": [
       "0.1974860823377468"
      ]
     },
     "execution_count": 82,
     "metadata": {},
     "output_type": "execute_result"
    }
   ],
   "source": [
    "response_df.AUC.std()"
   ]
  },
  {
   "cell_type": "code",
   "execution_count": 83,
   "metadata": {},
   "outputs": [
    {
     "name": "stdout",
     "output_type": "stream",
     "text": [
      "251\n"
     ]
    }
   ],
   "source": [
    "# Create a dictionary mapping from drug ID to it's AUC's standard deviation\n",
    "dic = {}\n",
    "for drug_id in relevant_drug_ids:\n",
    "    df = response_df[response_df[\"DRUG_ID\"] == drug_id]\n",
    "    std = df[\"AUC\"].std()\n",
    "    dic[drug_id] = std\n",
    "print(len(dic))"
   ]
  },
  {
   "cell_type": "code",
   "execution_count": 84,
   "metadata": {},
   "outputs": [
    {
     "name": "stdout",
     "output_type": "stream",
     "text": [
      "(251, 10)\n"
     ]
    },
    {
     "name": "stderr",
     "output_type": "stream",
     "text": [
      "/home/krzysztof/.local/lib/python3.6/site-packages/ipykernel_launcher.py:4: SettingWithCopyWarning: \n",
      "A value is trying to be set on a copy of a slice from a DataFrame.\n",
      "Try using .loc[row_indexer,col_indexer] = value instead\n",
      "\n",
      "See the caveats in the documentation: http://pandas.pydata.org/pandas-docs/stable/indexing.html#indexing-view-versus-copy\n",
      "  after removing the cwd from sys.path.\n"
     ]
    },
    {
     "data": {
      "text/html": [
       "<div>\n",
       "<style scoped>\n",
       "    .dataframe tbody tr th:only-of-type {\n",
       "        vertical-align: middle;\n",
       "    }\n",
       "\n",
       "    .dataframe tbody tr th {\n",
       "        vertical-align: top;\n",
       "    }\n",
       "\n",
       "    .dataframe thead th {\n",
       "        text-align: right;\n",
       "    }\n",
       "</style>\n",
       "<table border=\"1\" class=\"dataframe\">\n",
       "  <thead>\n",
       "    <tr style=\"text-align: right;\">\n",
       "      <th></th>\n",
       "      <th>Drug ID</th>\n",
       "      <th>Drug Name</th>\n",
       "      <th>Model test RMSE</th>\n",
       "      <th>Model test correlation</th>\n",
       "      <th>Correlation pval</th>\n",
       "      <th>Dummy test RMSE</th>\n",
       "      <th>Relative test RMSE</th>\n",
       "      <th>Target Pathway</th>\n",
       "      <th>Model</th>\n",
       "      <th>STD in AUC</th>\n",
       "    </tr>\n",
       "  </thead>\n",
       "  <tbody>\n",
       "    <tr>\n",
       "      <th>10</th>\n",
       "      <td>1</td>\n",
       "      <td>Erlotinib</td>\n",
       "      <td>0.071460</td>\n",
       "      <td>0.374202</td>\n",
       "      <td>0.004133</td>\n",
       "      <td>0.073378</td>\n",
       "      <td>1.017662</td>\n",
       "      <td>EGFR signaling</td>\n",
       "      <td>GW EN</td>\n",
       "      <td>0.082368</td>\n",
       "    </tr>\n",
       "    <tr>\n",
       "      <th>14</th>\n",
       "      <td>3</td>\n",
       "      <td>Rapamycin</td>\n",
       "      <td>0.222320</td>\n",
       "      <td>0.269558</td>\n",
       "      <td>0.025780</td>\n",
       "      <td>0.229805</td>\n",
       "      <td>1.034771</td>\n",
       "      <td>PI3K/MTOR signaling</td>\n",
       "      <td>GW EN</td>\n",
       "      <td>0.231008</td>\n",
       "    </tr>\n",
       "    <tr>\n",
       "      <th>30</th>\n",
       "      <td>5</td>\n",
       "      <td>Sunitinib</td>\n",
       "      <td>0.134001</td>\n",
       "      <td>0.419301</td>\n",
       "      <td>0.002418</td>\n",
       "      <td>0.138563</td>\n",
       "      <td>1.040323</td>\n",
       "      <td>RTK signaling</td>\n",
       "      <td>GW EN</td>\n",
       "      <td>0.147625</td>\n",
       "    </tr>\n",
       "  </tbody>\n",
       "</table>\n",
       "</div>"
      ],
      "text/plain": [
       "    Drug ID  Drug Name  Model test RMSE  Model test correlation  \\\n",
       "10        1  Erlotinib         0.071460                0.374202   \n",
       "14        3  Rapamycin         0.222320                0.269558   \n",
       "30        5  Sunitinib         0.134001                0.419301   \n",
       "\n",
       "    Correlation pval  Dummy test RMSE  Relative test RMSE  \\\n",
       "10          0.004133         0.073378            1.017662   \n",
       "14          0.025780         0.229805            1.034771   \n",
       "30          0.002418         0.138563            1.040323   \n",
       "\n",
       "         Target Pathway  Model  STD in AUC  \n",
       "10       EGFR signaling  GW EN    0.082368  \n",
       "14  PI3K/MTOR signaling  GW EN    0.231008  \n",
       "30        RTK signaling  GW EN    0.147625  "
      ]
     },
     "execution_count": 84,
     "metadata": {},
     "output_type": "execute_result"
    }
   ],
   "source": [
    "df_gw_en = df_agg_all_models[df_agg_all_models.Model == \"GW EN\"]\n",
    "\n",
    "# Add column with STDs into enet genome wide df\n",
    "df_gw_en[\"STD in AUC\"] = df_gw_en[\"Drug ID\"].map(dic)\n",
    "print(df_gw_en.shape)\n",
    "df_gw_en.head(3)"
   ]
  },
  {
   "cell_type": "code",
   "execution_count": 85,
   "metadata": {},
   "outputs": [
    {
     "name": "stdout",
     "output_type": "stream",
     "text": [
      "Width: 50.0 1.968503937007874\n",
      "Height: 50 1.968503937007874\n"
     ]
    }
   ],
   "source": [
    "# Set up constants\n",
    "# width of the page: 6.69\n",
    "mm_per_inch = 25.4\n",
    "\n",
    "panel_width_mm = 50.\n",
    "panel_height_mm = 50\n",
    "\n",
    "panel_width_inch = panel_width_mm / mm_per_inch\n",
    "panel_height_inch = panel_height_mm / mm_per_inch\n",
    "\n",
    "print(\"Width:\", panel_width_mm, panel_width_inch)\n",
    "print(\"Height:\", panel_height_mm, panel_height_inch)\n",
    "\n",
    "# Update rcParams\n",
    "params = {\n",
    "        'figure.figsize'      : [panel_width_inch, panel_height_inch] ,\n",
    "        'font.size'           : 8      ,\n",
    "        #'font.sans-serif'     : 'Arial'    ,\n",
    "        'axes.titlesize'      : 10.       ,\n",
    "        'axes.labelsize'      : 9.       ,\n",
    "        'xtick.major.size'    : 2        ,\n",
    "        'xtick.major.width'   : 0.75     ,\n",
    "        'xtick.labelsize'     : 8.0      ,\n",
    "        'xtick.direction'     : 'out'      ,\n",
    "        'ytick.major.size'    : 2        ,\n",
    "        'ytick.major.width'   : 0.75     ,\n",
    "        'ytick.labelsize'     : 8.0      ,\n",
    "        'ytick.direction'     : 'out'      ,\n",
    "        'xtick.major.pad'     : 2        ,\n",
    "        'xtick.minor.pad'     : 2        ,\n",
    "        'ytick.major.pad'     : 2        ,\n",
    "        'ytick.minor.pad'     : 2        ,\n",
    "        'savefig.dpi'         : 300.      ,\n",
    "        'axes.linewidth'      : 0.75     ,\n",
    "        'text.usetex'         : False     ,\n",
    "        'text.latex.unicode'  : False     }"
   ]
  },
  {
   "cell_type": "code",
   "execution_count": 86,
   "metadata": {},
   "outputs": [
    {
     "name": "stdout",
     "output_type": "stream",
     "text": [
      "[1.968503937007874, 1.968503937007874]\n",
      "8.0\n"
     ]
    },
    {
     "name": "stderr",
     "output_type": "stream",
     "text": [
      "/home/krzysztof/.local/lib/python3.6/site-packages/matplotlib/__init__.py:846: MatplotlibDeprecationWarning: \n",
      "The text.latex.unicode rcparam was deprecated in Matplotlib 2.2 and will be removed in 3.1.\n",
      "  \"2.2\", name=key, obj_type=\"rcparam\", addendum=addendum)\n"
     ]
    }
   ],
   "source": [
    "plt.rcParams.update(params)\n",
    "print(plt.rcParams.get('figure.figsize'))\n",
    "print(plt.rcParams.get('font.size'))"
   ]
  },
  {
   "cell_type": "code",
   "execution_count": 87,
   "metadata": {},
   "outputs": [
    {
     "data": {
      "image/png": "[encoded data removed]",
      "text/plain": [
       "<Figure size 141.732x141.732 with 1 Axes>"
      ]
     },
     "metadata": {},
     "output_type": "display_data"
    }
   ],
   "source": [
    "# Do the plotting\n",
    "ax = sns.scatterplot(x=\"STD in AUC\", y=\"Model test correlation\", data=df_gw_en,\n",
    "                    s=20)\n",
    "ax.set_xlabel(\"Standard deviation of AUC\")\n",
    "ax.set_ylabel(\"Correlation\")\n",
    "\n",
    "plt.tight_layout()\n",
    "\n",
    "plt.savefig(fig_directory + \"fig2_stdAUC_vs_corr.pdf\")\n",
    "plt.savefig(gimp_directory + \"fig2_stdAUC_vs_corr.pdf\")\n",
    "\n",
    "plt.show()"
   ]
  },
  {
   "cell_type": "markdown",
   "metadata": {},
   "source": [
    "#### Panel 4 \n",
    "RRMSE vs. correlation for best results"
   ]
  },
  {
   "cell_type": "code",
   "execution_count": 88,
   "metadata": {},
   "outputs": [
    {
     "name": "stdout",
     "output_type": "stream",
     "text": [
      "Width: 70.0 2.7559055118110236\n",
      "Height: 50 1.968503937007874\n"
     ]
    }
   ],
   "source": [
    "# Set up constants\n",
    "# width of the page: 6.69\n",
    "mm_per_inch = 25.4\n",
    "\n",
    "panel_width_mm = 70.\n",
    "panel_height_mm = 50\n",
    "\n",
    "panel_width_inch = panel_width_mm / mm_per_inch\n",
    "panel_height_inch = panel_height_mm / mm_per_inch\n",
    "\n",
    "print(\"Width:\", panel_width_mm, panel_width_inch)\n",
    "print(\"Height:\", panel_height_mm, panel_height_inch)\n",
    "\n",
    "# Update rcParams\n",
    "# Update rcParams\n",
    "params = {\n",
    "        'figure.figsize'      : [panel_width_inch, panel_height_inch] ,\n",
    "        'font.size'           : 8      ,\n",
    "        #'font.sans-serif'     : 'Arial'    ,\n",
    "        'axes.titlesize'      : 10.       ,\n",
    "        'axes.labelsize'      : 9.       ,\n",
    "        'xtick.major.size'    : 2        ,\n",
    "        'xtick.major.width'   : 0.75     ,\n",
    "        'xtick.labelsize'     : 8.0      ,\n",
    "        'xtick.direction'     : 'out'      ,\n",
    "        'ytick.major.size'    : 2        ,\n",
    "        'ytick.major.width'   : 0.75     ,\n",
    "        'ytick.labelsize'     : 8.0      ,\n",
    "        'ytick.direction'     : 'out'      ,\n",
    "        'xtick.major.pad'     : 2        ,\n",
    "        'xtick.minor.pad'     : 2        ,\n",
    "        'ytick.major.pad'     : 2        ,\n",
    "        'ytick.minor.pad'     : 2        ,\n",
    "        'savefig.dpi'         : 300.      ,\n",
    "        'axes.linewidth'      : 0.75     ,\n",
    "        'text.usetex'         : False     ,\n",
    "        'text.latex.unicode'  : False,\n",
    "        'legend.fontsize': 4,\n",
    "          'legend.handlelength': 2\n",
    "}"
   ]
  },
  {
   "cell_type": "code",
   "execution_count": 89,
   "metadata": {},
   "outputs": [
    {
     "name": "stdout",
     "output_type": "stream",
     "text": [
      "[2.7559055118110236, 1.968503937007874]\n",
      "8.0\n"
     ]
    },
    {
     "name": "stderr",
     "output_type": "stream",
     "text": [
      "/home/krzysztof/.local/lib/python3.6/site-packages/matplotlib/__init__.py:846: MatplotlibDeprecationWarning: \n",
      "The text.latex.unicode rcparam was deprecated in Matplotlib 2.2 and will be removed in 3.1.\n",
      "  \"2.2\", name=key, obj_type=\"rcparam\", addendum=addendum)\n"
     ]
    }
   ],
   "source": [
    "plt.rcParams.update(params)\n",
    "print(plt.rcParams.get('figure.figsize'))\n",
    "print(plt.rcParams.get('font.size'))"
   ]
  },
  {
   "cell_type": "code",
   "execution_count": 90,
   "metadata": {},
   "outputs": [],
   "source": [
    "# Load hue order for all models and corresponding color palette\n",
    "with open(\"./Results and other files/hue_order_all_models.pkl\", \"rb\") as f:\n",
    "    hue_order_all_models = dill.load(f)\n",
    "with open(\"./Results and other files/palette_all_models.pkl\", \"rb\") as f:\n",
    "    palette_all_models = dill.load(f)"
   ]
  },
  {
   "cell_type": "code",
   "execution_count": 91,
   "metadata": {},
   "outputs": [
    {
     "data": {
      "image/png": "[encoded data removed]",
      "text/plain": [
       "<Figure size 198.425x141.732 with 1 Axes>"
      ]
     },
     "metadata": {},
     "output_type": "display_data"
    }
   ],
   "source": [
    "# Do the plotting\n",
    "ax = sns.scatterplot(x=\"Model test correlation\", y=\"Relative test RMSE\", data=df_best_results,\n",
    "                     hue=\"Corresponding experiment\", \n",
    "                     hue_order=hue_order_all_models,\n",
    "                     legend=\"brief\",\n",
    "                    s=15,\n",
    "                    palette=palette_all_models,\n",
    "                    linewidth=0.2,\n",
    "                    edgecolor=\"gray\",\n",
    "                    alpha=1.)\n",
    "\n",
    "ax.set_xlabel(\"Correlation\")\n",
    "ax.set_ylabel(\"RelRMSE\")\n",
    "\n",
    "legend = ax.legend(loc=\"upper left\", bbox_to_anchor=(1,1))\n",
    "legend.texts[0].set_text(\"Best method\")\n",
    "\n",
    "# Add a horizontal line at one\n",
    "ax.axhline(y=1., color=\"black\", linewidth=1.)\n",
    "plt.tight_layout()\n",
    "\n",
    "plt.savefig(fig_directory + \"fig2_relrmse_vs_corr_best_models.pdf\")\n",
    "plt.savefig(gimp_directory + \"fig2_stdAUC_vs_corr_best_models.pdf\")\n",
    "\n",
    "\n",
    "plt.show()"
   ]
  },
  {
   "cell_type": "markdown",
   "metadata": {},
   "source": [
    "## Figure 3\n",
    "Frequencies of models amon best, differences between model performance\n",
    "\n",
    "3 panels"
   ]
  },
  {
   "cell_type": "code",
   "execution_count": 37,
   "metadata": {},
   "outputs": [],
   "source": [
    "# Set the directory to save figures (panels) in\n",
    "fig_directory = \"./Figures for article working version/\"\n",
    "gimp_directory = \"/home/krzysztof/Dokumenty/Doktorat/Dokumenty/Moje artykuły/Modeling drug efficacy/Figures/Panels/\""
   ]
  },
  {
   "cell_type": "code",
   "execution_count": 38,
   "metadata": {},
   "outputs": [],
   "source": [
    "# Constants for figure\n",
    "mm_per_inch = 25.4\n",
    "fig_width_in_mm = 170\n",
    "fig_height_in_mm = 50"
   ]
  },
  {
   "cell_type": "markdown",
   "metadata": {},
   "source": [
    "#### Panel 1\n",
    "Histogram of all models in best results - intersection of models"
   ]
  },
  {
   "cell_type": "code",
   "execution_count": 39,
   "metadata": {},
   "outputs": [
    {
     "name": "stdout",
     "output_type": "stream",
     "text": [
      "(232, 9) (162, 9)\n"
     ]
    },
    {
     "data": {
      "text/html": [
       "<div>\n",
       "<style scoped>\n",
       "    .dataframe tbody tr th:only-of-type {\n",
       "        vertical-align: middle;\n",
       "    }\n",
       "\n",
       "    .dataframe tbody tr th {\n",
       "        vertical-align: top;\n",
       "    }\n",
       "\n",
       "    .dataframe thead th {\n",
       "        text-align: right;\n",
       "    }\n",
       "</style>\n",
       "<table border=\"1\" class=\"dataframe\">\n",
       "  <thead>\n",
       "    <tr style=\"text-align: right;\">\n",
       "      <th></th>\n",
       "      <th>Drug ID</th>\n",
       "      <th>Drug Name</th>\n",
       "      <th>Model test correlation</th>\n",
       "      <th>Correlation pval</th>\n",
       "      <th>Relative test RMSE</th>\n",
       "      <th>Model test RMSE</th>\n",
       "      <th>Dummy test RMSE</th>\n",
       "      <th>Corresponding experiment</th>\n",
       "      <th>Target Pathway</th>\n",
       "    </tr>\n",
       "  </thead>\n",
       "  <tbody>\n",
       "    <tr>\n",
       "      <th>0</th>\n",
       "      <td>1373</td>\n",
       "      <td>Dabrafenib</td>\n",
       "      <td>0.752645</td>\n",
       "      <td>1.075014e-40</td>\n",
       "      <td>1.514006</td>\n",
       "      <td>0.127750</td>\n",
       "      <td>0.193280</td>\n",
       "      <td>OT + S RF</td>\n",
       "      <td>ERK MAPK signaling</td>\n",
       "    </tr>\n",
       "    <tr>\n",
       "      <th>1</th>\n",
       "      <td>277</td>\n",
       "      <td>Linifanib</td>\n",
       "      <td>0.749668</td>\n",
       "      <td>4.346970e-19</td>\n",
       "      <td>1.483354</td>\n",
       "      <td>0.055801</td>\n",
       "      <td>0.080856</td>\n",
       "      <td>OT RF</td>\n",
       "      <td>RTK signaling</td>\n",
       "    </tr>\n",
       "    <tr>\n",
       "      <th>2</th>\n",
       "      <td>1372</td>\n",
       "      <td>Trametinib</td>\n",
       "      <td>0.708743</td>\n",
       "      <td>3.211507e-40</td>\n",
       "      <td>1.404737</td>\n",
       "      <td>0.202283</td>\n",
       "      <td>0.284112</td>\n",
       "      <td>GW EN</td>\n",
       "      <td>ERK MAPK signaling</td>\n",
       "    </tr>\n",
       "  </tbody>\n",
       "</table>\n",
       "</div>"
      ],
      "text/plain": [
       "   Drug ID   Drug Name  Model test correlation  Correlation pval  \\\n",
       "0     1373  Dabrafenib                0.752645      1.075014e-40   \n",
       "1      277   Linifanib                0.749668      4.346970e-19   \n",
       "2     1372  Trametinib                0.708743      3.211507e-40   \n",
       "\n",
       "   Relative test RMSE  Model test RMSE  Dummy test RMSE  \\\n",
       "0            1.514006         0.127750         0.193280   \n",
       "1            1.483354         0.055801         0.080856   \n",
       "2            1.404737         0.202283         0.284112   \n",
       "\n",
       "  Corresponding experiment      Target Pathway  \n",
       "0                OT + S RF  ERK MAPK signaling  \n",
       "1                    OT RF       RTK signaling  \n",
       "2                    GW EN  ERK MAPK signaling  "
      ]
     },
     "execution_count": 39,
     "metadata": {},
     "output_type": "execute_result"
    }
   ],
   "source": [
    "df_best_results_filtered_intersection = df_best_results_filtered[\n",
    "    df_best_results_filtered[\"Drug ID\"].isin(drug_intersection)\n",
    "]\n",
    "print(df_best_results_filtered.shape, df_best_results_filtered_intersection.shape)\n",
    "df_best_results_filtered_intersection.head(3)"
   ]
  },
  {
   "cell_type": "code",
   "execution_count": 40,
   "metadata": {},
   "outputs": [
    {
     "data": {
      "text/plain": [
       "GW EN        85\n",
       "PG + S EN    12\n",
       "GW RF        11\n",
       "OT + S EN    10\n",
       "GW SEL RF     9\n",
       "PG EN         8\n",
       "OT + S RF     7\n",
       "PG + S RF     6\n",
       "OT RF         5\n",
       "PG RF         4\n",
       "OT EN         3\n",
       "GW SEL EN     2\n",
       "Name: Corresponding experiment, dtype: int64"
      ]
     },
     "execution_count": 40,
     "metadata": {},
     "output_type": "execute_result"
    }
   ],
   "source": [
    "counts = df_best_results_filtered_intersection[\"Corresponding experiment\"].value_counts()\n",
    "counts"
   ]
  },
  {
   "cell_type": "code",
   "execution_count": 41,
   "metadata": {},
   "outputs": [
    {
     "name": "stdout",
     "output_type": "stream",
     "text": [
      "(12, 3)\n"
     ]
    },
    {
     "data": {
      "text/html": [
       "<div>\n",
       "<style scoped>\n",
       "    .dataframe tbody tr th:only-of-type {\n",
       "        vertical-align: middle;\n",
       "    }\n",
       "\n",
       "    .dataframe tbody tr th {\n",
       "        vertical-align: top;\n",
       "    }\n",
       "\n",
       "    .dataframe thead th {\n",
       "        text-align: right;\n",
       "    }\n",
       "</style>\n",
       "<table border=\"1\" class=\"dataframe\">\n",
       "  <thead>\n",
       "    <tr style=\"text-align: right;\">\n",
       "      <th></th>\n",
       "      <th>Model</th>\n",
       "      <th>Count</th>\n",
       "      <th>Frequency</th>\n",
       "    </tr>\n",
       "  </thead>\n",
       "  <tbody>\n",
       "    <tr>\n",
       "      <th>0</th>\n",
       "      <td>GW EN</td>\n",
       "      <td>85</td>\n",
       "      <td>0.524691</td>\n",
       "    </tr>\n",
       "    <tr>\n",
       "      <th>1</th>\n",
       "      <td>PG + S EN</td>\n",
       "      <td>12</td>\n",
       "      <td>0.074074</td>\n",
       "    </tr>\n",
       "    <tr>\n",
       "      <th>2</th>\n",
       "      <td>GW RF</td>\n",
       "      <td>11</td>\n",
       "      <td>0.067901</td>\n",
       "    </tr>\n",
       "    <tr>\n",
       "      <th>3</th>\n",
       "      <td>OT + S EN</td>\n",
       "      <td>10</td>\n",
       "      <td>0.061728</td>\n",
       "    </tr>\n",
       "    <tr>\n",
       "      <th>4</th>\n",
       "      <td>GW SEL RF</td>\n",
       "      <td>9</td>\n",
       "      <td>0.055556</td>\n",
       "    </tr>\n",
       "  </tbody>\n",
       "</table>\n",
       "</div>"
      ],
      "text/plain": [
       "       Model  Count  Frequency\n",
       "0      GW EN     85   0.524691\n",
       "1  PG + S EN     12   0.074074\n",
       "2      GW RF     11   0.067901\n",
       "3  OT + S EN     10   0.061728\n",
       "4  GW SEL RF      9   0.055556"
      ]
     },
     "execution_count": 41,
     "metadata": {},
     "output_type": "execute_result"
    }
   ],
   "source": [
    "counts = df_best_results_filtered_intersection[\"Corresponding experiment\"].value_counts()\n",
    "df_agg = pd.DataFrame({\"Model\": counts.index, \"Count\": counts.values})\n",
    "df_agg[\"Frequency\"] = df_agg[\"Count\"] / df_best_results_filtered_intersection.shape[0]\n",
    "print(df_agg.shape)\n",
    "df_agg.head()"
   ]
  },
  {
   "cell_type": "code",
   "execution_count": 42,
   "metadata": {},
   "outputs": [
    {
     "name": "stdout",
     "output_type": "stream",
     "text": [
      "Width: 70.0 2.7559055118110236\n",
      "Height: 50.0 1.968503937007874\n"
     ]
    }
   ],
   "source": [
    "# Set up constants\n",
    "\n",
    "# Size in milimeters\n",
    "panel_width_mm = 70.\n",
    "panel_height_mm = 50.\n",
    "\n",
    "# Size in inches\n",
    "panel_width_inch = panel_width_mm / mm_per_inch\n",
    "panel_height_inch = panel_height_mm / mm_per_inch\n",
    "\n",
    "print(\"Width:\", panel_width_mm, panel_width_inch)\n",
    "print(\"Height:\", panel_height_mm, panel_height_inch)\n",
    "\n",
    "# Update rcParams\n",
    "params = {\n",
    "        'figure.figsize'      : [panel_width_inch, panel_height_inch] ,\n",
    "        'font.size'           : 8      ,\n",
    "        #'font.sans-serif'     : 'Arial'    ,\n",
    "        'axes.titlesize'      : 11.       ,\n",
    "        'axes.labelsize'      : 9.       ,\n",
    "        'xtick.major.size'    : 2        ,\n",
    "        'xtick.major.width'   : 0.75     ,\n",
    "        'xtick.labelsize'     : 8.0      ,\n",
    "        'xtick.direction'     : 'out'      ,\n",
    "        'ytick.major.size'    : 2        ,\n",
    "        'ytick.major.width'   : 0.75     ,\n",
    "        'ytick.labelsize'     : 8.0      ,\n",
    "        'ytick.direction'     : 'out'      ,\n",
    "        'xtick.major.pad'     : 2        ,\n",
    "        'xtick.minor.pad'     : 2        ,\n",
    "        'ytick.major.pad'     : 2        ,\n",
    "        'ytick.minor.pad'     : 2        ,\n",
    "        'savefig.dpi'         : 300.      ,\n",
    "        'axes.linewidth'      : 0.75     ,\n",
    "        'text.usetex'         : False     ,\n",
    "        'text.latex.unicode'  : False     ,\n",
    "        'legend.fontsize': 6.,\n",
    "        'legend.handlelength': 2}"
   ]
  },
  {
   "cell_type": "code",
   "execution_count": 43,
   "metadata": {},
   "outputs": [
    {
     "name": "stdout",
     "output_type": "stream",
     "text": [
      "[2.7559055118110236, 1.968503937007874]\n",
      "8.0\n",
      "6.0\n"
     ]
    },
    {
     "name": "stderr",
     "output_type": "stream",
     "text": [
      "/home/krzysztof/.local/lib/python3.6/site-packages/matplotlib/__init__.py:846: MatplotlibDeprecationWarning: \n",
      "The text.latex.unicode rcparam was deprecated in Matplotlib 2.2 and will be removed in 3.1.\n",
      "  \"2.2\", name=key, obj_type=\"rcparam\", addendum=addendum)\n"
     ]
    }
   ],
   "source": [
    "plt.rcParams.update(params)\n",
    "print(plt.rcParams.get('figure.figsize'))\n",
    "print(plt.rcParams.get('font.size'))\n",
    "print(plt.rcParams.get('legend.fontsize'))"
   ]
  },
  {
   "cell_type": "code",
   "execution_count": 44,
   "metadata": {},
   "outputs": [
    {
     "name": "stdout",
     "output_type": "stream",
     "text": [
      "[0, 4, 1, 8, 3, 6, 9, 5, 11, 7, 10, 2]\n"
     ]
    }
   ],
   "source": [
    "# Establish order and color palette\n",
    "# Load hue order for all models and corresponding color palette\n",
    "with open(\"./Results and other files/hue_order_all_models.pkl\", \"rb\") as f:\n",
    "    hue_order_all_models = dill.load(f)\n",
    "with open(\"./Results and other files/palette_all_models.pkl\", \"rb\") as f:\n",
    "    palette_all_models = dill.load(f)\n",
    "\n",
    "color_indexes = []\n",
    "for mod in df_agg.Model:\n",
    "    color_indexes.append(hue_order_all_models.index(mod))\n",
    "print(color_indexes)\n",
    "colors = [palette_all_models[i] for i in color_indexes]\n",
    "order = df_agg.Model.unique()"
   ]
  },
  {
   "cell_type": "code",
   "execution_count": 47,
   "metadata": {},
   "outputs": [
    {
     "data": {
      "image/png": "[encoded data removed]",
      "text/plain": [
       "<Figure size 198.425x141.732 with 1 Axes>"
      ]
     },
     "metadata": {},
     "output_type": "display_data"
    }
   ],
   "source": [
    "# Do the plotting\n",
    "ax = sns.barplot(x=\"Model\", y=\"Frequency\", data=df_agg, order=order,\n",
    "                palette=colors, edgecolor=\"grey\")\n",
    "ax.set_ylabel(\"Frequency\")\n",
    "ax.set_xlabel(\"Feature set\")\n",
    "\n",
    "plt.xticks(rotation=90)\n",
    "\n",
    "plt.tight_layout()\n",
    "\n",
    "plt.savefig(fig_directory + \"fig3_model_frequencies_among_best.pdf\")\n",
    "plt.savefig(gimp_directory + \"fig3_model_frequencies_among_best.pdf\")\n",
    "\n",
    "plt.show()"
   ]
  },
  {
   "cell_type": "code",
   "execution_count": 48,
   "metadata": {},
   "outputs": [
    {
     "data": {
      "text/html": [
       "<div>\n",
       "<style scoped>\n",
       "    .dataframe tbody tr th:only-of-type {\n",
       "        vertical-align: middle;\n",
       "    }\n",
       "\n",
       "    .dataframe tbody tr th {\n",
       "        vertical-align: top;\n",
       "    }\n",
       "\n",
       "    .dataframe thead th {\n",
       "        text-align: right;\n",
       "    }\n",
       "</style>\n",
       "<table border=\"1\" class=\"dataframe\">\n",
       "  <thead>\n",
       "    <tr style=\"text-align: right;\">\n",
       "      <th></th>\n",
       "      <th>Model</th>\n",
       "      <th>Count</th>\n",
       "      <th>Frequency</th>\n",
       "    </tr>\n",
       "  </thead>\n",
       "  <tbody>\n",
       "    <tr>\n",
       "      <th>0</th>\n",
       "      <td>GW EN</td>\n",
       "      <td>85</td>\n",
       "      <td>0.524691</td>\n",
       "    </tr>\n",
       "    <tr>\n",
       "      <th>1</th>\n",
       "      <td>PG + S EN</td>\n",
       "      <td>12</td>\n",
       "      <td>0.074074</td>\n",
       "    </tr>\n",
       "    <tr>\n",
       "      <th>2</th>\n",
       "      <td>GW RF</td>\n",
       "      <td>11</td>\n",
       "      <td>0.067901</td>\n",
       "    </tr>\n",
       "    <tr>\n",
       "      <th>3</th>\n",
       "      <td>OT + S EN</td>\n",
       "      <td>10</td>\n",
       "      <td>0.061728</td>\n",
       "    </tr>\n",
       "    <tr>\n",
       "      <th>4</th>\n",
       "      <td>GW SEL RF</td>\n",
       "      <td>9</td>\n",
       "      <td>0.055556</td>\n",
       "    </tr>\n",
       "    <tr>\n",
       "      <th>5</th>\n",
       "      <td>PG EN</td>\n",
       "      <td>8</td>\n",
       "      <td>0.049383</td>\n",
       "    </tr>\n",
       "    <tr>\n",
       "      <th>6</th>\n",
       "      <td>OT + S RF</td>\n",
       "      <td>7</td>\n",
       "      <td>0.043210</td>\n",
       "    </tr>\n",
       "    <tr>\n",
       "      <th>7</th>\n",
       "      <td>PG + S RF</td>\n",
       "      <td>6</td>\n",
       "      <td>0.037037</td>\n",
       "    </tr>\n",
       "    <tr>\n",
       "      <th>8</th>\n",
       "      <td>OT RF</td>\n",
       "      <td>5</td>\n",
       "      <td>0.030864</td>\n",
       "    </tr>\n",
       "    <tr>\n",
       "      <th>9</th>\n",
       "      <td>PG RF</td>\n",
       "      <td>4</td>\n",
       "      <td>0.024691</td>\n",
       "    </tr>\n",
       "    <tr>\n",
       "      <th>10</th>\n",
       "      <td>OT EN</td>\n",
       "      <td>3</td>\n",
       "      <td>0.018519</td>\n",
       "    </tr>\n",
       "    <tr>\n",
       "      <th>11</th>\n",
       "      <td>GW SEL EN</td>\n",
       "      <td>2</td>\n",
       "      <td>0.012346</td>\n",
       "    </tr>\n",
       "  </tbody>\n",
       "</table>\n",
       "</div>"
      ],
      "text/plain": [
       "        Model  Count  Frequency\n",
       "0       GW EN     85   0.524691\n",
       "1   PG + S EN     12   0.074074\n",
       "2       GW RF     11   0.067901\n",
       "3   OT + S EN     10   0.061728\n",
       "4   GW SEL RF      9   0.055556\n",
       "5       PG EN      8   0.049383\n",
       "6   OT + S RF      7   0.043210\n",
       "7   PG + S RF      6   0.037037\n",
       "8       OT RF      5   0.030864\n",
       "9       PG RF      4   0.024691\n",
       "10      OT EN      3   0.018519\n",
       "11  GW SEL EN      2   0.012346"
      ]
     },
     "execution_count": 48,
     "metadata": {},
     "output_type": "execute_result"
    }
   ],
   "source": [
    "df_agg"
   ]
  },
  {
   "cell_type": "markdown",
   "metadata": {},
   "source": [
    "#### Panel 2\n",
    "Boxplot of differences between best and second best models"
   ]
  },
  {
   "cell_type": "code",
   "execution_count": 50,
   "metadata": {},
   "outputs": [
    {
     "name": "stdout",
     "output_type": "stream",
     "text": [
      "162\n"
     ]
    }
   ],
   "source": [
    "drug_intersection = df_best_results_filtered_intersection[\"Drug ID\"].unique()\n",
    "print(len(drug_intersection))"
   ]
  },
  {
   "cell_type": "code",
   "execution_count": 51,
   "metadata": {},
   "outputs": [
    {
     "name": "stdout",
     "output_type": "stream",
     "text": [
      "(2412, 9)\n",
      "(1944, 9)\n"
     ]
    },
    {
     "data": {
      "text/html": [
       "<div>\n",
       "<style scoped>\n",
       "    .dataframe tbody tr th:only-of-type {\n",
       "        vertical-align: middle;\n",
       "    }\n",
       "\n",
       "    .dataframe tbody tr th {\n",
       "        vertical-align: top;\n",
       "    }\n",
       "\n",
       "    .dataframe thead th {\n",
       "        text-align: right;\n",
       "    }\n",
       "</style>\n",
       "<table border=\"1\" class=\"dataframe\">\n",
       "  <thead>\n",
       "    <tr style=\"text-align: right;\">\n",
       "      <th></th>\n",
       "      <th>Drug ID</th>\n",
       "      <th>Drug Name</th>\n",
       "      <th>Model test RMSE</th>\n",
       "      <th>Model test correlation</th>\n",
       "      <th>Correlation pval</th>\n",
       "      <th>Dummy test RMSE</th>\n",
       "      <th>Relative test RMSE</th>\n",
       "      <th>Target Pathway</th>\n",
       "      <th>Model</th>\n",
       "    </tr>\n",
       "  </thead>\n",
       "  <tbody>\n",
       "    <tr>\n",
       "      <th>0</th>\n",
       "      <td>1</td>\n",
       "      <td>Erlotinib</td>\n",
       "      <td>0.086347</td>\n",
       "      <td>0.388664</td>\n",
       "      <td>0.001450</td>\n",
       "      <td>0.092400</td>\n",
       "      <td>1.075011</td>\n",
       "      <td>EGFR signaling</td>\n",
       "      <td>Restricted</td>\n",
       "    </tr>\n",
       "    <tr>\n",
       "      <th>1</th>\n",
       "      <td>1</td>\n",
       "      <td>Erlotinib</td>\n",
       "      <td>0.086797</td>\n",
       "      <td>0.356010</td>\n",
       "      <td>0.000767</td>\n",
       "      <td>0.092400</td>\n",
       "      <td>1.062901</td>\n",
       "      <td>EGFR signaling</td>\n",
       "      <td>Restricted</td>\n",
       "    </tr>\n",
       "    <tr>\n",
       "      <th>2</th>\n",
       "      <td>1</td>\n",
       "      <td>Erlotinib</td>\n",
       "      <td>0.086307</td>\n",
       "      <td>0.375711</td>\n",
       "      <td>0.000364</td>\n",
       "      <td>0.092400</td>\n",
       "      <td>1.071611</td>\n",
       "      <td>EGFR signaling</td>\n",
       "      <td>Restricted</td>\n",
       "    </tr>\n",
       "    <tr>\n",
       "      <th>3</th>\n",
       "      <td>1</td>\n",
       "      <td>Erlotinib</td>\n",
       "      <td>0.087412</td>\n",
       "      <td>0.334809</td>\n",
       "      <td>0.003335</td>\n",
       "      <td>0.092400</td>\n",
       "      <td>1.059982</td>\n",
       "      <td>EGFR signaling</td>\n",
       "      <td>Restricted</td>\n",
       "    </tr>\n",
       "    <tr>\n",
       "      <th>4</th>\n",
       "      <td>1</td>\n",
       "      <td>Erlotinib</td>\n",
       "      <td>0.085563</td>\n",
       "      <td>0.391625</td>\n",
       "      <td>0.000803</td>\n",
       "      <td>0.092400</td>\n",
       "      <td>1.081329</td>\n",
       "      <td>EGFR signaling</td>\n",
       "      <td>Restricted</td>\n",
       "    </tr>\n",
       "    <tr>\n",
       "      <th>5</th>\n",
       "      <td>1</td>\n",
       "      <td>Erlotinib</td>\n",
       "      <td>0.097494</td>\n",
       "      <td>0.277307</td>\n",
       "      <td>0.027687</td>\n",
       "      <td>0.073378</td>\n",
       "      <td>0.765566</td>\n",
       "      <td>EGFR signaling</td>\n",
       "      <td>Genome-wide</td>\n",
       "    </tr>\n",
       "  </tbody>\n",
       "</table>\n",
       "</div>"
      ],
      "text/plain": [
       "   Drug ID  Drug Name  Model test RMSE  Model test correlation  \\\n",
       "0        1  Erlotinib         0.086347                0.388664   \n",
       "1        1  Erlotinib         0.086797                0.356010   \n",
       "2        1  Erlotinib         0.086307                0.375711   \n",
       "3        1  Erlotinib         0.087412                0.334809   \n",
       "4        1  Erlotinib         0.085563                0.391625   \n",
       "5        1  Erlotinib         0.097494                0.277307   \n",
       "\n",
       "   Correlation pval  Dummy test RMSE  Relative test RMSE  Target Pathway  \\\n",
       "0          0.001450         0.092400            1.075011  EGFR signaling   \n",
       "1          0.000767         0.092400            1.062901  EGFR signaling   \n",
       "2          0.000364         0.092400            1.071611  EGFR signaling   \n",
       "3          0.003335         0.092400            1.059982  EGFR signaling   \n",
       "4          0.000803         0.092400            1.081329  EGFR signaling   \n",
       "5          0.027687         0.073378            0.765566  EGFR signaling   \n",
       "\n",
       "         Model  \n",
       "0   Restricted  \n",
       "1   Restricted  \n",
       "2   Restricted  \n",
       "3   Restricted  \n",
       "4   Restricted  \n",
       "5  Genome-wide  "
      ]
     },
     "execution_count": 51,
     "metadata": {},
     "output_type": "execute_result"
    }
   ],
   "source": [
    "data = pd.read_csv(\"Results and other files/df_agg_all_drugs_restricted_vs_genome_wide.csv\")\n",
    "print(data.shape)\n",
    "data = data[data[\"Drug ID\"].isin(drug_intersection)]\n",
    "print(data.shape)\n",
    "data.head(6)"
   ]
  },
  {
   "cell_type": "code",
   "execution_count": 52,
   "metadata": {},
   "outputs": [
    {
     "name": "stdout",
     "output_type": "stream",
     "text": [
      "107 55\n",
      "(162, 2)\n"
     ]
    },
    {
     "data": {
      "text/html": [
       "<div>\n",
       "<style scoped>\n",
       "    .dataframe tbody tr th:only-of-type {\n",
       "        vertical-align: middle;\n",
       "    }\n",
       "\n",
       "    .dataframe tbody tr th {\n",
       "        vertical-align: top;\n",
       "    }\n",
       "\n",
       "    .dataframe thead th {\n",
       "        text-align: right;\n",
       "    }\n",
       "</style>\n",
       "<table border=\"1\" class=\"dataframe\">\n",
       "  <thead>\n",
       "    <tr style=\"text-align: right;\">\n",
       "      <th></th>\n",
       "      <th>Performance difference</th>\n",
       "      <th>Better model</th>\n",
       "    </tr>\n",
       "  </thead>\n",
       "  <tbody>\n",
       "    <tr>\n",
       "      <th>0</th>\n",
       "      <td>0.016300</td>\n",
       "      <td>GW</td>\n",
       "    </tr>\n",
       "    <tr>\n",
       "      <th>1</th>\n",
       "      <td>0.012402</td>\n",
       "      <td>GW</td>\n",
       "    </tr>\n",
       "    <tr>\n",
       "      <th>2</th>\n",
       "      <td>0.026216</td>\n",
       "      <td>GW</td>\n",
       "    </tr>\n",
       "    <tr>\n",
       "      <th>3</th>\n",
       "      <td>0.030440</td>\n",
       "      <td>GW</td>\n",
       "    </tr>\n",
       "    <tr>\n",
       "      <th>4</th>\n",
       "      <td>0.052152</td>\n",
       "      <td>GW</td>\n",
       "    </tr>\n",
       "  </tbody>\n",
       "</table>\n",
       "</div>"
      ],
      "text/plain": [
       "   Performance difference Better model\n",
       "0                0.016300           GW\n",
       "1                0.012402           GW\n",
       "2                0.026216           GW\n",
       "3                0.030440           GW\n",
       "4                0.052152           GW"
      ]
     },
     "execution_count": 52,
     "metadata": {},
     "output_type": "execute_result"
    }
   ],
   "source": [
    "# Get the differences\n",
    "gw_best_diffs = []\n",
    "restricted_best_diffs = []\n",
    "s = 0\n",
    "\n",
    "for drug_id in data[\"Drug ID\"].unique():\n",
    "    drug_df = data[data[\"Drug ID\"] == drug_id]\n",
    "    best_restricted = drug_df[drug_df.Model == \"Restricted\"].sort_values(\n",
    "        \"Model test correlation\", ascending=False).iloc[0][\"Model test correlation\"]\n",
    "    best_gw = drug_df[drug_df.Model == \"Genome-wide\"].sort_values(\n",
    "        \"Model test correlation\", ascending=False).iloc[0][\"Model test correlation\"]\n",
    "    \n",
    "    if best_gw > best_restricted:\n",
    "        gw_best_diffs.append(best_gw - best_restricted)\n",
    "    else:\n",
    "        restricted_best_diffs.append(best_restricted - best_gw)\n",
    "\n",
    "print(len(gw_best_diffs), len(restricted_best_diffs))\n",
    "df = pd.DataFrame()\n",
    "mods = len(gw_best_diffs) * [\"GW\"] + len(restricted_best_diffs) * [\"Restricted\"]\n",
    "df[\"Performance difference\"] = gw_best_diffs + restricted_best_diffs\n",
    "df[\"Better model\"] = mods\n",
    "print(df.shape)\n",
    "df.head()"
   ]
  },
  {
   "cell_type": "code",
   "execution_count": 53,
   "metadata": {},
   "outputs": [
    {
     "data": {
      "text/plain": [
       "162"
      ]
     },
     "execution_count": 53,
     "metadata": {},
     "output_type": "execute_result"
    }
   ],
   "source": [
    "len(drug_intersection)"
   ]
  },
  {
   "cell_type": "code",
   "execution_count": 54,
   "metadata": {},
   "outputs": [
    {
     "name": "stdout",
     "output_type": "stream",
     "text": [
      "Width: 60.0 2.362204724409449\n",
      "Height: 50.0 1.968503937007874\n"
     ]
    }
   ],
   "source": [
    "# Set up constants\n",
    "\n",
    "# Size in milimeters\n",
    "panel_width_mm = 60.\n",
    "panel_height_mm = 50.\n",
    "\n",
    "# Size in inches\n",
    "panel_width_inch = panel_width_mm / mm_per_inch\n",
    "panel_height_inch = panel_height_mm / mm_per_inch\n",
    "\n",
    "print(\"Width:\", panel_width_mm, panel_width_inch)\n",
    "print(\"Height:\", panel_height_mm, panel_height_inch)\n",
    "\n",
    "# Update rcParams\n",
    "params = {\n",
    "        'figure.figsize'      : [panel_width_inch, panel_height_inch] ,\n",
    "        'font.size'           : 8      ,\n",
    "        #'font.sans-serif'     : 'Arial'    ,\n",
    "        'axes.titlesize'      : 10.       ,\n",
    "        'axes.labelsize'      : 9.       ,\n",
    "        'xtick.major.size'    : 2        ,\n",
    "        'xtick.major.width'   : 0.75     ,\n",
    "        'xtick.labelsize'     : 8.0      ,\n",
    "        'xtick.direction'     : 'out'      ,\n",
    "        'ytick.major.size'    : 2        ,\n",
    "        'ytick.major.width'   : 0.75     ,\n",
    "        'ytick.labelsize'     : 8.0      ,\n",
    "        'ytick.direction'     : 'out'      ,\n",
    "        'xtick.major.pad'     : 2        ,\n",
    "        'xtick.minor.pad'     : 2        ,\n",
    "        'ytick.major.pad'     : 2        ,\n",
    "        'ytick.minor.pad'     : 2        ,\n",
    "        'savefig.dpi'         : 300.      ,\n",
    "        'axes.linewidth'      : 0.75     ,\n",
    "        'text.usetex'         : False     ,\n",
    "        'text.latex.unicode'  : False     ,\n",
    "        'legend.fontsize': 6.,\n",
    "        'legend.handlelength': 2}"
   ]
  },
  {
   "cell_type": "code",
   "execution_count": 55,
   "metadata": {},
   "outputs": [
    {
     "name": "stdout",
     "output_type": "stream",
     "text": [
      "[2.362204724409449, 1.968503937007874]\n",
      "8.0\n",
      "6.0\n"
     ]
    },
    {
     "name": "stderr",
     "output_type": "stream",
     "text": [
      "/home/krzysztof/.local/lib/python3.6/site-packages/matplotlib/__init__.py:846: MatplotlibDeprecationWarning: \n",
      "The text.latex.unicode rcparam was deprecated in Matplotlib 2.2 and will be removed in 3.1.\n",
      "  \"2.2\", name=key, obj_type=\"rcparam\", addendum=addendum)\n"
     ]
    }
   ],
   "source": [
    "plt.rcParams.update(params)\n",
    "print(plt.rcParams.get('figure.figsize'))\n",
    "print(plt.rcParams.get('font.size'))\n",
    "print(plt.rcParams.get('legend.fontsize'))"
   ]
  },
  {
   "cell_type": "code",
   "execution_count": 56,
   "metadata": {},
   "outputs": [
    {
     "data": {
      "image/png": "[encoded data removed]",
      "text/plain": [
       "<Figure size 170.079x141.732 with 1 Axes>"
      ]
     },
     "metadata": {},
     "output_type": "display_data"
    }
   ],
   "source": [
    "# Do the plotting\n",
    "ax = sns.boxplot(y=\"Better model\", x=\"Performance difference\", data=df,\n",
    "                orient=\"horizontal\")\n",
    "\n",
    "ax.set_xlabel(\"Corr. difference\")\n",
    "ax.set_ylabel(\"Better features set\")\n",
    "\n",
    "#plt.xticks(rotation=90)\n",
    "\n",
    "plt.tight_layout()\n",
    "\n",
    "plt.savefig(fig_directory + \"fig3_differences_boxplot.pdf\")\n",
    "plt.savefig(gimp_directory + \"fig3_differences_boxplot.pdf\")\n",
    "\n",
    "plt.show()"
   ]
  },
  {
   "cell_type": "code",
   "execution_count": 57,
   "metadata": {},
   "outputs": [
    {
     "data": {
      "text/plain": [
       "0.0275937759676268"
      ]
     },
     "execution_count": 57,
     "metadata": {},
     "output_type": "execute_result"
    }
   ],
   "source": [
    "df[df[\"Better model\"] == \"Restricted\"][\"Performance difference\"].median()"
   ]
  },
  {
   "cell_type": "code",
   "execution_count": null,
   "metadata": {},
   "outputs": [],
   "source": []
  },
  {
   "cell_type": "markdown",
   "metadata": {},
   "source": [
    "#### Panel 3\n",
    "Best models but only between GW and GW with selection - rest of the intersection"
   ]
  },
  {
   "cell_type": "code",
   "execution_count": 49,
   "metadata": {},
   "outputs": [
    {
     "name": "stdout",
     "output_type": "stream",
     "text": [
      "(232, 9) (70, 9)\n"
     ]
    },
    {
     "data": {
      "text/html": [
       "<div>\n",
       "<style scoped>\n",
       "    .dataframe tbody tr th:only-of-type {\n",
       "        vertical-align: middle;\n",
       "    }\n",
       "\n",
       "    .dataframe tbody tr th {\n",
       "        vertical-align: top;\n",
       "    }\n",
       "\n",
       "    .dataframe thead th {\n",
       "        text-align: right;\n",
       "    }\n",
       "</style>\n",
       "<table border=\"1\" class=\"dataframe\">\n",
       "  <thead>\n",
       "    <tr style=\"text-align: right;\">\n",
       "      <th></th>\n",
       "      <th>Drug ID</th>\n",
       "      <th>Drug Name</th>\n",
       "      <th>Model test correlation</th>\n",
       "      <th>Correlation pval</th>\n",
       "      <th>Relative test RMSE</th>\n",
       "      <th>Model test RMSE</th>\n",
       "      <th>Dummy test RMSE</th>\n",
       "      <th>Corresponding experiment</th>\n",
       "      <th>Target Pathway</th>\n",
       "    </tr>\n",
       "  </thead>\n",
       "  <tbody>\n",
       "    <tr>\n",
       "      <th>5</th>\n",
       "      <td>1014</td>\n",
       "      <td>Refametinib</td>\n",
       "      <td>0.681474</td>\n",
       "      <td>1.429625e-32</td>\n",
       "      <td>1.363201</td>\n",
       "      <td>0.132921</td>\n",
       "      <td>0.181089</td>\n",
       "      <td>GW EN</td>\n",
       "      <td>ERK MAPK signaling</td>\n",
       "    </tr>\n",
       "    <tr>\n",
       "      <th>9</th>\n",
       "      <td>1242</td>\n",
       "      <td>(5Z)-7-Oxozeaenol</td>\n",
       "      <td>0.648544</td>\n",
       "      <td>4.310664e-30</td>\n",
       "      <td>1.299131</td>\n",
       "      <td>0.139781</td>\n",
       "      <td>0.181556</td>\n",
       "      <td>GW EN</td>\n",
       "      <td>Other, kinases</td>\n",
       "    </tr>\n",
       "    <tr>\n",
       "      <th>14</th>\n",
       "      <td>222</td>\n",
       "      <td>BX-912</td>\n",
       "      <td>0.635946</td>\n",
       "      <td>1.221257e-28</td>\n",
       "      <td>1.292786</td>\n",
       "      <td>0.129828</td>\n",
       "      <td>0.167987</td>\n",
       "      <td>GW EN</td>\n",
       "      <td>PI3K/MTOR signaling</td>\n",
       "    </tr>\n",
       "  </tbody>\n",
       "</table>\n",
       "</div>"
      ],
      "text/plain": [
       "    Drug ID          Drug Name  Model test correlation  Correlation pval  \\\n",
       "5      1014        Refametinib                0.681474      1.429625e-32   \n",
       "9      1242  (5Z)-7-Oxozeaenol                0.648544      4.310664e-30   \n",
       "14      222             BX-912                0.635946      1.221257e-28   \n",
       "\n",
       "    Relative test RMSE  Model test RMSE  Dummy test RMSE  \\\n",
       "5             1.363201         0.132921         0.181089   \n",
       "9             1.299131         0.139781         0.181556   \n",
       "14            1.292786         0.129828         0.167987   \n",
       "\n",
       "   Corresponding experiment       Target Pathway  \n",
       "5                     GW EN   ERK MAPK signaling  \n",
       "9                     GW EN       Other, kinases  \n",
       "14                    GW EN  PI3K/MTOR signaling  "
      ]
     },
     "execution_count": 49,
     "metadata": {},
     "output_type": "execute_result"
    }
   ],
   "source": [
    "# Create a DataFrame containing model counts from outside of drug intersection\n",
    "df_best_results_rest = df_best_results_filtered[\n",
    "    ~df_best_results_filtered[\"Drug ID\"].isin(drug_intersection)\n",
    "]\n",
    "print(df_best_results_filtered.shape, df_best_results_rest.shape)\n",
    "df_best_results_rest.head(3)"
   ]
  },
  {
   "cell_type": "code",
   "execution_count": 50,
   "metadata": {},
   "outputs": [
    {
     "name": "stdout",
     "output_type": "stream",
     "text": [
      "(4, 3)\n"
     ]
    },
    {
     "data": {
      "text/html": [
       "<div>\n",
       "<style scoped>\n",
       "    .dataframe tbody tr th:only-of-type {\n",
       "        vertical-align: middle;\n",
       "    }\n",
       "\n",
       "    .dataframe tbody tr th {\n",
       "        vertical-align: top;\n",
       "    }\n",
       "\n",
       "    .dataframe thead th {\n",
       "        text-align: right;\n",
       "    }\n",
       "</style>\n",
       "<table border=\"1\" class=\"dataframe\">\n",
       "  <thead>\n",
       "    <tr style=\"text-align: right;\">\n",
       "      <th></th>\n",
       "      <th>Model</th>\n",
       "      <th>Count</th>\n",
       "      <th>Frequency</th>\n",
       "    </tr>\n",
       "  </thead>\n",
       "  <tbody>\n",
       "    <tr>\n",
       "      <th>0</th>\n",
       "      <td>GW EN</td>\n",
       "      <td>48</td>\n",
       "      <td>0.685714</td>\n",
       "    </tr>\n",
       "    <tr>\n",
       "      <th>1</th>\n",
       "      <td>GW RF</td>\n",
       "      <td>18</td>\n",
       "      <td>0.257143</td>\n",
       "    </tr>\n",
       "    <tr>\n",
       "      <th>2</th>\n",
       "      <td>GW SEL RF</td>\n",
       "      <td>3</td>\n",
       "      <td>0.042857</td>\n",
       "    </tr>\n",
       "    <tr>\n",
       "      <th>3</th>\n",
       "      <td>GW SEL EN</td>\n",
       "      <td>1</td>\n",
       "      <td>0.014286</td>\n",
       "    </tr>\n",
       "  </tbody>\n",
       "</table>\n",
       "</div>"
      ],
      "text/plain": [
       "       Model  Count  Frequency\n",
       "0      GW EN     48   0.685714\n",
       "1      GW RF     18   0.257143\n",
       "2  GW SEL RF      3   0.042857\n",
       "3  GW SEL EN      1   0.014286"
      ]
     },
     "execution_count": 50,
     "metadata": {},
     "output_type": "execute_result"
    }
   ],
   "source": [
    "counts = df_best_results_rest[\"Corresponding experiment\"].value_counts()\n",
    "df_agg = pd.DataFrame({\"Model\": counts.index, \"Count\": counts.values})\n",
    "df_agg[\"Frequency\"] = df_agg[\"Count\"] / df_best_results_rest.shape[0]\n",
    "print(df_agg.shape)\n",
    "df_agg"
   ]
  },
  {
   "cell_type": "code",
   "execution_count": 51,
   "metadata": {},
   "outputs": [
    {
     "name": "stdout",
     "output_type": "stream",
     "text": [
      "Width: 40.0 1.5748031496062993\n",
      "Height: 50.0 1.968503937007874\n"
     ]
    }
   ],
   "source": [
    "# Set up constants\n",
    "\n",
    "# Size in milimeters\n",
    "panel_width_mm = 40.\n",
    "panel_height_mm = 50.\n",
    "\n",
    "# Size in inches\n",
    "panel_width_inch = panel_width_mm / mm_per_inch\n",
    "panel_height_inch = panel_height_mm / mm_per_inch\n",
    "\n",
    "print(\"Width:\", panel_width_mm, panel_width_inch)\n",
    "print(\"Height:\", panel_height_mm, panel_height_inch)\n",
    "\n",
    "# Update rcParams\n",
    "params = {\n",
    "        'figure.figsize'      : [panel_width_inch, panel_height_inch] ,\n",
    "        'font.size'           : 8      ,\n",
    "        #'font.sans-serif'     : 'Arial'    ,\n",
    "        'axes.titlesize'      : 9.       ,\n",
    "        'axes.labelsize'      : 9.       ,\n",
    "        'xtick.major.size'    : 2        ,\n",
    "        'xtick.major.width'   : 0.75     ,\n",
    "        'xtick.labelsize'     : 8.0      ,\n",
    "        'xtick.direction'     : 'out'      ,\n",
    "        'ytick.major.size'    : 2        ,\n",
    "        'ytick.major.width'   : 0.75     ,\n",
    "        'ytick.labelsize'     : 8.0      ,\n",
    "        'ytick.direction'     : 'out'      ,\n",
    "        'xtick.major.pad'     : 2        ,\n",
    "        'xtick.minor.pad'     : 2        ,\n",
    "        'ytick.major.pad'     : 2        ,\n",
    "        'ytick.minor.pad'     : 2        ,\n",
    "        'savefig.dpi'         : 300.      ,\n",
    "        'axes.linewidth'      : 0.75     ,\n",
    "        'text.usetex'         : False     ,\n",
    "        'text.latex.unicode'  : False     ,\n",
    "        'legend.fontsize': 6.,\n",
    "        'legend.handlelength': 2}"
   ]
  },
  {
   "cell_type": "code",
   "execution_count": 52,
   "metadata": {},
   "outputs": [
    {
     "name": "stdout",
     "output_type": "stream",
     "text": [
      "[1.5748031496062993, 1.968503937007874]\n",
      "8.0\n",
      "6.0\n"
     ]
    },
    {
     "name": "stderr",
     "output_type": "stream",
     "text": [
      "/home/krzysztof/.local/lib/python3.6/site-packages/matplotlib/__init__.py:846: MatplotlibDeprecationWarning: \n",
      "The text.latex.unicode rcparam was deprecated in Matplotlib 2.2 and will be removed in 3.1.\n",
      "  \"2.2\", name=key, obj_type=\"rcparam\", addendum=addendum)\n"
     ]
    }
   ],
   "source": [
    "plt.rcParams.update(params)\n",
    "print(plt.rcParams.get('figure.figsize'))\n",
    "print(plt.rcParams.get('font.size'))\n",
    "print(plt.rcParams.get('legend.fontsize'))"
   ]
  },
  {
   "cell_type": "code",
   "execution_count": 53,
   "metadata": {},
   "outputs": [
    {
     "name": "stdout",
     "output_type": "stream",
     "text": [
      "[0, 1, 3, 2]\n"
     ]
    }
   ],
   "source": [
    "# Establish order and color palette\n",
    "# Load hue order for all models and corresponding color palette\n",
    "with open(\"./Results and other files/hue_order_all_models.pkl\", \"rb\") as f:\n",
    "    hue_order_all_models = dill.load(f)\n",
    "with open(\"./Results and other files/palette_all_models.pkl\", \"rb\") as f:\n",
    "    palette_all_models = dill.load(f)\n",
    "    \n",
    "color_indexes = []\n",
    "for mod in df_agg.Model:\n",
    "    color_indexes.append(hue_order_all_models.index(mod))\n",
    "print(color_indexes)\n",
    "colors = [palette_all_models[i] for i in color_indexes]\n",
    "order = df_agg.Model.unique()"
   ]
  },
  {
   "cell_type": "code",
   "execution_count": 54,
   "metadata": {},
   "outputs": [
    {
     "name": "stdout",
     "output_type": "stream",
     "text": [
      "(232, 9)\n",
      "232\n"
     ]
    }
   ],
   "source": [
    "print(df_best_results_filtered.shape)\n",
    "print(df_best_results_filtered[\"Drug ID\"].nunique())"
   ]
  },
  {
   "cell_type": "code",
   "execution_count": 55,
   "metadata": {},
   "outputs": [
    {
     "data": {
      "text/plain": [
       "(15, 9)"
      ]
     },
     "execution_count": 55,
     "metadata": {},
     "output_type": "execute_result"
    }
   ],
   "source": [
    "mods = [\"GW SEL EN\", \"GW SEL RF\"]\n",
    "df_best_results_filtered[\n",
    "    df_best_results_filtered[\"Corresponding experiment\"].isin(mods)\n",
    "].shape"
   ]
  },
  {
   "cell_type": "code",
   "execution_count": 58,
   "metadata": {},
   "outputs": [
    {
     "data": {
      "image/png": "[encoded data removed]",
      "text/plain": [
       "<Figure size 113.386x141.732 with 1 Axes>"
      ]
     },
     "metadata": {},
     "output_type": "display_data"
    }
   ],
   "source": [
    "# Do the plotting\n",
    "ax = sns.barplot(x=\"Model\", y=\"Frequency\", data=df_agg, order=order,\n",
    "                edgecolor=\"grey\", palette=colors)\n",
    "ax.set_ylabel(\"Frequency\")\n",
    "ax.set_xlabel(\"Feature set\")\n",
    "\n",
    "plt.xticks(rotation=90)\n",
    "\n",
    "plt.tight_layout()\n",
    "\n",
    "plt.savefig(fig_directory + \"fig3_model_frequencies_not_intersection.pdf\")\n",
    "plt.savefig(gimp_directory + \"fig3_model_frequencies_not_intersection.pdf\")\n",
    "\n",
    "plt.show()"
   ]
  },
  {
   "cell_type": "markdown",
   "metadata": {},
   "source": [
    "## Figure 4\n",
    "Boxplots of correlation grouped by pathways - restricted vs genome-wide models - filtered from bad drugs\n",
    "- Half page width: 85 mm\n",
    "- Full page width: 170 mm\n",
    "- 170 mm corresponds to 6.6929133858 inches\n",
    "- One inch: 25.4 mm\n",
    "\n",
    "3 panels"
   ]
  },
  {
   "cell_type": "code",
   "execution_count": 66,
   "metadata": {},
   "outputs": [],
   "source": [
    "# Set the directory to save figures (panels) in\n",
    "fig_directory = \"./Figures for article working version/\"\n",
    "gimp_directory = \"/home/krzysztof/Dokumenty/Doktorat/Dokumenty/Moje artykuły/Modeling drug efficacy/Figures/Panels/\""
   ]
  },
  {
   "cell_type": "code",
   "execution_count": 67,
   "metadata": {},
   "outputs": [],
   "source": [
    "# Constants for figure\n",
    "mm_per_inch = 25.4\n",
    "fig_width_in_mm = 170\n",
    "fig_height_in_mm = 150"
   ]
  },
  {
   "cell_type": "markdown",
   "metadata": {},
   "source": [
    "#### Panel 1\n",
    "Results GW vs. rest grouped by pathways"
   ]
  },
  {
   "cell_type": "code",
   "execution_count": 68,
   "metadata": {},
   "outputs": [
    {
     "name": "stdout",
     "output_type": "stream",
     "text": [
      "(324, 9)\n"
     ]
    },
    {
     "data": {
      "text/html": [
       "<div>\n",
       "<style scoped>\n",
       "    .dataframe tbody tr th:only-of-type {\n",
       "        vertical-align: middle;\n",
       "    }\n",
       "\n",
       "    .dataframe tbody tr th {\n",
       "        vertical-align: top;\n",
       "    }\n",
       "\n",
       "    .dataframe thead th {\n",
       "        text-align: right;\n",
       "    }\n",
       "</style>\n",
       "<table border=\"1\" class=\"dataframe\">\n",
       "  <thead>\n",
       "    <tr style=\"text-align: right;\">\n",
       "      <th></th>\n",
       "      <th>Drug ID</th>\n",
       "      <th>Drug Name</th>\n",
       "      <th>Model test RMSE</th>\n",
       "      <th>Model test correlation</th>\n",
       "      <th>Correlation pval</th>\n",
       "      <th>Dummy test RMSE</th>\n",
       "      <th>Relative test RMSE</th>\n",
       "      <th>Target Pathway</th>\n",
       "      <th>Model</th>\n",
       "    </tr>\n",
       "  </thead>\n",
       "  <tbody>\n",
       "    <tr>\n",
       "      <th>0</th>\n",
       "      <td>1</td>\n",
       "      <td>Erlotinib</td>\n",
       "      <td>0.085320</td>\n",
       "      <td>0.410257</td>\n",
       "      <td>0.000308</td>\n",
       "      <td>0.092400</td>\n",
       "      <td>1.086402</td>\n",
       "      <td>EGFR signaling</td>\n",
       "      <td>Restricted</td>\n",
       "    </tr>\n",
       "    <tr>\n",
       "      <th>1</th>\n",
       "      <td>1</td>\n",
       "      <td>Erlotinib</td>\n",
       "      <td>0.071460</td>\n",
       "      <td>0.374202</td>\n",
       "      <td>0.004133</td>\n",
       "      <td>0.073378</td>\n",
       "      <td>1.017662</td>\n",
       "      <td>EGFR signaling</td>\n",
       "      <td>Genome-wide</td>\n",
       "    </tr>\n",
       "    <tr>\n",
       "      <th>2</th>\n",
       "      <td>3</td>\n",
       "      <td>Rapamycin</td>\n",
       "      <td>0.223836</td>\n",
       "      <td>0.253258</td>\n",
       "      <td>0.042695</td>\n",
       "      <td>0.229805</td>\n",
       "      <td>1.027091</td>\n",
       "      <td>PI3K/MTOR signaling</td>\n",
       "      <td>Restricted</td>\n",
       "    </tr>\n",
       "  </tbody>\n",
       "</table>\n",
       "</div>"
      ],
      "text/plain": [
       "   Drug ID  Drug Name  Model test RMSE  Model test correlation  \\\n",
       "0        1  Erlotinib         0.085320                0.410257   \n",
       "1        1  Erlotinib         0.071460                0.374202   \n",
       "2        3  Rapamycin         0.223836                0.253258   \n",
       "\n",
       "   Correlation pval  Dummy test RMSE  Relative test RMSE       Target Pathway  \\\n",
       "0          0.000308         0.092400            1.086402       EGFR signaling   \n",
       "1          0.004133         0.073378            1.017662       EGFR signaling   \n",
       "2          0.042695         0.229805            1.027091  PI3K/MTOR signaling   \n",
       "\n",
       "         Model  \n",
       "0   Restricted  \n",
       "1  Genome-wide  \n",
       "2   Restricted  "
      ]
     },
     "execution_count": 68,
     "metadata": {},
     "output_type": "execute_result"
    }
   ],
   "source": [
    "print(df_best_results_from_two_groups_filtered.shape)\n",
    "df_best_results_from_two_groups_filtered.head(3)"
   ]
  },
  {
   "cell_type": "code",
   "execution_count": 69,
   "metadata": {},
   "outputs": [
    {
     "data": {
      "text/html": [
       "<div>\n",
       "<style scoped>\n",
       "    .dataframe tbody tr th:only-of-type {\n",
       "        vertical-align: middle;\n",
       "    }\n",
       "\n",
       "    .dataframe tbody tr th {\n",
       "        vertical-align: top;\n",
       "    }\n",
       "\n",
       "    .dataframe thead th {\n",
       "        text-align: right;\n",
       "    }\n",
       "</style>\n",
       "<table border=\"1\" class=\"dataframe\">\n",
       "  <thead>\n",
       "    <tr style=\"text-align: right;\">\n",
       "      <th></th>\n",
       "      <th>Drug ID</th>\n",
       "      <th>Drug Name</th>\n",
       "      <th>Model test RMSE</th>\n",
       "      <th>Model test correlation</th>\n",
       "      <th>Correlation pval</th>\n",
       "      <th>Dummy test RMSE</th>\n",
       "      <th>Relative test RMSE</th>\n",
       "      <th>Target Pathway</th>\n",
       "      <th>Model</th>\n",
       "    </tr>\n",
       "  </thead>\n",
       "  <tbody>\n",
       "    <tr>\n",
       "      <th>82</th>\n",
       "      <td>164</td>\n",
       "      <td>JQ12</td>\n",
       "      <td>0.162155</td>\n",
       "      <td>0.223663</td>\n",
       "      <td>2.981287e-03</td>\n",
       "      <td>0.165340</td>\n",
       "      <td>1.019711</td>\n",
       "      <td>Chromatin histone acetylation</td>\n",
       "      <td>Restricted</td>\n",
       "    </tr>\n",
       "    <tr>\n",
       "      <th>69</th>\n",
       "      <td>135</td>\n",
       "      <td>Gemcitabine</td>\n",
       "      <td>0.286602</td>\n",
       "      <td>0.410385</td>\n",
       "      <td>8.289701e-09</td>\n",
       "      <td>0.311460</td>\n",
       "      <td>1.087050</td>\n",
       "      <td>DNA replication</td>\n",
       "      <td>Genome-wide</td>\n",
       "    </tr>\n",
       "    <tr>\n",
       "      <th>245</th>\n",
       "      <td>1024</td>\n",
       "      <td>Lestaurtinib</td>\n",
       "      <td>0.159593</td>\n",
       "      <td>0.497076</td>\n",
       "      <td>7.100815e-17</td>\n",
       "      <td>0.183529</td>\n",
       "      <td>1.149920</td>\n",
       "      <td>Other, kinases</td>\n",
       "      <td>Genome-wide</td>\n",
       "    </tr>\n",
       "  </tbody>\n",
       "</table>\n",
       "</div>"
      ],
      "text/plain": [
       "     Drug ID     Drug Name  Model test RMSE  Model test correlation  \\\n",
       "82       164          JQ12         0.162155                0.223663   \n",
       "69       135   Gemcitabine         0.286602                0.410385   \n",
       "245     1024  Lestaurtinib         0.159593                0.497076   \n",
       "\n",
       "     Correlation pval  Dummy test RMSE  Relative test RMSE  \\\n",
       "82       2.981287e-03         0.165340            1.019711   \n",
       "69       8.289701e-09         0.311460            1.087050   \n",
       "245      7.100815e-17         0.183529            1.149920   \n",
       "\n",
       "                    Target Pathway        Model  \n",
       "82   Chromatin histone acetylation   Restricted  \n",
       "69                 DNA replication  Genome-wide  \n",
       "245                 Other, kinases  Genome-wide  "
      ]
     },
     "execution_count": 69,
     "metadata": {},
     "output_type": "execute_result"
    }
   ],
   "source": [
    "df_best_results_from_two_groups_filtered.sample(3)"
   ]
  },
  {
   "cell_type": "code",
   "execution_count": 70,
   "metadata": {},
   "outputs": [
    {
     "name": "stdout",
     "output_type": "stream",
     "text": [
      "(324, 9)\n",
      "(648, 9)\n"
     ]
    },
    {
     "data": {
      "text/html": [
       "<div>\n",
       "<style scoped>\n",
       "    .dataframe tbody tr th:only-of-type {\n",
       "        vertical-align: middle;\n",
       "    }\n",
       "\n",
       "    .dataframe tbody tr th {\n",
       "        vertical-align: top;\n",
       "    }\n",
       "\n",
       "    .dataframe thead th {\n",
       "        text-align: right;\n",
       "    }\n",
       "</style>\n",
       "<table border=\"1\" class=\"dataframe\">\n",
       "  <thead>\n",
       "    <tr style=\"text-align: right;\">\n",
       "      <th></th>\n",
       "      <th>Drug ID</th>\n",
       "      <th>Drug Name</th>\n",
       "      <th>Model test RMSE</th>\n",
       "      <th>Model test correlation</th>\n",
       "      <th>Correlation pval</th>\n",
       "      <th>Dummy test RMSE</th>\n",
       "      <th>Relative test RMSE</th>\n",
       "      <th>Target Pathway</th>\n",
       "      <th>Model</th>\n",
       "    </tr>\n",
       "  </thead>\n",
       "  <tbody>\n",
       "    <tr>\n",
       "      <th>0</th>\n",
       "      <td>1</td>\n",
       "      <td>Erlotinib</td>\n",
       "      <td>0.085320</td>\n",
       "      <td>0.410257</td>\n",
       "      <td>0.000308</td>\n",
       "      <td>0.092400</td>\n",
       "      <td>1.086402</td>\n",
       "      <td>EGFR signaling</td>\n",
       "      <td>Restricted</td>\n",
       "    </tr>\n",
       "    <tr>\n",
       "      <th>1</th>\n",
       "      <td>1</td>\n",
       "      <td>Erlotinib</td>\n",
       "      <td>0.071460</td>\n",
       "      <td>0.374202</td>\n",
       "      <td>0.004133</td>\n",
       "      <td>0.073378</td>\n",
       "      <td>1.017662</td>\n",
       "      <td>EGFR signaling</td>\n",
       "      <td>Genome-wide</td>\n",
       "    </tr>\n",
       "    <tr>\n",
       "      <th>2</th>\n",
       "      <td>3</td>\n",
       "      <td>Rapamycin</td>\n",
       "      <td>0.223836</td>\n",
       "      <td>0.253258</td>\n",
       "      <td>0.042695</td>\n",
       "      <td>0.229805</td>\n",
       "      <td>1.027091</td>\n",
       "      <td>PI3K/MTOR signaling</td>\n",
       "      <td>Restricted</td>\n",
       "    </tr>\n",
       "  </tbody>\n",
       "</table>\n",
       "</div>"
      ],
      "text/plain": [
       "   Drug ID  Drug Name  Model test RMSE  Model test correlation  \\\n",
       "0        1  Erlotinib         0.085320                0.410257   \n",
       "1        1  Erlotinib         0.071460                0.374202   \n",
       "2        3  Rapamycin         0.223836                0.253258   \n",
       "\n",
       "   Correlation pval  Dummy test RMSE  Relative test RMSE       Target Pathway  \\\n",
       "0          0.000308         0.092400            1.086402       EGFR signaling   \n",
       "1          0.004133         0.073378            1.017662       EGFR signaling   \n",
       "2          0.042695         0.229805            1.027091  PI3K/MTOR signaling   \n",
       "\n",
       "         Model  \n",
       "0   Restricted  \n",
       "1  Genome-wide  \n",
       "2   Restricted  "
      ]
     },
     "execution_count": 70,
     "metadata": {},
     "output_type": "execute_result"
    }
   ],
   "source": [
    "# Create a new DF with all pathways category (all results)\n",
    "df_best_results_from_two_groups_filtered_with_all = df_best_results_from_two_groups_filtered.copy()\n",
    "df_best_results_from_two_groups_filtered_with_all[\"Target Pathway\"] = [\"All pathways\"] * \\\n",
    "    df_best_results_from_two_groups_filtered_with_all.shape[0]\n",
    "print(df_best_results_from_two_groups_filtered_with_all.shape)\n",
    "df_best_results_from_two_groups_filtered_with_all = pd.concat(\n",
    "[df_best_results_from_two_groups_filtered, df_best_results_from_two_groups_filtered_with_all], axis=0)\n",
    "print(df_best_results_from_two_groups_filtered_with_all.shape)\n",
    "df_best_results_from_two_groups_filtered_with_all.head(3)"
   ]
  },
  {
   "cell_type": "code",
   "execution_count": 71,
   "metadata": {},
   "outputs": [
    {
     "name": "stdout",
     "output_type": "stream",
     "text": [
      "25\n"
     ]
    }
   ],
   "source": [
    "from scipy.stats import mannwhitneyu\n",
    "\n",
    "def stars(p):\n",
    "    if p < 0.0001:\n",
    "       return \"****\"\n",
    "    elif (p < 0.001):\n",
    "       return \"***\"\n",
    "    elif (p < 0.01):\n",
    "       return \"**\"\n",
    "    elif (p < 0.05):\n",
    "       return \"*\"\n",
    "    else:\n",
    "       return \"ns\"\n",
    "\n",
    "# Initialize dictionary with target pathways and corresponding significance tests\n",
    "significance_dict = {}\n",
    "\n",
    "for tp in df_best_results_from_two_groups_filtered_with_all[\"Target Pathway\"].unique():\n",
    "    df = df_best_results_from_two_groups_filtered_with_all[\n",
    "        df_best_results_from_two_groups_filtered_with_all[\"Target Pathway\"] == tp\n",
    "    ]\n",
    "    x = df[df.Model == \"Genome-wide\"][\"Model test correlation\"]\n",
    "    y = df[df.Model == \"Restricted\"][\"Model test correlation\"]\n",
    "    \n",
    "    p = mannwhitneyu(x, y)[1] * 2\n",
    "    \n",
    "    significance_dict[tp] = p\n",
    "print(len(significance_dict))"
   ]
  },
  {
   "cell_type": "code",
   "execution_count": 72,
   "metadata": {},
   "outputs": [
    {
     "name": "stdout",
     "output_type": "stream",
     "text": [
      "Width: 170.0 6.692913385826772\n",
      "Height: 95.0 3.7401574803149606\n"
     ]
    }
   ],
   "source": [
    "# Set up constants\n",
    "\n",
    "# Size in milimeters\n",
    "panel_width_mm = 170.\n",
    "panel_height_mm = 95.\n",
    "\n",
    "# Size in inches\n",
    "panel_width_inch = panel_width_mm / mm_per_inch\n",
    "panel_height_inch = panel_height_mm / mm_per_inch\n",
    "\n",
    "print(\"Width:\", panel_width_mm, panel_width_inch)\n",
    "print(\"Height:\", panel_height_mm, panel_height_inch)\n",
    "\n",
    "# Update rcParams\n",
    "params = {\n",
    "        'figure.figsize'      : [panel_width_inch, panel_height_inch] ,\n",
    "        'font.size'           : 8      ,\n",
    "        #'font.sans-serif'     : 'Arial'    ,\n",
    "        'axes.titlesize'      : 9.       ,\n",
    "        'axes.labelsize'      : 9.       ,\n",
    "        'xtick.major.size'    : 2        ,\n",
    "        'xtick.major.width'   : 0.75     ,\n",
    "        'xtick.labelsize'     : 8.0      ,\n",
    "        'xtick.direction'     : 'out'      ,\n",
    "        'ytick.major.size'    : 2        ,\n",
    "        'ytick.major.width'   : 0.75     ,\n",
    "        'ytick.labelsize'     : 8.0      ,\n",
    "        'ytick.direction'     : 'out'      ,\n",
    "        'xtick.major.pad'     : 2        ,\n",
    "        'xtick.minor.pad'     : 2        ,\n",
    "        'ytick.major.pad'     : 2        ,\n",
    "        'ytick.minor.pad'     : 2        ,\n",
    "        'savefig.dpi'         : 300.      ,\n",
    "        'axes.linewidth'      : 0.75     ,\n",
    "        'text.usetex'         : False     ,\n",
    "        'text.latex.unicode'  : False     ,\n",
    "        'legend.fontsize': 6.,\n",
    "        'legend.handlelength': 2}"
   ]
  },
  {
   "cell_type": "code",
   "execution_count": 73,
   "metadata": {},
   "outputs": [
    {
     "name": "stdout",
     "output_type": "stream",
     "text": [
      "[6.692913385826772, 3.7401574803149606]\n",
      "8.0\n",
      "6.0\n"
     ]
    },
    {
     "name": "stderr",
     "output_type": "stream",
     "text": [
      "/home/krzysztof/.local/lib/python3.6/site-packages/matplotlib/__init__.py:846: MatplotlibDeprecationWarning: \n",
      "The text.latex.unicode rcparam was deprecated in Matplotlib 2.2 and will be removed in 3.1.\n",
      "  \"2.2\", name=key, obj_type=\"rcparam\", addendum=addendum)\n"
     ]
    }
   ],
   "source": [
    "plt.rcParams.update(params)\n",
    "print(plt.rcParams.get('figure.figsize'))\n",
    "print(plt.rcParams.get('font.size'))\n",
    "print(plt.rcParams.get('legend.fontsize'))"
   ]
  },
  {
   "cell_type": "code",
   "execution_count": 298,
   "metadata": {},
   "outputs": [
    {
     "data": {
      "image/png": "[encoded data removed]",
      "text/plain": [
       "<Figure size 481.89x269.291 with 1 Axes>"
      ]
     },
     "metadata": {},
     "output_type": "display_data"
    }
   ],
   "source": [
    "# Establish order of the pathways\n",
    "differences = []\n",
    "\n",
    "for tp in df_best_results_from_two_groups_filtered[\"Target Pathway\"].unique():\n",
    "    df = df_best_results_from_two_groups_filtered[\n",
    "        df_best_results_from_two_groups_filtered[\"Target Pathway\"] == tp\n",
    "    ]\n",
    "    df = df.groupby(\"Model\", as_index=False).agg(np.median)\n",
    "    gw_corr = df[df.Model == \"Genome-wide\"][\"Model test correlation\"].iloc[0]\n",
    "    restricted_corr = df[df.Model == \"Restricted\"][\"Model test correlation\"].iloc[0]\n",
    "    diff = gw_corr - restricted_corr\n",
    "    differences.append((tp, diff / gw_corr))\n",
    "\n",
    "differences = sorted(differences, key=lambda x: x[1], reverse=True)\n",
    "order = [\"All pathways\"] + [x[0] for x in differences]\n",
    "\n",
    "############################################\n",
    "# Actual plotting\n",
    "############################################\n",
    "\n",
    "ax = sns.boxplot(x=\"Target Pathway\", y=\"Model test correlation\", \n",
    "                   data=df_best_results_from_two_groups_filtered_with_all,\n",
    "                 hue=\"Model\",\n",
    "                 linewidth=1.,\n",
    "                 fliersize=0.0,\n",
    "                 dodge=True,\n",
    "                 order=order,\n",
    "                 hue_order = [\"Genome-wide\", \"Restricted\"])\n",
    "\n",
    "sns.stripplot(x=\"Target Pathway\", y=\"Model test correlation\", \n",
    "                   data=df_best_results_from_two_groups_filtered_with_all,\n",
    "                   hue=\"Model\",\n",
    "                   dodge=True,\n",
    "                   linewidth=0.5,\n",
    "                   jitter=True,\n",
    "                   edgecolor=\"black\",\n",
    "                   size=2.2,\n",
    "                   order=order,\n",
    "                   hue_order = [\"Genome-wide\", \"Restricted\"],\n",
    "                   ax=ax)\n",
    "\n",
    "##############################################################\n",
    "# Add significance asterixes\n",
    "##############################################################\n",
    "\n",
    "# Constants\n",
    "vertical_length = 0.005\n",
    "horizontal_length = 0.5\n",
    "y_margin = 0.03\n",
    "linewidth = 0.5\n",
    "col = \"black\"\n",
    "text_color = \"black\"\n",
    "text_size = 6\n",
    "\n",
    "# Determine x and y coordinates\n",
    "\n",
    "for i in range(len(order)):\n",
    "    # Determine x and y coordinates\n",
    "    xs = []\n",
    "    ys = []\n",
    "    \n",
    "    x = ax.get_xticks()[i]\n",
    "    xs.append(x - horizontal_length / 2)\n",
    "    xs.append(x - horizontal_length / 2)\n",
    "    xs.append(x + horizontal_length / 2)\n",
    "    xs.append(x + horizontal_length / 2)\n",
    "    \n",
    "    tp = order[i]\n",
    "    \n",
    "    # Get y data\n",
    "    df = df_best_results_from_two_groups_filtered_with_all[\n",
    "        df_best_results_from_two_groups_filtered_with_all[\"Target Pathway\"] == tp\n",
    "    ]\n",
    "    \n",
    "    ymax = df[\"Model test correlation\"].max()\n",
    "    ys.append(ymax + y_margin)\n",
    "    ys.append(ymax + y_margin + vertical_length)\n",
    "    ys.append(ymax + y_margin + vertical_length)\n",
    "    ys.append(ymax + y_margin)\n",
    "    \n",
    "    ax.plot(xs, ys, lw=linewidth, c=col)\n",
    "    ax.text(x+0.01, ymax + y_margin + vertical_length, round(significance_dict[tp], 2), \n",
    "           ha=\"center\", va=\"bottom\", color=text_color, fontsize=text_size)\n",
    "\n",
    "\n",
    "\n",
    "# Get the handles and labels. For this example it'll be 2 tuples\n",
    "# of length 4 each.\n",
    "handles, labels = ax.get_legend_handles_labels()\n",
    "ax.set_ylabel(\"Correlation\")\n",
    "ax.set_ylim(ax.get_ylim()[0], ax.get_ylim()[1] + 0.02)\n",
    "\n",
    "# When creating the legend, only use the first two elements\n",
    "# to effectively remove the last two.\n",
    "# l = plt.legend(handles[0:2], labels[0:2],\n",
    "#               bbox_to_anchor=(0., 1.02, 1., .102), loc=3,\n",
    "#            ncol=2, mode=\"expand\", borderaxespad=0.)\n",
    "\n",
    "l = plt.legend(handles[0:2], labels[0:2], loc=\"best\")\n",
    "\n",
    "plt.xticks(rotation=90)\n",
    "\n",
    "plt.tight_layout()\n",
    "\n",
    "plt.savefig(fig_directory + \"fig3_boxplot_corr_wrt_pathways.pdf\")\n",
    "plt.savefig(gimp_directory + \"fig3_boxplot_corr_wrt_pathways.pdf\")\n",
    "\n",
    "plt.show()"
   ]
  },
  {
   "cell_type": "markdown",
   "metadata": {},
   "source": [
    "#### Panel 1, version 2 - not just one best from GW and restricted per drug, but all models"
   ]
  },
  {
   "cell_type": "code",
   "execution_count": 89,
   "metadata": {},
   "outputs": [
    {
     "name": "stdout",
     "output_type": "stream",
     "text": [
      "(2412, 9) 251 2\n",
      "232\n"
     ]
    },
    {
     "data": {
      "text/html": [
       "<div>\n",
       "<style scoped>\n",
       "    .dataframe tbody tr th:only-of-type {\n",
       "        vertical-align: middle;\n",
       "    }\n",
       "\n",
       "    .dataframe tbody tr th {\n",
       "        vertical-align: top;\n",
       "    }\n",
       "\n",
       "    .dataframe thead th {\n",
       "        text-align: right;\n",
       "    }\n",
       "</style>\n",
       "<table border=\"1\" class=\"dataframe\">\n",
       "  <thead>\n",
       "    <tr style=\"text-align: right;\">\n",
       "      <th></th>\n",
       "      <th>Drug ID</th>\n",
       "      <th>Drug Name</th>\n",
       "      <th>Model test RMSE</th>\n",
       "      <th>Model test correlation</th>\n",
       "      <th>Correlation pval</th>\n",
       "      <th>Dummy test RMSE</th>\n",
       "      <th>Relative test RMSE</th>\n",
       "      <th>Target Pathway</th>\n",
       "      <th>Model</th>\n",
       "    </tr>\n",
       "  </thead>\n",
       "  <tbody>\n",
       "    <tr>\n",
       "      <th>1113</th>\n",
       "      <td>273</td>\n",
       "      <td>CUDC-101</td>\n",
       "      <td>0.192363</td>\n",
       "      <td>0.393991</td>\n",
       "      <td>3.106236e-07</td>\n",
       "      <td>0.209310</td>\n",
       "      <td>1.089173</td>\n",
       "      <td>Other</td>\n",
       "      <td>Restricted</td>\n",
       "    </tr>\n",
       "    <tr>\n",
       "      <th>2233</th>\n",
       "      <td>1241</td>\n",
       "      <td>CHIR-99021</td>\n",
       "      <td>0.053065</td>\n",
       "      <td>0.423900</td>\n",
       "      <td>2.590431e-11</td>\n",
       "      <td>0.058173</td>\n",
       "      <td>1.096032</td>\n",
       "      <td>WNT signaling</td>\n",
       "      <td>Restricted</td>\n",
       "    </tr>\n",
       "    <tr>\n",
       "      <th>2050</th>\n",
       "      <td>1142</td>\n",
       "      <td>HG-5-113-01</td>\n",
       "      <td>0.094895</td>\n",
       "      <td>0.400891</td>\n",
       "      <td>2.154029e-06</td>\n",
       "      <td>0.101792</td>\n",
       "      <td>1.072923</td>\n",
       "      <td>Other</td>\n",
       "      <td>Genome-wide</td>\n",
       "    </tr>\n",
       "    <tr>\n",
       "      <th>293</th>\n",
       "      <td>71</td>\n",
       "      <td>Pyrimethamine</td>\n",
       "      <td>0.114826</td>\n",
       "      <td>0.240857</td>\n",
       "      <td>2.187409e-02</td>\n",
       "      <td>0.117322</td>\n",
       "      <td>1.022030</td>\n",
       "      <td>Other</td>\n",
       "      <td>Genome-wide</td>\n",
       "    </tr>\n",
       "    <tr>\n",
       "      <th>739</th>\n",
       "      <td>199</td>\n",
       "      <td>Pazopanib</td>\n",
       "      <td>0.096263</td>\n",
       "      <td>0.264070</td>\n",
       "      <td>2.879737e-04</td>\n",
       "      <td>0.098636</td>\n",
       "      <td>1.023808</td>\n",
       "      <td>RTK signaling</td>\n",
       "      <td>Genome-wide</td>\n",
       "    </tr>\n",
       "  </tbody>\n",
       "</table>\n",
       "</div>"
      ],
      "text/plain": [
       "      Drug ID      Drug Name  Model test RMSE  Model test correlation  \\\n",
       "1113      273       CUDC-101         0.192363                0.393991   \n",
       "2233     1241     CHIR-99021         0.053065                0.423900   \n",
       "2050     1142    HG-5-113-01         0.094895                0.400891   \n",
       "293        71  Pyrimethamine         0.114826                0.240857   \n",
       "739       199      Pazopanib         0.096263                0.264070   \n",
       "\n",
       "      Correlation pval  Dummy test RMSE  Relative test RMSE Target Pathway  \\\n",
       "1113      3.106236e-07         0.209310            1.089173          Other   \n",
       "2233      2.590431e-11         0.058173            1.096032  WNT signaling   \n",
       "2050      2.154029e-06         0.101792            1.072923          Other   \n",
       "293       2.187409e-02         0.117322            1.022030          Other   \n",
       "739       2.879737e-04         0.098636            1.023808  RTK signaling   \n",
       "\n",
       "            Model  \n",
       "1113   Restricted  \n",
       "2233   Restricted  \n",
       "2050  Genome-wide  \n",
       "293   Genome-wide  \n",
       "739   Genome-wide  "
      ]
     },
     "execution_count": 89,
     "metadata": {},
     "output_type": "execute_result"
    }
   ],
   "source": [
    "# Load DataFrame with aggregated results for all drugs, with models classified to two groups\n",
    "df_restricted_vs_gw = pd.read_csv(\"./Results and other files/df_agg_all_drugs_restricted_vs_genome_wide.csv\")\n",
    "print(df_restricted_vs_gw.shape, df_restricted_vs_gw[\"Drug ID\"].nunique(), df_restricted_vs_gw[\"Model\"].nunique())\n",
    "df_restricted_vs_gw_filtered = df_restricted_vs_gw[~df_restricted_vs_gw[\"Drug ID\"].isin(bad_drugs)]\n",
    "print(df_restricted_vs_gw_filtered[\"Drug ID\"].nunique())\n",
    "df_restricted_vs_gw_filtered.sample(5)"
   ]
  },
  {
   "cell_type": "code",
   "execution_count": 90,
   "metadata": {},
   "outputs": [
    {
     "name": "stdout",
     "output_type": "stream",
     "text": [
      "74\n"
     ]
    }
   ],
   "source": [
    "# Find drugs only modeled by genome-wide methods\n",
    "drugs_only_modeled_by_gw = []\n",
    "for drug_id in df_restricted_vs_gw[\"Drug ID\"].unique():\n",
    "    df = df_restricted_vs_gw[df_restricted_vs_gw[\"Drug ID\"] == drug_id]\n",
    "    if df.shape[0] == 4:\n",
    "        drugs_only_modeled_by_gw.append(drug_id)\n",
    "print(len(drugs_only_modeled_by_gw))"
   ]
  },
  {
   "cell_type": "code",
   "execution_count": 91,
   "metadata": {},
   "outputs": [
    {
     "name": "stdout",
     "output_type": "stream",
     "text": [
      "164\n"
     ]
    }
   ],
   "source": [
    "# Compute results at intersection\n",
    "df_restricted_vs_gw_filtered_intersection = df_restricted_vs_gw_filtered[\n",
    "    ~df_restricted_vs_gw_filtered[\"Drug ID\"].isin(drugs_only_modeled_by_gw)\n",
    "]\n",
    "print(df_restricted_vs_gw_filtered_intersection[\"Drug ID\"].nunique())"
   ]
  },
  {
   "cell_type": "code",
   "execution_count": 92,
   "metadata": {},
   "outputs": [
    {
     "name": "stdout",
     "output_type": "stream",
     "text": [
      "164\n"
     ]
    }
   ],
   "source": [
    "# Establish dataset to plot\n",
    "data = df_restricted_vs_gw_filtered_intersection\n",
    "print(data[\"Drug ID\"].nunique())"
   ]
  },
  {
   "cell_type": "code",
   "execution_count": 93,
   "metadata": {},
   "outputs": [
    {
     "name": "stdout",
     "output_type": "stream",
     "text": [
      "Width: 165.0 6.496062992125984\n",
      "Height: 70.0 2.7559055118110236\n"
     ]
    }
   ],
   "source": [
    "# Set up constants\n",
    "\n",
    "# Size in milimeters\n",
    "panel_width_mm = 165.\n",
    "panel_height_mm = 70.\n",
    "\n",
    "# Size in inches\n",
    "panel_width_inch = panel_width_mm / mm_per_inch\n",
    "panel_height_inch = panel_height_mm / mm_per_inch\n",
    "\n",
    "print(\"Width:\", panel_width_mm, panel_width_inch)\n",
    "print(\"Height:\", panel_height_mm, panel_height_inch)\n",
    "\n",
    "# Update rcParams\n",
    "params = {\n",
    "        'figure.figsize'      : [panel_width_inch, panel_height_inch] ,\n",
    "        'font.size'           : 8      ,\n",
    "        #'font.sans-serif'     : 'Arial'    ,\n",
    "        'axes.titlesize'      : 9.       ,\n",
    "        'axes.labelsize'      : 9.       ,\n",
    "        'xtick.major.size'    : 2        ,\n",
    "        'xtick.major.width'   : 0.75     ,\n",
    "        'xtick.labelsize'     : 6.0      ,\n",
    "        'xtick.direction'     : 'out'      ,\n",
    "        'ytick.major.size'    : 2        ,\n",
    "        'ytick.major.width'   : 0.75     ,\n",
    "        'ytick.labelsize'     : 8.0      ,\n",
    "        'ytick.direction'     : 'out'      ,\n",
    "        'xtick.major.pad'     : 2        ,\n",
    "        'xtick.minor.pad'     : 2        ,\n",
    "        'ytick.major.pad'     : 2        ,\n",
    "        'ytick.minor.pad'     : 2        ,\n",
    "        'savefig.dpi'         : 300.      ,\n",
    "        'axes.linewidth'      : 0.75     ,\n",
    "        'text.usetex'         : False     ,\n",
    "        'text.latex.unicode'  : False     ,\n",
    "        'legend.fontsize': 6.,\n",
    "        'legend.handlelength': 2}"
   ]
  },
  {
   "cell_type": "code",
   "execution_count": 94,
   "metadata": {},
   "outputs": [
    {
     "name": "stdout",
     "output_type": "stream",
     "text": [
      "[6.496062992125984, 2.7559055118110236]\n",
      "8.0\n",
      "6.0\n"
     ]
    },
    {
     "name": "stderr",
     "output_type": "stream",
     "text": [
      "/home/krzysztof/.local/lib/python3.6/site-packages/matplotlib/__init__.py:846: MatplotlibDeprecationWarning: \n",
      "The text.latex.unicode rcparam was deprecated in Matplotlib 2.2 and will be removed in 3.1.\n",
      "  \"2.2\", name=key, obj_type=\"rcparam\", addendum=addendum)\n"
     ]
    }
   ],
   "source": [
    "plt.rcParams.update(params)\n",
    "print(plt.rcParams.get('figure.figsize'))\n",
    "print(plt.rcParams.get('font.size'))\n",
    "print(plt.rcParams.get('legend.fontsize'))"
   ]
  },
  {
   "cell_type": "code",
   "execution_count": 95,
   "metadata": {},
   "outputs": [
    {
     "name": "stdout",
     "output_type": "stream",
     "text": [
      "24\n"
     ]
    },
    {
     "name": "stderr",
     "output_type": "stream",
     "text": [
      "/home/krzysztof/.local/lib/python3.6/site-packages/ipykernel_launcher.py:6: SettingWithCopyWarning: \n",
      "A value is trying to be set on a copy of a slice from a DataFrame.\n",
      "Try using .loc[row_indexer,col_indexer] = value instead\n",
      "\n",
      "See the caveats in the documentation: http://pandas.pydata.org/pandas-docs/stable/indexing.html#indexing-view-versus-copy\n",
      "  \n"
     ]
    }
   ],
   "source": [
    "# Load dictionary with target pathways names abbrevations\n",
    "with open(\"./Results and other files/tp_names_abbrevations.pkl\", \"rb\") as f:\n",
    "    tp_abbrevations = dill.load(f)\n",
    "print(len(tp_abbrevations))\n",
    "# Add column with TP abrrevations to data\n",
    "data[\"TP abbr\"] = data[\"Target Pathway\"].map(tp_abbrevations)"
   ]
  },
  {
   "cell_type": "code",
   "execution_count": 96,
   "metadata": {},
   "outputs": [
    {
     "name": "stdout",
     "output_type": "stream",
     "text": [
      "EGFR signaling (28,) (56,) 0.1607030839165891\n",
      "PI3K/MTOR signaling (52,) (104,) 0.09380513026167747\n",
      "RTK signaling (60,) (120,) 0.2488200557187913\n",
      "Prot. stab. and degr. (20,) (40,) 0.4039796935907516\n",
      "Mitosis (32,) (64,) 0.12906033734276717\n",
      "Other (92,) (180,) 0.021302511304851383\n",
      "ERK MAPK signaling (32,) (64,) 0.4891491357179047\n",
      "ABL signaling (8,) (16,) 0.22199718801150475\n",
      "Cell cycle (52,) (104,) 0.1790002986654879\n",
      "Other, kinases (84,) (168,) 0.1024464141630021\n",
      "Chrom. hist. acet. (32,) (64,) 0.33310588102256267\n",
      "DNA replication (24,) (44,) 1.1108256989329505e-05\n",
      "Hormone-related (4,) (8,) 0.025399260369419956\n",
      "Genome integrity (24,) (48,) 0.08383938271579178\n",
      "Apoptosis regulation (24,) (48,) 0.04109970433892837\n",
      "Cytoskeleton (16,) (32,) 0.19382620871642836\n",
      "IGFR signaling (12,) (24,) 0.40064284781343484\n",
      "p53 pathway (12,) (24,) 0.26735924476394995\n",
      "Chromatin other (16,) (32,) 0.35910118321361284\n",
      "Metabolism (8,) (16,) 0.0022029844239215956\n",
      "WNT signaling (12,) (24,) 0.13771817209143739\n",
      "JNK and p38 signaling (4,) (8,) 0.07441827343835475\n",
      "Unclassified (4,) (8,) 0.3355627291949064\n",
      "Chromat. hist. methyl. (4,) (8,) 0.22234811592485448\n",
      "24\n"
     ]
    }
   ],
   "source": [
    "# Perform tests\n",
    "from scipy.stats import mannwhitneyu\n",
    "\n",
    "def stars(p):\n",
    "    if p < 0.0001:\n",
    "       return \"****\"\n",
    "    elif (p < 0.001):\n",
    "       return \"***\"\n",
    "    elif (p < 0.01):\n",
    "       return \"**\"\n",
    "    elif (p < 0.05):\n",
    "       return \"*\"\n",
    "    else:\n",
    "       return \"ns\"\n",
    "\n",
    "# Initialize dictionary with target pathways and corresponding significance tests\n",
    "significance_dict = {}\n",
    "\n",
    "for tp in data[\"TP abbr\"].unique():\n",
    "    df = data[\n",
    "        data[\"TP abbr\"] == tp\n",
    "    ]\n",
    "    x = df[df.Model == \"Genome-wide\"][\"Model test correlation\"]\n",
    "    y = df[df.Model == \"Restricted\"][\"Model test correlation\"]\n",
    "    \n",
    "    p = mannwhitneyu(x, y)[1]\n",
    "    print(tp, x.shape, y.shape, p)\n",
    "    \n",
    "    significance_dict[tp] = p\n",
    "print(len(significance_dict))"
   ]
  },
  {
   "cell_type": "code",
   "execution_count": 97,
   "metadata": {},
   "outputs": [
    {
     "name": "stdout",
     "output_type": "stream",
     "text": [
      "EGFR signaling -0.01807249063469968\n",
      "PI3K/MTOR signaling 0.013140125993350127\n",
      "RTK signaling -0.0051550557496462535\n",
      "Prot. stab. and degr. -0.0015230941998035652\n",
      "Mitosis 0.008542093735053324\n",
      "Other 0.048001064757790146\n",
      "ERK MAPK signaling 0.007563660643866821\n",
      "ABL signaling -0.06955471075807851\n",
      "Cell cycle 0.03624676413445471\n",
      "Other, kinases 0.028639668743989988\n",
      "Chrom. hist. acet. 0.01630097608834019\n",
      "DNA replication 0.13516248538567754\n",
      "Hormone-related -0.04042731253094539\n",
      "Genome integrity 0.09069750372888463\n",
      "Apoptosis regulation 0.03880211554346147\n",
      "Cytoskeleton 0.008817844884931092\n",
      "IGFR signaling -0.02361400689268761\n",
      "p53 pathway 0.012977970176463127\n",
      "Chromatin other -0.02844999943066273\n",
      "Metabolism 0.06340795144920075\n",
      "WNT signaling 0.020491014194358004\n",
      "JNK and p38 signaling -0.061229789513089966\n",
      "Unclassified 0.00726101289689568\n",
      "Chromat. hist. methyl. -0.006053546928627279\n",
      "\n",
      "15\n"
     ]
    }
   ],
   "source": [
    "s = 0\n",
    "for tp in data[\"TP abbr\"].unique():\n",
    "    df = data[\n",
    "        data[\"TP abbr\"] == tp\n",
    "    ]\n",
    "    x = df[df.Model == \"Genome-wide\"][\"Model test correlation\"]\n",
    "    y = df[df.Model == \"Restricted\"][\"Model test correlation\"]\n",
    "    \n",
    "    print(tp, x.median() - y.median())\n",
    "    if x.median() > y.median():\n",
    "        s += 1\n",
    "        \n",
    "print()\n",
    "print(s)"
   ]
  },
  {
   "cell_type": "code",
   "execution_count": 98,
   "metadata": {},
   "outputs": [
    {
     "data": {
      "image/png": "[encoded data removed]",
      "text/plain": [
       "<Figure size 467.717x198.425 with 1 Axes>"
      ]
     },
     "metadata": {},
     "output_type": "display_data"
    }
   ],
   "source": [
    "# Establish order of the pathways\n",
    "differences = []\n",
    "\n",
    "for tp in data[\"TP abbr\"].unique():\n",
    "    df = data[\n",
    "        data[\"TP abbr\"] == tp\n",
    "    ]\n",
    "    df = df.groupby(\"Model\", as_index=False).agg(np.median)\n",
    "    gw_corr = df[df.Model == \"Genome-wide\"][\"Model test correlation\"].iloc[0]\n",
    "    restricted_corr = df[df.Model == \"Restricted\"][\"Model test correlation\"].iloc[0]\n",
    "    diff = gw_corr - restricted_corr\n",
    "    differences.append((tp, diff / gw_corr))\n",
    "\n",
    "differences = sorted(differences, key=lambda x: x[1], reverse=True)\n",
    "order = [x[0] for x in differences]\n",
    "\n",
    "############################################\n",
    "# Actual plotting\n",
    "############################################\n",
    "\n",
    "#plt.figure(figsize=(12, 8))\n",
    "\n",
    "ax = sns.boxplot(x=\"TP abbr\", y=\"Model test correlation\", \n",
    "                   data=data,\n",
    "                 hue=\"Model\",\n",
    "                 linewidth=1.,\n",
    "                 fliersize=0.0,\n",
    "                 dodge=True,\n",
    "                 order=order,\n",
    "                 hue_order = [\"Genome-wide\", \"Restricted\"])\n",
    "\n",
    "sns.stripplot(x=\"TP abbr\", y=\"Model test correlation\", \n",
    "                   data=data,\n",
    "                   hue=\"Model\",\n",
    "                   dodge=True,\n",
    "                   linewidth=0.5,\n",
    "                   jitter=True,\n",
    "                   edgecolor=\"black\",\n",
    "                   size=2.2,\n",
    "                   order=order,\n",
    "                   hue_order = [\"Genome-wide\", \"Restricted\"],\n",
    "                   ax=ax)\n",
    "\n",
    "##############################################################\n",
    "# Add significance asterixes\n",
    "##############################################################\n",
    "\n",
    "# Constants\n",
    "vertical_length = 0.005\n",
    "horizontal_length = 0.5\n",
    "y_margin = 0.03\n",
    "linewidth = 0.5\n",
    "col = \"black\"\n",
    "text_color = \"black\"\n",
    "text_size = 6\n",
    "\n",
    "# Determine x and y coordinates\n",
    "\n",
    "for i in range(len(order)):\n",
    "    # Determine x and y coordinates\n",
    "    xs = []\n",
    "    ys = []\n",
    "    \n",
    "    x = ax.get_xticks()[i]\n",
    "    xs.append(x - horizontal_length / 2)\n",
    "    xs.append(x - horizontal_length / 2)\n",
    "    xs.append(x + horizontal_length / 2)\n",
    "    xs.append(x + horizontal_length / 2)\n",
    "    \n",
    "    tp = order[i]\n",
    "    \n",
    "    # Get y data\n",
    "    df = data[\n",
    "        data[\"Target Pathway\"] == tp\n",
    "    ]\n",
    "    \n",
    "    ymax = df[\"Model test correlation\"].max()\n",
    "    ys.append(ymax + y_margin)\n",
    "    ys.append(ymax + y_margin + vertical_length)\n",
    "    ys.append(ymax + y_margin + vertical_length)\n",
    "    ys.append(ymax + y_margin)\n",
    "    \n",
    "    if significance_dict[tp] < 0.05:\n",
    "    \n",
    "        ax.plot(xs, ys, lw=linewidth, c=col)\n",
    "        ax.text(x+0.01, ymax + y_margin + vertical_length, round(significance_dict[tp], 2), \n",
    "               ha=\"center\", va=\"bottom\", color=text_color, fontsize=text_size)\n",
    "\n",
    "\n",
    "\n",
    "# Get the handles and labels. For this example it'll be 2 tuples\n",
    "# of length 4 each.\n",
    "handles, labels = ax.get_legend_handles_labels()\n",
    "ax.set_ylabel(\"Correlation\")\n",
    "ax.set_xlabel(\"Target Pathway\")\n",
    "\n",
    "ax.set_ylim(ax.get_ylim()[0], ax.get_ylim()[1] + 0.02)\n",
    "\n",
    "# When creating the legend, only use the first two elements\n",
    "# to effectively remove the last two.\n",
    "# l = plt.legend(handles[0:2], labels[0:2],\n",
    "#               bbox_to_anchor=(0., 1.02, 1., .102), loc=3,\n",
    "#            ncol=2, mode=\"expand\", borderaxespad=0.)\n",
    "\n",
    "l = plt.legend(handles[0:2], labels[0:2], loc=\"lower center\")\n",
    "\n",
    "plt.xticks(rotation=90)\n",
    "\n",
    "\n",
    "#plt.grid()\n",
    "plt.tight_layout()\n",
    "\n",
    "plt.savefig(fig_directory + \"fig4_boxplot_corr_wrt_pathways_all_models.pdf\")\n",
    "plt.savefig(gimp_directory + \"fig4_boxplot_corr_wrt_pathways_all_models.pdf\")\n",
    "\n",
    "plt.show()"
   ]
  },
  {
   "cell_type": "code",
   "execution_count": 99,
   "metadata": {},
   "outputs": [
    {
     "name": "stderr",
     "output_type": "stream",
     "text": [
      "/home/krzysztof/.local/lib/python3.6/site-packages/ipykernel_launcher.py:2: SettingWithCopyWarning: \n",
      "A value is trying to be set on a copy of a slice from a DataFrame.\n",
      "Try using .loc[row_indexer,col_indexer] = value instead\n",
      "\n",
      "See the caveats in the documentation: http://pandas.pydata.org/pandas-docs/stable/indexing.html#indexing-view-versus-copy\n",
      "  \n"
     ]
    }
   ],
   "source": [
    "mapper = {\"Genome-wide\": \"Genome-wide\", \"Restricted\": \"Biologically driven\"}\n",
    "data[\"Model\"] = data[\"Model\"].map(mapper)"
   ]
  },
  {
   "cell_type": "code",
   "execution_count": 100,
   "metadata": {},
   "outputs": [
    {
     "data": {
      "image/png": "[encoded data removed]",
      "text/plain": [
       "<Figure size 467.717x198.425 with 1 Axes>"
      ]
     },
     "metadata": {},
     "output_type": "display_data"
    }
   ],
   "source": [
    "# Establish order of the pathways\n",
    "differences = []\n",
    "\n",
    "for tp in data[\"TP abbr\"].unique():\n",
    "    df = data[\n",
    "        data[\"TP abbr\"] == tp\n",
    "    ]\n",
    "    df = df.groupby(\"Model\", as_index=False).agg(np.median)\n",
    "    gw_corr = df[df.Model == \"Genome-wide\"][\"Model test correlation\"].iloc[0]\n",
    "    restricted_corr = df[df.Model == \"Biologically driven\"][\"Model test correlation\"].iloc[0]\n",
    "    diff = gw_corr - restricted_corr\n",
    "    differences.append((tp, diff / gw_corr))\n",
    "\n",
    "differences = sorted(differences, key=lambda x: x[1], reverse=True)\n",
    "order = [x[0] for x in differences]\n",
    "\n",
    "############################################\n",
    "# Actual plotting\n",
    "############################################\n",
    "\n",
    "#plt.figure(figsize=(12, 8))\n",
    "\n",
    "ax = sns.boxplot(x=\"TP abbr\", y=\"Model test correlation\", \n",
    "                   data=data,\n",
    "                 hue=\"Model\",\n",
    "                 linewidth=1.,\n",
    "                 fliersize=0.0,\n",
    "                 dodge=True,\n",
    "                 order=order,\n",
    "                 hue_order = [\"Genome-wide\", \"Biologically driven\"])\n",
    "\n",
    "sns.stripplot(x=\"TP abbr\", y=\"Model test correlation\", \n",
    "                   data=data,\n",
    "                   hue=\"Model\",\n",
    "                   dodge=True,\n",
    "                   linewidth=0.5,\n",
    "                   jitter=True,\n",
    "                   edgecolor=\"black\",\n",
    "                   size=2.2,\n",
    "                   order=order,\n",
    "                   hue_order = [\"Genome-wide\", \"Biologically driven\"],\n",
    "                   ax=ax)\n",
    "\n",
    "##############################################################\n",
    "# Add significance asterixes\n",
    "##############################################################\n",
    "\n",
    "# Constants\n",
    "vertical_length = 0.005\n",
    "horizontal_length = 0.5\n",
    "y_margin = 0.03\n",
    "linewidth = 0.5\n",
    "col = \"black\"\n",
    "text_color = \"black\"\n",
    "text_size = 6\n",
    "\n",
    "# Determine x and y coordinates\n",
    "\n",
    "for i in range(len(order)):\n",
    "    # Determine x and y coordinates\n",
    "    xs = []\n",
    "    ys = []\n",
    "    \n",
    "    x = ax.get_xticks()[i]\n",
    "    xs.append(x - horizontal_length / 2)\n",
    "    xs.append(x - horizontal_length / 2)\n",
    "    xs.append(x + horizontal_length / 2)\n",
    "    xs.append(x + horizontal_length / 2)\n",
    "    \n",
    "    tp = order[i]\n",
    "    \n",
    "    # Get y data\n",
    "    df = data[\n",
    "        data[\"Target Pathway\"] == tp\n",
    "    ]\n",
    "    \n",
    "    ymax = df[\"Model test correlation\"].max()\n",
    "    ys.append(ymax + y_margin)\n",
    "    ys.append(ymax + y_margin + vertical_length)\n",
    "    ys.append(ymax + y_margin + vertical_length)\n",
    "    ys.append(ymax + y_margin)\n",
    "    \n",
    "    if significance_dict[tp] < 0.05:\n",
    "    \n",
    "        ax.plot(xs, ys, lw=linewidth, c=col)\n",
    "        ax.text(x+0.01, ymax + y_margin + vertical_length, round(significance_dict[tp], 2), \n",
    "               ha=\"center\", va=\"bottom\", color=text_color, fontsize=text_size)\n",
    "\n",
    "\n",
    "\n",
    "# Get the handles and labels. For this example it'll be 2 tuples\n",
    "# of length 4 each.\n",
    "handles, labels = ax.get_legend_handles_labels()\n",
    "ax.set_ylabel(\"Correlation\")\n",
    "ax.set_xlabel(\"Target Pathway\")\n",
    "\n",
    "ax.set_ylim(ax.get_ylim()[0], ax.get_ylim()[1] + 0.02)\n",
    "\n",
    "# When creating the legend, only use the first two elements\n",
    "# to effectively remove the last two.\n",
    "# l = plt.legend(handles[0:2], labels[0:2],\n",
    "#               bbox_to_anchor=(0., 1.02, 1., .102), loc=3,\n",
    "#            ncol=2, mode=\"expand\", borderaxespad=0.)\n",
    "\n",
    "l = plt.legend(handles[0:2], labels[0:2], loc=\"lower center\")\n",
    "\n",
    "plt.xticks(rotation=90)\n",
    "\n",
    "\n",
    "#plt.grid()\n",
    "plt.tight_layout()\n",
    "\n",
    "plt.savefig(fig_directory + \"fig4_boxplot_corr_wrt_pathways_all_models.pdf\")\n",
    "plt.savefig(gimp_directory + \"fig4_boxplot_corr_wrt_pathways_all_models.pdf\")\n",
    "\n",
    "plt.show()"
   ]
  },
  {
   "cell_type": "markdown",
   "metadata": {},
   "source": [
    "#### Panel 2\n",
    "Results from all methods per drug for DNA replication pathway"
   ]
  },
  {
   "cell_type": "code",
   "execution_count": 25,
   "metadata": {},
   "outputs": [
    {
     "name": "stdout",
     "output_type": "stream",
     "text": [
      "(91, 9) 11\n"
     ]
    }
   ],
   "source": [
    "df_dna_rep_all_models = df_agg_all_models_filtered[\n",
    "    df_agg_all_models_filtered[\"Target Pathway\"] == \"DNA replication\"]\n",
    "print(df_dna_rep_all_models.shape, df_dna_rep_all_models[\"Drug ID\"].nunique())"
   ]
  },
  {
   "cell_type": "code",
   "execution_count": 40,
   "metadata": {},
   "outputs": [
    {
     "name": "stdout",
     "output_type": "stream",
     "text": [
      "Width: 140.0 5.511811023622047\n",
      "Height: 50.0 1.968503937007874\n"
     ]
    }
   ],
   "source": [
    "# Set up constants\n",
    "# width of the page: 6.69\n",
    "mm_per_inch = 25.4\n",
    "\n",
    "panel_width_mm = 140.\n",
    "panel_height_mm = 50.\n",
    "\n",
    "panel_width_inch = panel_width_mm / mm_per_inch\n",
    "panel_height_inch = panel_height_mm / mm_per_inch\n",
    "\n",
    "print(\"Width:\", panel_width_mm, panel_width_inch)\n",
    "print(\"Height:\", panel_height_mm, panel_height_inch)\n",
    "\n",
    "# Update rcParams\n",
    "# Update rcParams\n",
    "params = {\n",
    "        'figure.figsize'      : [panel_width_inch, panel_height_inch] ,\n",
    "        'font.size'           : 8      ,\n",
    "        #'font.sans-serif'     : 'Arial'    ,\n",
    "        'axes.titlesize'      : 10.       ,\n",
    "        'axes.labelsize'      : 9.       ,\n",
    "        'xtick.major.size'    : 2        ,\n",
    "        'xtick.major.width'   : 0.75     ,\n",
    "        'xtick.labelsize'     : 6.0      ,\n",
    "        'xtick.direction'     : 'out'      ,\n",
    "        'ytick.major.size'    : 2        ,\n",
    "        'ytick.major.width'   : 0.75     ,\n",
    "        'ytick.labelsize'     : 8.0      ,\n",
    "        'ytick.direction'     : 'out'      ,\n",
    "        'xtick.major.pad'     : 2        ,\n",
    "        'xtick.minor.pad'     : 2        ,\n",
    "        'ytick.major.pad'     : 2        ,\n",
    "        'ytick.minor.pad'     : 2        ,\n",
    "        'savefig.dpi'         : 300.      ,\n",
    "        'axes.linewidth'      : 0.75     ,\n",
    "        'text.usetex'         : False     ,\n",
    "        'text.latex.unicode'  : False,\n",
    "        'legend.fontsize': 6,\n",
    "          'legend.handlelength': 2\n",
    "}"
   ]
  },
  {
   "cell_type": "code",
   "execution_count": 41,
   "metadata": {},
   "outputs": [
    {
     "name": "stdout",
     "output_type": "stream",
     "text": [
      "[5.511811023622047, 1.968503937007874]\n",
      "8.0\n",
      "6.0\n"
     ]
    },
    {
     "name": "stderr",
     "output_type": "stream",
     "text": [
      "/home/krzysztof/.local/lib/python3.6/site-packages/matplotlib/__init__.py:846: MatplotlibDeprecationWarning: \n",
      "The text.latex.unicode rcparam was deprecated in Matplotlib 2.2 and will be removed in 3.1.\n",
      "  \"2.2\", name=key, obj_type=\"rcparam\", addendum=addendum)\n"
     ]
    }
   ],
   "source": [
    "plt.rcParams.update(params)\n",
    "print(plt.rcParams.get('figure.figsize'))\n",
    "print(plt.rcParams.get('font.size'))\n",
    "print(plt.rcParams.get('legend.fontsize'))"
   ]
  },
  {
   "cell_type": "code",
   "execution_count": 42,
   "metadata": {},
   "outputs": [],
   "source": [
    "# Load hue order for all models and corresponding color palette\n",
    "with open(\"./Results and other files/hue_order_all_models.pkl\", \"rb\") as f:\n",
    "    hue_order_all_models = dill.load(f)\n",
    "with open(\"./Results and other files/palette_all_models.pkl\", \"rb\") as f:\n",
    "    palette_all_models = dill.load(f)"
   ]
  },
  {
   "cell_type": "code",
   "execution_count": 43,
   "metadata": {},
   "outputs": [
    {
     "data": {
      "image/png": "[encoded data removed]",
      "text/plain": [
       "<Figure size 396.85x141.732 with 1 Axes>"
      ]
     },
     "metadata": {},
     "output_type": "display_data"
    }
   ],
   "source": [
    "# Plot drugs in DNA replication pathway\n",
    "#plt.figure(figsize=(10, 6))\n",
    "\n",
    "order = df_dna_rep_all_models.sort_values(\"Model test correlation\", ascending=False)[\n",
    "    \"Drug Name\"].unique()\n",
    "\n",
    "ax = sns.swarmplot(x=\"Drug Name\", y=\"Model test correlation\", data=df_dna_rep_all_models,\n",
    "                  hue=\"Model\",\n",
    "                  order=order,\n",
    "                  hue_order = hue_order_all_models,\n",
    "                  palette=palette_all_models,\n",
    "                  size=4.,\n",
    "                  linewidth=0.5,\n",
    "                  dodge=False,\n",
    "                  alpha=1.,\n",
    "                  edgecolor=\"black\")\n",
    "\n",
    "ax.set_title(\"DNA replication\")\n",
    "ax.set_xlabel(\"Drug Name\")\n",
    "ax.set_ylabel(\"Correlation\")\n",
    "\n",
    "l = plt.legend(bbox_to_anchor=(1.05, 1), loc=2, borderaxespad=0.)\n",
    "for i in range(12):\n",
    "    l.legendHandles[i].set_sizes([20])\n",
    "\n",
    "plt.xticks(rotation=90)\n",
    "#plt.grid()\n",
    "ax.get_legend().remove()\n",
    "plt.tight_layout()\n",
    "\n",
    "plt.savefig(fig_directory + \"fig4_dna_replication.pdf\")\n",
    "plt.savefig(gimp_directory + \"fig4_dna_replication.pdf\")\n",
    "\n",
    "plt.show()"
   ]
  },
  {
   "cell_type": "markdown",
   "metadata": {},
   "source": [
    "#### Panel 3\n",
    "Results from all methods per drug for RTK signaling pathway"
   ]
  },
  {
   "cell_type": "code",
   "execution_count": 30,
   "metadata": {},
   "outputs": [
    {
     "name": "stdout",
     "output_type": "stream",
     "text": [
      "(195, 9) 18\n"
     ]
    }
   ],
   "source": [
    "df_rtk_sign_all_models = df_agg_all_models_filtered[\n",
    "    df_agg_all_models_filtered[\"Target Pathway\"] == \"RTK signaling\"\n",
    "]\n",
    "print(df_rtk_sign_all_models.shape, df_rtk_sign_all_models[\"Drug ID\"].nunique())"
   ]
  },
  {
   "cell_type": "code",
   "execution_count": 36,
   "metadata": {},
   "outputs": [
    {
     "name": "stdout",
     "output_type": "stream",
     "text": [
      "Width: 140.0 5.511811023622047\n",
      "Height: 50.0 1.968503937007874\n"
     ]
    }
   ],
   "source": [
    "# Set up constants\n",
    "# width of the page: 6.69\n",
    "mm_per_inch = 25.4\n",
    "\n",
    "panel_width_mm = 140.\n",
    "panel_height_mm = 50.\n",
    "\n",
    "panel_width_inch = panel_width_mm / mm_per_inch\n",
    "panel_height_inch = panel_height_mm / mm_per_inch\n",
    "\n",
    "print(\"Width:\", panel_width_mm, panel_width_inch)\n",
    "print(\"Height:\", panel_height_mm, panel_height_inch)\n",
    "\n",
    "# Update rcParams\n",
    "# Update rcParams\n",
    "params = {\n",
    "        'figure.figsize'      : [panel_width_inch, panel_height_inch] ,\n",
    "        'font.size'           : 8      ,\n",
    "        #'font.sans-serif'     : 'Arial'    ,\n",
    "        'axes.titlesize'      : 10.       ,\n",
    "        'axes.labelsize'      : 9.       ,\n",
    "        'xtick.major.size'    : 2        ,\n",
    "        'xtick.major.width'   : 0.75     ,\n",
    "        'xtick.labelsize'     : 6.0      ,\n",
    "        'xtick.direction'     : 'out'      ,\n",
    "        'ytick.major.size'    : 2        ,\n",
    "        'ytick.major.width'   : 0.75     ,\n",
    "        'ytick.labelsize'     : 8.0      ,\n",
    "        'ytick.direction'     : 'out'      ,\n",
    "        'xtick.major.pad'     : 2        ,\n",
    "        'xtick.minor.pad'     : 2        ,\n",
    "        'ytick.major.pad'     : 2        ,\n",
    "        'ytick.minor.pad'     : 2        ,\n",
    "        'savefig.dpi'         : 300.      ,\n",
    "        'axes.linewidth'      : 0.75     ,\n",
    "        'text.usetex'         : False     ,\n",
    "        'text.latex.unicode'  : False,\n",
    "        'legend.fontsize': 6,\n",
    "          'legend.handlelength': 2\n",
    "}"
   ]
  },
  {
   "cell_type": "code",
   "execution_count": 37,
   "metadata": {},
   "outputs": [
    {
     "name": "stdout",
     "output_type": "stream",
     "text": [
      "[5.511811023622047, 1.968503937007874]\n",
      "8.0\n",
      "6.0\n"
     ]
    },
    {
     "name": "stderr",
     "output_type": "stream",
     "text": [
      "/home/krzysztof/.local/lib/python3.6/site-packages/matplotlib/__init__.py:846: MatplotlibDeprecationWarning: \n",
      "The text.latex.unicode rcparam was deprecated in Matplotlib 2.2 and will be removed in 3.1.\n",
      "  \"2.2\", name=key, obj_type=\"rcparam\", addendum=addendum)\n"
     ]
    }
   ],
   "source": [
    "plt.rcParams.update(params)\n",
    "print(plt.rcParams.get('figure.figsize'))\n",
    "print(plt.rcParams.get('font.size'))\n",
    "print(plt.rcParams.get('legend.fontsize'))"
   ]
  },
  {
   "cell_type": "code",
   "execution_count": 38,
   "metadata": {},
   "outputs": [],
   "source": [
    "# Load hue order for all models and corresponding color palette\n",
    "with open(\"./Results and other files/hue_order_all_models.pkl\", \"rb\") as f:\n",
    "    hue_order_all_models = dill.load(f)\n",
    "with open(\"./Results and other files/palette_all_models.pkl\", \"rb\") as f:\n",
    "    palette_all_models = dill.load(f)"
   ]
  },
  {
   "cell_type": "code",
   "execution_count": 39,
   "metadata": {},
   "outputs": [
    {
     "data": {
      "image/png": "[encoded data removed]",
      "text/plain": [
       "<Figure size 396.85x141.732 with 1 Axes>"
      ]
     },
     "metadata": {},
     "output_type": "display_data"
    }
   ],
   "source": [
    "# Plot drugs in DNA replication pathway\n",
    "#plt.figure(figsize=(10, 6))\n",
    "\n",
    "order = df_rtk_sign_all_models.sort_values(\"Model test correlation\", ascending=False)[\n",
    "    \"Drug Name\"].unique()\n",
    "\n",
    "ax = sns.swarmplot(x=\"Drug Name\", y=\"Model test correlation\", data=df_rtk_sign_all_models,\n",
    "                  hue=\"Model\",\n",
    "                  order=order,\n",
    "                  hue_order = hue_order_all_models,\n",
    "                  palette=palette_all_models,\n",
    "                  size=4.,\n",
    "                  linewidth=0.5,\n",
    "                  dodge=False,\n",
    "                  alpha=1.,\n",
    "                  edgecolor=\"black\")\n",
    "\n",
    "ax.set_title(\"RTK signaling\")\n",
    "ax.set_xlabel(\"Drug Name\")\n",
    "ax.set_ylabel(\"Correlation\")\n",
    "\n",
    "l = plt.legend(loc=\"upper left\", bbox_to_anchor=(1, 1))\n",
    "for i in range(12):\n",
    "    l.legendHandles[i].set_sizes([20])\n",
    "\n",
    "# ax.get_legend().set_visible(False)\n",
    "\n",
    "plt.xticks(rotation=90)\n",
    "#plt.grid()\n",
    "ax.get_legend().remove()\n",
    "\n",
    "plt.tight_layout()\n",
    "\n",
    "plt.savefig(fig_directory + \"fig4_rtk_signaling.pdf\")\n",
    "plt.savefig(gimp_directory + \"fig4_rtk_signaling.pdf\")\n",
    "\n",
    "plt.show()"
   ]
  },
  {
   "cell_type": "markdown",
   "metadata": {},
   "source": [
    "## Figure 5\n",
    "Feature importances"
   ]
  },
  {
   "cell_type": "code",
   "execution_count": 88,
   "metadata": {},
   "outputs": [],
   "source": [
    "# Set the directory to save figures (panels) in\n",
    "fig_directory = \"./Figures for article working version/\"\n",
    "gimp_directory = \"/home/krzysztof/Dokumenty/Doktorat/Dokumenty/Moje artykuły/Modeling drug efficacy/Figures/Panels/\""
   ]
  },
  {
   "cell_type": "markdown",
   "metadata": {},
   "source": [
    "#### Panel 1 - feature importances"
   ]
  },
  {
   "cell_type": "code",
   "execution_count": 44,
   "metadata": {},
   "outputs": [
    {
     "name": "stdout",
     "output_type": "stream",
     "text": [
      "(177, 9) 177\n"
     ]
    },
    {
     "data": {
      "text/html": [
       "<div>\n",
       "<style scoped>\n",
       "    .dataframe tbody tr th:only-of-type {\n",
       "        vertical-align: middle;\n",
       "    }\n",
       "\n",
       "    .dataframe tbody tr th {\n",
       "        vertical-align: top;\n",
       "    }\n",
       "\n",
       "    .dataframe thead th {\n",
       "        text-align: right;\n",
       "    }\n",
       "</style>\n",
       "<table border=\"1\" class=\"dataframe\">\n",
       "  <thead>\n",
       "    <tr style=\"text-align: right;\">\n",
       "      <th></th>\n",
       "      <th>Drug ID</th>\n",
       "      <th>Drug Name</th>\n",
       "      <th>Model test RMSE</th>\n",
       "      <th>Model test correlation</th>\n",
       "      <th>Correlation pval</th>\n",
       "      <th>Dummy test RMSE</th>\n",
       "      <th>Relative test RMSE</th>\n",
       "      <th>Target Pathway</th>\n",
       "      <th>Model</th>\n",
       "    </tr>\n",
       "  </thead>\n",
       "  <tbody>\n",
       "    <tr>\n",
       "      <th>0</th>\n",
       "      <td>1373</td>\n",
       "      <td>Dabrafenib</td>\n",
       "      <td>0.127750</td>\n",
       "      <td>0.752645</td>\n",
       "      <td>1.075014e-40</td>\n",
       "      <td>0.193280</td>\n",
       "      <td>1.514006</td>\n",
       "      <td>ERK MAPK signaling</td>\n",
       "      <td>OT + S RF</td>\n",
       "    </tr>\n",
       "    <tr>\n",
       "      <th>1</th>\n",
       "      <td>277</td>\n",
       "      <td>Linifanib</td>\n",
       "      <td>0.055801</td>\n",
       "      <td>0.749668</td>\n",
       "      <td>4.346970e-19</td>\n",
       "      <td>0.080856</td>\n",
       "      <td>1.483354</td>\n",
       "      <td>RTK signaling</td>\n",
       "      <td>OT RF</td>\n",
       "    </tr>\n",
       "    <tr>\n",
       "      <th>2</th>\n",
       "      <td>52</td>\n",
       "      <td>GNF-2</td>\n",
       "      <td>0.043907</td>\n",
       "      <td>0.698448</td>\n",
       "      <td>2.000000e-01</td>\n",
       "      <td>0.053700</td>\n",
       "      <td>1.246686</td>\n",
       "      <td>ABL signaling</td>\n",
       "      <td>OT EN</td>\n",
       "    </tr>\n",
       "  </tbody>\n",
       "</table>\n",
       "</div>"
      ],
      "text/plain": [
       "   Drug ID   Drug Name  Model test RMSE  Model test correlation  \\\n",
       "0     1373  Dabrafenib         0.127750                0.752645   \n",
       "1      277   Linifanib         0.055801                0.749668   \n",
       "2       52       GNF-2         0.043907                0.698448   \n",
       "\n",
       "   Correlation pval  Dummy test RMSE  Relative test RMSE      Target Pathway  \\\n",
       "0      1.075014e-40         0.193280            1.514006  ERK MAPK signaling   \n",
       "1      4.346970e-19         0.080856            1.483354       RTK signaling   \n",
       "2      2.000000e-01         0.053700            1.246686       ABL signaling   \n",
       "\n",
       "       Model  \n",
       "0  OT + S RF  \n",
       "1      OT RF  \n",
       "2      OT EN  "
      ]
     },
     "execution_count": 44,
     "metadata": {},
     "output_type": "execute_result"
    }
   ],
   "source": [
    "df_best_from_restricted = pd.read_csv(\"Results and other files/df_best_results_per_drug_from_restricted_models.csv\")\n",
    "print(df_best_from_restricted.shape, df_best_from_restricted[\"Drug ID\"].nunique())\n",
    "df_best_from_restricted.head(3)"
   ]
  },
  {
   "cell_type": "code",
   "execution_count": 45,
   "metadata": {},
   "outputs": [
    {
     "name": "stdout",
     "output_type": "stream",
     "text": [
      "177\n"
     ]
    }
   ],
   "source": [
    "with open(\"Results and other files/feature_importances_all_restricted_modelings.pkl\", \"rb\") as f:\n",
    "    feat_imps_all_restricted_mods = dill.load(f)\n",
    "print(len(feat_imps_all_restricted_mods))"
   ]
  },
  {
   "cell_type": "code",
   "execution_count": 50,
   "metadata": {},
   "outputs": [
    {
     "name": "stdout",
     "output_type": "stream",
     "text": [
      "(704, 9) 4\n"
     ]
    }
   ],
   "source": [
    "# Extract data for restricted models with signatures\n",
    "data_signature_models = df_agg_all_models[\n",
    "    df_agg_all_models.Model.isin([\"OT + S EN\", \"OT + S RF\", \"PG + S EN\", \"PG + S RF\"])\n",
    "]\n",
    "print(data_signature_models.shape, data_signature_models.Model.nunique())"
   ]
  },
  {
   "cell_type": "code",
   "execution_count": 51,
   "metadata": {},
   "outputs": [
    {
     "name": "stdout",
     "output_type": "stream",
     "text": [
      "All drugs with restricted models: 177\n",
      "Drugs with at least one restricted model with all feature types: 160\n",
      "[('OT + S EN', 0.4102571189894932), ('PG + S RF', 0.3916252656462129), ('PG + S EN', 0.3757112401003099), ('OT + S RF', 0.33480861356789704)]\n"
     ]
    }
   ],
   "source": [
    "# Create a dict containing information about models consisting all feature types\n",
    "models_with_all_feats = {}\n",
    "sign_mods = [\"OT + S EN\", \"OT + S RF\", \"PG + S EN\", \"PG + S RF\"]\n",
    "\n",
    "\n",
    "for name, ide in feat_imps_all_restricted_mods:\n",
    "    models_with_all = []\n",
    "    for model in sign_mods:\n",
    "        if model in feat_imps_all_restricted_mods[(name, ide)]:\n",
    "            feat_names = [x[0] for x in feat_imps_all_restricted_mods[(name, ide)][model].importances_vector]\n",
    "            corr = feat_imps_all_restricted_mods[(name, ide)][model].test_correlation\n",
    "            feat_types = ModelingResults.check_feature_types(feat_names)\n",
    "            if len(feat_types) == 5:\n",
    "                models_with_all.append((model, corr))\n",
    "                \n",
    "    if len(models_with_all) > 0:\n",
    "        models_with_all = sorted(models_with_all, key=lambda x: x[1], reverse=True)\n",
    "        models_with_all_feats[(name, ide)] = models_with_all\n",
    "        \n",
    "print(\"All drugs with restricted models:\", len(feat_imps_all_restricted_mods))\n",
    "print(\"Drugs with at least one restricted model with all feature types:\", len(models_with_all_feats))\n",
    "print(models_with_all_feats[(\"Erlotinib\", 1)])"
   ]
  },
  {
   "cell_type": "code",
   "execution_count": 52,
   "metadata": {},
   "outputs": [
    {
     "name": "stdout",
     "output_type": "stream",
     "text": [
      "(160, 4)\n"
     ]
    },
    {
     "data": {
      "text/html": [
       "<div>\n",
       "<style scoped>\n",
       "    .dataframe tbody tr th:only-of-type {\n",
       "        vertical-align: middle;\n",
       "    }\n",
       "\n",
       "    .dataframe tbody tr th {\n",
       "        vertical-align: top;\n",
       "    }\n",
       "\n",
       "    .dataframe thead th {\n",
       "        text-align: right;\n",
       "    }\n",
       "</style>\n",
       "<table border=\"1\" class=\"dataframe\">\n",
       "  <thead>\n",
       "    <tr style=\"text-align: right;\">\n",
       "      <th></th>\n",
       "      <th>Drug ID</th>\n",
       "      <th>Drug Name</th>\n",
       "      <th>Model</th>\n",
       "      <th>Test correlation</th>\n",
       "    </tr>\n",
       "  </thead>\n",
       "  <tbody>\n",
       "    <tr>\n",
       "      <th>0</th>\n",
       "      <td>1373</td>\n",
       "      <td>Dabrafenib</td>\n",
       "      <td>OT + S RF</td>\n",
       "      <td>0.752645</td>\n",
       "    </tr>\n",
       "    <tr>\n",
       "      <th>1</th>\n",
       "      <td>29</td>\n",
       "      <td>AZ628</td>\n",
       "      <td>OT + S EN</td>\n",
       "      <td>0.665869</td>\n",
       "    </tr>\n",
       "    <tr>\n",
       "      <th>2</th>\n",
       "      <td>1372</td>\n",
       "      <td>Trametinib</td>\n",
       "      <td>PG + S EN</td>\n",
       "      <td>0.653570</td>\n",
       "    </tr>\n",
       "  </tbody>\n",
       "</table>\n",
       "</div>"
      ],
      "text/plain": [
       "   Drug ID   Drug Name      Model  Test correlation\n",
       "0     1373  Dabrafenib  OT + S RF          0.752645\n",
       "1       29       AZ628  OT + S EN          0.665869\n",
       "2     1372  Trametinib  PG + S EN          0.653570"
      ]
     },
     "execution_count": 52,
     "metadata": {},
     "output_type": "execute_result"
    }
   ],
   "source": [
    "# Make sort drugs with models with all feature types by correlation\n",
    "ides = []\n",
    "names = []\n",
    "models = []\n",
    "corrs = []\n",
    "\n",
    "for name, ide in models_with_all_feats:\n",
    "    ides.append(ide)\n",
    "    names.append(name)\n",
    "    models.append(models_with_all_feats[(name, ide)][0][0])\n",
    "    corrs.append(models_with_all_feats[(name, ide)][0][1])\n",
    "    \n",
    "df = pd.DataFrame()\n",
    "df[\"Drug ID\"] = ides\n",
    "df[\"Drug Name\"] = names\n",
    "df[\"Model\"] = models\n",
    "df[\"Test correlation\"] = corrs\n",
    "\n",
    "df = df.sort_values(\"Test correlation\", ascending=False).reset_index(drop=True)\n",
    "print(df.shape)\n",
    "df.head(3)"
   ]
  },
  {
   "cell_type": "code",
   "execution_count": 53,
   "metadata": {},
   "outputs": [
    {
     "name": "stdout",
     "output_type": "stream",
     "text": [
      "Last correlation: 0.4693335618103786\n",
      "Top mutations: 6\n",
      "Top expressions 45\n",
      "Top signatures 34\n",
      "Top tissue 14\n",
      "Top CNV 1\n"
     ]
    }
   ],
   "source": [
    "# Extract feature information about feature importance for top 50 drugs, \n",
    "# using only models with all feature types\n",
    "k = 50\n",
    "topk_feats = 2\n",
    "top_feature_types = {\"tissue\": 0,\n",
    "                    \"expression\": 0,\n",
    "                    \"mutation\": 0,\n",
    "                    \"signatures\": 0,\n",
    "                    \"CNV\": 0}\n",
    "for idx, row in df.iloc[:50].iterrows():\n",
    "    ide = row[\"Drug ID\"]\n",
    "    name = row[\"Drug Name\"]\n",
    "    best_model = row[\"Model\"]\n",
    "    \n",
    "    top_feats = feat_imps_all_restricted_mods[(name, ide)][best_model].importances_vector[:topk_feats]\n",
    "    top_feats = [x[0] for x in top_feats]\n",
    "   \n",
    "    for feat_type in top_feature_types:\n",
    "        top_feature_types[feat_type] += ModelingResults.count_feat_types(top_feats, feat_type)\n",
    "        \n",
    "        \n",
    "print(\"Last correlation:\", df.iloc[k-1][\"Test correlation\"])\n",
    "print(\"Top mutations:\", top_feature_types[\"mutation\"])\n",
    "print(\"Top expressions\", top_feature_types[\"expression\"])\n",
    "print(\"Top signatures\", top_feature_types[\"signatures\"])\n",
    "print(\"Top tissue\", top_feature_types[\"tissue\"])\n",
    "print(\"Top CNV\", top_feature_types[\"CNV\"])"
   ]
  },
  {
   "cell_type": "code",
   "execution_count": null,
   "metadata": {},
   "outputs": [],
   "source": []
  },
  {
   "cell_type": "code",
   "execution_count": 80,
   "metadata": {},
   "outputs": [
    {
     "name": "stdout",
     "output_type": "stream",
     "text": [
      "Width: 170.0 6.692913385826772\n",
      "Height: 50.0 1.968503937007874\n"
     ]
    }
   ],
   "source": [
    "# Set up constants\n",
    "# width of the page: 6.69\n",
    "mm_per_inch = 25.4\n",
    "\n",
    "panel_width_mm = 170.\n",
    "panel_height_mm = 50.\n",
    "\n",
    "panel_width_inch = panel_width_mm / mm_per_inch\n",
    "panel_height_inch = panel_height_mm / mm_per_inch\n",
    "\n",
    "print(\"Width:\", panel_width_mm, panel_width_inch)\n",
    "print(\"Height:\", panel_height_mm, panel_height_inch)\n",
    "\n",
    "# Update rcParams\n",
    "# Update rcParams\n",
    "params = {\n",
    "        'figure.figsize'      : [panel_width_inch, panel_height_inch] ,\n",
    "        'font.size'           : 8      ,\n",
    "        #'font.sans-serif'     : 'Arial'    ,\n",
    "        'axes.titlesize'      : 8.       ,\n",
    "        'axes.labelsize'      : 9.       ,\n",
    "        'xtick.major.size'    : 2        ,\n",
    "        'xtick.major.width'   : 0.75     ,\n",
    "        'xtick.labelsize'     : 8.0      ,\n",
    "        'xtick.direction'     : 'out'      ,\n",
    "        'ytick.major.size'    : 2        ,\n",
    "        'ytick.major.width'   : 0.75     ,\n",
    "        'ytick.labelsize'     : 8.0      ,\n",
    "        'ytick.direction'     : 'out'      ,\n",
    "        'xtick.major.pad'     : 2        ,\n",
    "        'xtick.minor.pad'     : 2        ,\n",
    "        'ytick.major.pad'     : 2        ,\n",
    "        'ytick.minor.pad'     : 2        ,\n",
    "        'savefig.dpi'         : 300.      ,\n",
    "        'axes.linewidth'      : 0.75     ,\n",
    "        'text.usetex'         : False     ,\n",
    "        'text.latex.unicode'  : False,\n",
    "        'legend.fontsize': 6,\n",
    "          'legend.handlelength': 2\n",
    "}"
   ]
  },
  {
   "cell_type": "code",
   "execution_count": 81,
   "metadata": {},
   "outputs": [
    {
     "name": "stdout",
     "output_type": "stream",
     "text": [
      "[6.692913385826772, 1.968503937007874]\n",
      "8.0\n",
      "6.0\n"
     ]
    },
    {
     "name": "stderr",
     "output_type": "stream",
     "text": [
      "/home/krzysztof/.local/lib/python3.6/site-packages/matplotlib/__init__.py:846: MatplotlibDeprecationWarning: \n",
      "The text.latex.unicode rcparam was deprecated in Matplotlib 2.2 and will be removed in 3.1.\n",
      "  \"2.2\", name=key, obj_type=\"rcparam\", addendum=addendum)\n"
     ]
    }
   ],
   "source": [
    "plt.rcParams.update(params)\n",
    "print(plt.rcParams.get('figure.figsize'))\n",
    "print(plt.rcParams.get('font.size'))\n",
    "print(plt.rcParams.get('legend.fontsize'))"
   ]
  },
  {
   "cell_type": "code",
   "execution_count": 101,
   "metadata": {},
   "outputs": [
    {
     "data": {
      "image/png": "[encoded data removed]",
      "text/plain": [
       "<Figure size 481.89x141.732 with 8 Axes>"
      ]
     },
     "metadata": {},
     "output_type": "display_data"
    }
   ],
   "source": [
    "# Plot the counts / frequencies\n",
    "order = [\"expression\", \"signatures\", \"tissue\", \"mutation\", \"CNV\"]\n",
    "\n",
    "fig = plt.figure()\n",
    "\n",
    "kfeats = [1, 2, 3, 5, 8, 10, 15, 20]\n",
    "kdrugs = 50\n",
    "i = 1\n",
    "\n",
    "for kfeat in kfeats:\n",
    "    topk_feats = kfeat\n",
    "    top_feature_types = {\"tissue\": 0,\n",
    "                        \"expression\": 0,\n",
    "                        \"mutation\": 0,\n",
    "                        \"signatures\": 0,\n",
    "                        \"CNV\": 0}\n",
    "    for idx, row in df.iloc[:kdrugs].iterrows():\n",
    "        ide = row[\"Drug ID\"]\n",
    "        name = row[\"Drug Name\"]\n",
    "        best_model = row[\"Model\"]\n",
    "\n",
    "        top_feats = feat_imps_all_restricted_mods[(name, ide)][best_model].importances_vector[:topk_feats]\n",
    "        top_feats = [x[0] for x in top_feats]\n",
    "\n",
    "        for feat_type in top_feature_types:\n",
    "            top_feature_types[feat_type] += ModelingResults.count_feat_types(top_feats, feat_type)\n",
    "            \n",
    "    xs = []\n",
    "    ys = []\n",
    "    \n",
    "    for feat in top_feature_types:\n",
    "        xs.append(feat)\n",
    "        ys.append(top_feature_types[feat] / (kfeat * kdrugs))\n",
    "        \n",
    "    ax = fig.add_subplot(1, len(kfeats), i)\n",
    "    sns.barplot(x=ys, y=xs, order=order, orient=\"h\", ax=ax)\n",
    "    ax.set_title(\"Top {}\".format(kfeat))\n",
    "    ax.set_xlim((0.0, 0.51345))\n",
    "    if i != 1:\n",
    "        ax.set_yticklabels([\"\" for x in range(len(ax.get_yticklabels()))])\n",
    "    if i == 1:\n",
    "        ax.set_ylabel(\"Feature type\")\n",
    "    \n",
    "    i += 1\n",
    "    \n",
    "    \n",
    "fig.text(0.56, 0.00, 'Frequency', ha=\"center\", va=\"bottom\", fontsize=9)\n",
    "#sns.despine(left=True, bottom=True)\n",
    "plt.tight_layout()\n",
    "fig.subplots_adjust(bottom=0.17) # or whatever\n",
    "\n",
    "plt.savefig(fig_directory + \"fig5_feat_importances.pdf\")\n",
    "plt.savefig(gimp_directory + \"fig5_feat_importances.pdf\")\n",
    "\n",
    "plt.show()"
   ]
  },
  {
   "cell_type": "markdown",
   "metadata": {},
   "source": [
    "## Figure 6\n",
    "Drugs of interest\n",
    "- Half page width: 85 mm\n",
    "- Full page width: 170 mm\n",
    "- 170 mm corresponds to 6.6929133858 inches\n",
    "- One inch: 25.4 mm\n",
    "\n",
    "One panel with drug summary and scatter plots"
   ]
  },
  {
   "cell_type": "code",
   "execution_count": 30,
   "metadata": {},
   "outputs": [],
   "source": [
    "# Set the directory to save figures (panels) in\n",
    "fig_directory = \"./Figures for article working version/\"\n",
    "gimp_directory = \"/home/krzysztof/Dokumenty/Doktorat/Dokumenty/Moje artykuły/Modeling drug efficacy/Figures/Panels/\""
   ]
  },
  {
   "cell_type": "code",
   "execution_count": 92,
   "metadata": {},
   "outputs": [
    {
     "name": "stdout",
     "output_type": "stream",
     "text": [
      "(10, 10)\n"
     ]
    }
   ],
   "source": [
    "# Load DataFrame with drugs of interest\n",
    "df_doi = pd.read_csv(\"./Results and other files/drugs_of_interest.csv\")\n",
    "print(df_doi.shape)"
   ]
  },
  {
   "cell_type": "markdown",
   "metadata": {},
   "source": [
    "#### Panel 1\n",
    "Drugs of interest results for all models"
   ]
  },
  {
   "cell_type": "code",
   "execution_count": 23,
   "metadata": {},
   "outputs": [
    {
     "name": "stdout",
     "output_type": "stream",
     "text": [
      "(10, 10)\n"
     ]
    }
   ],
   "source": [
    "# Load DataFrame with drugs of interest\n",
    "df_doi = pd.read_csv(\"./Results and other files/drugs_of_interest.csv\")\n",
    "print(df_doi.shape)"
   ]
  },
  {
   "cell_type": "code",
   "execution_count": 24,
   "metadata": {},
   "outputs": [],
   "source": [
    "# Load hue order for all models and corresponding color palette\n",
    "with open(\"./Results and other files/hue_order_all_models.pkl\", \"rb\") as f:\n",
    "    hue_order_all_models = dill.load(f)\n",
    "with open(\"./Results and other files/palette_all_models.pkl\", \"rb\") as f:\n",
    "    palette_all_models = dill.load(f)"
   ]
  },
  {
   "cell_type": "code",
   "execution_count": 25,
   "metadata": {},
   "outputs": [
    {
     "name": "stdout",
     "output_type": "stream",
     "text": [
      "Width: 170.0 6.692913385826772\n",
      "Height: 100.0 3.937007874015748\n"
     ]
    }
   ],
   "source": [
    "# Set up constants\n",
    "# width of the page: 6.69\n",
    "mm_per_inch = 25.4\n",
    "\n",
    "panel_width_mm = 170.\n",
    "panel_height_mm = 100.\n",
    "\n",
    "panel_width_inch = panel_width_mm / mm_per_inch\n",
    "panel_height_inch = panel_height_mm / mm_per_inch\n",
    "\n",
    "print(\"Width:\", panel_width_mm, panel_width_inch)\n",
    "print(\"Height:\", panel_height_mm, panel_height_inch)\n",
    "\n",
    "# Update rcParams\n",
    "# Update rcParams\n",
    "params = {\n",
    "        'figure.figsize'      : [panel_width_inch, panel_height_inch] ,\n",
    "        'font.size'           : 8      ,\n",
    "        #'font.sans-serif'     : 'Arial'    ,\n",
    "        'axes.titlesize'      : 9.       ,\n",
    "        'axes.labelsize'      : 9.       ,\n",
    "        'xtick.major.size'    : 2        ,\n",
    "        'xtick.major.width'   : 0.75     ,\n",
    "        'xtick.labelsize'     : 6.0      ,\n",
    "        'xtick.direction'     : 'out'      ,\n",
    "        'ytick.major.size'    : 2        ,\n",
    "        'ytick.major.width'   : 0.75     ,\n",
    "        'ytick.labelsize'     : 8.0      ,\n",
    "        'ytick.direction'     : 'out'      ,\n",
    "        'xtick.major.pad'     : 2        ,\n",
    "        'xtick.minor.pad'     : 2        ,\n",
    "        'ytick.major.pad'     : 2        ,\n",
    "        'ytick.minor.pad'     : 2        ,\n",
    "        'savefig.dpi'         : 300.      ,\n",
    "        'axes.linewidth'      : 0.75     ,\n",
    "        'text.usetex'         : False     ,\n",
    "        'text.latex.unicode'  : False,\n",
    "        'legend.fontsize': 6,\n",
    "          'legend.handlelength': 2\n",
    "}"
   ]
  },
  {
   "cell_type": "code",
   "execution_count": 26,
   "metadata": {},
   "outputs": [
    {
     "name": "stdout",
     "output_type": "stream",
     "text": [
      "[6.692913385826772, 3.937007874015748]\n",
      "8.0\n",
      "6.0\n"
     ]
    },
    {
     "name": "stderr",
     "output_type": "stream",
     "text": [
      "/home/krzysztof/.local/lib/python3.6/site-packages/matplotlib/__init__.py:846: MatplotlibDeprecationWarning: \n",
      "The text.latex.unicode rcparam was deprecated in Matplotlib 2.2 and will be removed in 3.1.\n",
      "  \"2.2\", name=key, obj_type=\"rcparam\", addendum=addendum)\n"
     ]
    }
   ],
   "source": [
    "plt.rcParams.update(params)\n",
    "print(plt.rcParams.get('figure.figsize'))\n",
    "print(plt.rcParams.get('font.size'))\n",
    "print(plt.rcParams.get('legend.fontsize'))"
   ]
  },
  {
   "cell_type": "code",
   "execution_count": 31,
   "metadata": {},
   "outputs": [
    {
     "data": {
      "image/png": "[encoded data removed]",
      "text/plain": [
       "<Figure size 481.89x283.465 with 2 Axes>"
      ]
     },
     "metadata": {},
     "output_type": "display_data"
    }
   ],
   "source": [
    "# Plot the DOIs for all models\n",
    "#plt.figure(figsize=(10, 4))\n",
    "\n",
    "# Extract drugs of interest from overall DF\n",
    "df = df_agg_all_models_filtered[\n",
    "    df_agg_all_models_filtered[\"Drug ID\"].isin(df_doi[\"Drug ID\"].unique())\n",
    "]\n",
    "\n",
    "df = df[df.Model != \"GW AF EN\"]\n",
    "\n",
    "ax = sns.stripplot(x=\"Drug Name\", y=\"Model test correlation\", data=df,\n",
    "                  hue=\"Model\", hue_order=hue_order_all_models,\n",
    "                  order = df_doi[\"Drug Name\"].unique(), \n",
    "                  palette=palette_all_models,\n",
    "                  size=5,\n",
    "                  linewidth=0.5,\n",
    "                  jitter=True,\n",
    "                  dodge=False,\n",
    "                  edgecolor=\"black\")\n",
    "\n",
    "ax.set_xlabel(\"Drug\", fontsize=10)\n",
    "ax.set_ylabel(\"Correlation\", fontsize=10)\n",
    "ax.tick_params(axis='x', labelsize=8, rotation=90)\n",
    "ax.tick_params(axis='y', labelsize=8)\n",
    "ax.set_ylim(ax.get_ylim()[0], ax.get_ylim()[1] + 0.1)\n",
    "\n",
    "ax2 = ax.twiny()\n",
    "ax2.set_xlim(ax.get_xlim())\n",
    "ax2.set_xticks(ax.get_xticks())\n",
    "labels = []\n",
    "for tp, mod in zip(df_doi[\"Target Pathway\"].values, df_doi[\"Model\"].values):\n",
    "    if tp == \"ERK MAPK signaling\":\n",
    "        tp = \"ERK MAPK sig.\"\n",
    "    elif tp ==\"RTK signaling\":\n",
    "        tp = \"RTK sig.\"\n",
    "    elif tp == \"ABL signaling\":\n",
    "        tp = \"ABL sig.\"\n",
    "    elif tp == \"EGFR signaling\":\n",
    "        tp = \"EGFR sig.\"\n",
    "    elif tp == \"DNA replication\":\n",
    "        tp = \"DNA rep.\"\n",
    "    labels.append(tp + \", \" + mod)\n",
    "\n",
    "ax2.set_xticklabels(labels, rotation=40, ha=\"left\")\n",
    "\n",
    "# Add feature numbers\n",
    "vertical_position = 0.79\n",
    "text_color = \"black\"\n",
    "text_size = 8\n",
    "\n",
    "#plt.grid()\n",
    "\n",
    "for i in range(df_doi.shape[0]):\n",
    "    feat_number = int(df_doi[\"No. features\"].iloc[i])\n",
    "    if feat_number == 17737:\n",
    "        pass\n",
    "    # Determine x and y coordinates\n",
    "    x = ax.get_xticks()[i]\n",
    "    ax.text(x, vertical_position, feat_number, ha=\"center\", va=\"bottom\", color=text_color, fontsize=text_size,\n",
    "           fontweight=\"bold\")\n",
    "\n",
    "\n",
    "l = ax.legend(loc=\"upper left\", bbox_to_anchor=(1,1))\n",
    "\n",
    "#plt.xticks(rotation=90)\n",
    "\n",
    "plt.tight_layout()\n",
    "\n",
    "plt.savefig(fig_directory + \"fig6_doi.pdf\")\n",
    "plt.savefig(gimp_directory + \"fig6_doi.pdf\")\n",
    "plt.tight_layout()\n",
    "\n",
    "plt.show()"
   ]
  },
  {
   "cell_type": "markdown",
   "metadata": {},
   "source": [
    "# Figure 7\n",
    "Scatter plots and feature importances for DOI"
   ]
  },
  {
   "cell_type": "code",
   "execution_count": 101,
   "metadata": {},
   "outputs": [],
   "source": [
    "from sklearn.linear_model import ElasticNet\n",
    "from sklearn.ensemble import RandomForestRegressor"
   ]
  },
  {
   "cell_type": "code",
   "execution_count": 102,
   "metadata": {},
   "outputs": [],
   "source": [
    "# Set the directory to save figures (panels) in\n",
    "fig_directory = \"./Figures for article working version/\"\n",
    "gimp_directory = \"/home/krzysztof/Dokumenty/Doktorat/Dokumenty/Moje artykuły/Modeling drug efficacy/Figures/Panels/\""
   ]
  },
  {
   "cell_type": "code",
   "execution_count": 103,
   "metadata": {},
   "outputs": [
    {
     "name": "stdout",
     "output_type": "stream",
     "text": [
      "(10, 10)\n"
     ]
    }
   ],
   "source": [
    "# Load DataFrame with drugs of interest\n",
    "df_doi = pd.read_csv(\"./Results and other files/drugs_of_interest.csv\")\n",
    "print(df_doi.shape)"
   ]
  },
  {
   "cell_type": "code",
   "execution_count": 104,
   "metadata": {},
   "outputs": [
    {
     "name": "stdout",
     "output_type": "stream",
     "text": [
      "<class 'gdsc_projects_module.ModelingResults'> 10\n"
     ]
    }
   ],
   "source": [
    "# Load genome-wide ENet ModelingResult object\n",
    "filepath = \"../Results Assesment/Final experimental raw results/\"\n",
    "with open(filepath + \"genome_wide-enet_over_few_data_splits_without_feature_selection.pkl\", \"rb\") as f:\n",
    "    genome_wide_without_selection_enet = dill.load(f)\n",
    "print(type(genome_wide_without_selection_enet), \n",
    "      len(genome_wide_without_selection_enet.feat_importances_dict))"
   ]
  },
  {
   "cell_type": "markdown",
   "metadata": {},
   "source": [
    "#### Panel 1 - scatter plot of a given drug"
   ]
  },
  {
   "cell_type": "code",
   "execution_count": 67,
   "metadata": {},
   "outputs": [
    {
     "name": "stdout",
     "output_type": "stream",
     "text": [
      "Only targets - modeling with RForest over few data splits\n",
      "184\n"
     ]
    }
   ],
   "source": [
    "# Load corresponding best ModelingResults object\n",
    "# Set directory with results\n",
    "model_name = \"OT RF + S\"\n",
    "filepath = \"./Final experimental raw results/\"\n",
    "with open(filepath + \"only_targets-rforest_over_few_data_splits.pkl\", \"rb\") as f:\n",
    "    restricted_results = dill.load(f)\n",
    "print(restricted_results.name)\n",
    "print(len(restricted_results.performance_dict))"
   ]
  },
  {
   "cell_type": "code",
   "execution_count": 113,
   "metadata": {},
   "outputs": [],
   "source": [
    "# Pick a split to work on\n",
    "drug_name = \"Dabrafenib\"\n",
    "drug_id = df_doi[df_doi[\"Drug Name\"] == drug_name][\"Drug ID\"].iloc[0]\n",
    "drug_tuple = (drug_name, drug_id)\n",
    "split_seed = 98  #37\n",
    "\n",
    "estimator_seed_restricted = restricted_results.estimator_seeds[restricted_results.split_seeds.index(split_seed)]\n",
    "estimator_seed_gw = genome_wide_without_selection_enet.estimator_seeds[genome_wide_without_selection_enet.split_seeds.index(split_seed)]\n",
    "tuning_seed_restricted = restricted_results.tuning_seeds_dict[drug_tuple][split_seed]\n",
    "tuning_seed_gw = genome_wide_without_selection_enet.tuning_seeds_dict[drug_tuple][split_seed]"
   ]
  },
  {
   "cell_type": "code",
   "execution_count": 114,
   "metadata": {},
   "outputs": [
    {
     "name": "stderr",
     "output_type": "stream",
     "text": [
      "/media/krzysztof/Nowy/Doktorat - Modelling drug efficacy in cancer/Projects/Created Modules/gdsc_projects_module.py:418: SettingWithCopyWarning: \n",
      "A value is trying to be set on a copy of a slice from a DataFrame\n",
      "\n",
      "See the caveats in the documentation: http://pandas.pydata.org/pandas-docs/stable/indexing.html#indexing-view-versus-copy\n",
      "  obj.sort_values(\"cell_line_id\", inplace=True)\n"
     ]
    },
    {
     "name": "stdout",
     "output_type": "stream",
     "text": [
      "Shape of created GW data: (875, 17739)\n",
      "Shape of created restricted data: (823, 150)\n",
      "X_train_gw and X_train_restricted shape: (576, 17737) (576, 148)\n",
      "X_test_gw and X_test_restricted shape: (247, 17737) (247, 148)\n",
      "y_both_train and y_both_test shape: (576,) (247,)\n",
      "219.30321399999997\n"
     ]
    }
   ],
   "source": [
    "# Perform both modelings\n",
    "# Generate full data for both models - genome-wide all features\n",
    "drugs = DrugGenomeWide.create_drugs(drug_annotations_df)\n",
    "drug_gw = drugs[drug_tuple[1]]\n",
    "del drugs\n",
    "\n",
    "# drugs = DrugWithGenesInSamePathways.create_drugs(drug_annotations_df, map_drugs_to_drugbank_targets, \n",
    "#                                        map_target_genes_to_same_pathways_genes)\n",
    "\n",
    "drugs = DrugWithDrugBank.create_drugs(drug_annotations_df, map_drugs_to_drugbank_targets)\n",
    "\n",
    "drug_restricted = drugs[drug_tuple[1]]\n",
    "\n",
    "del drugs\n",
    "\n",
    "\n",
    "# Create full data for GW model\n",
    "data_types = [\"expression\"]\n",
    "data_gw = drug_gw.create_full_data(drug_response_df, data_combination=data_types, \n",
    "                                 gene_expression_df=gene_expression_df, \n",
    "                                 cnv_binary_df=cnv_binary_df,\n",
    "                                 map_cl_id_and_feature_to_status=map_from_cl_id_and_genetic_feature_to_mutation_status,\n",
    "                                 cell_line_list=cell_lines_list_df,\n",
    "                                 mutation_df=coding_variants_df,\n",
    "                                 merck_signatures_df=signatures_df)\n",
    "print(\"Shape of created GW data:\", data_gw.shape)\n",
    "\n",
    "# Create full data for restricted model\n",
    "data_types = [\"CNV\", \"mutation\", \"expression\", \"tissue\", \"merck signatures\"]\n",
    "data_restricted = drug_restricted.create_full_data(drug_response_df, data_combination=data_types, \n",
    "                                     gene_expression_df=gene_expression_df, \n",
    "                                     cnv_binary_df=cnv_binary_df,\n",
    "                                     map_cl_id_and_feature_to_status=map_from_cl_id_and_genetic_feature_to_mutation_status,\n",
    "                                     cell_line_list=cell_lines_list_df,\n",
    "                                     mutation_df=coding_variants_df,\n",
    "                                     merck_signatures_df=signatures_df)\n",
    "\n",
    "print(\"Shape of created restricted data:\", data_restricted.shape)\n",
    "\n",
    "X_train_gw, X_test_gw, X_train_restricted, X_test_restricted, y_train_both, y_test_both = ModelingResults.prepare_data_for_scatter_plots(\n",
    "data_gw, data_restricted, split_seed)\n",
    "\n",
    "print(\"X_train_gw and X_train_restricted shape:\", X_train_gw.shape, X_train_restricted.shape)\n",
    "print(\"X_test_gw and X_test_restricted shape:\", X_test_gw.shape, X_test_restricted.shape)\n",
    "print(\"y_both_train and y_both_test shape:\", y_train_both.shape, y_test_both.shape)\n",
    "print(y_test_both.sum())"
   ]
  },
  {
   "cell_type": "code",
   "execution_count": 115,
   "metadata": {},
   "outputs": [
    {
     "name": "stdout",
     "output_type": "stream",
     "text": [
      "{'estimator__l1_ratio': 0.1, 'estimator__alpha': 0.1}\n",
      "Test correlation: (0.7062171651853143, 1.2991658637429642e-38)\n",
      "Test RMSE: 0.1321754129566954\n"
     ]
    }
   ],
   "source": [
    "# Modeling with best parameters - genome wide\n",
    "estimator = ElasticNet(random_state=estimator_seed_gw, max_iter=2500)\n",
    "\n",
    "# Extract best parameters\n",
    "best_params = genome_wide_without_selection_enet.best_params_dict[drug_tuple][split_seed]\n",
    "print(best_params)\n",
    "\n",
    "preds_gw = ModelingResults.model_for_scatter_plots_with_best_params(X_train_gw, X_test_gw, y_train_both, y_test_both, estimator, \n",
    "                                   best_params, log=True)"
   ]
  },
  {
   "cell_type": "code",
   "execution_count": 116,
   "metadata": {},
   "outputs": [
    {
     "name": "stdout",
     "output_type": "stream",
     "text": [
      "{'estimator__n_estimators': 50, 'estimator__min_samples_split': 2, 'estimator__min_samples_leaf': 2, 'estimator__max_features': 'sqrt', 'estimator__max_depth': 10, 'estimator__criterion': 'mse'}\n",
      "Test correlation: (0.7319756779857627, 1.0318492008604856e-42)\n",
      "Test RMSE: 0.13115409618655435\n"
     ]
    }
   ],
   "source": [
    "# Modeling with best parameters - restricted\n",
    "\n",
    "# Extract best parameters\n",
    "best_params = restricted_results.best_params_dict[drug_tuple][split_seed]\n",
    "print(best_params)\n",
    "\n",
    "# Setup estimator\n",
    "estimator = RandomForestRegressor(random_state=estimator_seed_restricted)\n",
    "\n",
    "\n",
    "preds_restricted = ModelingResults.model_for_scatter_plots_with_best_params(X_train_restricted, X_test_restricted, \n",
    "                                   y_train_both, y_test_both, estimator, \n",
    "                                   best_params, log=True)"
   ]
  },
  {
   "cell_type": "code",
   "execution_count": 117,
   "metadata": {},
   "outputs": [],
   "source": [
    "# Load hue order for all models and corresponding color palette\n",
    "with open(\"./Results and other files/hue_order_all_models.pkl\", \"rb\") as f:\n",
    "    hue_order_all_models = dill.load(f)\n",
    "with open(\"./Results and other files/palette_all_models.pkl\", \"rb\") as f:\n",
    "    palette_all_models = dill.load(f)"
   ]
  },
  {
   "cell_type": "code",
   "execution_count": 118,
   "metadata": {},
   "outputs": [
    {
     "name": "stdout",
     "output_type": "stream",
     "text": [
      "Width: 55.0 2.1653543307086616\n",
      "Height: 50.0 1.968503937007874\n"
     ]
    }
   ],
   "source": [
    "# Set up constants\n",
    "# width of the page: 6.69\n",
    "mm_per_inch = 25.4\n",
    "\n",
    "panel_width_mm = 55.\n",
    "panel_height_mm = 50.\n",
    "\n",
    "panel_width_inch = panel_width_mm / mm_per_inch\n",
    "panel_height_inch = panel_height_mm / mm_per_inch\n",
    "\n",
    "print(\"Width:\", panel_width_mm, panel_width_inch)\n",
    "print(\"Height:\", panel_height_mm, panel_height_inch)\n",
    "\n",
    "# Update rcParams\n",
    "# Update rcParams\n",
    "params = {\n",
    "        'figure.figsize'      : [panel_width_inch, panel_height_inch] ,\n",
    "        'font.size'           : 8      ,\n",
    "        #'font.sans-serif'     : 'Arial'    ,\n",
    "        'axes.titlesize'      : 9.       ,\n",
    "        'axes.labelsize'      : 9.       ,\n",
    "        'xtick.major.size'    : 2        ,\n",
    "        'xtick.major.width'   : 0.75     ,\n",
    "        'xtick.labelsize'     : 8.0      ,\n",
    "        'xtick.direction'     : 'out'      ,\n",
    "        'ytick.major.size'    : 2        ,\n",
    "        'ytick.major.width'   : 0.75     ,\n",
    "        'ytick.labelsize'     : 8.0      ,\n",
    "        'ytick.direction'     : 'out'      ,\n",
    "        'xtick.major.pad'     : 2        ,\n",
    "        'xtick.minor.pad'     : 2        ,\n",
    "        'ytick.major.pad'     : 2        ,\n",
    "        'ytick.minor.pad'     : 2        ,\n",
    "        'savefig.dpi'         : 300.      ,\n",
    "        'axes.linewidth'      : 0.75     ,\n",
    "        'text.usetex'         : False     ,\n",
    "        'text.latex.unicode'  : False,\n",
    "        'legend.fontsize': 6,\n",
    "          'legend.handlelength': 2\n",
    "}"
   ]
  },
  {
   "cell_type": "code",
   "execution_count": 119,
   "metadata": {},
   "outputs": [
    {
     "name": "stdout",
     "output_type": "stream",
     "text": [
      "[2.1653543307086616, 1.968503937007874]\n",
      "8.0\n",
      "6.0\n"
     ]
    },
    {
     "name": "stderr",
     "output_type": "stream",
     "text": [
      "/home/krzysztof/.local/lib/python3.6/site-packages/matplotlib/__init__.py:846: MatplotlibDeprecationWarning: \n",
      "The text.latex.unicode rcparam was deprecated in Matplotlib 2.2 and will be removed in 3.1.\n",
      "  \"2.2\", name=key, obj_type=\"rcparam\", addendum=addendum)\n"
     ]
    }
   ],
   "source": [
    "plt.rcParams.update(params)\n",
    "print(plt.rcParams.get('figure.figsize'))\n",
    "print(plt.rcParams.get('font.size'))\n",
    "print(plt.rcParams.get('legend.fontsize'))"
   ]
  },
  {
   "cell_type": "code",
   "execution_count": 120,
   "metadata": {},
   "outputs": [
    {
     "data": {
      "image/png": "[encoded data removed]",
      "text/plain": [
       "<Figure size 155.906x141.732 with 1 Axes>"
      ]
     },
     "metadata": {},
     "output_type": "display_data"
    }
   ],
   "source": [
    "# Plot predicted vs. actual AUC for both models\n",
    "ax = sns.scatterplot(x=y_test_both, y=preds_gw, s=15, label=\"Genome-wide\", linewidth=0.1, \n",
    "                    edgecolor=\"black\")\n",
    "sns.scatterplot(x=y_test_both, y=preds_restricted, s=15, label = \"Restricted\", linewidth=0.1, \n",
    "                    edgecolor=\"black\")\n",
    "\n",
    "ax.plot(y_test_both, y_test_both, color=\"black\", linewidth=0.5)\n",
    "\n",
    "ax.set_title(drug_tuple[0], fontsize=12)\n",
    "ax.set_xlabel(\"True AUC\")\n",
    "ax.set_ylabel(\"Predicted AUC\")\n",
    "\n",
    "plt.tight_layout()\n",
    "\n",
    "# plt.savefig(fig_directory + \"fig7_scatter_plot_\" + drug_tuple[0] + \".pdf\")\n",
    "# plt.savefig(gimp_directory + \"fig7_scatter_plot_\" + drug_tuple[0] + \".pdf\")\n",
    "\n",
    "plt.show()"
   ]
  },
  {
   "cell_type": "markdown",
   "metadata": {},
   "source": [
    "#### Panel 2 - feature importances for restricted model"
   ]
  },
  {
   "cell_type": "code",
   "execution_count": 117,
   "metadata": {},
   "outputs": [
    {
     "name": "stdout",
     "output_type": "stream",
     "text": [
      "Width: 55.0 2.1653543307086616\n",
      "Height: 60.0 2.362204724409449\n"
     ]
    }
   ],
   "source": [
    "# Set up constants\n",
    "# width of the page: 6.69\n",
    "mm_per_inch = 25.4\n",
    "\n",
    "panel_width_mm = 55.\n",
    "panel_height_mm = 60.\n",
    "\n",
    "panel_width_inch = panel_width_mm / mm_per_inch\n",
    "panel_height_inch = panel_height_mm / mm_per_inch\n",
    "\n",
    "print(\"Width:\", panel_width_mm, panel_width_inch)\n",
    "print(\"Height:\", panel_height_mm, panel_height_inch)\n",
    "\n",
    "# Update rcParams\n",
    "# Update rcParams\n",
    "params = {\n",
    "        'figure.figsize'      : [panel_width_inch, panel_height_inch] ,\n",
    "        'font.size'           : 8      ,\n",
    "        #'font.sans-serif'     : 'Arial'    ,\n",
    "        'axes.titlesize'      : 9.       ,\n",
    "        'axes.labelsize'      : 9.       ,\n",
    "        'xtick.major.size'    : 2        ,\n",
    "        'xtick.major.width'   : 0.75     ,\n",
    "        'xtick.labelsize'     : 8.0      ,\n",
    "        'xtick.direction'     : 'out'      ,\n",
    "        'ytick.major.size'    : 2        ,\n",
    "        'ytick.major.width'   : 0.75     ,\n",
    "        'ytick.labelsize'     : 8.0      ,\n",
    "        'ytick.direction'     : 'out'      ,\n",
    "        'xtick.major.pad'     : 2        ,\n",
    "        'xtick.minor.pad'     : 2        ,\n",
    "        'ytick.major.pad'     : 2        ,\n",
    "        'ytick.minor.pad'     : 2        ,\n",
    "        'savefig.dpi'         : 300.      ,\n",
    "        'axes.linewidth'      : 0.75     ,\n",
    "        'text.usetex'         : False     ,\n",
    "        'text.latex.unicode'  : False,\n",
    "        'legend.fontsize': 6,\n",
    "          'legend.handlelength': 2\n",
    "}"
   ]
  },
  {
   "cell_type": "code",
   "execution_count": 118,
   "metadata": {},
   "outputs": [
    {
     "name": "stdout",
     "output_type": "stream",
     "text": [
      "[2.1653543307086616, 2.362204724409449]\n",
      "8.0\n",
      "6.0\n"
     ]
    },
    {
     "name": "stderr",
     "output_type": "stream",
     "text": [
      "/home/krzysztof/.local/lib/python3.6/site-packages/matplotlib/__init__.py:846: MatplotlibDeprecationWarning: \n",
      "The text.latex.unicode rcparam was deprecated in Matplotlib 2.2 and will be removed in 3.1.\n",
      "  \"2.2\", name=key, obj_type=\"rcparam\", addendum=addendum)\n"
     ]
    }
   ],
   "source": [
    "plt.rcParams.update(params)\n",
    "print(plt.rcParams.get('figure.figsize'))\n",
    "print(plt.rcParams.get('font.size'))\n",
    "print(plt.rcParams.get('legend.fontsize'))"
   ]
  },
  {
   "cell_type": "code",
   "execution_count": 124,
   "metadata": {},
   "outputs": [
    {
     "name": "stdout",
     "output_type": "stream",
     "text": [
      "Pathway genes - modeling with RForest over few data splits\n",
      "186\n"
     ]
    }
   ],
   "source": [
    "# Load corresponding best ModelingResults object\n",
    "# Set directory with results\n",
    "model_name = \"PG RF\"\n",
    "filepath = \"./Final experimental raw results/\"\n",
    "with open(filepath + \"pathway_genes-rforest_over_few_data_splits.pkl\", \"rb\") as f:\n",
    "    restricted_results = dill.load(f)\n",
    "print(restricted_results.name)\n",
    "print(len(restricted_results.performance_dict))"
   ]
  },
  {
   "cell_type": "code",
   "execution_count": 125,
   "metadata": {},
   "outputs": [
    {
     "name": "stderr",
     "output_type": "stream",
     "text": [
      "/media/krzysztof/Nowy/Doktorat - Modelling drug efficacy in cancer/Projects/Created Modules/gdsc_projects_module.py:418: SettingWithCopyWarning: \n",
      "A value is trying to be set on a copy of a slice from a DataFrame\n",
      "\n",
      "See the caveats in the documentation: http://pandas.pydata.org/pandas-docs/stable/indexing.html#indexing-view-versus-copy\n",
      "  obj.sort_values(\"cell_line_id\", inplace=True)\n"
     ]
    },
    {
     "name": "stdout",
     "output_type": "stream",
     "text": [
      "Shape of created restricted data: (862, 232)\n",
      "230 230\n",
      "[('FLT3_exp', 0.4009533708801213), ('MET_exp', 0.08473766524408902), ('DLG4_exp', 0.04454474386480686), ('CSF1R_exp', 0.033857170029384306), ('PDGFRA_exp', 0.03340879181659866)]\n"
     ]
    }
   ],
   "source": [
    "# Generate full data for restricted model\n",
    "drug_name = \"Quizartinib\"\n",
    "drug_id = df_doi[df_doi[\"Drug Name\"] == drug_name][\"Drug ID\"].iloc[0]\n",
    "drug_tuple = (drug_name, drug_id)\n",
    "\n",
    "drugs = DrugWithGenesInSamePathways.create_drugs(drug_annotations_df, map_drugs_to_drugbank_targets, \n",
    "                                       map_target_genes_to_same_pathways_genes)\n",
    "\n",
    "#drugs = DrugWithDrugBank.create_drugs(drug_annotations_df, map_drugs_to_drugbank_targets)\n",
    "drug_restricted = drugs[drug_tuple[1]]\n",
    "\n",
    "del drugs\n",
    "\n",
    "# Create full data for restricted model\n",
    "data_types = [\"CNV\", \"mutation\", \"expression\", \"tissue\"]\n",
    "data_restricted = drug_restricted.create_full_data(drug_response_df, data_combination=data_types, \n",
    "                                     gene_expression_df=gene_expression_df, \n",
    "                                     cnv_binary_df=cnv_binary_df,\n",
    "                                     map_cl_id_and_feature_to_status=map_from_cl_id_and_genetic_feature_to_mutation_status,\n",
    "                                     cell_line_list=cell_lines_list_df,\n",
    "                                     mutation_df=coding_variants_df,\n",
    "                                     merck_signatures_df=signatures_df)\n",
    "\n",
    "print(\"Shape of created restricted data:\", data_restricted.shape)\n",
    "\n",
    "# Initialize proper estimator\n",
    "estimator = RandomForestRegressor()\n",
    "importances, cols = restricted_results.extract_feature_importances_across_splits(data_restricted, \n",
    "                                                                                     drug_tuple,\n",
    "                                                                                     estimator, log=False)\n",
    "print(len(importances), len(cols))\n",
    "sorted_importances = ModelingResults.sort_feature_importances(importances, cols, \n",
    "                                                              map_ensembl_to_hgnc)\n",
    "print(sorted_importances[:5])"
   ]
  },
  {
   "cell_type": "code",
   "execution_count": 126,
   "metadata": {},
   "outputs": [
    {
     "data": {
      "image/png": "[encoded data removed]",
      "text/plain": [
       "<Figure size 155.906x170.079 with 1 Axes>"
      ]
     },
     "metadata": {},
     "output_type": "display_data"
    }
   ],
   "source": [
    "# Plot top k features along with their importances\n",
    "k = 5\n",
    "\n",
    "xs = [x[0] for x in sorted_importances[:k]]\n",
    "ys = [x[1] for x in sorted_importances[:k]]\n",
    "\n",
    "ax = sns.barplot(x=xs, y=ys, orient=\"v\")\n",
    "ax.set_ylabel(\"Importance\")\n",
    "ax.set_xticklabels(ax.get_xticklabels(), rotation=50, ha=\"right\")\n",
    "ax.tick_params(axis=\"x\", labelsize=7)\n",
    "ax.set_title(\"Biologically driven\", fontsize=10)\n",
    "\n",
    "plt.tight_layout()\n",
    "\n",
    "plt.savefig(fig_directory + \"fig7_feat_imp_restricted_\" + drug_name)\n",
    "plt.savefig(gimp_directory + \"fig7_feat_imp_restricted_\" + drug_name)\n",
    "\n",
    "plt.show()"
   ]
  },
  {
   "cell_type": "markdown",
   "metadata": {},
   "source": [
    "#### Panel 3 - Feature importance - GW EN model"
   ]
  },
  {
   "cell_type": "code",
   "execution_count": 128,
   "metadata": {},
   "outputs": [
    {
     "name": "stdout",
     "output_type": "stream",
     "text": [
      "<class 'gdsc_projects_module.ModelingResults'> 10\n"
     ]
    }
   ],
   "source": [
    "# Load genome-wide ENet ModelingResult object\n",
    "filepath = \"../Results Assesment/Final experimental raw results/\"\n",
    "with open(filepath + \"genome_wide-enet_over_few_data_splits_without_feature_selection.pkl\", \"rb\") as f:\n",
    "    genome_wide_without_selection_enet = dill.load(f)\n",
    "print(type(genome_wide_without_selection_enet), \n",
    "      len(genome_wide_without_selection_enet.feat_importances_dict))"
   ]
  },
  {
   "cell_type": "code",
   "execution_count": 129,
   "metadata": {},
   "outputs": [
    {
     "name": "stdout",
     "output_type": "stream",
     "text": [
      "17737 [('MMP8_exp', 0.014689349283674784), ('GAPDHS_exp', 0.01105896717434309), ('ACTBL2_exp', 0.006943687485143574)]\n"
     ]
    }
   ],
   "source": [
    "# Load previously computed feature importances\n",
    "drug_name = \"Dabrafenib\"\n",
    "drug_id = df_doi[df_doi[\"Drug Name\"] == drug_name][\"Drug ID\"].iloc[0]\n",
    "drug_tuple = (drug_name, drug_id)\n",
    "\n",
    "importances = genome_wide_without_selection_enet.feat_importances_dict[drug_tuple]\n",
    "\n",
    "cols = [x[0] for x in importances]\n",
    "importances = [-x[1] for x in importances]\n",
    "sorted_importances = ModelingResults.sort_feature_importances(importances, cols, \n",
    "                                                              map_ensembl_to_hgnc, normalize=True)\n",
    "\n",
    "print(len(sorted_importances), sorted_importances[:3])"
   ]
  },
  {
   "cell_type": "code",
   "execution_count": 130,
   "metadata": {},
   "outputs": [
    {
     "data": {
      "image/png": "[encoded data removed]",
      "text/plain": [
       "<Figure size 155.906x170.079 with 1 Axes>"
      ]
     },
     "metadata": {},
     "output_type": "display_data"
    }
   ],
   "source": [
    "# Plot top k features along with their importances\n",
    "k = 5\n",
    "\n",
    "xs = [x[0] for x in sorted_importances[:k]]\n",
    "ys = [x[1] for x in sorted_importances[:k]]\n",
    "\n",
    "ax = sns.barplot(x=xs, y=ys, orient=\"v\")\n",
    "ax.set_ylabel(\"Importance\")\n",
    "ax.set_xticklabels(ax.get_xticklabels(), rotation=50, ha=\"right\")\n",
    "ax.tick_params(axis=\"x\", labelsize=7)\n",
    "ax.set_title(\"Genome-wide\", fontsize=10)\n",
    "\n",
    "\n",
    "plt.tight_layout()\n",
    "\n",
    "plt.savefig(fig_directory + \"fig7_feat_imp_gw_\" + drug_name)\n",
    "plt.savefig(gimp_directory + \"fig7_feat_imp_gw_\" + drug_name)\n",
    "\n",
    "plt.show()"
   ]
  },
  {
   "cell_type": "code",
   "execution_count": 131,
   "metadata": {},
   "outputs": [],
   "source": [
    "importances = genome_wide_without_selection_enet.feat_importances_dict[drug_tuple]"
   ]
  },
  {
   "cell_type": "code",
   "execution_count": 132,
   "metadata": {},
   "outputs": [
    {
     "data": {
      "text/plain": [
       "[('MMP8_exp', -0.017261867929832454),\n",
       " ('GAPDHS_exp', -0.012995703697781935),\n",
       " ('ACTBL2_exp', -0.008159722667074713),\n",
       " ('TRPV2_exp', -0.0062568255451654784),\n",
       " ('SOX5_exp', -0.00619509604923343)]"
      ]
     },
     "execution_count": 132,
     "metadata": {},
     "output_type": "execute_result"
    }
   ],
   "source": [
    "importances[:5]"
   ]
  },
  {
   "cell_type": "code",
   "execution_count": null,
   "metadata": {},
   "outputs": [],
   "source": []
  },
  {
   "cell_type": "code",
   "execution_count": null,
   "metadata": {},
   "outputs": [],
   "source": []
  },
  {
   "cell_type": "code",
   "execution_count": null,
   "metadata": {},
   "outputs": [],
   "source": []
  },
  {
   "cell_type": "code",
   "execution_count": null,
   "metadata": {},
   "outputs": [],
   "source": []
  },
  {
   "cell_type": "code",
   "execution_count": null,
   "metadata": {},
   "outputs": [],
   "source": []
  },
  {
   "cell_type": "code",
   "execution_count": null,
   "metadata": {},
   "outputs": [],
   "source": []
  },
  {
   "cell_type": "code",
   "execution_count": null,
   "metadata": {},
   "outputs": [],
   "source": []
  },
  {
   "cell_type": "code",
   "execution_count": null,
   "metadata": {},
   "outputs": [],
   "source": []
  },
  {
   "cell_type": "code",
   "execution_count": null,
   "metadata": {},
   "outputs": [],
   "source": []
  },
  {
   "cell_type": "code",
   "execution_count": null,
   "metadata": {},
   "outputs": [],
   "source": []
  },
  {
   "cell_type": "code",
   "execution_count": null,
   "metadata": {},
   "outputs": [],
   "source": []
  },
  {
   "cell_type": "code",
   "execution_count": null,
   "metadata": {},
   "outputs": [],
   "source": []
  },
  {
   "cell_type": "code",
   "execution_count": null,
   "metadata": {},
   "outputs": [],
   "source": []
  },
  {
   "cell_type": "code",
   "execution_count": null,
   "metadata": {},
   "outputs": [],
   "source": []
  },
  {
   "cell_type": "markdown",
   "metadata": {},
   "source": [
    "# Check feature importances"
   ]
  },
  {
   "cell_type": "markdown",
   "metadata": {},
   "source": [
    "#### Genome-wide"
   ]
  },
  {
   "cell_type": "code",
   "execution_count": 13,
   "metadata": {},
   "outputs": [
    {
     "name": "stdout",
     "output_type": "stream",
     "text": [
      "(10, 10)\n"
     ]
    }
   ],
   "source": [
    "# Load DataFrame with drugs of interest\n",
    "df_doi = pd.read_csv(\"./Results and other files/drugs_of_interest.csv\")\n",
    "print(df_doi.shape)"
   ]
  },
  {
   "cell_type": "code",
   "execution_count": 16,
   "metadata": {},
   "outputs": [
    {
     "name": "stdout",
     "output_type": "stream",
     "text": [
      "<class 'gdsc_projects_module.ModelingResults'> 10\n"
     ]
    }
   ],
   "source": [
    "# Load genome-wide ENet ModelingResult object\n",
    "filepath = \"../Results Assesment/Final experimental raw results/\"\n",
    "with open(filepath + \"genome_wide-enet_over_few_data_splits_without_feature_selection.pkl\", \"rb\") as f:\n",
    "    genome_wide_without_selection_enet = dill.load(f)\n",
    "print(type(genome_wide_without_selection_enet), \n",
    "      len(genome_wide_without_selection_enet.feat_importances_dict))"
   ]
  },
  {
   "cell_type": "code",
   "execution_count": 17,
   "metadata": {},
   "outputs": [
    {
     "name": "stdout",
     "output_type": "stream",
     "text": [
      "17737 [('OCSTAMP_exp', 0.01246889026864675), ('PPP1R27_exp', 0.007208430051411637), ('CSF1R_exp', 0.005650626456957644)]\n"
     ]
    }
   ],
   "source": [
    "# Load previously computed feature importances\n",
    "drug_name = \"Linifanib\"\n",
    "drug_id = df_doi[df_doi[\"Drug Name\"] == drug_name][\"Drug ID\"].iloc[0]\n",
    "drug_tuple = (drug_name, drug_id)\n",
    "\n",
    "importances = genome_wide_without_selection_enet.feat_importances_dict[drug_tuple]\n",
    "\n",
    "cols = [x[0] for x in importances]\n",
    "importances = [-x[1] for x in importances]\n",
    "sorted_importances = ModelingResults.sort_feature_importances(importances, cols, \n",
    "                                                              map_ensembl_to_hgnc, normalize=True)\n",
    "\n",
    "print(len(sorted_importances), sorted_importances[:3])"
   ]
  },
  {
   "cell_type": "code",
   "execution_count": 18,
   "metadata": {},
   "outputs": [
    {
     "name": "stdout",
     "output_type": "stream",
     "text": [
      "17737\n"
     ]
    },
    {
     "data": {
      "text/plain": [
       "11"
      ]
     },
     "execution_count": 18,
     "metadata": {},
     "output_type": "execute_result"
    }
   ],
   "source": [
    "names = [x[0] for x in sorted_importances]\n",
    "print(len(names))\n",
    "names.index(\"FLT3_exp\") + 1"
   ]
  },
  {
   "cell_type": "code",
   "execution_count": 19,
   "metadata": {},
   "outputs": [
    {
     "name": "stdout",
     "output_type": "stream",
     "text": [
      "('OCSTAMP_exp', 0.01246889026864675)\n",
      "('PPP1R27_exp', 0.007208430051411637)\n",
      "('CSF1R_exp', 0.005650626456957644)\n",
      "('TIFAB_exp', 0.005632204394451128)\n",
      "('CD300LF_exp', 0.005523347731832171)\n",
      "('SIGLEC7_exp', 0.004754571673512108)\n",
      "('RETN_exp', -0.004386135427190893)\n",
      "('LILRB2_exp', 0.004267298245916722)\n",
      "('DEFA4_exp', -0.004247266210815239)\n",
      "('EFHC2_exp', 0.003305162100991933)\n",
      "('FLT3_exp', 0.0029691682783294375)\n",
      "('TRH_exp', 0.0028964819079694763)\n",
      "('CX3CR1_exp', 0.002658810882382431)\n",
      "('PIK3R5_exp', 0.0022593532817760005)\n",
      "('CIB3_exp', 0.0021894788600866767)\n",
      "('PPM1F_exp', 0.001946537470087352)\n",
      "('DLEU7_exp', -0.0018654667403450356)\n"
     ]
    },
    {
     "ename": "KeyboardInterrupt",
     "evalue": "",
     "output_type": "error",
     "traceback": [
      "\u001b[0;31m---------------------------------------------------------------------------\u001b[0m",
      "\u001b[0;31mKeyboardInterrupt\u001b[0m                         Traceback (most recent call last)",
      "\u001b[0;32m<ipython-input-19-3642f3e59214>\u001b[0m in \u001b[0;36m<module>\u001b[0;34m()\u001b[0m\n\u001b[1;32m      1\u001b[0m \u001b[0;32mfor\u001b[0m \u001b[0mel\u001b[0m \u001b[0;32min\u001b[0m \u001b[0msorted_importances\u001b[0m\u001b[0;34m:\u001b[0m\u001b[0;34m\u001b[0m\u001b[0m\n\u001b[1;32m      2\u001b[0m     \u001b[0mprint\u001b[0m\u001b[0;34m(\u001b[0m\u001b[0mel\u001b[0m\u001b[0;34m)\u001b[0m\u001b[0;34m\u001b[0m\u001b[0m\n\u001b[0;32m----> 3\u001b[0;31m     \u001b[0mtime\u001b[0m\u001b[0;34m.\u001b[0m\u001b[0msleep\u001b[0m\u001b[0;34m(\u001b[0m\u001b[0;36m1\u001b[0m\u001b[0;34m)\u001b[0m\u001b[0;34m\u001b[0m\u001b[0m\n\u001b[0m",
      "\u001b[0;31mKeyboardInterrupt\u001b[0m: "
     ]
    }
   ],
   "source": [
    "for el in sorted_importances:\n",
    "    print(el)\n",
    "    time.sleep(1)"
   ]
  },
  {
   "cell_type": "code",
   "execution_count": 21,
   "metadata": {},
   "outputs": [
    {
     "data": {
      "text/plain": [
       "4.199455571329963"
      ]
     },
     "execution_count": 21,
     "metadata": {},
     "output_type": "execute_result"
    }
   ],
   "source": [
    "0.01246889026864675 / 0.0029691682783294375"
   ]
  },
  {
   "cell_type": "markdown",
   "metadata": {},
   "source": [
    "#### Restricted"
   ]
  },
  {
   "cell_type": "code",
   "execution_count": null,
   "metadata": {},
   "outputs": [],
   "source": []
  },
  {
   "cell_type": "markdown",
   "metadata": {},
   "source": [
    "# Supplementary figures"
   ]
  },
  {
   "cell_type": "code",
   "execution_count": null,
   "metadata": {},
   "outputs": [],
   "source": []
  },
  {
   "cell_type": "code",
   "execution_count": null,
   "metadata": {},
   "outputs": [],
   "source": []
  },
  {
   "cell_type": "code",
   "execution_count": null,
   "metadata": {},
   "outputs": [],
   "source": []
  }
 ],
 "metadata": {
  "kernelspec": {
   "display_name": "Python (modeling_drug_efficacy)",
   "language": "python",
   "name": "modeling_drug_efficacy"
  },
  "language_info": {
   "codemirror_mode": {
    "name": "ipython",
    "version": 3
   },
   "file_extension": ".py",
   "mimetype": "text/x-python",
   "name": "python",
   "nbconvert_exporter": "python",
   "pygments_lexer": "ipython3",
   "version": "3.6.5"
  }
 },
 "nbformat": 4,
 "nbformat_minor": 2
}
