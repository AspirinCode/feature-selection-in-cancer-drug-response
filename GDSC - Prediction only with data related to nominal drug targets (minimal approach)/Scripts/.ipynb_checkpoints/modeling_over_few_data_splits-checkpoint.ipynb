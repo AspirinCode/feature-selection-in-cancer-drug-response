{
 "cells": [
  {
   "cell_type": "markdown",
   "metadata": {},
   "source": [
    "# Perform modleing using only data related to nominal drug targets. Repeat the experiment for few data splits (using Modeling classes)"
   ]
  },
  {
   "cell_type": "markdown",
   "metadata": {},
   "source": [
    "## Imports and setup"
   ]
  },
  {
   "cell_type": "code",
   "execution_count": 9,
   "metadata": {},
   "outputs": [
    {
     "name": "stdout",
     "output_type": "stream",
     "text": [
      "enet_modeling_over_few_data_splits_run_script.py\r\n",
      "modeling_over_few_data_splits.ipynb\r\n",
      "\u001b[0m\u001b[01;32mpredictions_main.ipynb\u001b[0m*\r\n",
      "\u001b[01;32mprototyping_testing_explore_data_etc.ipynb\u001b[0m*\r\n",
      "\u001b[34;42m__pycache__\u001b[0m/\r\n",
      "rforest_modeling_over_few_data_splits_run_script.py\r\n"
     ]
    }
   ],
   "source": []
  },
  {
   "cell_type": "code",
   "execution_count": 1,
   "metadata": {},
   "outputs": [
    {
     "name": "stderr",
     "output_type": "stream",
     "text": [
      "/home/kkoras/anaconda3/envs/modeling_drug_efficacy/lib/python3.6/site-packages/sklearn/ensemble/weight_boosting.py:29: DeprecationWarning: numpy.core.umath_tests is an internal NumPy module and should not be imported. It will be removed in a future NumPy release.\n",
      "  from numpy.core.umath_tests import inner1d\n"
     ]
    }
   ],
   "source": [
    "# General imports\n",
    "import multiprocessing\n",
    "import numpy as np\n",
    "import pandas as pd\n",
    "import time\n",
    "import sys\n",
    "import dill\n",
    "import warnings\n",
    "import matplotlib.pyplot as plt\n",
    "import seaborn as sns\n",
    "from scipy.stats import pearsonr\n",
    "import collections\n",
    "import os\n",
    "\n",
    "# Sklearn imports\n",
    "from sklearn.preprocessing import StandardScaler\n",
    "from sklearn.ensemble import RandomForestRegressor\n",
    "from sklearn import model_selection\n",
    "from sklearn.pipeline import Pipeline\n",
    "from sklearn import metrics\n",
    "from sklearn.dummy import DummyRegressor\n",
    "from sklearn.linear_model import Lasso, ElasticNet\n",
    "from stability_selection import StabilitySelection"
   ]
  },
  {
   "cell_type": "code",
   "execution_count": 2,
   "metadata": {},
   "outputs": [],
   "source": [
    "# Add directory to sys.path in order to import custom modules from there.\n",
    "sys.path.insert(0, \"/home/kkoras/Documents/Projects/Doktorat - Modelling drug efficacy in cancer/Projects/Created Modules\")\n",
    "from gdsc_projects_module import DrugWithDrugBank, Experiment, Modeling, ModelingResults"
   ]
  },
  {
   "cell_type": "code",
   "execution_count": 3,
   "metadata": {},
   "outputs": [
    {
     "name": "stdout",
     "output_type": "stream",
     "text": [
      "48\n"
     ]
    }
   ],
   "source": [
    "# Display the number of available CPUs\n",
    "print(multiprocessing.cpu_count())"
   ]
  },
  {
   "cell_type": "markdown",
   "metadata": {},
   "source": [
    "#### Load data"
   ]
  },
  {
   "cell_type": "code",
   "execution_count": 4,
   "metadata": {},
   "outputs": [
    {
     "name": "stdout",
     "output_type": "stream",
     "text": [
      "Loading summary:\n",
      "Drug annotations: (267, 5)\n",
      "Cell line list (1065, 6)\n",
      "Gene expression (17737, 1019)\n",
      "CNV binary: (419050, 9)\n",
      "Coding variants: (295740, 9)\n",
      "Drug response: (224202, 13)\n",
      "DrugBank mapping (number of matched drugs): 88\n",
      "Gene expression signatures: (128, 1018)\n",
      "Number of entries in mapping from cell line and cnv genetic feature to mutation status: 419050\n"
     ]
    }
   ],
   "source": [
    "# Initialize proper file pathways\n",
    "drug_annotations = \"/home/kkoras/Documents/Projects/Doktorat - Modelling drug efficacy in cancer/Data/Original Data/Genomics of Drug Sensitivity in Cancer/Original GDSC Data/Drug annotations/Screened_Compounds-March_27th_2018.xlsx\"\n",
    "cell_line_list = \"/home/kkoras/Documents/Projects/Doktorat - Modelling drug efficacy in cancer/Data/Original Data/Genomics of Drug Sensitivity in Cancer/Original GDSC Data/Cell line list (directly from website)/Cell_listThu Aug 16 22_06_49 2018.csv\"\n",
    "gene_expr = \"/home/kkoras/Documents/Projects/Doktorat - Modelling drug efficacy in cancer/Data/Original Data/Genomics of Drug Sensitivity in Cancer/Original GDSC Data/Gene expression/sanger1018_brainarray_ensemblgene_rma-March_2nd_2017.txt\"\n",
    "cnv1 = \"/home/kkoras/Documents/Projects/Doktorat - Modelling drug efficacy in cancer/Data/Original Data/Genomics of Drug Sensitivity in Cancer/Original GDSC Data/Copy number variations/cnv_binary_1.csv\"\n",
    "cnv2 = \"/home/kkoras/Documents/Projects/Doktorat - Modelling drug efficacy in cancer/Data/Original Data/Genomics of Drug Sensitivity in Cancer/Original GDSC Data/Copy number variations/PANCANCER_Genetic_feature_cna_Mon Aug  6 16_18_51 2018 (kopia).csv\"\n",
    "coding_variants = \"/home/kkoras/Documents/Projects/Doktorat - Modelling drug efficacy in cancer/Data/Original Data/Genomics of Drug Sensitivity in Cancer/Original GDSC Data/Mutation calls/PANCANCER_Genetic_feature_variant_Mon Aug  6 15_45_44 2018.csv\"\n",
    "drug_response = \"/home/kkoras/Documents/Projects/Doktorat - Modelling drug efficacy in cancer/Data/Original Data/Genomics of Drug Sensitivity in Cancer/Original GDSC Data/Sensitivity profiles/v17.3_fitted_dose_response-March_27th_2018.xlsx\"\n",
    "\n",
    "# Load dictionary with targets derived from DrugBank\n",
    "drugbank_targets = \"/home/kkoras/Documents/Projects/Doktorat - Modelling drug efficacy in cancer/Data/Original Data/DrugBank/Created data/drugbank_map_drug_to_targets.p\"\n",
    "\n",
    "# Filepath to gene expression signatures provided by Merck\n",
    "signatures = \"/home/kkoras/Documents/Projects/Doktorat - Modelling drug efficacy in cancer/Data/Created data/Merck Gene Expression Signatures/Data/SignatureScores_GDSC-cellLines_2018-09-27.tsv\"\n",
    "\n",
    "# Call loading function from DrugWithDrugBank class\n",
    "(drug_annotations_df, cell_lines_list_df, gene_expression_df, cnv_binary_df, \n",
    " coding_variants_df, drug_response_df, map_drugs_to_drugbank_targets) = DrugWithDrugBank.load_data(\n",
    "    drug_annotations, cell_line_list, gene_expr, \n",
    "    cnv1, cnv2, coding_variants, drug_response, drugbank_targets)\n",
    "\n",
    "# Load gene expression signatures\n",
    "signatures_df = pd.read_table(signatures)\n",
    "\n",
    "# Load helper dict for extraction of CNV data\n",
    "filepath = \"/home/kkoras/Documents/Projects/Doktorat - Modelling drug efficacy in cancer/Data/Original Data/Genomics of Drug Sensitivity in Cancer/Original GDSC Data/Copy number variations/Created data/\"\n",
    "with open(filepath + \"map_cl_id_and_genetic_feature_to_mutation_status.pkl\", \"rb\") as f:\n",
    "    map_from_cl_id_and_genetic_feature_to_mutation_status = dill.load(f)\n",
    "\n",
    "# Load gene mappings\n",
    "filepath1 = \"/home/kkoras/Documents/Projects/Doktorat - Modelling drug efficacy in cancer/Projects/GDSC - Prediction only with data related to nominal drug targets (minimal approach)/Created data/mapping_from_ensembl_id_to_hgnc_symbol.p\"\n",
    "filepath2 = \"/home/kkoras/Documents/Projects/Doktorat - Modelling drug efficacy in cancer/Projects/GDSC - Prediction only with data related to nominal drug targets (minimal approach)/Created data/mapping_from_hgnc_symbol_to_ensembl_id.p\"\n",
    "DrugWithDrugBank.load_mappings(filepath2, filepath1)   # Initialize class variables\n",
    "\n",
    "# Print shapes of created DataFrames\n",
    "print(\"Loading summary:\")\n",
    "print(\"Drug annotations:\", drug_annotations_df.shape)\n",
    "print(\"Cell line list\", cell_lines_list_df.shape)\n",
    "print(\"Gene expression\", gene_expression_df.shape)\n",
    "print(\"CNV binary:\", cnv_binary_df.shape)\n",
    "print(\"Coding variants:\", coding_variants_df.shape)\n",
    "print(\"Drug response:\", drug_response_df.shape)\n",
    "print(\"DrugBank mapping (number of matched drugs):\", len(map_drugs_to_drugbank_targets))\n",
    "print(\"Gene expression signatures:\", signatures_df.shape)\n",
    "print(\"Number of entries in mapping from cell line and cnv genetic feature to mutation status:\",\n",
    "     len(map_from_cl_id_and_genetic_feature_to_mutation_status))"
   ]
  },
  {
   "cell_type": "markdown",
   "metadata": {},
   "source": [
    "#### Create a dictionary with DrugWithDrugBank objects"
   ]
  },
  {
   "cell_type": "code",
   "execution_count": 5,
   "metadata": {},
   "outputs": [
    {
     "name": "stdout",
     "output_type": "stream",
     "text": [
      "267\n"
     ]
    },
    {
     "name": "stderr",
     "output_type": "stream",
     "text": [
      "/home/kkoras/Documents/Projects/Doktorat - Modelling drug efficacy in cancer/Projects/Created Modules/gdsc_projects_module.py:418: SettingWithCopyWarning: \n",
      "A value is trying to be set on a copy of a slice from a DataFrame\n",
      "\n",
      "See the caveats in the documentation: http://pandas.pydata.org/pandas-docs/stable/indexing.html#indexing-view-versus-copy\n",
      "  obj.sort_values(\"cell_line_id\", inplace=True)\n"
     ]
    },
    {
     "name": "stdout",
     "output_type": "stream",
     "text": [
      "10 drugs done\n",
      "20 drugs done\n",
      "30 drugs done\n",
      "40 drugs done\n",
      "50 drugs done\n",
      "60 drugs done\n",
      "70 drugs done\n",
      "80 drugs done\n",
      "90 drugs done\n",
      "100 drugs done\n",
      "110 drugs done\n",
      "120 drugs done\n",
      "130 drugs done\n",
      "140 drugs done\n",
      "150 drugs done\n",
      "160 drugs done\n",
      "170 drugs done\n",
      "180 drugs done\n",
      "190 drugs done\n",
      "200 drugs done\n",
      "210 drugs done\n",
      "220 drugs done\n",
      "230 drugs done\n",
      "240 drugs done\n",
      "250 drugs done\n",
      "260 drugs done\n",
      "Number of drugs with number of features bigger than 16: 184\n",
      "Mean number of features in 267 drugs: 3.7265917602996255\n"
     ]
    }
   ],
   "source": [
    "# Create drug objects\n",
    "drugs = DrugWithDrugBank.create_drugs(drug_annotations_df, map_drugs_to_drugbank_targets)\n",
    "print(len(drugs))\n",
    "\n",
    "# Set up data types we want to include in our input for each drug\n",
    "data_types = [\"CNV\", \"mutation\", \"expression\", \"tissue\"]\n",
    "# Create input data\n",
    "Experiment.create_input_for_each_drug(drugs, drug_response_df, data_combination=data_types, \n",
    "                                     gene_expression_df=gene_expression_df, \n",
    "                                     cnv_binary_df=cnv_binary_df,\n",
    "                                     map_cl_id_and_feature_to_status=map_from_cl_id_and_genetic_feature_to_mutation_status,\n",
    "                                     cell_lines_list_df=cell_lines_list_df,\n",
    "                                     coding_variants_df=coding_variants_df,\n",
    "                                     feat_threshold=16,\n",
    "                                     log=True)"
   ]
  },
  {
   "cell_type": "markdown",
   "metadata": {},
   "source": [
    "# Modeling"
   ]
  },
  {
   "cell_type": "markdown",
   "metadata": {},
   "source": [
    "## Modeling with linear model (ElasticNet)"
   ]
  },
  {
   "cell_type": "markdown",
   "metadata": {},
   "source": [
    "#### Define the grid of parameters to search on"
   ]
  },
  {
   "cell_type": "code",
   "execution_count": 7,
   "metadata": {},
   "outputs": [
    {
     "name": "stdout",
     "output_type": "stream",
     "text": [
      "77\n"
     ]
    }
   ],
   "source": [
    "param_grid = {\"estimator__alpha\": [0.0001, 0.001, 0.01, 0.1, 1., 5., 10., 30., 50., 100., 300.],\n",
    "                 \"estimator__l1_ratio\": [0.0, 0.1, 0.25, 0.5, 0.75, 0.9, 1.]}\n",
    "# Compute the number of all possible combinations\n",
    "all_combinations = 1\n",
    "for param in param_grid:\n",
    "    all_combinations *= len(param_grid[param])\n",
    "print(all_combinations)"
   ]
  },
  {
   "cell_type": "markdown",
   "metadata": {},
   "source": [
    "#### Create Modeling and ModelingResults objects"
   ]
  },
  {
   "cell_type": "code",
   "execution_count": 10,
   "metadata": {},
   "outputs": [],
   "source": [
    "enet_seeds = [22, 37, 44, 55, 78]\n",
    "split_seeds = [11, 37, 52, 71, 98]\n",
    "\n",
    "exp = Modeling(name=\"Only targets - modeling with ENet over few data splits\",\n",
    "              param_grid=param_grid,\n",
    "              estimator_seeds=enet_seeds,\n",
    "              split_seeds=split_seeds,\n",
    "              n_combinations=all_combinations,\n",
    "              kfolds=3,\n",
    "              max_iter=2000,\n",
    "              tuning_jobs=1)"
   ]
  },
  {
   "cell_type": "markdown",
   "metadata": {},
   "source": [
    "#### Intialize or load ModelingResults objects"
   ]
  },
  {
   "cell_type": "code",
   "execution_count": 11,
   "metadata": {},
   "outputs": [
    {
     "name": "stdout",
     "output_type": "stream",
     "text": [
      "3 1 neg_mean_squared_error 2000\n"
     ]
    }
   ],
   "source": [
    "# Initialize new ModelingResults object\n",
    "exp_results = ModelingResults(exp)\n",
    "print(exp_results.kfolds, exp_results.tuning_jobs, exp_results.scoring, exp_results.max_iter)"
   ]
  },
  {
   "cell_type": "code",
   "execution_count": null,
   "metadata": {},
   "outputs": [],
   "source": [
    "# Load previously computed results\n",
    "filename = \"\"\n",
    "with open(\"../Created data/Results/\" + filename, \"rb\") as f:\n",
    "    exp_results = dill.load(f)"
   ]
  },
  {
   "cell_type": "markdown",
   "metadata": {},
   "source": [
    "#### Iterate over drugs"
   ]
  },
  {
   "cell_type": "code",
   "execution_count": 15,
   "metadata": {},
   "outputs": [
    {
     "name": "stdout",
     "output_type": "stream",
     "text": [
      "Erlotinib (347, 19)\n",
      "Modeling for 1 out of 5 data splits\n",
      "\n",
      "Fitting 3 folds for each of 70 candidates, totalling 210 fits\n"
     ]
    },
    {
     "name": "stderr",
     "output_type": "stream",
     "text": [
      "[Parallel(n_jobs=1)]: Done 210 out of 210 | elapsed:    3.4s finished\n"
     ]
    },
    {
     "name": "stdout",
     "output_type": "stream",
     "text": [
      "Modeling for 2 out of 5 data splits\n",
      "\n",
      "Fitting 3 folds for each of 70 candidates, totalling 210 fits\n"
     ]
    },
    {
     "name": "stderr",
     "output_type": "stream",
     "text": [
      "[Parallel(n_jobs=1)]: Done 210 out of 210 | elapsed:    3.7s finished\n"
     ]
    },
    {
     "name": "stdout",
     "output_type": "stream",
     "text": [
      "Modeling for 3 out of 5 data splits\n",
      "\n",
      "Fitting 3 folds for each of 70 candidates, totalling 210 fits\n"
     ]
    },
    {
     "name": "stderr",
     "output_type": "stream",
     "text": [
      "[Parallel(n_jobs=1)]: Done 210 out of 210 | elapsed:    4.0s finished\n"
     ]
    },
    {
     "name": "stdout",
     "output_type": "stream",
     "text": [
      "Modeling for 4 out of 5 data splits\n",
      "\n",
      "Fitting 3 folds for each of 70 candidates, totalling 210 fits\n"
     ]
    },
    {
     "name": "stderr",
     "output_type": "stream",
     "text": [
      "[Parallel(n_jobs=1)]: Done 210 out of 210 | elapsed:    2.2s finished\n"
     ]
    },
    {
     "name": "stdout",
     "output_type": "stream",
     "text": [
      "Modeling for 5 out of 5 data splits\n",
      "\n",
      "Fitting 3 folds for each of 70 candidates, totalling 210 fits\n"
     ]
    },
    {
     "name": "stderr",
     "output_type": "stream",
     "text": [
      "[Parallel(n_jobs=1)]: Done 210 out of 210 | elapsed:    2.9s finished\n"
     ]
    },
    {
     "name": "stdout",
     "output_type": "stream",
     "text": [
      "Modeling done for all splits\n",
      "1 drugs done\n",
      "\n",
      "**************************************************\n",
      "\n",
      "Rapamycin (362, 16)\n",
      "Modeling for 1 out of 5 data splits\n",
      "\n",
      "Fitting 3 folds for each of 70 candidates, totalling 210 fits\n"
     ]
    },
    {
     "name": "stderr",
     "output_type": "stream",
     "text": [
      "[Parallel(n_jobs=1)]: Done 210 out of 210 | elapsed:    2.7s finished\n"
     ]
    },
    {
     "name": "stdout",
     "output_type": "stream",
     "text": [
      "Modeling for 2 out of 5 data splits\n",
      "\n",
      "Fitting 3 folds for each of 70 candidates, totalling 210 fits\n"
     ]
    },
    {
     "name": "stderr",
     "output_type": "stream",
     "text": [
      "[Parallel(n_jobs=1)]: Done 210 out of 210 | elapsed:    2.1s finished\n"
     ]
    },
    {
     "name": "stdout",
     "output_type": "stream",
     "text": [
      "Modeling for 3 out of 5 data splits\n",
      "\n",
      "Fitting 3 folds for each of 70 candidates, totalling 210 fits\n"
     ]
    },
    {
     "name": "stderr",
     "output_type": "stream",
     "text": [
      "[Parallel(n_jobs=1)]: Done 210 out of 210 | elapsed:    2.6s finished\n"
     ]
    },
    {
     "name": "stdout",
     "output_type": "stream",
     "text": [
      "Modeling for 4 out of 5 data splits\n",
      "\n",
      "Fitting 3 folds for each of 70 candidates, totalling 210 fits\n"
     ]
    },
    {
     "name": "stderr",
     "output_type": "stream",
     "text": [
      "[Parallel(n_jobs=1)]: Done 210 out of 210 | elapsed:    2.1s finished\n"
     ]
    },
    {
     "name": "stdout",
     "output_type": "stream",
     "text": [
      "Modeling for 5 out of 5 data splits\n",
      "\n",
      "Fitting 3 folds for each of 70 candidates, totalling 210 fits\n"
     ]
    },
    {
     "name": "stderr",
     "output_type": "stream",
     "text": [
      "[Parallel(n_jobs=1)]: Done 210 out of 210 | elapsed:    2.3s finished\n"
     ]
    },
    {
     "name": "stdout",
     "output_type": "stream",
     "text": [
      "Modeling done for all splits\n",
      "2 drugs done\n",
      "\n",
      "**************************************************\n",
      "\n"
     ]
    },
    {
     "ename": "KeyboardInterrupt",
     "evalue": "",
     "output_type": "error",
     "traceback": [
      "\u001b[0;31m---------------------------------------------------------------------------\u001b[0m",
      "\u001b[0;31mKeyboardInterrupt\u001b[0m                         Traceback (most recent call last)",
      "\u001b[0;32m<ipython-input-15-a6b4ff57cba2>\u001b[0m in \u001b[0;36m<module>\u001b[0;34m\u001b[0m\n\u001b[1;32m     47\u001b[0m     \u001b[0mprint\u001b[0m\u001b[0;34m(\u001b[0m\u001b[0;34m\"*\"\u001b[0m \u001b[0;34m*\u001b[0m \u001b[0;36m50\u001b[0m\u001b[0;34m)\u001b[0m\u001b[0;34m\u001b[0m\u001b[0m\n\u001b[1;32m     48\u001b[0m     \u001b[0mprint\u001b[0m\u001b[0;34m(\u001b[0m\u001b[0;34m)\u001b[0m\u001b[0;34m\u001b[0m\u001b[0m\n\u001b[0;32m---> 49\u001b[0;31m     \u001b[0mtime\u001b[0m\u001b[0;34m.\u001b[0m\u001b[0msleep\u001b[0m\u001b[0;34m(\u001b[0m\u001b[0;36m10\u001b[0m\u001b[0;34m)\u001b[0m\u001b[0;34m\u001b[0m\u001b[0m\n\u001b[0m",
      "\u001b[0;31mKeyboardInterrupt\u001b[0m: "
     ]
    }
   ],
   "source": [
    "# Get rid of warnings\n",
    "import warnings\n",
    "warnings.filterwarnings(\"ignore\")\n",
    "\n",
    "drug_counter = 0\n",
    "log = True   # Controls verbosity during iterating over drugs\n",
    "\n",
    "# Enter the loop over drugs\n",
    "for drug_id in drugs:\n",
    "    drug = drugs[drug_id]   # Current Drug object\n",
    "    data = drug.full_data  # Extract input data (should be previously computed)\n",
    "    if data.shape[0] == 0:   # Check if data exists, if not, skip the drug\n",
    "        continue\n",
    "    if data.shape[1] < 16:    # That means that data has only features related to tissue\n",
    "        continue           # so also skip this case\n",
    "        \n",
    "    if log:\n",
    "        print(drug.name, data.shape)\n",
    "        \n",
    "    # Extract features and labels\n",
    "    y = data[\"AUC\"]\n",
    "    X = data.drop([\"cell_line_id\", \"AUC\"], axis=1)\n",
    "    X.shape[0] == y.shape[0]\n",
    "        \n",
    "    # Add data shapes to corresponding dictionary field in ModelingResults\n",
    "    exp_results.data_shapes[(drug.name, drug_id)] = X.shape\n",
    "    \n",
    "    # Compute the results\n",
    "    (test_results_for_splits, cv_results_for_splits, \n",
    "     best_parameters_for_splits, \n",
    "     dummy_for_splits, tuning_seeds_for_splits) = exp.enet_model_over_data_splits(X, y, verbose=1, log=True)\n",
    "    \n",
    "    # Put results into appropriate fields of ModelingResults object\n",
    "    exp_results.performance_dict[(drug.name, drug_id)] = test_results_for_splits\n",
    "    exp_results.dummy_performance_dict[(drug.name, drug_id)] = dummy_for_splits\n",
    "    exp_results.best_params_dict[(drug.name, drug_id)] = best_parameters_for_splits\n",
    "    exp_results.tuning_seeds_dict[(drug.name, drug_id)] = tuning_seeds_for_splits\n",
    "    exp_results.cv_results_dict[(drug.name, drug_id)] = cv_results_for_splits\n",
    "    \n",
    "    # Save the results\n",
    "    #res_name = exp_results.name.replace(\" \", \"_\").lower() + \".pkl\n",
    "#     with open(\"../Created data/Results/only_targets-enet_over_few_data_splits.pkl\", \"wb\") as f:\n",
    "#         dill.dump(exp_results, f)\n",
    "    \n",
    "    drug_counter +=1 \n",
    "    print(drug_counter, \"drugs done\")\n",
    "    print()\n",
    "    print(\"*\" * 50)\n",
    "    print()\n",
    "    time.sleep(10)"
   ]
  },
  {
   "cell_type": "markdown",
   "metadata": {},
   "source": [
    "### Try to reproduce sample results"
   ]
  },
  {
   "cell_type": "code",
   "execution_count": null,
   "metadata": {},
   "outputs": [],
   "source": [
    "# Load previously computed results\n",
    "filename = \"\"\n",
    "with open(\"../Created data/Results/\" + filename, \"rb\") as f:\n",
    "    exp_results = dill.load(f)"
   ]
  },
  {
   "cell_type": "code",
   "execution_count": 43,
   "metadata": {},
   "outputs": [
    {
     "name": "stdout",
     "output_type": "stream",
     "text": [
      "2 5\n"
     ]
    }
   ],
   "source": [
    "# Pick a drug to work with\n",
    "drug_tuple = (\"Rapamycin\", 3)\n",
    "print(len(exp_results.performance_dict), len(exp_results.performance_dict[drug_tuple]))"
   ]
  },
  {
   "cell_type": "code",
   "execution_count": 44,
   "metadata": {},
   "outputs": [
    {
     "name": "stdout",
     "output_type": "stream",
     "text": [
      "[22, 37, 44, 55, 78]\n",
      "[11, 37, 52, 71, 98]\n"
     ]
    },
    {
     "data": {
      "text/plain": [
       "{11: 66, 37: 79, 52: 42, 71: 87, 98: 88}"
      ]
     },
     "execution_count": 44,
     "metadata": {},
     "output_type": "execute_result"
    }
   ],
   "source": [
    "# View sample results\n",
    "print(exp_results.estimator_seeds)\n",
    "print(exp_results.split_seeds)\n",
    "exp_results.tuning_seeds_dict[drug_tuple]"
   ]
  },
  {
   "cell_type": "code",
   "execution_count": 45,
   "metadata": {},
   "outputs": [
    {
     "data": {
      "text/plain": [
       "{11: ModelTestScores(cv_best_RMSE=0.22585708937101218, test_RMSE=0.2360414149296763, test_explained_variance=-0.07044219220877812, test_correlation=(0.14215750151336767, 0.14033169336837722)),\n",
       " 37: ModelTestScores(cv_best_RMSE=0.2287240777118516, test_RMSE=0.2372457996369136, test_explained_variance=0.007578094528847945, test_correlation=(0.09707724312053083, 0.3152794853582179)),\n",
       " 52: ModelTestScores(cv_best_RMSE=0.21892886522756874, test_RMSE=0.2511656932699942, test_explained_variance=-0.03592142009532906, test_correlation=(-0.07241893269953588, 0.45425357915927256)),\n",
       " 71: ModelTestScores(cv_best_RMSE=0.23570616531721, test_RMSE=0.2149517789514536, test_explained_variance=0.022363564348780396, test_correlation=(0.2467223807999091, 0.00970203510402834)),\n",
       " 98: ModelTestScores(cv_best_RMSE=0.23200337832244597, test_RMSE=0.21850385911619483, test_explained_variance=0.014904908865088107, test_correlation=(0.13401435621123, 0.16474276695566453))}"
      ]
     },
     "execution_count": 45,
     "metadata": {},
     "output_type": "execute_result"
    }
   ],
   "source": [
    "exp_results.performance_dict[drug_tuple]"
   ]
  },
  {
   "cell_type": "code",
   "execution_count": 46,
   "metadata": {},
   "outputs": [
    {
     "name": "stdout",
     "output_type": "stream",
     "text": [
      "71 55\n"
     ]
    }
   ],
   "source": [
    "# First, fit the model on sample seed using computed best params\n",
    "idx_of_interest = 3\n",
    "split_seed_of_interest = exp_results.split_seeds[idx_of_interest]\n",
    "estimator_seed_of_interest = exp_results.estimator_seeds[idx_of_interest]\n",
    "print(split_seed_of_interest, estimator_seed_of_interest)"
   ]
  },
  {
   "cell_type": "code",
   "execution_count": 48,
   "metadata": {},
   "outputs": [
    {
     "name": "stdout",
     "output_type": "stream",
     "text": [
      "Rapamycin\n",
      "(362, 14)\n",
      "{'alpha': 1.0, 'copy_X': True, 'fit_intercept': True, 'l1_ratio': 0.5, 'max_iter': 2000, 'normalize': False, 'positive': False, 'precompute': False, 'random_state': 55, 'selection': 'cyclic', 'tol': 0.0001, 'warm_start': False}\n",
      "\n",
      "{'alpha': 5.0, 'copy_X': True, 'fit_intercept': True, 'l1_ratio': 0.0, 'max_iter': 2000, 'normalize': False, 'positive': False, 'precompute': False, 'random_state': 55, 'selection': 'cyclic', 'tol': 0.0001, 'warm_start': False}\n",
      "\n",
      "Test RMSES: 0.2149517789514536 0.2149517789514536\n",
      "Test corrs: (0.2467223807999091, 0.00970203510402834) (0.2467223807999091, 0.00970203510402834)\n"
     ]
    }
   ],
   "source": [
    "# Do the modeling without using classes\n",
    "\n",
    "# Get the data\n",
    "drug = drugs[drug_tuple[1]]\n",
    "print(drug.name)\n",
    "\n",
    "data = drug.full_data\n",
    "\n",
    "# Extract features and labels\n",
    "y = data[\"AUC\"]\n",
    "X = data.drop([\"cell_line_id\", \"AUC\"], axis=1)\n",
    "X.shape[0] == y.shape[0]\n",
    "print(X.shape)\n",
    "\n",
    "# Split into train and test set\n",
    "X_train, X_test, y_train, y_test = model_selection.train_test_split(X, y, test_size=0.3, \n",
    "                                                                   random_state=split_seed_of_interest)\n",
    "\n",
    "# Create the pipeline\n",
    "scaler = StandardScaler()\n",
    "reg = ElasticNet(random_state=estimator_seed_of_interest, max_iter=exp_results.max_iter)\n",
    "\n",
    "model = Pipeline([\n",
    "    (\"scaler\", scaler),\n",
    "    (\"estimator\", reg)\n",
    "])\n",
    "\n",
    "print(model.named_steps[\"estimator\"].get_params())\n",
    "print()\n",
    "# Parse computed best paramateres into pipeline\n",
    "model.set_params(**exp_results.best_params_dict[drug_tuple][split_seed_of_interest])\n",
    "print(model.named_steps[\"estimator\"].get_params())\n",
    "print()\n",
    "\n",
    "# Fit and evaluate the model\n",
    "model.fit(X_train, y_train)\n",
    "\n",
    "preds = model.predict(X_test)\n",
    "\n",
    "# Compare the results\n",
    "print(\"Test RMSES:\", exp_results.performance_dict[drug_tuple][split_seed_of_interest].test_RMSE,\n",
    "     metrics.mean_squared_error(y_test, preds) ** 0.5)\n",
    "print(\"Test corrs:\", exp_results.performance_dict[drug_tuple][split_seed_of_interest].test_correlation,\n",
    "     pearsonr(y_test, preds))"
   ]
  },
  {
   "cell_type": "code",
   "execution_count": 53,
   "metadata": {},
   "outputs": [
    {
     "name": "stdout",
     "output_type": "stream",
     "text": [
      "Rapamycin\n",
      "(362, 14)\n",
      "Best parameters of experiment:\n",
      "{'estimator__l1_ratio': 0.0, 'estimator__alpha': 5.0}\n",
      "Best parameters now:\n",
      "{'estimator__l1_ratio': 0.0, 'estimator__alpha': 5.0}\n",
      "\n",
      "Test RMSES: 0.2149517789514536 0.2149517789514536\n",
      "CV RMSEs: 0.23570616531721 0.23570616531721\n",
      "Test corrs: (0.2467223807999091, 0.00970203510402834) (0.2467223807999091, 0.00970203510402834)\n"
     ]
    }
   ],
   "source": [
    "# Now try to repeat also including parameter tuning\n",
    "# Get the data\n",
    "drug = drugs[drug_tuple[1]]\n",
    "print(drug.name)\n",
    "\n",
    "data = drug.full_data\n",
    "\n",
    "# Extract features and labels\n",
    "y = data[\"AUC\"]\n",
    "X = data.drop([\"cell_line_id\", \"AUC\"], axis=1)\n",
    "X.shape[0] == y.shape[0]\n",
    "print(X.shape)\n",
    "\n",
    "# Split into train and test set\n",
    "X_train, X_test, y_train, y_test = model_selection.train_test_split(X, y, test_size=0.3, \n",
    "                                                                   random_state=split_seed_of_interest)\n",
    "\n",
    "# Create the pipeline\n",
    "scaler = StandardScaler()\n",
    "reg = ElasticNet(random_state=estimator_seed_of_interest, max_iter=exp_results.max_iter)\n",
    "\n",
    "model = Pipeline([\n",
    "    (\"scaler\", scaler),\n",
    "    (\"estimator\", reg)\n",
    "])\n",
    "\n",
    "grid = model_selection.RandomizedSearchCV(model, param_grid, n_iter=all_combinations, \n",
    "                                         scoring=\"neg_mean_squared_error\", cv=3, \n",
    "                            random_state=exp_results.tuning_seeds_dict[drug_tuple][split_seed_of_interest])\n",
    "\n",
    "grid.fit(X_train, y_train)\n",
    "print(\"Best parameters of experiment:\")\n",
    "print(exp_results.best_params_dict[drug_tuple][split_seed_of_interest])\n",
    "print(\"Best parameters now:\")\n",
    "print(grid.best_params_)\n",
    "print()\n",
    "\n",
    "# Evaluate\n",
    "preds = grid.predict(X_test)\n",
    "\n",
    "# Compare performance\n",
    "# Compare the results\n",
    "print(\"Test RMSES:\", exp_results.performance_dict[drug_tuple][split_seed_of_interest].test_RMSE,\n",
    "     metrics.mean_squared_error(y_test, preds) ** 0.5)\n",
    "print(\"CV RMSEs:\", exp_results.performance_dict[drug_tuple][split_seed_of_interest].cv_best_RMSE,\n",
    "     (-grid.best_score_) ** 0.5)\n",
    "print(\"Test corrs:\", exp_results.performance_dict[drug_tuple][split_seed_of_interest].test_correlation,\n",
    "     pearsonr(y_test, preds))"
   ]
  },
  {
   "cell_type": "markdown",
   "metadata": {},
   "source": [
    "## Modeling with Random Forest"
   ]
  },
  {
   "cell_type": "markdown",
   "metadata": {},
   "source": [
    "#### Define the grid of parameters to search on"
   ]
  },
  {
   "cell_type": "code",
   "execution_count": 6,
   "metadata": {},
   "outputs": [],
   "source": [
    "# Hyperparameter space to search on\n",
    "# Number of trees in random forest\n",
    "n_estimators = [10, 20, 50, 100, 200, 500]\n",
    "# Number of features to consider at every split\n",
    "max_features = ['auto', 'sqrt']\n",
    "# Maximum number of levels in tree\n",
    "max_depth = [int(x) for x in np.linspace(10, 110, num = 11)]\n",
    "max_depth.append(None)\n",
    "# Minimum number of samples required to split a node\n",
    "min_samples_split = [int(x) for x in np.linspace(2, 101, num = 10)]\n",
    "# Minimum number of samples required at each leaf node\n",
    "min_samples_leaf = [int(x) for x in np.linspace(2, 101, num = 10)]\n",
    "# Method of selecting samples for training each tree\n",
    "criterion = [\"mse\"]\n",
    "\n",
    "# Create the param grid\n",
    "param_grid = {'estimator__n_estimators': n_estimators,\n",
    "               'estimator__max_features': max_features,\n",
    "               'estimator__max_depth': max_depth,\n",
    "               'estimator__min_samples_split': min_samples_split,\n",
    "               'estimator__min_samples_leaf': min_samples_leaf,\n",
    "               'estimator__criterion': criterion}"
   ]
  },
  {
   "cell_type": "markdown",
   "metadata": {},
   "source": [
    "#### Create Modeling and ModelingResults objects"
   ]
  },
  {
   "cell_type": "code",
   "execution_count": 12,
   "metadata": {},
   "outputs": [],
   "source": [
    "rforest_seeds = [22, 37, 44, 55, 78]\n",
    "split_seeds = [11, 37, 52, 71, 98]\n",
    "\n",
    "exp = Modeling(name=\"Only targets - modeling with RForest over few data splits\",\n",
    "              param_grid=param_grid,\n",
    "              estimator_seeds=rforest_seeds,\n",
    "              split_seeds=split_seeds,\n",
    "              n_combinations=30,\n",
    "              kfolds=3,\n",
    "              tuning_jobs=2,\n",
    "              rforest_jobs=1)"
   ]
  },
  {
   "cell_type": "markdown",
   "metadata": {},
   "source": [
    "#### Initialize or load ModelingResults object"
   ]
  },
  {
   "cell_type": "code",
   "execution_count": 13,
   "metadata": {},
   "outputs": [
    {
     "name": "stdout",
     "output_type": "stream",
     "text": [
      "3 2 neg_mean_squared_error 1000\n"
     ]
    }
   ],
   "source": [
    "# Initialize new ModelingResults object\n",
    "exp_results = ModelingResults(exp)\n",
    "print(exp_results.kfolds, exp_results.tuning_jobs, exp_results.scoring, exp_results.max_iter)"
   ]
  },
  {
   "cell_type": "code",
   "execution_count": null,
   "metadata": {},
   "outputs": [],
   "source": [
    "# Load previously computed results\n",
    "filename = \"\"\n",
    "with open(\"../Created data/Results/\" + filename, \"rb\") as f:\n",
    "    exp_results = dill.load(f)"
   ]
  },
  {
   "cell_type": "markdown",
   "metadata": {},
   "source": [
    "#### Itearte over drugs"
   ]
  },
  {
   "cell_type": "code",
   "execution_count": 14,
   "metadata": {},
   "outputs": [
    {
     "name": "stdout",
     "output_type": "stream",
     "text": [
      "Erlotinib (347, 19)\n",
      "Modeling for 1 out of 5 data splits\n",
      "\n",
      "Fitting 3 folds for each of 30 candidates, totalling 90 fits\n"
     ]
    },
    {
     "name": "stderr",
     "output_type": "stream",
     "text": [
      "[Parallel(n_jobs=2)]: Done  66 tasks      | elapsed:    9.4s\n",
      "[Parallel(n_jobs=2)]: Done  90 out of  90 | elapsed:   10.6s finished\n"
     ]
    },
    {
     "name": "stdout",
     "output_type": "stream",
     "text": [
      "Modeling for 2 out of 5 data splits\n",
      "\n",
      "Fitting 3 folds for each of 30 candidates, totalling 90 fits\n"
     ]
    },
    {
     "name": "stderr",
     "output_type": "stream",
     "text": [
      "[Parallel(n_jobs=2)]: Done  90 out of  90 | elapsed:   24.1s finished\n"
     ]
    },
    {
     "name": "stdout",
     "output_type": "stream",
     "text": [
      "Modeling for 3 out of 5 data splits\n",
      "\n",
      "Fitting 3 folds for each of 30 candidates, totalling 90 fits\n"
     ]
    },
    {
     "name": "stderr",
     "output_type": "stream",
     "text": [
      "[Parallel(n_jobs=2)]: Done  50 tasks      | elapsed:   12.9s\n",
      "[Parallel(n_jobs=2)]: Done  90 out of  90 | elapsed:   22.1s finished\n"
     ]
    },
    {
     "name": "stdout",
     "output_type": "stream",
     "text": [
      "Modeling for 4 out of 5 data splits\n",
      "\n",
      "Fitting 3 folds for each of 30 candidates, totalling 90 fits\n"
     ]
    },
    {
     "name": "stderr",
     "output_type": "stream",
     "text": [
      "[Parallel(n_jobs=2)]: Done  61 tasks      | elapsed:   13.6s\n",
      "[Parallel(n_jobs=2)]: Done  90 out of  90 | elapsed:   23.2s finished\n"
     ]
    },
    {
     "name": "stdout",
     "output_type": "stream",
     "text": [
      "Modeling for 5 out of 5 data splits\n",
      "\n",
      "Fitting 3 folds for each of 30 candidates, totalling 90 fits\n"
     ]
    },
    {
     "name": "stderr",
     "output_type": "stream",
     "text": [
      "[Parallel(n_jobs=2)]: Done  51 tasks      | elapsed:    9.4s\n",
      "[Parallel(n_jobs=2)]: Done  90 out of  90 | elapsed:   18.6s finished\n"
     ]
    },
    {
     "name": "stdout",
     "output_type": "stream",
     "text": [
      "Modeling done for all splits\n",
      "1 drugs done\n",
      "\n",
      "**************************************************\n",
      "\n",
      "Rapamycin (362, 16)\n",
      "Modeling for 1 out of 5 data splits\n",
      "\n",
      "Fitting 3 folds for each of 30 candidates, totalling 90 fits\n"
     ]
    },
    {
     "name": "stderr",
     "output_type": "stream",
     "text": [
      "[Parallel(n_jobs=2)]: Done  46 tasks      | elapsed:    9.3s\n",
      "[Parallel(n_jobs=2)]: Done  90 out of  90 | elapsed:   16.8s finished\n"
     ]
    },
    {
     "name": "stdout",
     "output_type": "stream",
     "text": [
      "Modeling for 2 out of 5 data splits\n",
      "\n",
      "Fitting 3 folds for each of 30 candidates, totalling 90 fits\n"
     ]
    },
    {
     "name": "stderr",
     "output_type": "stream",
     "text": [
      "[Parallel(n_jobs=2)]: Done  58 tasks      | elapsed:   11.6s\n",
      "[Parallel(n_jobs=2)]: Done  90 out of  90 | elapsed:   20.2s finished\n"
     ]
    },
    {
     "name": "stdout",
     "output_type": "stream",
     "text": [
      "Modeling for 3 out of 5 data splits\n",
      "\n",
      "Fitting 3 folds for each of 30 candidates, totalling 90 fits\n"
     ]
    },
    {
     "name": "stderr",
     "output_type": "stream",
     "text": [
      "[Parallel(n_jobs=2)]: Done  46 tasks      | elapsed:    9.4s\n",
      "[Parallel(n_jobs=2)]: Done  90 out of  90 | elapsed:   15.2s finished\n"
     ]
    },
    {
     "name": "stdout",
     "output_type": "stream",
     "text": [
      "Modeling for 4 out of 5 data splits\n",
      "\n",
      "Fitting 3 folds for each of 30 candidates, totalling 90 fits\n"
     ]
    },
    {
     "name": "stderr",
     "output_type": "stream",
     "text": [
      "[Parallel(n_jobs=2)]: Done  49 tasks      | elapsed:   11.7s\n",
      "[Parallel(n_jobs=2)]: Done  90 out of  90 | elapsed:   17.7s finished\n"
     ]
    },
    {
     "name": "stdout",
     "output_type": "stream",
     "text": [
      "Modeling for 5 out of 5 data splits\n",
      "\n",
      "Fitting 3 folds for each of 30 candidates, totalling 90 fits\n"
     ]
    },
    {
     "name": "stderr",
     "output_type": "stream",
     "text": [
      "[Parallel(n_jobs=2)]: Done  46 tasks      | elapsed:   15.2s\n",
      "[Parallel(n_jobs=2)]: Done  90 out of  90 | elapsed:   21.9s finished\n"
     ]
    },
    {
     "name": "stdout",
     "output_type": "stream",
     "text": [
      "Modeling done for all splits\n",
      "2 drugs done\n",
      "\n",
      "**************************************************\n",
      "\n",
      "Sunitinib (372, 31)\n",
      "Modeling for 1 out of 5 data splits\n",
      "\n",
      "Fitting 3 folds for each of 30 candidates, totalling 90 fits\n"
     ]
    },
    {
     "name": "stderr",
     "output_type": "stream",
     "text": [
      "[Parallel(n_jobs=2)]: Done  46 tasks      | elapsed:   17.8s\n",
      "[Parallel(n_jobs=2)]: Done  90 out of  90 | elapsed:   25.9s finished\n"
     ]
    },
    {
     "name": "stdout",
     "output_type": "stream",
     "text": [
      "Modeling for 2 out of 5 data splits\n",
      "\n",
      "Fitting 3 folds for each of 30 candidates, totalling 90 fits\n"
     ]
    },
    {
     "name": "stderr",
     "output_type": "stream",
     "text": [
      "[Parallel(n_jobs=2)]: Done  65 tasks      | elapsed:   12.5s\n",
      "[Parallel(n_jobs=2)]: Done  90 out of  90 | elapsed:   16.2s finished\n"
     ]
    },
    {
     "name": "stdout",
     "output_type": "stream",
     "text": [
      "Modeling for 3 out of 5 data splits\n",
      "\n",
      "Fitting 3 folds for each of 30 candidates, totalling 90 fits\n"
     ]
    },
    {
     "name": "stderr",
     "output_type": "stream",
     "text": [
      "[Parallel(n_jobs=2)]: Done  46 tasks      | elapsed:    6.8s\n",
      "[Parallel(n_jobs=2)]: Done  90 out of  90 | elapsed:   19.7s finished\n"
     ]
    },
    {
     "name": "stdout",
     "output_type": "stream",
     "text": [
      "Modeling for 4 out of 5 data splits\n",
      "\n",
      "Fitting 3 folds for each of 30 candidates, totalling 90 fits\n"
     ]
    },
    {
     "ename": "KeyboardInterrupt",
     "evalue": "",
     "output_type": "error",
     "traceback": [
      "\u001b[0;31m---------------------------------------------------------------------------\u001b[0m",
      "\u001b[0;31mKeyboardInterrupt\u001b[0m                         Traceback (most recent call last)",
      "\u001b[0;32m<ipython-input-14-ce11d69f679c>\u001b[0m in \u001b[0;36m<module>\u001b[0;34m\u001b[0m\n\u001b[1;32m     29\u001b[0m     (test_results_for_splits, cv_results_for_splits, \n\u001b[1;32m     30\u001b[0m      \u001b[0mbest_parameters_for_splits\u001b[0m\u001b[0;34m,\u001b[0m\u001b[0;34m\u001b[0m\u001b[0m\n\u001b[0;32m---> 31\u001b[0;31m      dummy_for_splits, tuning_seeds_for_splits) = exp.rf_model_over_data_splits(X, y, verbose=1, log=True)\n\u001b[0m\u001b[1;32m     32\u001b[0m \u001b[0;34m\u001b[0m\u001b[0m\n\u001b[1;32m     33\u001b[0m     \u001b[0;31m# Put results into appropriate fields of ModelingResults object\u001b[0m\u001b[0;34m\u001b[0m\u001b[0;34m\u001b[0m\u001b[0m\n",
      "\u001b[0;32m~/Documents/Projects/Doktorat - Modelling drug efficacy in cancer/Projects/Created Modules/gdsc_projects_module.py\u001b[0m in \u001b[0;36mrf_model_over_data_splits\u001b[0;34m(self, X, y, verbose, log)\u001b[0m\n\u001b[1;32m   2321\u001b[0m             \u001b[0;31m# Fit the model\u001b[0m\u001b[0;34m\u001b[0m\u001b[0;34m\u001b[0m\u001b[0m\n\u001b[1;32m   2322\u001b[0m             grid = self.rf_fit_single_drug(X_train, y_train, tuning_seed=tuning_seeds[i],\n\u001b[0;32m-> 2323\u001b[0;31m                                           rforest_seed=self.estimator_seeds[i], verbose=verbose)\n\u001b[0m\u001b[1;32m   2324\u001b[0m \u001b[0;34m\u001b[0m\u001b[0m\n\u001b[1;32m   2325\u001b[0m             \u001b[0;31m# Evaluate the model\u001b[0m\u001b[0;34m\u001b[0m\u001b[0;34m\u001b[0m\u001b[0m\n",
      "\u001b[0;32m~/Documents/Projects/Doktorat - Modelling drug efficacy in cancer/Projects/Created Modules/gdsc_projects_module.py\u001b[0m in \u001b[0;36mrf_fit_single_drug\u001b[0;34m(self, X, y, tuning_seed, rforest_seed, verbose, refit)\u001b[0m\n\u001b[1;32m   2071\u001b[0m                                                  refit=refit)\n\u001b[1;32m   2072\u001b[0m         \u001b[0;31m# Fit the grid\u001b[0m\u001b[0;34m\u001b[0m\u001b[0;34m\u001b[0m\u001b[0m\n\u001b[0;32m-> 2073\u001b[0;31m         \u001b[0mgrid\u001b[0m\u001b[0;34m.\u001b[0m\u001b[0mfit\u001b[0m\u001b[0;34m(\u001b[0m\u001b[0mX\u001b[0m\u001b[0;34m,\u001b[0m \u001b[0my\u001b[0m\u001b[0;34m)\u001b[0m\u001b[0;34m\u001b[0m\u001b[0m\n\u001b[0m\u001b[1;32m   2074\u001b[0m         \u001b[0;32mreturn\u001b[0m \u001b[0mgrid\u001b[0m\u001b[0;34m\u001b[0m\u001b[0m\n\u001b[1;32m   2075\u001b[0m \u001b[0;34m\u001b[0m\u001b[0m\n",
      "\u001b[0;32m~/anaconda3/envs/modeling_drug_efficacy/lib/python3.6/site-packages/sklearn/model_selection/_search.py\u001b[0m in \u001b[0;36mfit\u001b[0;34m(self, X, y, groups, **fit_params)\u001b[0m\n\u001b[1;32m    638\u001b[0m                                   error_score=self.error_score)\n\u001b[1;32m    639\u001b[0m           for parameters, (train, test) in product(candidate_params,\n\u001b[0;32m--> 640\u001b[0;31m                                                    cv.split(X, y, groups)))\n\u001b[0m\u001b[1;32m    641\u001b[0m \u001b[0;34m\u001b[0m\u001b[0m\n\u001b[1;32m    642\u001b[0m         \u001b[0;31m# if one choose to see train score, \"out\" will contain train score info\u001b[0m\u001b[0;34m\u001b[0m\u001b[0;34m\u001b[0m\u001b[0m\n",
      "\u001b[0;32m~/anaconda3/envs/modeling_drug_efficacy/lib/python3.6/site-packages/sklearn/externals/joblib/parallel.py\u001b[0m in \u001b[0;36m__call__\u001b[0;34m(self, iterable)\u001b[0m\n\u001b[1;32m    787\u001b[0m                 \u001b[0;31m# consumption.\u001b[0m\u001b[0;34m\u001b[0m\u001b[0;34m\u001b[0m\u001b[0m\n\u001b[1;32m    788\u001b[0m                 \u001b[0mself\u001b[0m\u001b[0;34m.\u001b[0m\u001b[0m_iterating\u001b[0m \u001b[0;34m=\u001b[0m \u001b[0;32mFalse\u001b[0m\u001b[0;34m\u001b[0m\u001b[0m\n\u001b[0;32m--> 789\u001b[0;31m             \u001b[0mself\u001b[0m\u001b[0;34m.\u001b[0m\u001b[0mretrieve\u001b[0m\u001b[0;34m(\u001b[0m\u001b[0;34m)\u001b[0m\u001b[0;34m\u001b[0m\u001b[0m\n\u001b[0m\u001b[1;32m    790\u001b[0m             \u001b[0;31m# Make sure that we get a last message telling us we are done\u001b[0m\u001b[0;34m\u001b[0m\u001b[0;34m\u001b[0m\u001b[0m\n\u001b[1;32m    791\u001b[0m             \u001b[0melapsed_time\u001b[0m \u001b[0;34m=\u001b[0m \u001b[0mtime\u001b[0m\u001b[0;34m.\u001b[0m\u001b[0mtime\u001b[0m\u001b[0;34m(\u001b[0m\u001b[0;34m)\u001b[0m \u001b[0;34m-\u001b[0m \u001b[0mself\u001b[0m\u001b[0;34m.\u001b[0m\u001b[0m_start_time\u001b[0m\u001b[0;34m\u001b[0m\u001b[0m\n",
      "\u001b[0;32m~/anaconda3/envs/modeling_drug_efficacy/lib/python3.6/site-packages/sklearn/externals/joblib/parallel.py\u001b[0m in \u001b[0;36mretrieve\u001b[0;34m(self)\u001b[0m\n\u001b[1;32m    697\u001b[0m             \u001b[0;32mtry\u001b[0m\u001b[0;34m:\u001b[0m\u001b[0;34m\u001b[0m\u001b[0m\n\u001b[1;32m    698\u001b[0m                 \u001b[0;32mif\u001b[0m \u001b[0mgetattr\u001b[0m\u001b[0;34m(\u001b[0m\u001b[0mself\u001b[0m\u001b[0;34m.\u001b[0m\u001b[0m_backend\u001b[0m\u001b[0;34m,\u001b[0m \u001b[0;34m'supports_timeout'\u001b[0m\u001b[0;34m,\u001b[0m \u001b[0;32mFalse\u001b[0m\u001b[0;34m)\u001b[0m\u001b[0;34m:\u001b[0m\u001b[0;34m\u001b[0m\u001b[0m\n\u001b[0;32m--> 699\u001b[0;31m                     \u001b[0mself\u001b[0m\u001b[0;34m.\u001b[0m\u001b[0m_output\u001b[0m\u001b[0;34m.\u001b[0m\u001b[0mextend\u001b[0m\u001b[0;34m(\u001b[0m\u001b[0mjob\u001b[0m\u001b[0;34m.\u001b[0m\u001b[0mget\u001b[0m\u001b[0;34m(\u001b[0m\u001b[0mtimeout\u001b[0m\u001b[0;34m=\u001b[0m\u001b[0mself\u001b[0m\u001b[0;34m.\u001b[0m\u001b[0mtimeout\u001b[0m\u001b[0;34m)\u001b[0m\u001b[0;34m)\u001b[0m\u001b[0;34m\u001b[0m\u001b[0m\n\u001b[0m\u001b[1;32m    700\u001b[0m                 \u001b[0;32melse\u001b[0m\u001b[0;34m:\u001b[0m\u001b[0;34m\u001b[0m\u001b[0m\n\u001b[1;32m    701\u001b[0m                     \u001b[0mself\u001b[0m\u001b[0;34m.\u001b[0m\u001b[0m_output\u001b[0m\u001b[0;34m.\u001b[0m\u001b[0mextend\u001b[0m\u001b[0;34m(\u001b[0m\u001b[0mjob\u001b[0m\u001b[0;34m.\u001b[0m\u001b[0mget\u001b[0m\u001b[0;34m(\u001b[0m\u001b[0;34m)\u001b[0m\u001b[0;34m)\u001b[0m\u001b[0;34m\u001b[0m\u001b[0m\n",
      "\u001b[0;32m~/anaconda3/envs/modeling_drug_efficacy/lib/python3.6/multiprocessing/pool.py\u001b[0m in \u001b[0;36mget\u001b[0;34m(self, timeout)\u001b[0m\n\u001b[1;32m    636\u001b[0m \u001b[0;34m\u001b[0m\u001b[0m\n\u001b[1;32m    637\u001b[0m     \u001b[0;32mdef\u001b[0m \u001b[0mget\u001b[0m\u001b[0;34m(\u001b[0m\u001b[0mself\u001b[0m\u001b[0;34m,\u001b[0m \u001b[0mtimeout\u001b[0m\u001b[0;34m=\u001b[0m\u001b[0;32mNone\u001b[0m\u001b[0;34m)\u001b[0m\u001b[0;34m:\u001b[0m\u001b[0;34m\u001b[0m\u001b[0m\n\u001b[0;32m--> 638\u001b[0;31m         \u001b[0mself\u001b[0m\u001b[0;34m.\u001b[0m\u001b[0mwait\u001b[0m\u001b[0;34m(\u001b[0m\u001b[0mtimeout\u001b[0m\u001b[0;34m)\u001b[0m\u001b[0;34m\u001b[0m\u001b[0m\n\u001b[0m\u001b[1;32m    639\u001b[0m         \u001b[0;32mif\u001b[0m \u001b[0;32mnot\u001b[0m \u001b[0mself\u001b[0m\u001b[0;34m.\u001b[0m\u001b[0mready\u001b[0m\u001b[0;34m(\u001b[0m\u001b[0;34m)\u001b[0m\u001b[0;34m:\u001b[0m\u001b[0;34m\u001b[0m\u001b[0m\n\u001b[1;32m    640\u001b[0m             \u001b[0;32mraise\u001b[0m \u001b[0mTimeoutError\u001b[0m\u001b[0;34m\u001b[0m\u001b[0m\n",
      "\u001b[0;32m~/anaconda3/envs/modeling_drug_efficacy/lib/python3.6/multiprocessing/pool.py\u001b[0m in \u001b[0;36mwait\u001b[0;34m(self, timeout)\u001b[0m\n\u001b[1;32m    633\u001b[0m \u001b[0;34m\u001b[0m\u001b[0m\n\u001b[1;32m    634\u001b[0m     \u001b[0;32mdef\u001b[0m \u001b[0mwait\u001b[0m\u001b[0;34m(\u001b[0m\u001b[0mself\u001b[0m\u001b[0;34m,\u001b[0m \u001b[0mtimeout\u001b[0m\u001b[0;34m=\u001b[0m\u001b[0;32mNone\u001b[0m\u001b[0;34m)\u001b[0m\u001b[0;34m:\u001b[0m\u001b[0;34m\u001b[0m\u001b[0m\n\u001b[0;32m--> 635\u001b[0;31m         \u001b[0mself\u001b[0m\u001b[0;34m.\u001b[0m\u001b[0m_event\u001b[0m\u001b[0;34m.\u001b[0m\u001b[0mwait\u001b[0m\u001b[0;34m(\u001b[0m\u001b[0mtimeout\u001b[0m\u001b[0;34m)\u001b[0m\u001b[0;34m\u001b[0m\u001b[0m\n\u001b[0m\u001b[1;32m    636\u001b[0m \u001b[0;34m\u001b[0m\u001b[0m\n\u001b[1;32m    637\u001b[0m     \u001b[0;32mdef\u001b[0m \u001b[0mget\u001b[0m\u001b[0;34m(\u001b[0m\u001b[0mself\u001b[0m\u001b[0;34m,\u001b[0m \u001b[0mtimeout\u001b[0m\u001b[0;34m=\u001b[0m\u001b[0;32mNone\u001b[0m\u001b[0;34m)\u001b[0m\u001b[0;34m:\u001b[0m\u001b[0;34m\u001b[0m\u001b[0m\n",
      "\u001b[0;32m~/anaconda3/envs/modeling_drug_efficacy/lib/python3.6/threading.py\u001b[0m in \u001b[0;36mwait\u001b[0;34m(self, timeout)\u001b[0m\n\u001b[1;32m    549\u001b[0m             \u001b[0msignaled\u001b[0m \u001b[0;34m=\u001b[0m \u001b[0mself\u001b[0m\u001b[0;34m.\u001b[0m\u001b[0m_flag\u001b[0m\u001b[0;34m\u001b[0m\u001b[0m\n\u001b[1;32m    550\u001b[0m             \u001b[0;32mif\u001b[0m \u001b[0;32mnot\u001b[0m \u001b[0msignaled\u001b[0m\u001b[0;34m:\u001b[0m\u001b[0;34m\u001b[0m\u001b[0m\n\u001b[0;32m--> 551\u001b[0;31m                 \u001b[0msignaled\u001b[0m \u001b[0;34m=\u001b[0m \u001b[0mself\u001b[0m\u001b[0;34m.\u001b[0m\u001b[0m_cond\u001b[0m\u001b[0;34m.\u001b[0m\u001b[0mwait\u001b[0m\u001b[0;34m(\u001b[0m\u001b[0mtimeout\u001b[0m\u001b[0;34m)\u001b[0m\u001b[0;34m\u001b[0m\u001b[0m\n\u001b[0m\u001b[1;32m    552\u001b[0m             \u001b[0;32mreturn\u001b[0m \u001b[0msignaled\u001b[0m\u001b[0;34m\u001b[0m\u001b[0m\n\u001b[1;32m    553\u001b[0m \u001b[0;34m\u001b[0m\u001b[0m\n",
      "\u001b[0;32m~/anaconda3/envs/modeling_drug_efficacy/lib/python3.6/threading.py\u001b[0m in \u001b[0;36mwait\u001b[0;34m(self, timeout)\u001b[0m\n\u001b[1;32m    293\u001b[0m         \u001b[0;32mtry\u001b[0m\u001b[0;34m:\u001b[0m    \u001b[0;31m# restore state no matter what (e.g., KeyboardInterrupt)\u001b[0m\u001b[0;34m\u001b[0m\u001b[0m\n\u001b[1;32m    294\u001b[0m             \u001b[0;32mif\u001b[0m \u001b[0mtimeout\u001b[0m \u001b[0;32mis\u001b[0m \u001b[0;32mNone\u001b[0m\u001b[0;34m:\u001b[0m\u001b[0;34m\u001b[0m\u001b[0m\n\u001b[0;32m--> 295\u001b[0;31m                 \u001b[0mwaiter\u001b[0m\u001b[0;34m.\u001b[0m\u001b[0macquire\u001b[0m\u001b[0;34m(\u001b[0m\u001b[0;34m)\u001b[0m\u001b[0;34m\u001b[0m\u001b[0m\n\u001b[0m\u001b[1;32m    296\u001b[0m                 \u001b[0mgotit\u001b[0m \u001b[0;34m=\u001b[0m \u001b[0;32mTrue\u001b[0m\u001b[0;34m\u001b[0m\u001b[0m\n\u001b[1;32m    297\u001b[0m             \u001b[0;32melse\u001b[0m\u001b[0;34m:\u001b[0m\u001b[0;34m\u001b[0m\u001b[0m\n",
      "\u001b[0;31mKeyboardInterrupt\u001b[0m: "
     ]
    }
   ],
   "source": [
    "# Get rid of warnings\n",
    "import warnings\n",
    "warnings.filterwarnings(\"ignore\")\n",
    "\n",
    "drug_counter = 0\n",
    "log = True   # Controls verbosity during iterating over drugs\n",
    "\n",
    "# Enter the loop over drugs\n",
    "for drug_id in drugs:\n",
    "    drug = drugs[drug_id]   # Current Drug object\n",
    "    data = drug.full_data  # Extract input data (should be previously computed)\n",
    "    if data.shape[0] == 0:   # Check if data exists, if not, skip the drug\n",
    "        continue\n",
    "    if data.shape[1] < 16:    # That means that data has only features related to tissue\n",
    "        continue           # so also skip this case\n",
    "        \n",
    "    if log:\n",
    "        print(drug.name, data.shape)\n",
    "        \n",
    "    # Extract features and labels\n",
    "    y = data[\"AUC\"]\n",
    "    X = data.drop([\"cell_line_id\", \"AUC\"], axis=1)\n",
    "    X.shape[0] == y.shape[0]\n",
    "        \n",
    "    # Add data shapes to corresponding dictionary field in ModelingResults\n",
    "    exp_results.data_shapes[(drug.name, drug_id)] = X.shape\n",
    "    \n",
    "    # Compute the results\n",
    "    (test_results_for_splits, cv_results_for_splits, \n",
    "     best_parameters_for_splits, \n",
    "     dummy_for_splits, tuning_seeds_for_splits) = exp.rf_model_over_data_splits(X, y, verbose=1, log=True)\n",
    "    \n",
    "    # Put results into appropriate fields of ModelingResults object\n",
    "    exp_results.performance_dict[(drug.name, drug_id)] = test_results_for_splits\n",
    "    exp_results.dummy_performance_dict[(drug.name, drug_id)] = dummy_for_splits\n",
    "    exp_results.best_params_dict[(drug.name, drug_id)] = best_parameters_for_splits\n",
    "    exp_results.tuning_seeds_dict[(drug.name, drug_id)] = tuning_seeds_for_splits\n",
    "    exp_results.cv_results_dict[(drug.name, drug_id)] = cv_results_for_splits\n",
    "    \n",
    "    # Save the results\n",
    "    #res_name = exp_results.name.replace(\" \", \"_\").lower() + \".pkl\n",
    "#     with open(\"../Created data/Results/only_targets-enet_over_few_data_splits.pkl\", \"wb\") as f:\n",
    "#         dill.dump(exp_results, f)\n",
    "    \n",
    "    drug_counter +=1 \n",
    "    print(drug_counter, \"drugs done\")\n",
    "    print()\n",
    "    print(\"*\" * 50)\n",
    "    print()\n",
    "    time.sleep(10)"
   ]
  },
  {
   "cell_type": "code",
   "execution_count": null,
   "metadata": {},
   "outputs": [],
   "source": []
  },
  {
   "cell_type": "markdown",
   "metadata": {},
   "source": [
    "### Try to reproduce sample results"
   ]
  },
  {
   "cell_type": "code",
   "execution_count": null,
   "metadata": {},
   "outputs": [],
   "source": [
    "# Load previously computed results\n",
    "filename = \"\"\n",
    "with open(\"../Created data/Results/\" + filename, \"rb\") as f:\n",
    "    exp_results = dill.load(f)"
   ]
  },
  {
   "cell_type": "code",
   "execution_count": 15,
   "metadata": {},
   "outputs": [
    {
     "name": "stdout",
     "output_type": "stream",
     "text": [
      "2 5\n"
     ]
    }
   ],
   "source": [
    "# Pick a drug to work with\n",
    "drug_tuple = (\"Rapamycin\", 3)\n",
    "print(len(exp_results.performance_dict), len(exp_results.performance_dict[drug_tuple]))"
   ]
  },
  {
   "cell_type": "code",
   "execution_count": 16,
   "metadata": {},
   "outputs": [
    {
     "name": "stdout",
     "output_type": "stream",
     "text": [
      "[22, 37, 44, 55, 78]\n",
      "[11, 37, 52, 71, 98]\n"
     ]
    },
    {
     "data": {
      "text/plain": [
       "{11: 17, 37: 78, 52: 86, 71: 34, 98: 39}"
      ]
     },
     "execution_count": 16,
     "metadata": {},
     "output_type": "execute_result"
    }
   ],
   "source": [
    "# View sample results\n",
    "print(exp_results.estimator_seeds)\n",
    "print(exp_results.split_seeds)\n",
    "exp_results.tuning_seeds_dict[drug_tuple]"
   ]
  },
  {
   "cell_type": "code",
   "execution_count": 17,
   "metadata": {},
   "outputs": [
    {
     "data": {
      "text/plain": [
       "{11: ModelTestScores(cv_best_RMSE=0.23156380208366745, test_RMSE=0.22863400392511415, test_explained_variance=-0.01194810801605839, test_correlation=(0.09794416697740721, 0.3109566721989947)),\n",
       " 37: ModelTestScores(cv_best_RMSE=0.22674958045977678, test_RMSE=0.23831634066329468, test_explained_variance=0.0024198523949614525, test_correlation=(0.055276079194154594, 0.568079186604673)),\n",
       " 52: ModelTestScores(cv_best_RMSE=0.22337528527172038, test_RMSE=0.2466884950749844, test_explained_variance=0.0007940155988231945, test_correlation=(0.030793273010018305, 0.7505910001789404)),\n",
       " 71: ModelTestScores(cv_best_RMSE=0.2361216250223449, test_RMSE=0.21620811582120048, test_explained_variance=0.006493255898127215, test_correlation=(0.0820377556434738, 0.39640701379985144)),\n",
       " 98: ModelTestScores(cv_best_RMSE=0.2351567147456453, test_RMSE=0.22058844408544206, test_explained_variance=1.1102230246251565e-16, test_correlation=(-4.977238695319324e-16, 1.0))}"
      ]
     },
     "execution_count": 17,
     "metadata": {},
     "output_type": "execute_result"
    }
   ],
   "source": [
    "exp_results.performance_dict[drug_tuple]"
   ]
  },
  {
   "cell_type": "code",
   "execution_count": 18,
   "metadata": {},
   "outputs": [
    {
     "name": "stdout",
     "output_type": "stream",
     "text": [
      "71 55\n"
     ]
    }
   ],
   "source": [
    "# First, fit the model on sample seed using computed best params\n",
    "idx_of_interest = 3\n",
    "split_seed_of_interest = exp_results.split_seeds[idx_of_interest]\n",
    "estimator_seed_of_interest = exp_results.estimator_seeds[idx_of_interest]\n",
    "print(split_seed_of_interest, estimator_seed_of_interest)"
   ]
  },
  {
   "cell_type": "code",
   "execution_count": 19,
   "metadata": {},
   "outputs": [
    {
     "name": "stdout",
     "output_type": "stream",
     "text": [
      "Rapamycin\n",
      "(362, 14)\n",
      "{'bootstrap': True, 'criterion': 'mse', 'max_depth': None, 'max_features': 'auto', 'max_leaf_nodes': None, 'min_impurity_decrease': 0.0, 'min_impurity_split': None, 'min_samples_leaf': 1, 'min_samples_split': 2, 'min_weight_fraction_leaf': 0.0, 'n_estimators': 10, 'n_jobs': 1, 'oob_score': False, 'random_state': 55, 'verbose': 0, 'warm_start': False}\n",
      "\n",
      "{'bootstrap': True, 'criterion': 'mse', 'max_depth': 40, 'max_features': 'sqrt', 'max_leaf_nodes': None, 'min_impurity_decrease': 0.0, 'min_impurity_split': None, 'min_samples_leaf': 24, 'min_samples_split': 46, 'min_weight_fraction_leaf': 0.0, 'n_estimators': 10, 'n_jobs': 1, 'oob_score': False, 'random_state': 55, 'verbose': 0, 'warm_start': False}\n",
      "\n",
      "Test RMSES: 0.21620811582120048 0.21620811582120048\n",
      "Test corrs: (0.0820377556434738, 0.39640701379985144) (0.0820377556434738, 0.39640701379985144)\n"
     ]
    }
   ],
   "source": [
    "# Do the modeling without using classes\n",
    "\n",
    "# Get the data\n",
    "drug = drugs[drug_tuple[1]]\n",
    "print(drug.name)\n",
    "\n",
    "data = drug.full_data\n",
    "\n",
    "# Extract features and labels\n",
    "y = data[\"AUC\"]\n",
    "X = data.drop([\"cell_line_id\", \"AUC\"], axis=1)\n",
    "X.shape[0] == y.shape[0]\n",
    "print(X.shape)\n",
    "\n",
    "# Split into train and test set\n",
    "X_train, X_test, y_train, y_test = model_selection.train_test_split(X, y, test_size=0.3, \n",
    "                                                                   random_state=split_seed_of_interest)\n",
    "\n",
    "# Create the pipeline\n",
    "scaler = StandardScaler()\n",
    "reg = RandomForestRegressor(random_state=estimator_seed_of_interest)\n",
    "\n",
    "model = Pipeline([\n",
    "    (\"scaler\", scaler),\n",
    "    (\"estimator\", reg)\n",
    "])\n",
    "\n",
    "print(model.named_steps[\"estimator\"].get_params())\n",
    "print()\n",
    "# Parse computed best paramateres into pipeline\n",
    "model.set_params(**exp_results.best_params_dict[drug_tuple][split_seed_of_interest])\n",
    "print(model.named_steps[\"estimator\"].get_params())\n",
    "print()\n",
    "\n",
    "# Fit and evaluate the model\n",
    "model.fit(X_train, y_train)\n",
    "\n",
    "preds = model.predict(X_test)\n",
    "\n",
    "# Compare the results\n",
    "print(\"Test RMSES:\", exp_results.performance_dict[drug_tuple][split_seed_of_interest].test_RMSE,\n",
    "     metrics.mean_squared_error(y_test, preds) ** 0.5)\n",
    "print(\"Test corrs:\", exp_results.performance_dict[drug_tuple][split_seed_of_interest].test_correlation,\n",
    "     pearsonr(y_test, preds))"
   ]
  },
  {
   "cell_type": "code",
   "execution_count": 21,
   "metadata": {},
   "outputs": [
    {
     "name": "stdout",
     "output_type": "stream",
     "text": [
      "Rapamycin\n",
      "(362, 14)\n",
      "Best parameters of experiment:\n",
      "{'estimator__n_estimators': 10, 'estimator__min_samples_split': 46, 'estimator__min_samples_leaf': 24, 'estimator__max_features': 'sqrt', 'estimator__max_depth': 40, 'estimator__criterion': 'mse'}\n",
      "Best parameters now:\n",
      "{'estimator__n_estimators': 10, 'estimator__min_samples_split': 46, 'estimator__min_samples_leaf': 24, 'estimator__max_features': 'sqrt', 'estimator__max_depth': 40, 'estimator__criterion': 'mse'}\n",
      "\n",
      "Test RMSES: 0.21620811582120048 0.21620811582120048\n",
      "CV RMSEs: 0.2361216250223449 0.2361216250223449\n",
      "Test corrs: (0.0820377556434738, 0.39640701379985144) (0.0820377556434738, 0.39640701379985144)\n"
     ]
    }
   ],
   "source": [
    "# Now try to repeat also including parameter tuning\n",
    "# Get the data\n",
    "drug = drugs[drug_tuple[1]]\n",
    "print(drug.name)\n",
    "\n",
    "data = drug.full_data\n",
    "\n",
    "# Extract features and labels\n",
    "y = data[\"AUC\"]\n",
    "X = data.drop([\"cell_line_id\", \"AUC\"], axis=1)\n",
    "X.shape[0] == y.shape[0]\n",
    "print(X.shape)\n",
    "\n",
    "# Split into train and test set\n",
    "X_train, X_test, y_train, y_test = model_selection.train_test_split(X, y, test_size=0.3, \n",
    "                                                                   random_state=split_seed_of_interest)\n",
    "\n",
    "# Create the pipeline\n",
    "scaler = StandardScaler()\n",
    "reg = RandomForestRegressor(random_state=estimator_seed_of_interest)\n",
    "\n",
    "model = Pipeline([\n",
    "    (\"scaler\", scaler),\n",
    "    (\"estimator\", reg)\n",
    "])\n",
    "\n",
    "grid = model_selection.RandomizedSearchCV(model, param_grid, n_iter=30, \n",
    "                                         scoring=\"neg_mean_squared_error\", cv=3, \n",
    "                            random_state=exp_results.tuning_seeds_dict[drug_tuple][split_seed_of_interest])\n",
    "\n",
    "grid.fit(X_train, y_train)\n",
    "print(\"Best parameters of experiment:\")\n",
    "print(exp_results.best_params_dict[drug_tuple][split_seed_of_interest])\n",
    "print(\"Best parameters now:\")\n",
    "print(grid.best_params_)\n",
    "print()\n",
    "\n",
    "# Evaluate\n",
    "preds = grid.predict(X_test)\n",
    "\n",
    "# Compare performance\n",
    "# Compare the results\n",
    "print(\"Test RMSES:\", exp_results.performance_dict[drug_tuple][split_seed_of_interest].test_RMSE,\n",
    "     metrics.mean_squared_error(y_test, preds) ** 0.5)\n",
    "print(\"CV RMSEs:\", exp_results.performance_dict[drug_tuple][split_seed_of_interest].cv_best_RMSE,\n",
    "     (-grid.best_score_) ** 0.5)\n",
    "print(\"Test corrs:\", exp_results.performance_dict[drug_tuple][split_seed_of_interest].test_correlation,\n",
    "     pearsonr(y_test, preds))"
   ]
  },
  {
   "cell_type": "code",
   "execution_count": null,
   "metadata": {},
   "outputs": [],
   "source": []
  }
 ],
 "metadata": {
  "kernelspec": {
   "display_name": "Python (modeling_drug_efficacy)",
   "language": "python",
   "name": "modeling_drug_efficacy"
  },
  "language_info": {
   "codemirror_mode": {
    "name": "ipython",
    "version": 3
   },
   "file_extension": ".py",
   "mimetype": "text/x-python",
   "name": "python",
   "nbconvert_exporter": "python",
   "pygments_lexer": "ipython3",
   "version": "3.6.5"
  }
 },
 "nbformat": 4,
 "nbformat_minor": 2
}
