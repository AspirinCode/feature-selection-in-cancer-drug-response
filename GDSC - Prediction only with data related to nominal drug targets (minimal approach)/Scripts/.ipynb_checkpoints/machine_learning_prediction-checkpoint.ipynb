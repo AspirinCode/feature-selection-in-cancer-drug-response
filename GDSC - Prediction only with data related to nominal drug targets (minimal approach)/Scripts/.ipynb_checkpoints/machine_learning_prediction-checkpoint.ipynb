{
 "cells": [
  {
   "cell_type": "markdown",
   "metadata": {},
   "source": [
    "# In this notebook we do the actual machine learning experiment"
   ]
  },
  {
   "cell_type": "code",
   "execution_count": 1,
   "metadata": {},
   "outputs": [],
   "source": [
    "# Neccessary imports\n",
    "from data_module import load_data, Drug\n",
    "import pandas as pd\n",
    "import numpy as np\n",
    "import time\n",
    "import pickle"
   ]
  },
  {
   "cell_type": "markdown",
   "metadata": {},
   "source": [
    "# Load needed data files"
   ]
  },
  {
   "cell_type": "code",
   "execution_count": 2,
   "metadata": {},
   "outputs": [
    {
     "name": "stdout",
     "output_type": "stream",
     "text": [
      "Drug annotations: (267, 5)\n",
      "Cell line list (1065, 6)\n",
      "Gene expression (17737, 1019)\n",
      "CNV binary: (419050, 9)\n",
      "Coding variants: (295740, 9)\n",
      "Drug response: (224202, 13)\n"
     ]
    }
   ],
   "source": [
    "# Initialize proper file pathways\n",
    "drug_annotations = \"/media/krzysztof/Nowy/Doktorat/Data/Original Data/Genomics of Drug Sensitivity in Cancer/Original GDSC Data/Drug annotations/Screened_Compounds-March_27th_2018.xlsx\"\n",
    "cell_line_list = \"/media/krzysztof/Nowy/Doktorat/Data/Original Data/Genomics of Drug Sensitivity in Cancer/Original GDSC Data/Cell line list (directly from website)/Cell_listThu Aug 16 22_06_49 2018.csv\"\n",
    "gene_expr = \"/media/krzysztof/Nowy/Doktorat/Data/Original Data/Genomics of Drug Sensitivity in Cancer/Original GDSC Data/Gene expression/sanger1018_brainarray_ensemblgene_rma-March_2nd_2017.txt\"\n",
    "cnv1 = \"/media/krzysztof/Nowy/Doktorat/Data/Original Data/Genomics of Drug Sensitivity in Cancer/Original GDSC Data/Copy number variations/cnv_binary_1.csv\"\n",
    "cnv2 = \"/media/krzysztof/Nowy/Doktorat/Data/Original Data/Genomics of Drug Sensitivity in Cancer/Original GDSC Data/Copy number variations/PANCANCER_Genetic_feature_cna_Mon Aug  6 16_18_51 2018 (kopia).csv\"\n",
    "coding_variants = \"/media/krzysztof/Nowy/Doktorat/Data/Original Data/Genomics of Drug Sensitivity in Cancer/Original GDSC Data/Mutation calls/PANCANCER_Genetic_feature_variant_Mon Aug  6 15_45_44 2018.csv\"\n",
    "drug_response = \"/media/krzysztof/Nowy/Doktorat/Data/Original Data/Genomics of Drug Sensitivity in Cancer/Original GDSC Data/Sensitivity profiles/v17.3_fitted_dose_response-March_27th_2018.xlsx\"\n",
    "(drug_annotations_df, cell_lines_list_df, gene_expression_df, cnv_binary_df, \n",
    " coding_variants_df, drug_response_df) = load_data(drug_annotations, cell_line_list, gene_expr, \n",
    "                                              cnv1, cnv2, coding_variants, drug_response)\n",
    "# Load gene mappings\n",
    "filepath1 = \"/media/krzysztof/Nowy/Doktorat/Projects/GDSC - Prediction only with data related to nominal drug targets (minimal approach)/Created data/mapping_from_ensembl_id_to_hgnc_symbol.p\"\n",
    "filepath2 = \"/media/krzysztof/Nowy/Doktorat/Projects/GDSC - Prediction only with data related to nominal drug targets (minimal approach)/Created data/mapping_from_hgnc_symbol_to_ensembl_id.p\"\n",
    "Drug.load_mappings(filepath2, filepath1)   # Initialize class variables\n",
    "# Print shapes of created DataFrames\n",
    "print(\"Drug annotations:\", drug_annotations_df.shape)\n",
    "print(\"Cell line list\", cell_lines_list_df.shape)\n",
    "print(\"Gene expression\", gene_expression_df.shape)\n",
    "print(\"CNV binary:\", cnv_binary_df.shape)\n",
    "print(\"Coding variants:\", coding_variants_df.shape)\n",
    "print(\"Drug response:\", drug_response_df.shape)"
   ]
  },
  {
   "cell_type": "code",
   "execution_count": 3,
   "metadata": {},
   "outputs": [
    {
     "name": "stdout",
     "output_type": "stream",
     "text": [
      "267\n"
     ]
    }
   ],
   "source": [
    "# Create all Drug objects\n",
    "drugs = Drug.create_drugs(drug_annotations_df)\n",
    "print(len(drugs))"
   ]
  },
  {
   "cell_type": "code",
   "execution_count": 7,
   "metadata": {},
   "outputs": [
    {
     "name": "stderr",
     "output_type": "stream",
     "text": [
      "/media/krzysztof/Nowy/Doktorat/Projects/GDSC - Prediction only with data related to nominal drug targets (minimal approach)/Scripts/data_module.py:215: SettingWithCopyWarning: \n",
      "A value is trying to be set on a copy of a slice from a DataFrame\n",
      "\n",
      "See the caveats in the documentation: http://pandas.pydata.org/pandas-docs/stable/indexing.html#indexing-view-versus-copy\n",
      "  obj.sort_values(\"cell_line_id\", inplace=True)\n"
     ]
    },
    {
     "name": "stdout",
     "output_type": "stream",
     "text": [
      "Number of drugs with no. features bigger than threshold: 72\n"
     ]
    }
   ],
   "source": [
    "# Check how many drugs have data dimensionality bigger than certain threshold\n",
    "feat_thresh = 18\n",
    "s = 0\n",
    "for ide in drugs:\n",
    "    drug = drugs[ide]\n",
    "    df = drug.create_full_data(drug_response_df, gene_expression_df, cnv_binary_df,\n",
    "                              cell_lines_list_df, coding_variants_df, \n",
    "                               [\"CNV\", \"mutation\", \"expression\", \"tissue\"])\n",
    "    if df.shape[1] >= feat_thresh:\n",
    "        s += 1\n",
    "print(\"Number of drugs with no. features bigger than threshold:\", s)"
   ]
  },
  {
   "cell_type": "code",
   "execution_count": null,
   "metadata": {},
   "outputs": [],
   "source": []
  },
  {
   "cell_type": "markdown",
   "metadata": {},
   "source": [
    "# Perform machine learning experiments in different settings"
   ]
  },
  {
   "cell_type": "code",
   "execution_count": null,
   "metadata": {},
   "outputs": [],
   "source": []
  },
  {
   "cell_type": "code",
   "execution_count": null,
   "metadata": {},
   "outputs": [],
   "source": []
  }
 ],
 "metadata": {
  "kernelspec": {
   "display_name": "Python 3",
   "language": "python",
   "name": "python3"
  },
  "language_info": {
   "codemirror_mode": {
    "name": "ipython",
    "version": 3
   },
   "file_extension": ".py",
   "mimetype": "text/x-python",
   "name": "python",
   "nbconvert_exporter": "python",
   "pygments_lexer": "ipython3",
   "version": "3.6.5"
  }
 },
 "nbformat": 4,
 "nbformat_minor": 2
}
