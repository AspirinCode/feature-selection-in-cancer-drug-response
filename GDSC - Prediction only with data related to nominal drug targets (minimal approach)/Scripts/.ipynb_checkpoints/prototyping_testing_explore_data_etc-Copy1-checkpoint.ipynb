{
 "cells": [
  {
   "cell_type": "markdown",
   "metadata": {},
   "source": [
    "# Exploration and checking things out"
   ]
  },
  {
   "cell_type": "code",
   "execution_count": 1,
   "metadata": {},
   "outputs": [],
   "source": [
    "import pandas as pd\n",
    "import numpy as np\n",
    "import time\n",
    "import pickle"
   ]
  },
  {
   "cell_type": "markdown",
   "metadata": {},
   "source": [
    "## Load data files"
   ]
  },
  {
   "cell_type": "code",
   "execution_count": 2,
   "metadata": {},
   "outputs": [
    {
     "name": "stdout",
     "output_type": "stream",
     "text": [
      "(267, 5)\n"
     ]
    }
   ],
   "source": [
    "# Load drug annotations file, containing list and info about drugs from GDSC\n",
    "filepath = \"/media/krzysztof/Nowy/Doktorat/Data/Original Data/Genomics of Drug Sensitivity in Cancer/Original GDSC Data/Drug annotations/Screened_Compounds-March_27th_2018.xlsx\"\n",
    "drug_annotations_df = pd.read_excel(filepath)\n",
    "print(drug_annotations_df.shape)"
   ]
  },
  {
   "cell_type": "code",
   "execution_count": 3,
   "metadata": {},
   "outputs": [
    {
     "name": "stdout",
     "output_type": "stream",
     "text": [
      "(17737, 1019)\n"
     ]
    }
   ],
   "source": [
    "# Load original gene expression data for cell lines from GDSC\n",
    "filepath = \"/media/krzysztof/Nowy/Doktorat/Data/Original Data/Genomics of Drug Sensitivity in Cancer/Original GDSC Data/Gene expression/sanger1018_brainarray_ensemblgene_rma-March_2nd_2017.txt\"\n",
    "gene_expression_df = pd.read_table(filepath)\n",
    "print(gene_expression_df.shape)"
   ]
  },
  {
   "cell_type": "code",
   "execution_count": 4,
   "metadata": {},
   "outputs": [
    {
     "name": "stdout",
     "output_type": "stream",
     "text": [
      "(46222, 1000)\n"
     ]
    }
   ],
   "source": [
    "# Load file with CNV data for cell lines from GDSC\n",
    "filepath = \"/media/krzysztof/Nowy/Doktorat/Data/Original Data/Genomics of Drug Sensitivity in Cancer/Original GDSC Data/Copy number variations/Gene_level_CN-July_4th_2016.xlsx\"\n",
    "cnv_df = pd.read_excel(filepath, sheet_name=1)\n",
    "print(cnv_df.shape)"
   ]
  },
  {
   "cell_type": "code",
   "execution_count": 5,
   "metadata": {},
   "outputs": [
    {
     "data": {
      "text/plain": [
       "(46222, 1000)"
      ]
     },
     "execution_count": 5,
     "metadata": {},
     "output_type": "execute_result"
    }
   ],
   "source": [
    "cnv_df.shape"
   ]
  },
  {
   "cell_type": "code",
   "execution_count": 6,
   "metadata": {},
   "outputs": [
    {
     "name": "stdout",
     "output_type": "stream",
     "text": [
      "(419050, 9)\n"
     ]
    }
   ],
   "source": [
    "# Load data with binary CNV calls\n",
    "filepath = \"/media/krzysztof/Nowy/Doktorat/Data/Original Data/Genomics of Drug Sensitivity in Cancer/Original GDSC Data/Copy number variations/cnv_binary_1.csv\"\n",
    "d1 = pd.read_csv(filepath)\n",
    "filepath = \"/media/krzysztof/Nowy/Doktorat/Data/Original Data/Genomics of Drug Sensitivity in Cancer/Original GDSC Data/Copy number variations/PANCANCER_Genetic_feature_cna_Mon Aug  6 16_18_51 2018 (kopia).csv\"\n",
    "d2 = pd.read_table(filepath)\n",
    "d2.columns = [\"genes_in_segment\"]\n",
    "def f(s):\n",
    "    return s.strip(\",\")\n",
    "cnv_binary_df = d1.copy()\n",
    "cnv_binary_df[\"genes_in_segment\"] = d2[\"genes_in_segment\"].apply(f)\n",
    "print(cnv_binary_df.shape)"
   ]
  },
  {
   "cell_type": "code",
   "execution_count": null,
   "metadata": {},
   "outputs": [],
   "source": []
  },
  {
   "cell_type": "code",
   "execution_count": 7,
   "metadata": {},
   "outputs": [
    {
     "name": "stdout",
     "output_type": "stream",
     "text": [
      "(224202, 14)\n",
      "Number of different max concentrations used: 37\n"
     ]
    }
   ],
   "source": [
    "# Load file containing drug-response data for cell lines, but the one downloaded using data download tool from GDSC\n",
    "# website - not really relevant, just to check some things out\n",
    "filepath = \"/media/krzysztof/Nowy/Doktorat/Data/Original Data/Genomics of Drug Sensitivity in Cancer/Original GDSC Data/Sensitivity profiles/PANCANCER_IC_Mon Aug  6 15_47_28 2018.csv\"\n",
    "drug_response_df = pd.read_csv(filepath)\n",
    "print(drug_response_df.shape)\n",
    "print(\"Number of different max concentrations used:\", drug_response_df[\"Max conc\"].nunique())"
   ]
  },
  {
   "cell_type": "code",
   "execution_count": 8,
   "metadata": {},
   "outputs": [
    {
     "name": "stdout",
     "output_type": "stream",
     "text": [
      "(224202, 13)\n"
     ]
    }
   ],
   "source": [
    "# Load file containing drug-response data for cell lines from GDSC download site\n",
    "filepath = \"/media/krzysztof/Nowy/Doktorat/Data/Original Data/Genomics of Drug Sensitivity in Cancer/Original GDSC Data/Sensitivity profiles/v17.3_fitted_dose_response-March_27th_2018.xlsx\"\n",
    "drug_response_df = pd.read_excel(filepath)\n",
    "print(drug_response_df.shape)"
   ]
  },
  {
   "cell_type": "code",
   "execution_count": 15,
   "metadata": {},
   "outputs": [
    {
     "name": "stdout",
     "output_type": "stream",
     "text": [
      "(152, 530)\n"
     ]
    }
   ],
   "source": [
    "# Load binary calls from STITCH\n",
    "filepath = \"/media/krzysztof/Nowy/Doktorat/Data/Original Data/STITCH/STITCH_GDSC_binary_calls.csv\"\n",
    "stitch_calls_df = pd.read_csv(filepath)\n",
    "print(stitch_calls_df.shape)"
   ]
  },
  {
   "cell_type": "code",
   "execution_count": 40,
   "metadata": {},
   "outputs": [
    {
     "name": "stdout",
     "output_type": "stream",
     "text": [
      "(15473939, 11)\n"
     ]
    }
   ],
   "source": [
    "# Load chemical-protein links from STITCH\n",
    "filepath = \"/media/krzysztof/Nowy/Doktorat/Data/Original Data/STITCH/9606.protein_chemical.links.transfer.v5.0.tsv\"\n",
    "stitch_links_df = pd.read_table(filepath)\n",
    "print(stitch_links_df.shape)\n"
   ]
  },
  {
   "cell_type": "code",
   "execution_count": 67,
   "metadata": {},
   "outputs": [
    {
     "name": "stdout",
     "output_type": "stream",
     "text": [
      "(17538, 2)\n"
     ]
    }
   ],
   "source": [
    "# Load mapping from STRING to entrez ID\n",
    "filepath = \"/media/krzysztof/Nowy/Doktorat/Data/Original Data/STRING/entrez_gene_id.vs.string.v10.28042015.tsv\"\n",
    "string_map_df = pd.read_table(filepath)\n",
    "print(string_map_df.shape)"
   ]
  },
  {
   "cell_type": "code",
   "execution_count": 10,
   "metadata": {},
   "outputs": [
    {
     "name": "stdout",
     "output_type": "stream",
     "text": [
      "(295740, 9)\n",
      "Number of considered genes: 310\n"
     ]
    }
   ],
   "source": [
    "# Load file contaning binary coding variants for cell lines\n",
    "filepath = \"/media/krzysztof/Nowy/Doktorat/Data/Original Data/Genomics of Drug Sensitivity in Cancer/Original GDSC Data/Mutation calls/PANCANCER_Genetic_feature_variant_Mon Aug  6 15_45_44 2018.csv\"\n",
    "coding_variants_df = pd.read_csv(filepath)\n",
    "print(coding_variants_df.shape)\n",
    "print(\"Number of considered genes:\", coding_variants_df.genetic_feature.nunique())"
   ]
  },
  {
   "cell_type": "markdown",
   "metadata": {},
   "source": [
    "## Prototype utilities for data extraction and structurization (classes, functions, methods)"
   ]
  },
  {
   "cell_type": "code",
   "execution_count": 11,
   "metadata": {},
   "outputs": [],
   "source": [
    "class Drug(object):\n",
    "    \n",
    "    \"\"\"Class representing compound from GDSC database.\n",
    "    \n",
    "    Attributes:\n",
    "    gdsc_id: ID from GDSC website\n",
    "    name: drug name\n",
    "    targets: list of strings representing drug's target genes\n",
    "    target_pathway: drug's target pathway\n",
    "    \n",
    "    \n",
    "    \n",
    "    Methods:\n",
    "    extract_drug_response_data: generates a frame with drug-response data\n",
    "    \n",
    "    \n",
    "    \"\"\"\n",
    "    # Class variables\n",
    "    map_from_hgnc_to_ensembl = None\n",
    "    map_from_ensembl_to_hgnc = None\n",
    "    \n",
    "    # Instance methods\n",
    "    def __init__(self, gdsc_id, name, targets, target_pathway):\n",
    "        self.gdsc_id = gdsc_id\n",
    "        self.name = name\n",
    "        self.targets = targets\n",
    "        self.target_pathway = target_pathway\n",
    "        self.ensembl_targets = []\n",
    "        for x in self.targets:\n",
    "            try:\n",
    "                self.ensembl_targets.append(self.map_from_hgnc_to_ensembl[x])\n",
    "            except KeyError:\n",
    "                pass\n",
    "        \n",
    "    \n",
    "    def extract_drug_response_data(self, sensitivity_profiles_df, metric=\"AUC\"):\n",
    "        \"\"\"Generate a DataFrame containing reponses for every cell line screened for that drug.\n",
    "        \n",
    "        Arguments:\n",
    "        sensitivity_profiles_df (DataFrame): DataFrame of drug response data from GDSC\n",
    "        metric (string): which statistic to use as a response metric (default \"AUC\")\n",
    "        \n",
    "        Returns:\n",
    "        None\n",
    "        \"\"\"\n",
    "        df = drug_response_df[drug_response_df.DRUG_ID == self.gdsc_id][[\"COSMIC_ID\", metric]]\n",
    "        df.columns = [\"cell_line_id\", metric]   # Insert column with samples ID\n",
    "        \n",
    "        self.total_no_samples_screened = df.shape[0]    # Record how many screened cell lines for drug\n",
    "        self.response_data = df\n",
    "        \n",
    "    \n",
    "    def extract_screened_cell_lines(self, sensitivity_profiles_df):\n",
    "        \"\"\"Generate set of cell lines screened for that drug.\n",
    "        \n",
    "        Arguments:\n",
    "        sensitivity_profiles_df (DataFrame): DataFrame of drug response data from GDSC\n",
    "        \n",
    "        Returns:\n",
    "        None\n",
    "        \"\"\"\n",
    "        self.screened_cell_lines = list(\n",
    "            sensitivity_profiles_df[sensitivity_profiles_df.DRUG_ID == self.gdsc_id][\"COSMIC_ID\"])\n",
    "    \n",
    "    def extract_gene_expression(self, gene_expression_df):\n",
    "        \"\"\"Generate DataFrame of gene expression data for cell lines screened for this drug, only\n",
    "        considering drug's target genes.\n",
    "        \n",
    "        Arguments:\n",
    "        gene_expression_df: original GDSC gene expression DataFrame\n",
    "        sensitivity_profiles_df (DataFrame): DataFrame of drug response data from GDSC\n",
    "        \n",
    "        Returns:\n",
    "        None\n",
    "        \"\"\"\n",
    "        cell_lines_str = []   # Gene expressesion DF column names are strings\n",
    "        for x in self.screened_cell_lines:\n",
    "            cell_lines_str.append(str(x))\n",
    "        cl_to_extract = []\n",
    "        for x in cell_lines_str:\n",
    "            if x in list(gene_expression_df.columns):   \n",
    "                cl_to_extract.append(x)   # Extract only cell lines contained in gene expression data\n",
    "        gene_expr = gene_expression_df[\n",
    "            gene_expression_df.ensembl_gene.isin(self.ensembl_targets)][[\"ensembl_gene\"] + cl_to_extract]\n",
    "        gene_expr_t = gene_expr.transpose()\n",
    "        columns = list(gene_expr_t.loc[\"ensembl_gene\"])\n",
    "        gene_expr_t.columns = columns\n",
    "        gene_expr_t = gene_expr_t.drop([\"ensembl_gene\"])\n",
    "        rows = list(gene_expr_t.index)\n",
    "        gene_expr_t.insert(0, \"cell_line_id\", rows)   # Insert columns with cell line IDs\n",
    "        gene_expr_t.reset_index(drop=True, inplace=True)\n",
    "        gene_expr_t[\"cell_line_id\"] = pd.to_numeric(gene_expr_t[\"cell_line_id\"])\n",
    "        self.gene_expression_data = gene_expr_t\n",
    "        \n",
    "    def extract_mutation_data(self, mutation_df):\n",
    "        \"\"\"Generate a DataFrame with binary mutation calls for screened cell lines and target genes.\n",
    "        \n",
    "        Arguments:\n",
    "        mutation_df: DataFrame with original mutation calls from GDSC\n",
    "        \n",
    "        Returns:\n",
    "        None\n",
    "        \"\"\"\n",
    "        targets = [x + \"_mut\" for x in test_compound.targets]\n",
    "        df = mutation_df.copy()[\n",
    "                mutation_df.cosmic_sample_id.isin(self.screened_cell_lines)]\n",
    "        df = df[df.genetic_feature.isin(targets)][[\"cosmic_sample_id\", \"genetic_feature\", \"is_mutated\"]]\n",
    "        cosmic_ids = []\n",
    "        genetic_features = {}\n",
    "        for feature in df.genetic_feature.unique():\n",
    "            genetic_features[feature] = []\n",
    "        for ide in df.cosmic_sample_id.unique():\n",
    "            cosmic_ids.append(ide)\n",
    "            for feature in genetic_features:\n",
    "                mutation_status = df[\n",
    "                    (df.cosmic_sample_id == ide) & (df.genetic_feature == feature)][\"is_mutated\"].iloc[0]\n",
    "                genetic_features[feature].append(mutation_status)\n",
    "        df1 = pd.DataFrame()\n",
    "        df1.insert(0, \"cell_line_id\", cosmic_ids)    # Insert column with samples IDs\n",
    "        for feature in genetic_features:\n",
    "            df1[feature] = genetic_features[feature]\n",
    "        self.mutation_data = df1\n",
    "        \n",
    "    def extract_cnv_data(self, cnv_binary_df):\n",
    "        \"\"\"Generate data containing binary CNV calls for cell lines screened for the drug.\n",
    "        \n",
    "        Arguments:\n",
    "        cnv_binary_df: DataFrame from GDSC download tool with CNV data\n",
    "        \n",
    "        Returns:\n",
    "        None\n",
    "        \"\"\"\n",
    "        df = cnv_binary_df[cnv_binary_df.cosmic_sample_id.isin(self.screened_cell_lines)]\n",
    "        features_to_extract = []   # Map drug's targets to CNV features (segments)\n",
    "        for row in cnv_binary_df.drop_duplicates(subset=\"genetic_feature\").itertuples():\n",
    "            feature_name = getattr(row, \"genetic_feature\")\n",
    "            genes_in_segment = getattr(row, \"genes_in_segment\").split(\",\")\n",
    "            for target in test_compound.targets:\n",
    "                if target in genes_in_segment:\n",
    "                    features_to_extract.append(feature_name)   # If target is in any segment, add it to the list\n",
    "        features_to_extract = list(set(features_to_extract))\n",
    "        df = df[df.genetic_feature.isin(features_to_extract)]\n",
    "        cosmic_ids = []\n",
    "        feature_dict = {}   # Separate lists for every column in final DataFrame\n",
    "        for feature in df.genetic_feature.unique():\n",
    "            feature_dict[feature] = []\n",
    "        for cl_id in df.cosmic_sample_id.unique():\n",
    "            cosmic_ids.append(cl_id)\n",
    "            for feature in feature_dict:\n",
    "                status = df[\n",
    "                    (df.cosmic_sample_id == cl_id) & (df.genetic_feature == feature)][\"is_mutated\"].iloc[0]\n",
    "                feature_dict[feature].append(status)\n",
    "        new_df = pd.DataFrame()\n",
    "        for feature in feature_dict:\n",
    "            new_df[feature] = feature_dict[feature]\n",
    "        new_df.insert(0, \"cell_line_id\", cosmic_ids)\n",
    "        self.cnv_data = new_df\n",
    "\n",
    "    \n",
    "    def concatenate_data(self, data_combination):\n",
    "        \"\"\"Generate data containing chosen combination of genetic data classes.\n",
    "        \n",
    "        Arguments:\n",
    "        data_combination: list of strings containing data classes to be included. Available options are:\n",
    "            \"mutation\", \"expression\", \"CNV\"\n",
    "        \n",
    "        Returns:\n",
    "        None\n",
    "        \"\"\"\n",
    "        # Create a list of DataFrames to include\n",
    "        objects = [self.response_data]\n",
    "        if \"mutation\" in data_combination and self.mutation_data.shape[0] > 0:\n",
    "            objects.append(self.mutation_data)\n",
    "        if \"expression\" in data_combination and self.gene_expression_data.shape[0] > 0:\n",
    "            objects.append(self.gene_expression_data)\n",
    "        if \"CNV\" in data_combination and self.cnv_data.shape[0] > 0:\n",
    "            objects.append(self.cnv_data)\n",
    "        # Find intersection in cell lines for all desirable DataFrames\n",
    "        cl_intersection = set(list(self.response_data[\"cell_line_id\"]))\n",
    "        for obj in objects:\n",
    "            cl_intersection = cl_intersection.intersection(set(list(obj[\"cell_line_id\"])))\n",
    "        objects_common = []\n",
    "        for obj in objects:\n",
    "            objects_common.append(obj[obj[\"cell_line_id\"].isin(cl_intersection)])\n",
    "        # Check if all DataFrames have the same number of samples\n",
    "        no_samples = objects_common[0].shape[0]\n",
    "        for obj in objects_common:\n",
    "            assert obj.shape[0] == no_samples\n",
    "            obj.sort_values(\"cell_line_id\", inplace=True)\n",
    "            obj.reset_index(drop=True, inplace=True)\n",
    "        cl_ids = objects_common[0][\"cell_line_id\"]\n",
    "        df_concatenated = pd.concat(objects_common, axis=1, ignore_index=False)\n",
    "        metric = self.response_data.columns[-1]   # Extract the name of metric which was used for sensitivity\n",
    "        sensitivities = df_concatenated[metric]\n",
    "        df_concatenated = df_concatenated.drop([\"cell_line_id\", metric], axis=1)\n",
    "        df_concatenated.insert(0, \"cell_line_id\", cl_ids)\n",
    "        df_concatenated.insert(df_concatenated.shape[1], metric, sensitivities)\n",
    "        self.full_data = df_concatenated\n",
    "        \n",
    "    \n",
    "    \n",
    "    @classmethod\n",
    "    def load_mappings(cls, filepath_hgnc_to_ensembl, filepath_ensembl_to_hgnc):\n",
    "        \"\"\"Load dictonaries with gene mappings between HGNC and Ensembl (from pickle files) and assugn it \n",
    "        to corresponding class variables.\n",
    "        \n",
    "        Arguments:\n",
    "        filepath_hgnc_to_ensembl: file with accurate mapping\n",
    "        filepath_ensembl_to_hgnc: file with accurate mapping\n",
    "        \n",
    "        Returns:\n",
    "        None\n",
    "        \"\"\"\n",
    "        cls.map_from_hgnc_to_ensembl = pickle.load(open(filepath_hgnc_to_ensembl, \"rb\"))\n",
    "        cls.map_from_ensembl_to_hgnc = pickle.load(open(filepath_ensembl_to_hgnc, \"rb\"))\n",
    "        \n",
    "    \n",
    "    @staticmethod\n",
    "    def create_drugs(drug_annotations_df):\n",
    "        \"\"\"Create a dictionary of Drug class objects, each referenced by it's ID.\n",
    "\n",
    "        Arguments:\n",
    "        drug_annotations_df (DataFrame): DataFrame of drug annotations from GDSC website\n",
    "\n",
    "        Returns:\n",
    "        Dictionary of Drug objects as values and their ID's as keys\n",
    "        \"\"\"\n",
    "        drugs = {}\n",
    "        for row in drug_annotations_df.itertuples(index=True, name=\"Pandas\"):\n",
    "            gdsc_id = getattr(row, \"DRUG_ID\")\n",
    "            name = getattr(row, \"DRUG_NAME\")\n",
    "            targets = getattr(row, \"TARGET\").split(\", \")\n",
    "            target_pathway = getattr(row, \"TARGET_PATHWAY\")\n",
    "\n",
    "            drugs[gdsc_id] = Drug(gdsc_id, name, targets, target_pathway)\n",
    "        return drugs\n"
   ]
  },
  {
   "cell_type": "code",
   "execution_count": 12,
   "metadata": {},
   "outputs": [],
   "source": [
    "filepath1 = \"/media/krzysztof/Nowy/Doktorat/Projects/GDSC - Prediction only with data related to nominal drug targets (minimal approach)/Created data/mapping_from_ensembl_id_to_hgnc_symbol.p\"\n",
    "filepath2 = \"/media/krzysztof/Nowy/Doktorat/Projects/GDSC - Prediction only with data related to nominal drug targets (minimal approach)/Created data/mapping_from_hgnc_symbol_to_ensembl_id.p\"\n",
    "Drug.load_mappings(filepath2, filepath1)"
   ]
  },
  {
   "cell_type": "code",
   "execution_count": 13,
   "metadata": {},
   "outputs": [
    {
     "name": "stdout",
     "output_type": "stream",
     "text": [
      "dict_keys([228, 229, 230, 231, 235, 238, 245, 249])\n"
     ]
    }
   ],
   "source": [
    "test_drugs = Drug.create_drugs(drug_annotations_df.iloc[100:108])\n",
    "print(test_drugs.keys())"
   ]
  },
  {
   "cell_type": "code",
   "execution_count": 14,
   "metadata": {},
   "outputs": [
    {
     "name": "stdout",
     "output_type": "stream",
     "text": [
      "Cabozantinib\n",
      "['ENSG00000105976', 'ENSG00000165731', 'ENSG00000157404', 'ENSG00000102755', 'ENSG00000122025', 'ENSG00000037280']\n",
      "['VEGFR', 'MET', 'RET', 'KIT', 'FLT1', 'FLT3', 'FLT4', 'TIE2,AXL']\n",
      "(920, 7)\n",
      "(887, 4)\n",
      "(916, 4)\n",
      "(861, 14)\n"
     ]
    },
    {
     "name": "stderr",
     "output_type": "stream",
     "text": [
      "/home/krzysztof/.local/lib/python3.6/site-packages/ipykernel_launcher.py:189: SettingWithCopyWarning: \n",
      "A value is trying to be set on a copy of a slice from a DataFrame\n",
      "\n",
      "See the caveats in the documentation: http://pandas.pydata.org/pandas-docs/stable/indexing.html#indexing-view-versus-copy\n"
     ]
    }
   ],
   "source": [
    "test_compound = test_drugs[249]\n",
    "test_compound.extract_screened_cell_lines(drug_response_df)\n",
    "print(test_compound.name)\n",
    "print(test_compound.ensembl_targets)\n",
    "print(test_compound.targets)\n",
    "test_compound.extract_drug_response_data(drug_response_df)\n",
    "test_compound.extract_gene_expression(gene_expression_df)\n",
    "test_compound.extract_mutation_data(coding_variants_df)\n",
    "test_compound.extract_cnv_data(cnv_binary_df)\n",
    "\n",
    "test_compound.concatenate_data([\"expression\", \"mutation\", \"CNV\"])\n",
    "\n",
    "print(test_compound.gene_expression_data.shape)\n",
    "print(test_compound.mutation_data.shape)\n",
    "print(test_compound.cnv_data.shape)\n",
    "print(test_compound.full_data.shape)"
   ]
  },
  {
   "cell_type": "code",
   "execution_count": 17,
   "metadata": {},
   "outputs": [
    {
     "data": {
      "text/html": [
       "<div>\n",
       "<style scoped>\n",
       "    .dataframe tbody tr th:only-of-type {\n",
       "        vertical-align: middle;\n",
       "    }\n",
       "\n",
       "    .dataframe tbody tr th {\n",
       "        vertical-align: top;\n",
       "    }\n",
       "\n",
       "    .dataframe thead th {\n",
       "        text-align: right;\n",
       "    }\n",
       "</style>\n",
       "<table border=\"1\" class=\"dataframe\">\n",
       "  <thead>\n",
       "    <tr style=\"text-align: right;\">\n",
       "      <th></th>\n",
       "      <th>DRUG_ID</th>\n",
       "      <th>DRUG_NAME</th>\n",
       "      <th>SYNONYMS</th>\n",
       "      <th>TARGET</th>\n",
       "      <th>TARGET_PATHWAY</th>\n",
       "    </tr>\n",
       "  </thead>\n",
       "  <tbody>\n",
       "    <tr>\n",
       "      <th>0</th>\n",
       "      <td>1</td>\n",
       "      <td>Erlotinib</td>\n",
       "      <td>Tarceva, RG-1415, CP-358774, OSI-774, Ro-50823...</td>\n",
       "      <td>EGFR</td>\n",
       "      <td>EGFR signaling</td>\n",
       "    </tr>\n",
       "    <tr>\n",
       "      <th>1</th>\n",
       "      <td>3</td>\n",
       "      <td>Rapamycin</td>\n",
       "      <td>AY-22989, Sirolimus, WY-090217, Torisel, Rapamune</td>\n",
       "      <td>MTORC1</td>\n",
       "      <td>PI3K/MTOR signaling</td>\n",
       "    </tr>\n",
       "    <tr>\n",
       "      <th>2</th>\n",
       "      <td>5</td>\n",
       "      <td>Sunitinib</td>\n",
       "      <td>Sutent, Sunitinib Malate, SU-11248</td>\n",
       "      <td>PDGFR, KIT, VEGFR, FLT3, RET, CSF1R</td>\n",
       "      <td>RTK signaling</td>\n",
       "    </tr>\n",
       "    <tr>\n",
       "      <th>3</th>\n",
       "      <td>6</td>\n",
       "      <td>PHA-665752</td>\n",
       "      <td>PHA665752, PHA 665752</td>\n",
       "      <td>MET</td>\n",
       "      <td>RTK signaling</td>\n",
       "    </tr>\n",
       "    <tr>\n",
       "      <th>4</th>\n",
       "      <td>9</td>\n",
       "      <td>MG-132</td>\n",
       "      <td>LLL cpd, MG 132, MG132</td>\n",
       "      <td>Proteasome, CAPN1</td>\n",
       "      <td>Protein stability and degradation</td>\n",
       "    </tr>\n",
       "  </tbody>\n",
       "</table>\n",
       "</div>"
      ],
      "text/plain": [
       "   DRUG_ID   DRUG_NAME                                           SYNONYMS  \\\n",
       "0        1   Erlotinib  Tarceva, RG-1415, CP-358774, OSI-774, Ro-50823...   \n",
       "1        3   Rapamycin  AY-22989, Sirolimus, WY-090217, Torisel, Rapamune   \n",
       "2        5   Sunitinib                 Sutent, Sunitinib Malate, SU-11248   \n",
       "3        6  PHA-665752                              PHA665752, PHA 665752   \n",
       "4        9      MG-132                             LLL cpd, MG 132, MG132   \n",
       "\n",
       "                                TARGET                     TARGET_PATHWAY  \n",
       "0                                 EGFR                     EGFR signaling  \n",
       "1                               MTORC1                PI3K/MTOR signaling  \n",
       "2  PDGFR, KIT, VEGFR, FLT3, RET, CSF1R                      RTK signaling  \n",
       "3                                  MET                      RTK signaling  \n",
       "4                    Proteasome, CAPN1  Protein stability and degradation  "
      ]
     },
     "execution_count": 17,
     "metadata": {},
     "output_type": "execute_result"
    }
   ],
   "source": [
    "drug_annotations_df.head()"
   ]
  },
  {
   "cell_type": "code",
   "execution_count": 18,
   "metadata": {
    "scrolled": true
   },
   "outputs": [
    {
     "data": {
      "text/html": [
       "<div>\n",
       "<style scoped>\n",
       "    .dataframe tbody tr th:only-of-type {\n",
       "        vertical-align: middle;\n",
       "    }\n",
       "\n",
       "    .dataframe tbody tr th {\n",
       "        vertical-align: top;\n",
       "    }\n",
       "\n",
       "    .dataframe thead th {\n",
       "        text-align: right;\n",
       "    }\n",
       "</style>\n",
       "<table border=\"1\" class=\"dataframe\">\n",
       "  <thead>\n",
       "    <tr style=\"text-align: right;\">\n",
       "      <th></th>\n",
       "      <th>COSMIC drug name</th>\n",
       "      <th>ProteinID / DrugID</th>\n",
       "      <th>9606.ENSP00000263377</th>\n",
       "      <th>9606.ENSP00000354526</th>\n",
       "      <th>9606.ENSP00000398516</th>\n",
       "      <th>9606.ENSP00000403946</th>\n",
       "      <th>9606.ENSP00000358813</th>\n",
       "      <th>9606.ENSP00000263967</th>\n",
       "      <th>9606.ENSP00000274335</th>\n",
       "      <th>9606.ENSP00000289153</th>\n",
       "      <th>...</th>\n",
       "      <th>9606.ENSP00000448165</th>\n",
       "      <th>9606.ENSP00000359478</th>\n",
       "      <th>9606.ENSP00000355930</th>\n",
       "      <th>9606.ENSP00000261707</th>\n",
       "      <th>9606.ENSP00000337773</th>\n",
       "      <th>9606.ENSP00000355920</th>\n",
       "      <th>9606.ENSP00000366506</th>\n",
       "      <th>9606.ENSP00000261416</th>\n",
       "      <th>9606.ENSP00000223095</th>\n",
       "      <th>9606.ENSP00000386171</th>\n",
       "    </tr>\n",
       "  </thead>\n",
       "  <tbody>\n",
       "    <tr>\n",
       "      <th>0</th>\n",
       "      <td>PFI-1</td>\n",
       "      <td>CIDs71271629</td>\n",
       "      <td>1.0</td>\n",
       "      <td>0.0</td>\n",
       "      <td>0.0</td>\n",
       "      <td>0.0</td>\n",
       "      <td>0.0</td>\n",
       "      <td>0.0</td>\n",
       "      <td>0.0</td>\n",
       "      <td>0.0</td>\n",
       "      <td>...</td>\n",
       "      <td>0.0</td>\n",
       "      <td>0.0</td>\n",
       "      <td>0.0</td>\n",
       "      <td>0.0</td>\n",
       "      <td>0.0</td>\n",
       "      <td>0.0</td>\n",
       "      <td>0.0</td>\n",
       "      <td>0.0</td>\n",
       "      <td>0.0</td>\n",
       "      <td>0.0</td>\n",
       "    </tr>\n",
       "    <tr>\n",
       "      <th>1</th>\n",
       "      <td>UNC1215</td>\n",
       "      <td>CIDs57339144</td>\n",
       "      <td>0.0</td>\n",
       "      <td>1.0</td>\n",
       "      <td>1.0</td>\n",
       "      <td>1.0</td>\n",
       "      <td>0.0</td>\n",
       "      <td>0.0</td>\n",
       "      <td>0.0</td>\n",
       "      <td>0.0</td>\n",
       "      <td>...</td>\n",
       "      <td>0.0</td>\n",
       "      <td>0.0</td>\n",
       "      <td>0.0</td>\n",
       "      <td>0.0</td>\n",
       "      <td>0.0</td>\n",
       "      <td>0.0</td>\n",
       "      <td>0.0</td>\n",
       "      <td>0.0</td>\n",
       "      <td>0.0</td>\n",
       "      <td>0.0</td>\n",
       "    </tr>\n",
       "    <tr>\n",
       "      <th>2</th>\n",
       "      <td>LFM-A13</td>\n",
       "      <td>CIDs54676905</td>\n",
       "      <td>0.0</td>\n",
       "      <td>0.0</td>\n",
       "      <td>0.0</td>\n",
       "      <td>0.0</td>\n",
       "      <td>0.0</td>\n",
       "      <td>0.0</td>\n",
       "      <td>0.0</td>\n",
       "      <td>0.0</td>\n",
       "      <td>...</td>\n",
       "      <td>0.0</td>\n",
       "      <td>0.0</td>\n",
       "      <td>0.0</td>\n",
       "      <td>0.0</td>\n",
       "      <td>0.0</td>\n",
       "      <td>0.0</td>\n",
       "      <td>0.0</td>\n",
       "      <td>0.0</td>\n",
       "      <td>0.0</td>\n",
       "      <td>0.0</td>\n",
       "    </tr>\n",
       "    <tr>\n",
       "      <th>3</th>\n",
       "      <td>NG-25</td>\n",
       "      <td>CIDs53340664</td>\n",
       "      <td>0.0</td>\n",
       "      <td>0.0</td>\n",
       "      <td>0.0</td>\n",
       "      <td>0.0</td>\n",
       "      <td>0.0</td>\n",
       "      <td>0.0</td>\n",
       "      <td>0.0</td>\n",
       "      <td>0.0</td>\n",
       "      <td>...</td>\n",
       "      <td>0.0</td>\n",
       "      <td>0.0</td>\n",
       "      <td>0.0</td>\n",
       "      <td>0.0</td>\n",
       "      <td>0.0</td>\n",
       "      <td>0.0</td>\n",
       "      <td>0.0</td>\n",
       "      <td>0.0</td>\n",
       "      <td>0.0</td>\n",
       "      <td>0.0</td>\n",
       "    </tr>\n",
       "    <tr>\n",
       "      <th>4</th>\n",
       "      <td>PF-4708671</td>\n",
       "      <td>CIDs51371303</td>\n",
       "      <td>0.0</td>\n",
       "      <td>0.0</td>\n",
       "      <td>0.0</td>\n",
       "      <td>0.0</td>\n",
       "      <td>0.0</td>\n",
       "      <td>0.0</td>\n",
       "      <td>0.0</td>\n",
       "      <td>0.0</td>\n",
       "      <td>...</td>\n",
       "      <td>0.0</td>\n",
       "      <td>0.0</td>\n",
       "      <td>0.0</td>\n",
       "      <td>0.0</td>\n",
       "      <td>0.0</td>\n",
       "      <td>0.0</td>\n",
       "      <td>0.0</td>\n",
       "      <td>0.0</td>\n",
       "      <td>0.0</td>\n",
       "      <td>0.0</td>\n",
       "    </tr>\n",
       "  </tbody>\n",
       "</table>\n",
       "<p>5 rows × 530 columns</p>\n",
       "</div>"
      ],
      "text/plain": [
       "  COSMIC drug name ProteinID / DrugID  9606.ENSP00000263377  \\\n",
       "0            PFI-1       CIDs71271629                   1.0   \n",
       "1          UNC1215       CIDs57339144                   0.0   \n",
       "2          LFM-A13       CIDs54676905                   0.0   \n",
       "3            NG-25       CIDs53340664                   0.0   \n",
       "4       PF-4708671       CIDs51371303                   0.0   \n",
       "\n",
       "   9606.ENSP00000354526  9606.ENSP00000398516  9606.ENSP00000403946  \\\n",
       "0                   0.0                   0.0                   0.0   \n",
       "1                   1.0                   1.0                   1.0   \n",
       "2                   0.0                   0.0                   0.0   \n",
       "3                   0.0                   0.0                   0.0   \n",
       "4                   0.0                   0.0                   0.0   \n",
       "\n",
       "   9606.ENSP00000358813  9606.ENSP00000263967  9606.ENSP00000274335  \\\n",
       "0                   0.0                   0.0                   0.0   \n",
       "1                   0.0                   0.0                   0.0   \n",
       "2                   0.0                   0.0                   0.0   \n",
       "3                   0.0                   0.0                   0.0   \n",
       "4                   0.0                   0.0                   0.0   \n",
       "\n",
       "   9606.ENSP00000289153          ...           9606.ENSP00000448165  \\\n",
       "0                   0.0          ...                            0.0   \n",
       "1                   0.0          ...                            0.0   \n",
       "2                   0.0          ...                            0.0   \n",
       "3                   0.0          ...                            0.0   \n",
       "4                   0.0          ...                            0.0   \n",
       "\n",
       "   9606.ENSP00000359478  9606.ENSP00000355930  9606.ENSP00000261707  \\\n",
       "0                   0.0                   0.0                   0.0   \n",
       "1                   0.0                   0.0                   0.0   \n",
       "2                   0.0                   0.0                   0.0   \n",
       "3                   0.0                   0.0                   0.0   \n",
       "4                   0.0                   0.0                   0.0   \n",
       "\n",
       "   9606.ENSP00000337773  9606.ENSP00000355920  9606.ENSP00000366506  \\\n",
       "0                   0.0                   0.0                   0.0   \n",
       "1                   0.0                   0.0                   0.0   \n",
       "2                   0.0                   0.0                   0.0   \n",
       "3                   0.0                   0.0                   0.0   \n",
       "4                   0.0                   0.0                   0.0   \n",
       "\n",
       "   9606.ENSP00000261416  9606.ENSP00000223095  9606.ENSP00000386171  \n",
       "0                   0.0                   0.0                   0.0  \n",
       "1                   0.0                   0.0                   0.0  \n",
       "2                   0.0                   0.0                   0.0  \n",
       "3                   0.0                   0.0                   0.0  \n",
       "4                   0.0                   0.0                   0.0  \n",
       "\n",
       "[5 rows x 530 columns]"
      ]
     },
     "execution_count": 18,
     "metadata": {},
     "output_type": "execute_result"
    }
   ],
   "source": [
    "stitch_calls_df.head()"
   ]
  },
  {
   "cell_type": "code",
   "execution_count": 41,
   "metadata": {},
   "outputs": [],
   "source": [
    "# for column in stitch_calls_df.columns:\n",
    "#     if stitch_calls_df[stitch_calls_df[\"COSMIC drug name\"] == \"Erlotinib\"][column].iloc[0] == 1:\n",
    "#         print(column)"
   ]
  },
  {
   "cell_type": "code",
   "execution_count": 38,
   "metadata": {},
   "outputs": [
    {
     "data": {
      "text/html": [
       "<div>\n",
       "<style scoped>\n",
       "    .dataframe tbody tr th:only-of-type {\n",
       "        vertical-align: middle;\n",
       "    }\n",
       "\n",
       "    .dataframe tbody tr th {\n",
       "        vertical-align: top;\n",
       "    }\n",
       "\n",
       "    .dataframe thead th {\n",
       "        text-align: right;\n",
       "    }\n",
       "</style>\n",
       "<table border=\"1\" class=\"dataframe\">\n",
       "  <thead>\n",
       "    <tr style=\"text-align: right;\">\n",
       "      <th></th>\n",
       "      <th>COSMIC drug name</th>\n",
       "      <th>ProteinID / DrugID</th>\n",
       "      <th>9606.ENSP00000263377</th>\n",
       "      <th>9606.ENSP00000354526</th>\n",
       "      <th>9606.ENSP00000398516</th>\n",
       "      <th>9606.ENSP00000403946</th>\n",
       "      <th>9606.ENSP00000358813</th>\n",
       "      <th>9606.ENSP00000263967</th>\n",
       "      <th>9606.ENSP00000274335</th>\n",
       "      <th>9606.ENSP00000289153</th>\n",
       "      <th>...</th>\n",
       "      <th>9606.ENSP00000448165</th>\n",
       "      <th>9606.ENSP00000359478</th>\n",
       "      <th>9606.ENSP00000355930</th>\n",
       "      <th>9606.ENSP00000261707</th>\n",
       "      <th>9606.ENSP00000337773</th>\n",
       "      <th>9606.ENSP00000355920</th>\n",
       "      <th>9606.ENSP00000366506</th>\n",
       "      <th>9606.ENSP00000261416</th>\n",
       "      <th>9606.ENSP00000223095</th>\n",
       "      <th>9606.ENSP00000386171</th>\n",
       "    </tr>\n",
       "  </thead>\n",
       "  <tbody>\n",
       "    <tr>\n",
       "      <th>124</th>\n",
       "      <td>Erlotinib</td>\n",
       "      <td>CIDs00176870</td>\n",
       "      <td>0.0</td>\n",
       "      <td>0.0</td>\n",
       "      <td>0.0</td>\n",
       "      <td>0.0</td>\n",
       "      <td>0.0</td>\n",
       "      <td>0.0</td>\n",
       "      <td>0.0</td>\n",
       "      <td>0.0</td>\n",
       "      <td>...</td>\n",
       "      <td>0.0</td>\n",
       "      <td>0.0</td>\n",
       "      <td>0.0</td>\n",
       "      <td>0.0</td>\n",
       "      <td>0.0</td>\n",
       "      <td>0.0</td>\n",
       "      <td>0.0</td>\n",
       "      <td>0.0</td>\n",
       "      <td>0.0</td>\n",
       "      <td>0.0</td>\n",
       "    </tr>\n",
       "  </tbody>\n",
       "</table>\n",
       "<p>1 rows × 530 columns</p>\n",
       "</div>"
      ],
      "text/plain": [
       "    COSMIC drug name ProteinID / DrugID  9606.ENSP00000263377  \\\n",
       "124        Erlotinib       CIDs00176870                   0.0   \n",
       "\n",
       "     9606.ENSP00000354526  9606.ENSP00000398516  9606.ENSP00000403946  \\\n",
       "124                   0.0                   0.0                   0.0   \n",
       "\n",
       "     9606.ENSP00000358813  9606.ENSP00000263967  9606.ENSP00000274335  \\\n",
       "124                   0.0                   0.0                   0.0   \n",
       "\n",
       "     9606.ENSP00000289153          ...           9606.ENSP00000448165  \\\n",
       "124                   0.0          ...                            0.0   \n",
       "\n",
       "     9606.ENSP00000359478  9606.ENSP00000355930  9606.ENSP00000261707  \\\n",
       "124                   0.0                   0.0                   0.0   \n",
       "\n",
       "     9606.ENSP00000337773  9606.ENSP00000355920  9606.ENSP00000366506  \\\n",
       "124                   0.0                   0.0                   0.0   \n",
       "\n",
       "     9606.ENSP00000261416  9606.ENSP00000223095  9606.ENSP00000386171  \n",
       "124                   0.0                   0.0                   0.0  \n",
       "\n",
       "[1 rows x 530 columns]"
      ]
     },
     "execution_count": 38,
     "metadata": {},
     "output_type": "execute_result"
    }
   ],
   "source": [
    "stitch_calls_df[stitch_calls_df[\"COSMIC drug name\"] == \"Erlotinib\"]"
   ]
  },
  {
   "cell_type": "code",
   "execution_count": 48,
   "metadata": {},
   "outputs": [
    {
     "name": "stdout",
     "output_type": "stream",
     "text": [
      "(304, 11)\n",
      "304\n"
     ]
    }
   ],
   "source": [
    "# Erlotinib ID: CIDs00176870\n",
    "print(stitch_links_df[stitch_links_df.chemical == \"CIDs00176870\"].shape)\n",
    "print(stitch_links_df[stitch_links_df.chemical == \"CIDs00176870\"].protein.nunique())"
   ]
  },
  {
   "cell_type": "code",
   "execution_count": 64,
   "metadata": {},
   "outputs": [],
   "source": [
    "erlotinib = stitch_links_df[stitch_links_df.chemical == \"CIDs00176870\"]"
   ]
  },
  {
   "cell_type": "code",
   "execution_count": 65,
   "metadata": {},
   "outputs": [
    {
     "data": {
      "text/plain": [
       "(44, 11)"
      ]
     },
     "execution_count": 65,
     "metadata": {},
     "output_type": "execute_result"
    }
   ],
   "source": [
    "erlotinib[erlotinib.experimental_direct > 0].shape"
   ]
  },
  {
   "cell_type": "code",
   "execution_count": 68,
   "metadata": {},
   "outputs": [
    {
     "data": {
      "text/html": [
       "<div>\n",
       "<style scoped>\n",
       "    .dataframe tbody tr th:only-of-type {\n",
       "        vertical-align: middle;\n",
       "    }\n",
       "\n",
       "    .dataframe tbody tr th {\n",
       "        vertical-align: top;\n",
       "    }\n",
       "\n",
       "    .dataframe thead th {\n",
       "        text-align: right;\n",
       "    }\n",
       "</style>\n",
       "<table border=\"1\" class=\"dataframe\">\n",
       "  <thead>\n",
       "    <tr style=\"text-align: right;\">\n",
       "      <th></th>\n",
       "      <th>#Entrez_Gene_ID</th>\n",
       "      <th>STRING_Locus_ID</th>\n",
       "    </tr>\n",
       "  </thead>\n",
       "  <tbody>\n",
       "    <tr>\n",
       "      <th>0</th>\n",
       "      <td>1</td>\n",
       "      <td>9606.ENSP00000263100</td>\n",
       "    </tr>\n",
       "    <tr>\n",
       "      <th>1</th>\n",
       "      <td>2</td>\n",
       "      <td>9606.ENSP00000323929</td>\n",
       "    </tr>\n",
       "    <tr>\n",
       "      <th>2</th>\n",
       "      <td>9</td>\n",
       "      <td>9606.ENSP00000443194</td>\n",
       "    </tr>\n",
       "    <tr>\n",
       "      <th>3</th>\n",
       "      <td>10</td>\n",
       "      <td>9606.ENSP00000286479</td>\n",
       "    </tr>\n",
       "    <tr>\n",
       "      <th>4</th>\n",
       "      <td>13</td>\n",
       "      <td>9606.ENSP00000232892</td>\n",
       "    </tr>\n",
       "  </tbody>\n",
       "</table>\n",
       "</div>"
      ],
      "text/plain": [
       "   #Entrez_Gene_ID       STRING_Locus_ID\n",
       "0                1  9606.ENSP00000263100\n",
       "1                2  9606.ENSP00000323929\n",
       "2                9  9606.ENSP00000443194\n",
       "3               10  9606.ENSP00000286479\n",
       "4               13  9606.ENSP00000232892"
      ]
     },
     "execution_count": 68,
     "metadata": {},
     "output_type": "execute_result"
    }
   ],
   "source": [
    "string_map_df.head()"
   ]
  },
  {
   "cell_type": "code",
   "execution_count": null,
   "metadata": {},
   "outputs": [],
   "source": []
  },
  {
   "cell_type": "code",
   "execution_count": null,
   "metadata": {},
   "outputs": [],
   "source": []
  },
  {
   "cell_type": "code",
   "execution_count": null,
   "metadata": {},
   "outputs": [],
   "source": []
  }
 ],
 "metadata": {
  "kernelspec": {
   "display_name": "Python 3",
   "language": "python",
   "name": "python3"
  },
  "language_info": {
   "codemirror_mode": {
    "name": "ipython",
    "version": 3
   },
   "file_extension": ".py",
   "mimetype": "text/x-python",
   "name": "python",
   "nbconvert_exporter": "python",
   "pygments_lexer": "ipython3",
   "version": "3.6.5"
  }
 },
 "nbformat": 4,
 "nbformat_minor": 2
}
