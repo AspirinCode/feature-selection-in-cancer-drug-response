{
 "cells": [
  {
   "cell_type": "markdown",
   "metadata": {},
   "source": [
    "# Exploration and checking things out"
   ]
  },
  {
   "cell_type": "markdown",
   "metadata": {},
   "source": [
    "Imports and setup"
   ]
  },
  {
   "cell_type": "code",
   "execution_count": 1,
   "metadata": {},
   "outputs": [],
   "source": [
    "import pandas as pd\n",
    "import numpy as np\n",
    "import time\n",
    "import pickle\n",
    "import dask.dataframe as dd\n",
    "import random\n",
    "import matplotlib.pyplot as plt\n",
    "import seaborn as sns\n",
    "import pandas as pd\n",
    "import numpy as np\n",
    "import time\n",
    "import os\n",
    "import pickle\n",
    "import random\n",
    "import warnings\n",
    "import matplotlib.pyplot as plt\n",
    "import seaborn as sns\n",
    "import collections\n",
    "import sys\n",
    "# Sklearn imports\n",
    "from scipy.stats import pearsonr\n",
    "from sklearn.linear_model import ElasticNet\n",
    "from sklearn import model_selection\n",
    "from sklearn import metrics\n",
    "from sklearn import preprocessing\n",
    "from sklearn.dummy import DummyRegressor\n",
    "from sklearn.pipeline import Pipeline\n",
    "from sklearn import feature_selection\n",
    "from sklearn.svm import SVR\n",
    "from sklearn.ensemble import RandomForestRegressor\n",
    "from sklearn.base import clone\n",
    "\n",
    "% matplotlib inline\n",
    "warnings.filterwarnings('ignore')"
   ]
  },
  {
   "cell_type": "code",
   "execution_count": 2,
   "metadata": {},
   "outputs": [],
   "source": [
    "sys.path.insert(0, \"/media/krzysztof/Nowy/Doktorat - Modelling drug efficacy in cancer/Projects/Created Modules\")\n",
    "\n",
    "from gdsc_projects_module import DrugWithDrugBank"
   ]
  },
  {
   "cell_type": "code",
   "execution_count": null,
   "metadata": {},
   "outputs": [],
   "source": []
  },
  {
   "cell_type": "markdown",
   "metadata": {},
   "source": [
    "### Load data"
   ]
  },
  {
   "cell_type": "code",
   "execution_count": 3,
   "metadata": {},
   "outputs": [
    {
     "name": "stdout",
     "output_type": "stream",
     "text": [
      "Loading summary:\n",
      "Drug annotations: (267, 5)\n",
      "Cell line list (1065, 6)\n",
      "Gene expression (17737, 1019)\n",
      "CNV binary: (419050, 9)\n",
      "Coding variants: (295740, 9)\n",
      "Drug response: (224202, 13)\n",
      "DrugBank mapping (number of matched drugs): 88\n",
      "Gene expression signatures: (128, 1018)\n"
     ]
    }
   ],
   "source": [
    "# Initialize proper file pathways\n",
    "drug_annotations = \"/media/krzysztof/Nowy/Doktorat - Modelling drug efficacy in cancer/Data/Original Data/Genomics of Drug Sensitivity in Cancer/Original GDSC Data/Drug annotations/Screened_Compounds-March_27th_2018.xlsx\"\n",
    "cell_line_list = \"/media/krzysztof/Nowy/Doktorat - Modelling drug efficacy in cancer/Data/Original Data/Genomics of Drug Sensitivity in Cancer/Original GDSC Data/Cell line list (directly from website)/Cell_listThu Aug 16 22_06_49 2018.csv\"\n",
    "gene_expr = \"/media/krzysztof/Nowy/Doktorat - Modelling drug efficacy in cancer/Data/Original Data/Genomics of Drug Sensitivity in Cancer/Original GDSC Data/Gene expression/sanger1018_brainarray_ensemblgene_rma-March_2nd_2017.txt\"\n",
    "cnv1 = \"/media/krzysztof/Nowy/Doktorat - Modelling drug efficacy in cancer/Data/Original Data/Genomics of Drug Sensitivity in Cancer/Original GDSC Data/Copy number variations/cnv_binary_1.csv\"\n",
    "cnv2 = \"/media/krzysztof/Nowy/Doktorat - Modelling drug efficacy in cancer/Data/Original Data/Genomics of Drug Sensitivity in Cancer/Original GDSC Data/Copy number variations/PANCANCER_Genetic_feature_cna_Mon Aug  6 16_18_51 2018 (kopia).csv\"\n",
    "coding_variants = \"/media/krzysztof/Nowy/Doktorat - Modelling drug efficacy in cancer/Data/Original Data/Genomics of Drug Sensitivity in Cancer/Original GDSC Data/Mutation calls/PANCANCER_Genetic_feature_variant_Mon Aug  6 15_45_44 2018.csv\"\n",
    "drug_response = \"/media/krzysztof/Nowy/Doktorat - Modelling drug efficacy in cancer/Data/Original Data/Genomics of Drug Sensitivity in Cancer/Original GDSC Data/Sensitivity profiles/v17.3_fitted_dose_response-March_27th_2018.xlsx\"\n",
    "\n",
    "# Filepath to dictionary with targets derived from DrugBank\n",
    "drugbank_targets = \"/media/krzysztof/Nowy/Doktorat - Modelling drug efficacy in cancer/Data/Original Data/DrugBank/Created data/drugbank_map_drug_to_targets.p\"\n",
    "\n",
    "# Filepath to gene expression signatures provided by Merck\n",
    "signatures = \"/media/krzysztof/Nowy/Doktorat - Modelling drug efficacy in cancer/Data/Created data/Merck Gene Expression Signatures/Data/SignatureScores_GDSC-cellLines_2018-09-27.tsv\"\n",
    "\n",
    "# Call loading function from DrugWithDrugBank class\n",
    "(drug_annotations_df, cell_lines_list_df, gene_expression_df, cnv_binary_df, \n",
    " coding_variants_df, drug_response_df, map_drugs_to_drugbank_targets) = DrugWithDrugBank.load_data(\n",
    "    drug_annotations, cell_line_list, gene_expr, \n",
    "    cnv1, cnv2, coding_variants, drug_response, drugbank_targets)\n",
    "\n",
    "# Load gene expression signatures\n",
    "signatures_df = pd.read_table(signatures)\n",
    "\n",
    "# Load gene mappings\n",
    "filepath1 = \"/media/krzysztof/Nowy/Doktorat - Modelling drug efficacy in cancer/Projects/GDSC - Prediction only with data related to nominal drug targets (minimal approach)/Created data/mapping_from_ensembl_id_to_hgnc_symbol.p\"\n",
    "filepath2 = \"/media/krzysztof/Nowy/Doktorat - Modelling drug efficacy in cancer/Projects/GDSC - Prediction only with data related to nominal drug targets (minimal approach)/Created data/mapping_from_hgnc_symbol_to_ensembl_id.p\"\n",
    "DrugWithDrugBank.load_mappings(filepath2, filepath1)   # Initialize class variables\n",
    "\n",
    "# Print shapes of created DataFrames\n",
    "print(\"Loading summary:\")\n",
    "print(\"Drug annotations:\", drug_annotations_df.shape)\n",
    "print(\"Cell line list\", cell_lines_list_df.shape)\n",
    "print(\"Gene expression\", gene_expression_df.shape)\n",
    "print(\"CNV binary:\", cnv_binary_df.shape)\n",
    "print(\"Coding variants:\", coding_variants_df.shape)\n",
    "print(\"Drug response:\", drug_response_df.shape)\n",
    "print(\"DrugBank mapping (number of matched drugs):\", len(map_drugs_to_drugbank_targets))\n",
    "print(\"Gene expression signatures:\", signatures_df.shape)"
   ]
  },
  {
   "cell_type": "markdown",
   "metadata": {},
   "source": [
    "Initialize dictionary with DrugWithDrugBank objects"
   ]
  },
  {
   "cell_type": "code",
   "execution_count": 4,
   "metadata": {},
   "outputs": [
    {
     "name": "stdout",
     "output_type": "stream",
     "text": [
      "267\n"
     ]
    }
   ],
   "source": [
    "drugs = DrugWithDrugBank.create_drugs(drug_annotations_df, map_drugs_to_drugbank_targets)\n",
    "print(len(drugs))"
   ]
  },
  {
   "cell_type": "markdown",
   "metadata": {},
   "source": [
    "Check out methods for extracting signatures data"
   ]
  },
  {
   "cell_type": "code",
   "execution_count": 5,
   "metadata": {},
   "outputs": [
    {
     "data": {
      "text/html": [
       "<div>\n",
       "<style scoped>\n",
       "    .dataframe tbody tr th:only-of-type {\n",
       "        vertical-align: middle;\n",
       "    }\n",
       "\n",
       "    .dataframe tbody tr th {\n",
       "        vertical-align: top;\n",
       "    }\n",
       "\n",
       "    .dataframe thead th {\n",
       "        text-align: right;\n",
       "    }\n",
       "</style>\n",
       "<table border=\"1\" class=\"dataframe\">\n",
       "  <thead>\n",
       "    <tr style=\"text-align: right;\">\n",
       "      <th></th>\n",
       "      <th>X906826</th>\n",
       "      <th>X687983</th>\n",
       "      <th>X910927</th>\n",
       "      <th>X1240138</th>\n",
       "      <th>X1240139</th>\n",
       "      <th>X906792</th>\n",
       "      <th>X910688</th>\n",
       "      <th>X1240135</th>\n",
       "      <th>X1290812</th>\n",
       "      <th>X907045</th>\n",
       "      <th>...</th>\n",
       "      <th>X753584</th>\n",
       "      <th>X907044</th>\n",
       "      <th>X998184</th>\n",
       "      <th>X908145</th>\n",
       "      <th>X1659787</th>\n",
       "      <th>X1298157</th>\n",
       "      <th>X1480372</th>\n",
       "      <th>X1298533</th>\n",
       "      <th>X930299</th>\n",
       "      <th>X905954.1</th>\n",
       "    </tr>\n",
       "  </thead>\n",
       "  <tbody>\n",
       "    <tr>\n",
       "      <th>Kannengiesser.BRAF.signature</th>\n",
       "      <td>0.005223</td>\n",
       "      <td>-0.407311</td>\n",
       "      <td>-0.008919</td>\n",
       "      <td>-0.047516</td>\n",
       "      <td>0.010615</td>\n",
       "      <td>1.284609</td>\n",
       "      <td>-0.437550</td>\n",
       "      <td>-0.036142</td>\n",
       "      <td>-0.025652</td>\n",
       "      <td>-0.110034</td>\n",
       "      <td>...</td>\n",
       "      <td>0.262133</td>\n",
       "      <td>-0.454797</td>\n",
       "      <td>-0.348680</td>\n",
       "      <td>0.688249</td>\n",
       "      <td>0.341071</td>\n",
       "      <td>-0.525661</td>\n",
       "      <td>0.119043</td>\n",
       "      <td>-0.439609</td>\n",
       "      <td>0.190384</td>\n",
       "      <td>1.333843</td>\n",
       "    </tr>\n",
       "    <tr>\n",
       "      <th>IFN_signature</th>\n",
       "      <td>-0.374431</td>\n",
       "      <td>-0.317750</td>\n",
       "      <td>-0.581180</td>\n",
       "      <td>0.124181</td>\n",
       "      <td>-0.446854</td>\n",
       "      <td>-0.293723</td>\n",
       "      <td>1.272982</td>\n",
       "      <td>0.146643</td>\n",
       "      <td>-0.429662</td>\n",
       "      <td>-0.688830</td>\n",
       "      <td>...</td>\n",
       "      <td>-0.087820</td>\n",
       "      <td>0.862839</td>\n",
       "      <td>-0.300738</td>\n",
       "      <td>0.287280</td>\n",
       "      <td>-0.379386</td>\n",
       "      <td>-0.150595</td>\n",
       "      <td>-0.265985</td>\n",
       "      <td>1.296345</td>\n",
       "      <td>-0.409257</td>\n",
       "      <td>-0.198096</td>\n",
       "    </tr>\n",
       "    <tr>\n",
       "      <th>KinetochoreNet</th>\n",
       "      <td>0.166935</td>\n",
       "      <td>0.221060</td>\n",
       "      <td>0.019868</td>\n",
       "      <td>-0.459931</td>\n",
       "      <td>0.069661</td>\n",
       "      <td>-0.133753</td>\n",
       "      <td>-0.959513</td>\n",
       "      <td>-0.465274</td>\n",
       "      <td>-0.540824</td>\n",
       "      <td>-0.359740</td>\n",
       "      <td>...</td>\n",
       "      <td>0.102691</td>\n",
       "      <td>0.467639</td>\n",
       "      <td>0.503359</td>\n",
       "      <td>-0.461401</td>\n",
       "      <td>0.093911</td>\n",
       "      <td>0.064927</td>\n",
       "      <td>0.054159</td>\n",
       "      <td>-0.467053</td>\n",
       "      <td>0.060052</td>\n",
       "      <td>-0.429826</td>\n",
       "    </tr>\n",
       "  </tbody>\n",
       "</table>\n",
       "<p>3 rows × 1018 columns</p>\n",
       "</div>"
      ],
      "text/plain": [
       "                               X906826   X687983   X910927  X1240138  \\\n",
       "Kannengiesser.BRAF.signature  0.005223 -0.407311 -0.008919 -0.047516   \n",
       "IFN_signature                -0.374431 -0.317750 -0.581180  0.124181   \n",
       "KinetochoreNet                0.166935  0.221060  0.019868 -0.459931   \n",
       "\n",
       "                              X1240139   X906792   X910688  X1240135  \\\n",
       "Kannengiesser.BRAF.signature  0.010615  1.284609 -0.437550 -0.036142   \n",
       "IFN_signature                -0.446854 -0.293723  1.272982  0.146643   \n",
       "KinetochoreNet                0.069661 -0.133753 -0.959513 -0.465274   \n",
       "\n",
       "                              X1290812   X907045    ...       X753584  \\\n",
       "Kannengiesser.BRAF.signature -0.025652 -0.110034    ...      0.262133   \n",
       "IFN_signature                -0.429662 -0.688830    ...     -0.087820   \n",
       "KinetochoreNet               -0.540824 -0.359740    ...      0.102691   \n",
       "\n",
       "                               X907044   X998184   X908145  X1659787  \\\n",
       "Kannengiesser.BRAF.signature -0.454797 -0.348680  0.688249  0.341071   \n",
       "IFN_signature                 0.862839 -0.300738  0.287280 -0.379386   \n",
       "KinetochoreNet                0.467639  0.503359 -0.461401  0.093911   \n",
       "\n",
       "                              X1298157  X1480372  X1298533   X930299  \\\n",
       "Kannengiesser.BRAF.signature -0.525661  0.119043 -0.439609  0.190384   \n",
       "IFN_signature                -0.150595 -0.265985  1.296345 -0.409257   \n",
       "KinetochoreNet                0.064927  0.054159 -0.467053  0.060052   \n",
       "\n",
       "                              X905954.1  \n",
       "Kannengiesser.BRAF.signature   1.333843  \n",
       "IFN_signature                 -0.198096  \n",
       "KinetochoreNet                -0.429826  \n",
       "\n",
       "[3 rows x 1018 columns]"
      ]
     },
     "execution_count": 5,
     "metadata": {},
     "output_type": "execute_result"
    }
   ],
   "source": [
    "signatures_df.head(3)"
   ]
  },
  {
   "cell_type": "code",
   "execution_count": 6,
   "metadata": {},
   "outputs": [],
   "source": [
    "drug = drugs[11]"
   ]
  },
  {
   "cell_type": "code",
   "execution_count": 7,
   "metadata": {},
   "outputs": [
    {
     "data": {
      "text/plain": [
       "Drug(11, \"Paclitaxel\", ['TUBB1', 'BCL2', 'NR1I2', 'MAP4', 'Microtubule stabiliser', 'MAP2', 'MAPT'], \"Mitosis\")"
      ]
     },
     "execution_count": 7,
     "metadata": {},
     "output_type": "execute_result"
    }
   ],
   "source": [
    "drug"
   ]
  },
  {
   "cell_type": "code",
   "execution_count": null,
   "metadata": {},
   "outputs": [],
   "source": []
  },
  {
   "cell_type": "code",
   "execution_count": 8,
   "metadata": {},
   "outputs": [],
   "source": [
    "data_types = [\"tissue\", \"merck signatures\"]\n",
    "df = drug.create_full_data(drug_response_df, cell_line_list=cell_lines_list_df, \n",
    "                           merck_signatures_df=signatures_df,\n",
    "                          data_combination=data_types)"
   ]
  },
  {
   "cell_type": "code",
   "execution_count": 9,
   "metadata": {},
   "outputs": [
    {
     "data": {
      "text/plain": [
       "(399, 143)"
      ]
     },
     "execution_count": 9,
     "metadata": {},
     "output_type": "execute_result"
    }
   ],
   "source": [
    "print(df.shape, drug.full_data.shape)"
   ]
  },
  {
   "cell_type": "code",
   "execution_count": null,
   "metadata": {},
   "outputs": [],
   "source": [
    "print(drug.merck_signatures.shape, drug.tissue_data.shape, drug.full_data.shape)"
   ]
  },
  {
   "cell_type": "code",
   "execution_count": 11,
   "metadata": {},
   "outputs": [
    {
     "data": {
      "text/plain": [
       "(399, 129)"
      ]
     },
     "execution_count": 11,
     "metadata": {},
     "output_type": "execute_result"
    }
   ],
   "source": [
    "data_types = [\"tissue\", \"merck signatures\"]\n",
    "df = drug.return_full_data(drug_response_df, cell_line_list=cell_lines_list_df, \n",
    "                           merck_signatures_df=signatures_df,\n",
    "                          data_combination=data_types)"
   ]
  },
  {
   "cell_type": "code",
   "execution_count": null,
   "metadata": {},
   "outputs": [],
   "source": [
    "df.shape"
   ]
  },
  {
   "cell_type": "code",
   "execution_count": null,
   "metadata": {},
   "outputs": [],
   "source": [
    "print(drug.merck_signatures.shape, drug.tissue_data.shape, drug.full_data.shape)"
   ]
  },
  {
   "cell_type": "code",
   "execution_count": null,
   "metadata": {},
   "outputs": [],
   "source": [
    "print(drug.merck_signatures, drug.tissue_data, drug.full_data)"
   ]
  },
  {
   "cell_type": "code",
   "execution_count": null,
   "metadata": {},
   "outputs": [],
   "source": []
  },
  {
   "cell_type": "code",
   "execution_count": null,
   "metadata": {},
   "outputs": [],
   "source": []
  },
  {
   "cell_type": "code",
   "execution_count": null,
   "metadata": {},
   "outputs": [],
   "source": []
  }
 ],
 "metadata": {
  "kernelspec": {
   "display_name": "Python 3",
   "language": "python",
   "name": "python3"
  },
  "language_info": {
   "codemirror_mode": {
    "name": "ipython",
    "version": 3
   },
   "file_extension": ".py",
   "mimetype": "text/x-python",
   "name": "python",
   "nbconvert_exporter": "python",
   "pygments_lexer": "ipython3",
   "version": "3.6.5"
  }
 },
 "nbformat": 4,
 "nbformat_minor": 2
}
